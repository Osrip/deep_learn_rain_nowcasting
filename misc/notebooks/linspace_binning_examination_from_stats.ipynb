{
 "cells": [
  {
   "cell_type": "code",
   "execution_count": 2,
   "id": "initial_id",
   "metadata": {
    "collapsed": true,
    "ExecuteTime": {
     "end_time": "2024-06-12T08:54:11.127114Z",
     "start_time": "2024-06-12T08:54:07.450003Z"
    }
   },
   "outputs": [],
   "source": [
    "import numpy as np\n",
    "import matplotlib.pyplot as plt\n",
    "from helper.pre_process_target_input import inverse_normalize, normalize\n",
    "import torch"
   ]
  },
  {
   "cell_type": "code",
   "outputs": [],
   "source": [
    "num_bins = 32\n",
    "\n",
    "# from linspace_binning_params.csv :\n",
    "min_data_normed = -0.6580503063096017\n",
    "max_data_normed = 15.41145449697189\n",
    "\n",
    "# from data_set_statistcis_dict.csv\n",
    "mean_filtered_log_data = 0.2649270623955788\n",
    "std_filtered_log_data = 0.4032066644692276\n",
    "\n",
    "transform_f = lambda x: np.log(x + 1) if isinstance(x, np.ndarray) else torch.log(x + 1)"
   ],
   "metadata": {
    "collapsed": false,
    "ExecuteTime": {
     "end_time": "2024-06-12T08:54:11.162422Z",
     "start_time": "2024-06-12T08:54:11.158130Z"
    }
   },
   "id": "6b67fc5e89f861c",
   "execution_count": 3
  },
  {
   "cell_type": "code",
   "outputs": [
    {
     "name": "stdout",
     "output_type": "stream",
     "text": [
      "min_data_inv_normed: -0.00040312538758624505\n",
      "max_data_inv_normed: 650.272554266488\n"
     ]
    }
   ],
   "source": [
    "min_data_inv_normed = inverse_normalize_data(\n",
    "    np.array(min_data_normed),\n",
    "    mean_filtered_log_data, std_filtered_log_data)\n",
    "\n",
    "max_data_inv_normed = inverse_normalize_data(\n",
    "    np.array(max_data_normed),\n",
    "    mean_filtered_log_data, std_filtered_log_data)\n",
    "\n",
    "print(f'min_data_inv_normed: {min_data_inv_normed}')\n",
    "print(f'max_data_inv_normed: {max_data_inv_normed}')"
   ],
   "metadata": {
    "collapsed": false,
    "ExecuteTime": {
     "end_time": "2024-06-12T08:54:11.167105Z",
     "start_time": "2024-06-12T08:54:11.163463Z"
    }
   },
   "id": "1805c08fc0d3b729",
   "execution_count": 4
  },
  {
   "cell_type": "code",
   "outputs": [],
   "source": [
    "cut_off_last_bin_inv_normed = 100"
   ],
   "metadata": {
    "collapsed": false,
    "ExecuteTime": {
     "end_time": "2024-06-12T08:54:11.170843Z",
     "start_time": "2024-06-12T08:54:11.169056Z"
    }
   },
   "id": "326040d0a088717e",
   "execution_count": 5
  },
  {
   "cell_type": "code",
   "outputs": [
    {
     "name": "stdout",
     "output_type": "stream",
     "text": [
      "cut_off_last_bin_normed: tensor([10.7890])\n"
     ]
    }
   ],
   "source": [
    "cut_off_last_bin_normed = normalize_data(torch.Tensor([cut_off_last_bin_inv_normed]), mean_filtered_log_data, std_filtered_log_data)\n",
    "print(f'cut_off_last_bin_normed: {cut_off_last_bin_normed}')"
   ],
   "metadata": {
    "collapsed": false,
    "ExecuteTime": {
     "end_time": "2024-06-12T08:54:11.178023Z",
     "start_time": "2024-06-12T08:54:11.172066Z"
    }
   },
   "id": "6b0513611b89a4ca",
   "execution_count": 6
  },
  {
   "cell_type": "code",
   "outputs": [],
   "source": [
    "    linspace_binning_normed = np.linspace(\n",
    "        min_data_normed,\n",
    "        cut_off_last_bin_normed,\n",
    "        num=num_bins-1,\n",
    "        endpoint=True) "
   ],
   "metadata": {
    "collapsed": false,
    "ExecuteTime": {
     "end_time": "2024-06-12T08:54:11.182931Z",
     "start_time": "2024-06-12T08:54:11.179575Z"
    }
   },
   "id": "9511e6f01f84830a",
   "execution_count": 7
  },
  {
   "cell_type": "code",
   "outputs": [
    {
     "data": {
      "text/plain": "array([[-0.6580503 ],\n       [-0.27648222],\n       [ 0.10508585],\n       [ 0.48665392],\n       [ 0.868222  ],\n       [ 1.2497901 ],\n       [ 1.6313581 ],\n       [ 2.0129263 ],\n       [ 2.3944943 ],\n       [ 2.7760623 ],\n       [ 3.1576304 ],\n       [ 3.5391986 ],\n       [ 3.9207666 ],\n       [ 4.302335  ],\n       [ 4.6839027 ],\n       [ 5.0654707 ],\n       [ 5.4470387 ],\n       [ 5.8286066 ],\n       [ 6.2101746 ],\n       [ 6.5917435 ],\n       [ 6.9733114 ],\n       [ 7.3548794 ],\n       [ 7.7364473 ],\n       [ 8.118015  ],\n       [ 8.499583  ],\n       [ 8.881151  ],\n       [ 9.262719  ],\n       [ 9.644287  ],\n       [10.025856  ],\n       [10.407424  ],\n       [10.788992  ]], dtype=float32)"
     },
     "execution_count": 8,
     "metadata": {},
     "output_type": "execute_result"
    }
   ],
   "source": [
    "linspace_binning_normed"
   ],
   "metadata": {
    "collapsed": false,
    "ExecuteTime": {
     "end_time": "2024-06-12T08:54:11.188751Z",
     "start_time": "2024-06-12T08:54:11.183597Z"
    }
   },
   "id": "b5629d1c19054999",
   "execution_count": 8
  },
  {
   "cell_type": "code",
   "outputs": [],
   "source": [
    "linspace_binning_inv_normed = inverse_normalize_data(linspace_binning_normed, mean_filtered_log_data, std_filtered_log_data)"
   ],
   "metadata": {
    "collapsed": false,
    "ExecuteTime": {
     "end_time": "2024-06-12T08:54:11.192528Z",
     "start_time": "2024-06-12T08:54:11.190110Z"
    }
   },
   "id": "2361744092a17961",
   "execution_count": 9
  },
  {
   "cell_type": "code",
   "outputs": [
    {
     "data": {
      "text/plain": "array([[-4.0316582e-04],\n       [ 1.6584671e-01],\n       [ 3.5974658e-01],\n       [ 5.8589542e-01],\n       [ 8.4965658e-01],\n       [ 1.1572857e+00],\n       [ 1.5160787e+00],\n       [ 1.9345450e+00],\n       [ 2.4226091e+00],\n       [ 2.9918463e+00],\n       [ 3.6557574e+00],\n       [ 4.4300890e+00],\n       [ 5.3332038e+00],\n       [ 6.3865232e+00],\n       [ 7.6150265e+00],\n       [ 9.0478506e+00],\n       [ 1.0718978e+01],\n       [ 1.2668041e+01],\n       [ 1.4941262e+01],\n       [ 1.7592571e+01],\n       [ 2.0684830e+01],\n       [ 2.4291376e+01],\n       [ 2.8497759e+01],\n       [ 3.3403732e+01],\n       [ 3.9125656e+01],\n       [ 4.5799225e+01],\n       [ 5.3582714e+01],\n       [ 6.2660725e+01],\n       [ 7.3248596e+01],\n       [ 8.5597404e+01],\n       [ 9.9999992e+01]], dtype=float32)"
     },
     "execution_count": 10,
     "metadata": {},
     "output_type": "execute_result"
    }
   ],
   "source": [
    "linspace_binning_inv_normed"
   ],
   "metadata": {
    "collapsed": false,
    "ExecuteTime": {
     "end_time": "2024-06-12T08:54:14.156480Z",
     "start_time": "2024-06-12T08:54:14.152402Z"
    }
   },
   "id": "33f74d009cefec20",
   "execution_count": 10
  },
  {
   "cell_type": "code",
   "outputs": [
    {
     "data": {
      "text/plain": "650.272554266488"
     },
     "execution_count": 11,
     "metadata": {},
     "output_type": "execute_result"
    }
   ],
   "source": [
    "max_data_inv_normed"
   ],
   "metadata": {
    "collapsed": false,
    "ExecuteTime": {
     "end_time": "2024-06-12T08:54:14.162733Z",
     "start_time": "2024-06-12T08:54:14.158049Z"
    }
   },
   "id": "e39f93f35d825a19",
   "execution_count": 11
  },
  {
   "cell_type": "code",
   "outputs": [],
   "source": [
    "all_bins_inv_normed = np.append(linspace_binning_inv_normed, max_data_inv_normed)\n",
    "# all_bins_inv_normed = linspace_binning_inv_normed"
   ],
   "metadata": {
    "collapsed": false,
    "ExecuteTime": {
     "end_time": "2024-06-12T08:57:00.245346Z",
     "start_time": "2024-06-12T08:57:00.241815Z"
    }
   },
   "id": "9e9cdad900c0c9fb",
   "execution_count": 15
  },
  {
   "cell_type": "code",
   "outputs": [
    {
     "data": {
      "text/plain": "Text(0, 0.5, 'Precipitation in mm')"
     },
     "execution_count": 16,
     "metadata": {},
     "output_type": "execute_result"
    },
    {
     "data": {
      "text/plain": "<Figure size 640x480 with 1 Axes>",
      "image/png": "[encoded data removed]"
     },
     "metadata": {},
     "output_type": "display_data"
    }
   ],
   "source": [
    "plt.plot(all_bins_inv_normed)\n",
    "plt.scatter(np.arange(len(all_bins_inv_normed)), all_bins_inv_normed)\n",
    "plt.xlabel('bin egde #')\n",
    "plt.ylabel('Precipitation in mm')\n",
    "# plt.yscale('log')"
   ],
   "metadata": {
    "collapsed": false,
    "ExecuteTime": {
     "end_time": "2024-06-12T08:57:00.854171Z",
     "start_time": "2024-06-12T08:57:00.782629Z"
    }
   },
   "id": "593726a06800c1fc",
   "execution_count": 16
  },
  {
   "cell_type": "code",
   "outputs": [],
   "source": [],
   "metadata": {
    "collapsed": false,
    "ExecuteTime": {
     "end_time": "2024-06-11T16:07:53.258465Z",
     "start_time": "2024-06-11T16:07:53.257046Z"
    }
   },
   "id": "dc68af9b5d945824",
   "execution_count": 129
  },
  {
   "cell_type": "code",
   "outputs": [],
   "source": [],
   "metadata": {
    "collapsed": false,
    "ExecuteTime": {
     "end_time": "2024-06-11T16:07:53.347715Z",
     "start_time": "2024-06-11T16:07:53.346041Z"
    }
   },
   "id": "aa679eb5e29f30ea",
   "execution_count": 129
  },
  {
   "cell_type": "code",
   "outputs": [],
   "source": [],
   "metadata": {
    "collapsed": false,
    "ExecuteTime": {
     "end_time": "2024-06-11T16:07:53.472009Z",
     "start_time": "2024-06-11T16:07:53.470259Z"
    }
   },
   "id": "322cc9fe2c63d3c3",
   "execution_count": 129
  },
  {
   "cell_type": "code",
   "outputs": [],
   "source": [],
   "metadata": {
    "collapsed": false
   },
   "id": "bcba8215ee8b3773"
  }
 ],
 "metadata": {
  "kernelspec": {
   "display_name": "Python 3",
   "language": "python",
   "name": "python3"
  },
  "language_info": {
   "codemirror_mode": {
    "name": "ipython",
    "version": 2
   },
   "file_extension": ".py",
   "mimetype": "text/x-python",
   "name": "python",
   "nbconvert_exporter": "python",
   "pygments_lexer": "ipython2",
   "version": "2.7.6"
  }
 },
 "nbformat": 4,
 "nbformat_minor": 5
}

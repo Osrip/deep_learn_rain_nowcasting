{
 "cells": [
  {
   "cell_type": "code",
   "execution_count": 13,
   "id": "initial_id",
   "metadata": {
    "ExecuteTime": {
     "end_time": "2024-04-12T17:25:53.327166Z",
     "start_time": "2024-04-12T17:25:53.316149Z"
    }
   },
   "outputs": [],
   "source": [
    "import numpy as np\n",
    "import matplotlib.pyplot as plt\n",
    "import matplotlib.patheffects as PathEffects"
   ]
  },
  {
   "cell_type": "code",
   "execution_count": 3,
   "id": "fa02cf1d749c5901",
   "metadata": {
    "collapsed": false,
    "ExecuteTime": {
     "end_time": "2024-04-12T16:52:38.194595Z",
     "start_time": "2024-04-12T16:52:38.190156Z"
    }
   },
   "outputs": [],
   "source": [
    "def create_histogram_with_spacing_and_buckets(mean=50, std_dev=20, n_samples=1000, noise_factor=50, n_bins=6):\n",
    "    \"\"\"\n",
    "    Creates and displays a histogram with specified parameters, stylistic choices, including subtle spacing between bins\n",
    "    to allow visibility of \"bucket\" markers on the x-axis, and improved aesthetics.\n",
    "    \n",
    "    Parameters:\n",
    "    - mean: Mean of the normal distribution.\n",
    "    - std_dev: Standard deviation of the normal distribution.\n",
    "    - n_samples: Number of samples to generate.\n",
    "    - noise_factor: Amount of noise to add to the distribution.\n",
    "    - n_bins: Exact number of bins in the histogram.\n",
    "    \"\"\"\n",
    "    import matplotlib.pyplot as plt\n",
    "    import numpy as np\n",
    "    \n",
    "    # Generate normal distribution and add noise\n",
    "    data = np.random.normal(loc=mean, scale=std_dev, size=n_samples) + np.random.uniform(-noise_factor, noise_factor, n_samples)\n",
    "    \n",
    "    # Create histogram with slight spacing between bins\n",
    "    fig, ax = plt.subplots()\n",
    "    counts, bins, patches = ax.hist(data, bins=n_bins, edgecolor='black', linewidth=1.2, rwidth=0.95, color='coral')\n",
    "    \n",
    "    # Remove y-axis\n",
    "    ax.yaxis.set_visible(False)\n",
    "    \n",
    "    # Customizing x-axis\n",
    "    # ax.set_xlabel('mm/h')\n",
    "    ax.xaxis.set_ticklabels([])\n",
    "    ax.tick_params(axis='x', which='both', length=0)\n",
    "    ax.xaxis.set_ticks_position('none')\n",
    "    \n",
    "    # Set the x-axis line visible and remove other spines\n",
    "    ax.spines.values()\n",
    "    ax.spines['bottom'].set_visible(True)\n",
    "    for spine in ax.spines.values():\n",
    "        if spine is not ax.spines['bottom']:\n",
    "            spine.set_visible(False)\n",
    "    \n",
    "    # Turn off grid\n",
    "    ax.grid(False)\n",
    "    \n",
    "    # Add \"bucket\" markers\n",
    "    for bin_edge in bins:\n",
    "        ax.plot([bin_edge, bin_edge], [0, max(counts) * 0.05], color='black', linestyle='-', linewidth=2)\n",
    "    \n",
    "    plt.tight_layout()\n",
    "    plt.savefig('/Users/jan/Downloads/target7.png', dpi=300, transparent=True)\n",
    "    plt.show()\n",
    "\n"
   ]
  },
  {
   "cell_type": "code",
   "execution_count": 4,
   "id": "f703e2751e57077d",
   "metadata": {
    "collapsed": false,
    "ExecuteTime": {
     "end_time": "2024-04-12T16:52:38.403025Z",
     "start_time": "2024-04-12T16:52:38.195419Z"
    }
   },
   "outputs": [
    {
     "data": {
      "text/plain": "<Figure size 640x480 with 1 Axes>",
      "image/png": "[encoded data removed]"
     },
     "metadata": {},
     "output_type": "display_data"
    }
   ],
   "source": [
    "# Generate the plot with slight spacing between bins to highlight \"bucket\" markers\n",
    "create_histogram_with_spacing_and_buckets(n_bins=6)"
   ]
  },
  {
   "cell_type": "code",
   "execution_count": 5,
   "id": "3db4ab97a5effa5e",
   "metadata": {
    "collapsed": false,
    "ExecuteTime": {
     "end_time": "2024-04-12T16:52:38.409695Z",
     "start_time": "2024-04-12T16:52:38.404263Z"
    }
   },
   "outputs": [],
   "source": [
    "def create_single_one_hot_histogram(position=0, std_dev=20, n_samples=1000, noise_factor=50, total_positions=5):\n",
    "    \"\"\"\n",
    "    Creates and displays a single histogram representing a one-hot encoding at a specified position, with \"bucket\" markers\n",
    "    for all potential positions, including those without data.\n",
    "    \n",
    "    Parameters:\n",
    "    - position: The position where the one-hot encoding should be applied.\n",
    "    - std_dev: Standard deviation for generating distributions.\n",
    "    - n_samples: Number of samples to generate.\n",
    "    - noise_factor: Amount of noise to add to the distribution.\n",
    "    - total_positions: Total number of positions (bins) to include, including empty ones.\n",
    "    \"\"\"\n",
    "    import matplotlib.pyplot as plt\n",
    "    import numpy as np\n",
    "    \n",
    "    # Generate data for the one-hot encoding at the specified position\n",
    "    data = np.random.normal(loc=position, scale=std_dev, size=n_samples) + np.random.uniform(-noise_factor, noise_factor, n_samples)\n",
    "    \n",
    "    # Create figure and axis\n",
    "    fig, ax = plt.subplots(figsize=(5, 3))\n",
    "    \n",
    "    # Calculate bins so they include all potential positions, plus one for the edge\n",
    "    bins = np.arange(-0.5, total_positions, 1)\n",
    "    \n",
    "    # Plot histogram for this one-hot encoding\n",
    "    counts, _, patches = ax.hist(data, bins=[position-0.5, position+0.5], edgecolor='black', linewidth=1.2, rwidth=0.95, color='seagreen')\n",
    "    \n",
    "    # Remove y-axis and labels\n",
    "    ax.yaxis.set_visible(False)\n",
    "    ax.xaxis.set_ticklabels([])\n",
    "    ax.tick_params(axis='x', which='both', length=0)\n",
    "    ax.xaxis.set_ticks_position('none')\n",
    "    \n",
    "    # Customize the x-axis and spines\n",
    "    ax.spines['bottom'].set_visible(True)\n",
    "    for spine in ax.spines.values():\n",
    "        if spine is not ax.spines['bottom']:\n",
    "            spine.set_visible(False)\n",
    "    \n",
    "    # Turn off grid\n",
    "    ax.grid(False)\n",
    "    \n",
    "    # Add \"bucket\" markers for all potential bins\n",
    "    for bin_edge in bins:\n",
    "        ax.plot([bin_edge, bin_edge], [0, max(counts) * 0.05], color='black', linestyle='-', linewidth=2)\n",
    "    \n",
    "    plt.tight_layout()\n",
    "    plt.savefig('/Users/jan/Downloads/one_hot_pos4_green.png', dpi=300, transparent=True)\n",
    "    plt.show()\n",
    "\n",
    "# Generate a histogram for a one-hot encoding at position 0 as an example"
   ]
  },
  {
   "cell_type": "code",
   "execution_count": 6,
   "id": "36afdf583f59379e",
   "metadata": {
    "collapsed": false,
    "ExecuteTime": {
     "end_time": "2024-04-12T16:52:38.499190Z",
     "start_time": "2024-04-12T16:52:38.410578Z"
    }
   },
   "outputs": [
    {
     "data": {
      "text/plain": "<Figure size 500x300 with 1 Axes>",
      "image/png": "[encoded data removed]"
     },
     "metadata": {},
     "output_type": "display_data"
    }
   ],
   "source": [
    "create_single_one_hot_histogram(position=4, total_positions=6)\n"
   ]
  },
  {
   "cell_type": "code",
   "outputs": [
    {
     "data": {
      "text/plain": "<Figure size 600x400 with 1 Axes>",
      "image/png": "[encoded data removed]"
     },
     "metadata": {},
     "output_type": "display_data"
    }
   ],
   "source": [
    "# Generate a Gaussian distribution\n",
    "x = np.linspace(-3, 3, 1000)\n",
    "y = np.exp(-x**2)\n",
    "\n",
    "# Plot the Gaussian distribution\n",
    "plt.figure(figsize=(6, 4))\n",
    "plt.plot(x, y, color='black', linewidth=10)\n",
    "\n",
    "# Remove the axes\n",
    "plt.axis('off')\n",
    "\n",
    "plt.savefig('/Users/jan/Downloads/gauss.png', dpi=300, transparent=True)\n",
    "\n",
    "plt.show()\n"
   ],
   "metadata": {
    "collapsed": false,
    "ExecuteTime": {
     "end_time": "2024-04-12T16:52:38.584024Z",
     "start_time": "2024-04-12T16:52:38.500629Z"
    }
   },
   "id": "374d9cd55d83bed",
   "execution_count": 7
  },
  {
   "cell_type": "code",
   "outputs": [
    {
     "data": {
      "text/plain": "<Figure size 500x300 with 1 Axes>",
      "image/png": "[encoded data removed]"
     },
     "metadata": {},
     "output_type": "display_data"
    }
   ],
   "source": [
    "import matplotlib.pyplot as plt\n",
    "import numpy as np\n",
    "\n",
    "def create_custom_histogram_with_specific_bins(bin_heights=[0.2, 0, 1, 0, 0, 0], total_positions=6):\n",
    "    \"\"\"\n",
    "    Creates and displays a histogram with specified bin heights and positions, simulating a one-hot encoding\n",
    "    with manual adjustments for specific bins.\n",
    "    \n",
    "    Parameters:\n",
    "    - bin_heights: A list specifying the height of each bin. Length of this list determines the number of bins.\n",
    "    - total_positions: Total number of positions (bins) to include.\n",
    "    \"\"\"\n",
    "    fig, ax = plt.subplots(figsize=(5, 3))\n",
    "\n",
    "    # Positions of each bin\n",
    "    positions = np.arange(len(bin_heights))+ 0.5\n",
    "    \n",
    "    # Width for each bin to ensure they touch each other\n",
    "    width = 1.0\n",
    "\n",
    "    # Create each bin manually based on specified heights\n",
    "    for position, height in zip(positions, bin_heights):\n",
    "        ax.bar(position, height, width, align='center', edgecolor='black', color='coral', linewidth=1.2)\n",
    "\n",
    "    # Set limits and labels\n",
    "    ax.set_xlim([-0.5, total_positions - 0.5])\n",
    "    ax.set_ylim([0, max(bin_heights) * 1.1])\n",
    "\n",
    "    \n",
    "    # Remove y-axis\n",
    "    ax.yaxis.set_visible(False)\n",
    "    ax.set_xticks(range(total_positions))\n",
    "    ax.set_xticklabels([])\n",
    "\n",
    "    # Customize the x-axis and spines\n",
    "    ax.spines.values()\n",
    "    ax.spines['bottom'].set_visible(True)\n",
    "    for spine in ax.spines.values():\n",
    "        if spine is not ax.spines['bottom']:\n",
    "            spine.set_visible(False)\n",
    "\n",
    "    # Turn off grid\n",
    "    ax.grid(False)\n",
    "\n",
    "    plt.tight_layout()\n",
    "    plt.savefig('/Users/jan/Downloads/two_bins.png', dpi=300, transparent=True)\n",
    "    \n",
    "    plt.show()\n",
    "\n",
    "# Create the histogram with specific bin heights\n",
    "create_custom_histogram_with_specific_bins()\n"
   ],
   "metadata": {
    "collapsed": false,
    "ExecuteTime": {
     "end_time": "2024-04-12T16:52:38.733618Z",
     "start_time": "2024-04-12T16:52:38.642033Z"
    }
   },
   "id": "12e622658ca74d7a",
   "execution_count": 8
  },
  {
   "cell_type": "code",
   "outputs": [],
   "source": [
    "def create_single_one_hot_histogram_with_labels(position=0, std_dev=20, n_samples=1000, noise_factor=50, total_positions=5):\n",
    "    import matplotlib.pyplot as plt\n",
    "    import numpy as np\n",
    "    \n",
    "    # Generate data for the one-hot encoding at the specified position\n",
    "    data = np.random.normal(loc=position, scale=std_dev, size=n_samples) + np.random.uniform(-noise_factor, noise_factor, n_samples)\n",
    "    \n",
    "    # Create figure and axis\n",
    "    fig, ax = plt.subplots(figsize=(5, 3))\n",
    "    \n",
    "    # Calculate bins so they include all potential positions, plus one for the edge\n",
    "    bins = np.arange(-0.5, total_positions, 1)\n",
    "    \n",
    "    # Plot histogram for this one-hot encoding\n",
    "    counts, _, patches = ax.hist(data, bins=[position-0.5, position+0.5], edgecolor='black', linewidth=1.2, rwidth=0.95, color='seagreen')\n",
    "    \n",
    "    # Customize the y-axis label without showing the axis line or ticks\n",
    "    ax.set_ylabel('Probability', labelpad=20)\n",
    "    ax.yaxis.label.set_visible(True)\n",
    "    ax.tick_params(axis='y', which='both', left=False, labelleft=False)\n",
    "    \n",
    "    # Remove x-axis labels and customize the x-axis and spines\n",
    "    ax.xaxis.set_ticklabels([])\n",
    "    ax.tick_params(axis='x', which='both', length=0)\n",
    "    ax.xaxis.set_ticks_position('none')\n",
    "    ax.spines['bottom'].set_visible(True)\n",
    "    for spine in ax.spines.values():\n",
    "        if spine is not ax.spines['bottom']:\n",
    "            spine.set_visible(False)\n",
    "    \n",
    "    # Turn off grid\n",
    "    ax.grid(False)\n",
    "    \n",
    "    # Add \"bucket\" markers for all potential bins\n",
    "    for bin_edge in bins:\n",
    "        ax.plot([bin_edge, bin_edge], [0, max(counts) * 0.05], color='black', linestyle='-', linewidth=2)\n",
    "    \n",
    "    plt.xlabel('Position')\n",
    "    \n",
    "    plt.tight_layout()\n",
    "    plt.show()\n"
   ],
   "metadata": {
    "collapsed": false,
    "ExecuteTime": {
     "end_time": "2024-04-12T16:52:38.742109Z",
     "start_time": "2024-04-12T16:52:38.737472Z"
    }
   },
   "id": "f80498e379731e7c",
   "execution_count": 9
  },
  {
   "cell_type": "code",
   "outputs": [
    {
     "data": {
      "text/plain": "<Figure size 500x300 with 1 Axes>",
      "image/png": "[encoded data removed]"
     },
     "metadata": {},
     "output_type": "display_data"
    }
   ],
   "source": [
    "create_single_one_hot_histogram_with_labels(position=4, total_positions=6)"
   ],
   "metadata": {
    "collapsed": false,
    "ExecuteTime": {
     "end_time": "2024-04-12T16:52:38.921309Z",
     "start_time": "2024-04-12T16:52:38.864598Z"
    }
   },
   "id": "4326ca981bb9ffe9",
   "execution_count": 10
  },
  {
   "cell_type": "code",
   "outputs": [
    {
     "data": {
      "text/plain": "<Figure size 640x480 with 1 Axes>",
      "image/png": "[encoded data removed]"
     },
     "metadata": {},
     "output_type": "display_data"
    },
    {
     "data": {
      "text/plain": "array([[0.07511361, 0.1238414 , 0.07511361],\n       [0.1238414 , 0.20417996, 0.1238414 ],\n       [0.07511361, 0.1238414 , 0.07511361]])"
     },
     "execution_count": 15,
     "metadata": {},
     "output_type": "execute_result"
    }
   ],
   "source": [
    "def gaussian(x, y, sigma=2):\n",
    "    \"\"\"Calculate the 2D Gaussian function.\"\"\"\n",
    "    return (1.0 / (2 * np.pi * sigma**2)) * np.exp(-(x**2 + y**2) / (2 * sigma**2))\n",
    "\n",
    "# Generate a 3x3 Gaussian kernel\n",
    "kernel_size = 3\n",
    "sigma = 1  # Standard deviation for Gaussian kernel\n",
    "\n",
    "# Calculate the kernel\n",
    "x, y = np.mgrid[-1:2, -1:2]\n",
    "gaussian_kernel = gaussian(x, y, sigma=sigma)\n",
    "\n",
    "# Normalize the kernel so that its sum = 1\n",
    "gaussian_kernel /= gaussian_kernel.sum()\n",
    "\n",
    "# Plot the kernel\n",
    "fig, ax = plt.subplots()\n",
    "\n",
    "# Display the matrix with color coding\n",
    "cax = ax.matshow(gaussian_kernel, cmap=plt.cm.Greens)\n",
    "\n",
    "# Add the values in the center of each cell\n",
    "for (i, j), val in np.ndenumerate(gaussian_kernel):\n",
    "    # ax.text(j, i, f'{val:.2f}', ha='center', va='center', color='black', fontsize=30)\n",
    "    text = ax.text(j, i, f'{val:.2f}', ha='center', va='center', color='black', fontsize=30)\n",
    "    text.set_path_effects([PathEffects.withStroke(linewidth=3, foreground='white')])\n",
    "\n",
    "# Turn off the axes\n",
    "plt.axis('off')\n",
    "plt.savefig('/Users/jan/Downloads/gaussian_kernel.png', dpi=300, transparent=True)\n",
    "\n",
    "plt.show()\n",
    "\n",
    "gaussian_kernel\n"
   ],
   "metadata": {
    "collapsed": false,
    "ExecuteTime": {
     "end_time": "2024-04-12T17:26:48.690380Z",
     "start_time": "2024-04-12T17:26:48.489216Z"
    }
   },
   "id": "178e8331d40fc9ca",
   "execution_count": 15
  },
  {
   "cell_type": "code",
   "outputs": [],
   "source": [],
   "metadata": {
    "collapsed": false,
    "ExecuteTime": {
     "end_time": "2024-04-12T16:52:39.155141Z",
     "start_time": "2024-04-12T16:52:39.153702Z"
    }
   },
   "id": "c3547287b0e7519f",
   "execution_count": 11
  },
  {
   "cell_type": "code",
   "outputs": [],
   "source": [],
   "metadata": {
    "collapsed": false
   },
   "id": "ece4cff9ce3177ad"
  }
 ],
 "metadata": {
  "kernelspec": {
   "display_name": "Python 3 (ipykernel)",
   "language": "python",
   "name": "python3"
  },
  "language_info": {
   "codemirror_mode": {
    "name": "ipython",
    "version": 3
   },
   "file_extension": ".py",
   "mimetype": "text/x-python",
   "name": "python",
   "nbconvert_exporter": "python",
   "pygments_lexer": "ipython3",
   "version": "3.10.14"
  }
 },
 "nbformat": 4,
 "nbformat_minor": 5
}

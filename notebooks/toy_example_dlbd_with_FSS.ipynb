{
 "cells": [
  {
   "cell_type": "code",
   "execution_count": 35,
   "id": "initial_id",
   "metadata": {
    "collapsed": true,
    "ExecuteTime": {
     "end_time": "2024-07-03T10:16:01.738373Z",
     "start_time": "2024-07-03T10:16:01.288686Z"
    }
   },
   "outputs": [
    {
     "name": "stdout",
     "output_type": "stream",
     "text": [
      "Pysteps configuration file found at: /home/jan/miniforge3/envs/first_CNN_on_Radolan_backup_before_wandb/lib/python3.10/site-packages/pysteps/pystepsrc\n"
     ]
    }
   ],
   "source": [
    "# %load_ext autoreload\n",
    "# %autoreload 2\n",
    "from importlib import reload\n",
    "import torch\n",
    "import numpy as np\n",
    "import matplotlib.pyplot as plt\n",
    "from helper.helper_functions import img_one_hot\n",
    "from helper.pre_process_target_input import one_hot_to_lognormed_mm\n",
    "from helper.gaussian_smoothing_helper import gaussian_smoothing_target, create_gaussian_kernel_2d\n",
    "import einops\n",
    "import torchvision.transforms as T\n",
    "from matplotlib.animation import FuncAnimation\n",
    "from matplotlib.colors import ListedColormap\n",
    "import matplotlib.image as mpimg\n",
    "from matplotlib import animation\n",
    "from scipy.stats import norm\n",
    "from pysteps import verification\n",
    "\n",
    "\n",
    "# mywriter =  animation.FFMpegWriter()\n",
    "\n"
   ]
  },
  {
   "cell_type": "code",
   "outputs": [],
   "source": [
    "# Create random samples\n",
    "\n",
    "# Parameters for the 2D Gaussian\n",
    "  # Mean along each dimension\n",
    "  # Standard deviation along each dimension\n",
    "\n",
    "def create_2d_band_gaussian(mean = (0, 0), stds = (0.3, 3), size = (500, 500)):\n",
    "    # Create a meshgrid for the coordinates\n",
    "    x = torch.linspace(-10, 10, size[0])\n",
    "    y = torch.linspace(-10, 10, size[1])\n",
    "    xx, yy = torch.meshgrid(x, y, indexing=\"ij\")\n",
    "    \n",
    "    # Calculate the 2D Gaussian distribution\n",
    "    gaussian_2d = torch.exp(-((xx - mean[0]) ** 2 / (2 * stds[0] ** 2) + (yy - mean[1]) ** 2 / (2 * stds[1] ** 2)))\n",
    "    \n",
    "    gaussian_2d = gaussian_2d * 10\n",
    "    \n",
    "    return gaussian_2d\n",
    "\n",
    "\n",
    "    \n",
    "    "
   ],
   "metadata": {
    "collapsed": false,
    "ExecuteTime": {
     "end_time": "2024-07-03T09:50:20.277583Z",
     "start_time": "2024-07-03T09:50:20.270840Z"
    }
   },
   "id": "fc82b839b0f23f0d",
   "execution_count": 3
  },
  {
   "cell_type": "code",
   "outputs": [],
   "source": [
    "def create_2d_band_binary(offset = 0, width = 10,  size = (100, 100)):\n",
    "    \n",
    "    # Scale coordinate system from pixel to -10 to 10 like in gaussian function\n",
    "    # scale = lambda x: x * (20/size[0]) - 10\n",
    "    # scale = lambda x: x* (size[0]/20) + 10 / (20 / size[0])\n",
    "    # offset = scale(offset)\n",
    "    # width = scale(width)\n",
    "    \n",
    "    grid = torch.zeros(size)\n",
    "    mean_axis_0 = size[0] / 2 + offset\n",
    "    \n",
    "    # Handle cases near edge\n",
    "    if mean_axis_0 - width/2 < 0:\n",
    "        negative_width = int(mean_axis_0)\n",
    "    else:\n",
    "        negative_width = int(width/2)\n",
    "        \n",
    "    if mean_axis_0 + width/2 > size[0]:\n",
    "        positive_width = int(size[0] - mean_axis_0)\n",
    "    else:\n",
    "        positive_width = int(width/2)\n",
    "        \n",
    "    # Set band to 1\n",
    "    grid[int(mean_axis_0 - negative_width) : int(mean_axis_0 + positive_width), :] = 1\n",
    "    return grid"
   ],
   "metadata": {
    "collapsed": false,
    "ExecuteTime": {
     "end_time": "2024-07-03T09:50:22.638618Z",
     "start_time": "2024-07-03T09:50:22.631627Z"
    }
   },
   "id": "9dc3b40c786600dd",
   "execution_count": 4
  },
  {
   "cell_type": "code",
   "outputs": [
    {
     "data": {
      "text/plain": "<Figure size 640x480 with 1 Axes>",
      "image/png": "[encoded data removed]"
     },
     "metadata": {},
     "output_type": "display_data"
    }
   ],
   "source": [
    "# transform = lambda x: x * (20/100) - 10\n",
    "\n",
    "# transform = lambda x: x * (20/100) - 10\n",
    "# y = x*w + b\n",
    "# x = y/w - b/w\n",
    "\n",
    "transform = lambda x: x/(20/100) + (10 / (20/100))\n",
    "\n",
    "nums = np.linspace(-10, 10, 10)\n",
    "\n",
    "plt.plot(nums, transform(nums))\n",
    "plt.show()"
   ],
   "metadata": {
    "collapsed": false,
    "ExecuteTime": {
     "end_time": "2024-07-03T09:50:26.253691Z",
     "start_time": "2024-07-03T09:50:26.152112Z"
    }
   },
   "id": "56363dac926189f4",
   "execution_count": 5
  },
  {
   "cell_type": "code",
   "outputs": [
    {
     "data": {
      "text/plain": "<Figure size 640x480 with 1 Axes>",
      "image/png": "[encoded data removed]"
     },
     "metadata": {},
     "output_type": "display_data"
    }
   ],
   "source": [
    "test = create_2d_band_binary(offset=-25, width = 10, size=(100, 100))\n",
    "plt.imshow(test)\n",
    "plt.show()\n"
   ],
   "metadata": {
    "collapsed": false,
    "ExecuteTime": {
     "end_time": "2024-07-03T09:50:28.615359Z",
     "start_time": "2024-07-03T09:50:28.483444Z"
    }
   },
   "id": "8baa18763e4d4bb9",
   "execution_count": 6
  },
  {
   "cell_type": "code",
   "outputs": [],
   "source": [],
   "metadata": {
    "collapsed": false,
    "ExecuteTime": {
     "end_time": "2024-07-03T09:50:30.408556Z",
     "start_time": "2024-07-03T09:50:30.403249Z"
    }
   },
   "id": "992b20f94850a0f5",
   "execution_count": 6
  },
  {
   "cell_type": "code",
   "outputs": [],
   "source": [
    "target_upper = create_2d_band_gaussian(mean = (-0, 0), stds = (0.5, 10), size = (200, 200))\n",
    "pred_lower = create_2d_band_gaussian(mean = (-1, 0), stds = (0.5, 10), size = (200, 200))\n",
    "\n",
    "target_upper = create_2d_band_binary(offset=-22, width = 10, size=(100, 100))\n",
    "\n"
   ],
   "metadata": {
    "collapsed": false,
    "ExecuteTime": {
     "end_time": "2024-07-03T09:50:30.799560Z",
     "start_time": "2024-07-03T09:50:30.781533Z"
    }
   },
   "id": "cf9c491b1b50fd01",
   "execution_count": 7
  },
  {
   "cell_type": "code",
   "outputs": [],
   "source": [],
   "metadata": {
    "collapsed": false,
    "ExecuteTime": {
     "end_time": "2024-07-03T09:50:32.262413Z",
     "start_time": "2024-07-03T09:50:32.256741Z"
    }
   },
   "id": "de1f1976c63aff20",
   "execution_count": 7
  },
  {
   "cell_type": "code",
   "outputs": [
    {
     "data": {
      "text/plain": "<Figure size 640x480 with 2 Axes>",
      "image/png": "[encoded data removed]"
     },
     "metadata": {},
     "output_type": "display_data"
    },
    {
     "data": {
      "text/plain": "<Figure size 640x480 with 2 Axes>",
      "image/png": "[encoded data removed]"
     },
     "metadata": {},
     "output_type": "display_data"
    }
   ],
   "source": [
    "plt.imshow(target_upper)\n",
    "plt.colorbar()\n",
    "plt.show()\n",
    "\n",
    "plt.imshow(pred_lower)\n",
    "plt.colorbar()\n",
    "plt.show()"
   ],
   "metadata": {
    "collapsed": false,
    "ExecuteTime": {
     "end_time": "2024-07-03T09:50:32.762957Z",
     "start_time": "2024-07-03T09:50:32.492266Z"
    }
   },
   "id": "bf8d3aebace25246",
   "execution_count": 8
  },
  {
   "cell_type": "markdown",
   "source": [],
   "metadata": {
    "collapsed": false
   },
   "id": "b2294a30d66beea9"
  },
  {
   "cell_type": "code",
   "outputs": [
    {
     "data": {
      "text/plain": "<Figure size 640x480 with 2 Axes>",
      "image/png": "[encoded data removed]"
     },
     "metadata": {},
     "output_type": "display_data"
    },
    {
     "data": {
      "text/plain": "<Figure size 640x480 with 2 Axes>",
      "image/png": "[encoded data removed]"
     },
     "metadata": {},
     "output_type": "display_data"
    }
   ],
   "source": [
    "target_upper_pixel_wise = T.CenterCrop(size=100)(target_upper)\n",
    "pred_lower_pixel_wise = T.CenterCrop(size=100)(pred_lower)\n",
    "\n",
    "plt.imshow(target_upper_pixel_wise)\n",
    "plt.colorbar()\n",
    "plt.show()\n",
    "\n",
    "plt.imshow(pred_lower_pixel_wise)\n",
    "plt.colorbar()\n",
    "plt.show()"
   ],
   "metadata": {
    "collapsed": false,
    "ExecuteTime": {
     "end_time": "2024-07-03T09:50:36.441230Z",
     "start_time": "2024-07-03T09:50:36.237544Z"
    }
   },
   "id": "f34c67fad9ce0b2b",
   "execution_count": 9
  },
  {
   "cell_type": "code",
   "outputs": [],
   "source": [],
   "metadata": {
    "collapsed": false,
    "ExecuteTime": {
     "end_time": "2024-07-03T09:50:40.432465Z",
     "start_time": "2024-07-03T09:50:40.426759Z"
    }
   },
   "id": "d9c03c30b077750a",
   "execution_count": 9
  },
  {
   "cell_type": "code",
   "outputs": [],
   "source": [
    "# One Hot Encoding\n",
    "linspace_binning = torch.linspace(0, 9.5, 16)\n",
    "linspace_binning_max = 10\n",
    "\n",
    "target_upper = img_one_hot(target_upper, num_c=len(linspace_binning), linspace_binning=linspace_binning)\n",
    "pred_lower = img_one_hot(pred_lower, num_c=len(linspace_binning), linspace_binning=linspace_binning)\n",
    "\n",
    "\n",
    "\n"
   ],
   "metadata": {
    "collapsed": false,
    "ExecuteTime": {
     "end_time": "2024-07-03T09:50:41.700664Z",
     "start_time": "2024-07-03T09:50:41.693829Z"
    }
   },
   "id": "329cbf1ee26de055",
   "execution_count": 10
  },
  {
   "cell_type": "code",
   "outputs": [
    {
     "data": {
      "text/plain": "torch.Size([1, 16, 100, 100])"
     },
     "execution_count": 11,
     "metadata": {},
     "output_type": "execute_result"
    }
   ],
   "source": [
    "target_upper = einops.rearrange(target_upper, 'h w c -> 1 c h w')\n",
    "pred_lower = einops.rearrange(pred_lower, 'h w c -> 1 c h w')\n",
    "target_upper.shape\n"
   ],
   "metadata": {
    "collapsed": false,
    "ExecuteTime": {
     "end_time": "2024-07-03T09:50:42.515268Z",
     "start_time": "2024-07-03T09:50:42.508483Z"
    }
   },
   "id": "8c983274423a733b",
   "execution_count": 11
  },
  {
   "cell_type": "code",
   "outputs": [
    {
     "ename": "RuntimeError",
     "evalue": "The size of tensor a (0) must match the size of tensor b (100) at non-singleton dimension 3",
     "output_type": "error",
     "traceback": [
      "\u001B[0;31m---------------------------------------------------------------------------\u001B[0m",
      "\u001B[0;31mRuntimeError\u001B[0m                              Traceback (most recent call last)",
      "Cell \u001B[0;32mIn[12], line 4\u001B[0m\n\u001B[1;32m      1\u001B[0m kernel_size \u001B[38;5;241m=\u001B[39m \u001B[38;5;241m100\u001B[39m\n\u001B[1;32m      2\u001B[0m sigma \u001B[38;5;241m=\u001B[39m \u001B[38;5;241m6\u001B[39m \u001B[38;5;66;03m#8\u001B[39;00m\n\u001B[0;32m----> 4\u001B[0m target_upper \u001B[38;5;241m=\u001B[39m \u001B[43mgaussian_smoothing_target\u001B[49m\u001B[43m(\u001B[49m\u001B[43mtarget_upper\u001B[49m\u001B[43m,\u001B[49m\u001B[43m \u001B[49m\u001B[43msigma\u001B[49m\u001B[38;5;241;43m=\u001B[39;49m\u001B[43msigma\u001B[49m\u001B[43m,\u001B[49m\u001B[43m \u001B[49m\u001B[43mkernel_size\u001B[49m\u001B[38;5;241;43m=\u001B[39;49m\u001B[43mkernel_size\u001B[49m\u001B[43m,\u001B[49m\u001B[43m \u001B[49m\u001B[43mdevice\u001B[49m\u001B[38;5;241;43m=\u001B[39;49m\u001B[38;5;124;43m'\u001B[39;49m\u001B[38;5;124;43mcpu\u001B[39;49m\u001B[38;5;124;43m'\u001B[39;49m\u001B[43m,\u001B[49m\u001B[43m \u001B[49m\u001B[43mtarget_size\u001B[49m\u001B[38;5;241;43m=\u001B[39;49m\u001B[38;5;241;43m100\u001B[39;49m\u001B[43m)\u001B[49m\n\u001B[1;32m      5\u001B[0m pred_lower \u001B[38;5;241m=\u001B[39m T\u001B[38;5;241m.\u001B[39mCenterCrop(size\u001B[38;5;241m=\u001B[39m\u001B[38;5;241m100\u001B[39m)(pred_lower)\n",
      "File \u001B[0;32m~/Programming/remote/first_CNN_on_radolan_remote/helper/gaussian_smoothing_helper.py:48\u001B[0m, in \u001B[0;36mgaussian_smoothing_target\u001B[0;34m(target_one_hot_extended, sigma, kernel_size, device, target_size)\u001B[0m\n\u001B[1;32m     45\u001B[0m \u001B[38;5;66;03m# Gaussian Kernel:\u001B[39;00m\n\u001B[1;32m     46\u001B[0m kernel \u001B[38;5;241m=\u001B[39m create_gaussian_kernel_4d(kernel_shape, sigma, device)\n\u001B[0;32m---> 48\u001B[0m target_one_hot \u001B[38;5;241m=\u001B[39m \u001B[43mconvolution_no_channel_sum\u001B[49m\u001B[43m(\u001B[49m\u001B[43mtarget_one_hot_extended\u001B[49m\u001B[43m,\u001B[49m\u001B[43m \u001B[49m\u001B[43mkernel\u001B[49m\u001B[43m,\u001B[49m\u001B[43m \u001B[49m\u001B[43mdevice\u001B[49m\u001B[43m,\u001B[49m\u001B[43m \u001B[49m\u001B[43mcenter_crop_size\u001B[49m\u001B[38;5;241;43m=\u001B[39;49m\u001B[43mtarget_size\u001B[49m\u001B[43m)\u001B[49m\n\u001B[1;32m     49\u001B[0m \u001B[38;5;28;01mreturn\u001B[39;00m target_one_hot\n",
      "File \u001B[0;32m~/Programming/remote/first_CNN_on_radolan_remote/helper/gaussian_smoothing_helper.py:35\u001B[0m, in \u001B[0;36mconvolution_no_channel_sum\u001B[0;34m(input, kernel, device, center_crop_size)\u001B[0m\n\u001B[1;32m     32\u001B[0m w_start \u001B[38;5;241m=\u001B[39m w_extended \u001B[38;5;241m-\u001B[39m kernel_size \u001B[38;5;241m/\u001B[39m\u001B[38;5;241m/\u001B[39m \u001B[38;5;241m2\u001B[39m\n\u001B[1;32m     33\u001B[0m w_end \u001B[38;5;241m=\u001B[39m w_start \u001B[38;5;241m+\u001B[39m kernel_size\n\u001B[0;32m---> 35\u001B[0m vals \u001B[38;5;241m=\u001B[39m \u001B[38;5;28;43minput\u001B[39;49m\u001B[43m[\u001B[49m\u001B[43m:\u001B[49m\u001B[43m,\u001B[49m\u001B[43m \u001B[49m\u001B[43m:\u001B[49m\u001B[43m,\u001B[49m\u001B[43m \u001B[49m\u001B[43mh_start\u001B[49m\u001B[43m \u001B[49m\u001B[43m:\u001B[49m\u001B[43m \u001B[49m\u001B[43mh_end\u001B[49m\u001B[43m,\u001B[49m\u001B[43m \u001B[49m\u001B[43mw_start\u001B[49m\u001B[43m \u001B[49m\u001B[43m:\u001B[49m\u001B[43m \u001B[49m\u001B[43mw_end\u001B[49m\u001B[43m]\u001B[49m\u001B[43m \u001B[49m\u001B[38;5;241;43m*\u001B[39;49m\u001B[43m \u001B[49m\u001B[43mkernel\u001B[49m\n\u001B[1;32m     36\u001B[0m output[:, :, h, w] \u001B[38;5;241m=\u001B[39m torch\u001B[38;5;241m.\u001B[39msum(vals, dim\u001B[38;5;241m=\u001B[39m(\u001B[38;5;241m2\u001B[39m,\u001B[38;5;241m3\u001B[39m)) \u001B[38;5;66;03m# Only sum along h and w, KEEP c dim\u001B[39;00m\n\u001B[1;32m     37\u001B[0m \u001B[38;5;66;03m# (this is why we nee to rewrite this) and\u001B[39;00m\n\u001B[1;32m     38\u001B[0m \u001B[38;5;66;03m# of course keep b dim\u001B[39;00m\n",
      "\u001B[0;31mRuntimeError\u001B[0m: The size of tensor a (0) must match the size of tensor b (100) at non-singleton dimension 3"
     ]
    }
   ],
   "source": [
    "kernel_size = 100\n",
    "sigma = 6 #8\n",
    "\n",
    "target_upper = gaussian_smoothing_target(target_upper, sigma=sigma, kernel_size=kernel_size, device='cpu', target_size=100)\n",
    "pred_lower = T.CenterCrop(size=100)(pred_lower)"
   ],
   "metadata": {
    "collapsed": false,
    "ExecuteTime": {
     "end_time": "2024-07-03T09:50:43.835741Z",
     "start_time": "2024-07-03T09:50:43.788955Z"
    }
   },
   "id": "88733ce7407768d7",
   "execution_count": 12
  },
  {
   "cell_type": "code",
   "outputs": [
    {
     "data": {
      "text/plain": "<matplotlib.colorbar.Colorbar at 0x7f7aac7fea10>"
     },
     "execution_count": 13,
     "metadata": {},
     "output_type": "execute_result"
    },
    {
     "data": {
      "text/plain": "<Figure size 640x480 with 2 Axes>",
      "image/png": "[encoded data removed]"
     },
     "metadata": {},
     "output_type": "display_data"
    }
   ],
   "source": [
    "smoothing_kernel_replica = create_gaussian_kernel_2d(size=kernel_size, sigma=sigma)\n",
    "plt.imshow(smoothing_kernel_replica)\n",
    "plt.colorbar()"
   ],
   "metadata": {
    "collapsed": false,
    "ExecuteTime": {
     "end_time": "2024-07-03T09:50:45.799101Z",
     "start_time": "2024-07-03T09:50:45.650756Z"
    }
   },
   "id": "bcc285e336ec1681",
   "execution_count": 13
  },
  {
   "cell_type": "code",
   "outputs": [],
   "source": [
    "target_upper_binned = target_upper\n",
    "pred_lower_binned = pred_lower"
   ],
   "metadata": {
    "collapsed": false,
    "ExecuteTime": {
     "end_time": "2024-07-03T09:50:48.994388Z",
     "start_time": "2024-07-03T09:50:48.989950Z"
    }
   },
   "id": "1bf114294e4d4c91",
   "execution_count": 14
  },
  {
   "cell_type": "code",
   "outputs": [
    {
     "data": {
      "text/plain": "torch.Size([1, 16, 100, 100])"
     },
     "execution_count": 15,
     "metadata": {},
     "output_type": "execute_result"
    }
   ],
   "source": [
    "target_upper.shape\n"
   ],
   "metadata": {
    "collapsed": false,
    "ExecuteTime": {
     "end_time": "2024-07-03T09:50:49.502911Z",
     "start_time": "2024-07-03T09:50:49.498372Z"
    }
   },
   "id": "deb0d0bf8b3a26da",
   "execution_count": 15
  },
  {
   "cell_type": "code",
   "outputs": [],
   "source": [
    "target_upper = one_hot_to_lognormed_mm(target_upper, linspace_binning, channel_dim=1)\n",
    "pred_lower = one_hot_to_lognormed_mm(pred_lower, linspace_binning, channel_dim=1)\n",
    "\n",
    "target_upper = target_upper[0]\n",
    "pred_lower = pred_lower[0]\n"
   ],
   "metadata": {
    "collapsed": false,
    "ExecuteTime": {
     "end_time": "2024-07-03T09:51:33.096105Z",
     "start_time": "2024-07-03T09:51:33.091468Z"
    }
   },
   "id": "f5cad8cf41aff14c",
   "execution_count": 17
  },
  {
   "cell_type": "code",
   "outputs": [
    {
     "data": {
      "text/plain": "<Figure size 640x480 with 2 Axes>",
      "image/png": "[encoded data removed]"
     },
     "metadata": {},
     "output_type": "display_data"
    },
    {
     "data": {
      "text/plain": "<Figure size 640x480 with 2 Axes>",
      "image/png": "[encoded data removed]"
     },
     "metadata": {},
     "output_type": "display_data"
    }
   ],
   "source": [
    "plt.imshow(target_upper)\n",
    "plt.colorbar()\n",
    "plt.show()\n",
    "\n",
    "plt.imshow(pred_lower)\n",
    "plt.colorbar()\n",
    "plt.show()"
   ],
   "metadata": {
    "collapsed": false,
    "ExecuteTime": {
     "end_time": "2024-07-03T09:51:35.968141Z",
     "start_time": "2024-07-03T09:51:35.744359Z"
    }
   },
   "id": "786b61def0db81dc",
   "execution_count": 18
  },
  {
   "cell_type": "code",
   "outputs": [
    {
     "data": {
      "text/plain": "tensor([[0., 0., 0.,  ..., 0., 0., 0.],\n        [0., 0., 0.,  ..., 0., 0., 0.],\n        [0., 0., 0.,  ..., 0., 0., 0.],\n        ...,\n        [0., 0., 0.,  ..., 0., 0., 0.],\n        [0., 0., 0.,  ..., 0., 0., 0.],\n        [0., 0., 0.,  ..., 0., 0., 0.]])"
     },
     "execution_count": 46,
     "metadata": {},
     "output_type": "execute_result"
    }
   ],
   "source": [
    "target_upper"
   ],
   "metadata": {
    "collapsed": false,
    "ExecuteTime": {
     "end_time": "2024-07-03T10:41:02.151851Z",
     "start_time": "2024-07-03T10:41:02.137419Z"
    }
   },
   "id": "e77291d831cf0521",
   "execution_count": 46
  },
  {
   "cell_type": "code",
   "outputs": [
    {
     "data": {
      "text/plain": "torch.Size([100, 100])"
     },
     "execution_count": 19,
     "metadata": {},
     "output_type": "execute_result"
    }
   ],
   "source": [
    "target_upper.shape\n"
   ],
   "metadata": {
    "collapsed": false,
    "ExecuteTime": {
     "end_time": "2024-07-03T09:51:39.883737Z",
     "start_time": "2024-07-03T09:51:39.872640Z"
    }
   },
   "id": "b803e830fce48f7b",
   "execution_count": 19
  },
  {
   "cell_type": "code",
   "outputs": [
    {
     "data": {
      "text/plain": "torch.Size([200, 200])"
     },
     "execution_count": 20,
     "metadata": {},
     "output_type": "execute_result"
    }
   ],
   "source": [
    "pred_lower.shape"
   ],
   "metadata": {
    "collapsed": false,
    "ExecuteTime": {
     "end_time": "2024-07-03T09:51:40.826104Z",
     "start_time": "2024-07-03T09:51:40.821102Z"
    }
   },
   "id": "b11e71689f5be007",
   "execution_count": 20
  },
  {
   "cell_type": "code",
   "outputs": [
    {
     "name": "stdout",
     "output_type": "stream",
     "text": [
      "tensor(2.8360)\n"
     ]
    }
   ],
   "source": [
    "rmse = torch.sqrt(torch.nn.MSELoss()(pred_lower_pixel_wise, target_upper_pixel_wise))\n",
    "print(rmse)"
   ],
   "metadata": {
    "collapsed": false,
    "ExecuteTime": {
     "end_time": "2024-07-03T09:52:20.424944Z",
     "start_time": "2024-07-03T09:52:20.414117Z"
    }
   },
   "id": "bd78289231255dde",
   "execution_count": 22
  },
  {
   "cell_type": "code",
   "outputs": [
    {
     "data": {
      "text/plain": "torch.Size([1, 16, 200, 200])"
     },
     "execution_count": 27,
     "metadata": {},
     "output_type": "execute_result"
    }
   ],
   "source": [
    "pred_lower_binned.shape"
   ],
   "metadata": {
    "collapsed": false,
    "ExecuteTime": {
     "end_time": "2024-07-03T09:54:24.923844Z",
     "start_time": "2024-07-03T09:54:24.918828Z"
    }
   },
   "id": "3b8d0f83abb31544",
   "execution_count": 27
  },
  {
   "cell_type": "code",
   "outputs": [
    {
     "data": {
      "text/plain": "torch.Size([1, 16, 100, 100])"
     },
     "execution_count": 28,
     "metadata": {},
     "output_type": "execute_result"
    }
   ],
   "source": [
    "target_upper_binned.shape"
   ],
   "metadata": {
    "collapsed": false,
    "ExecuteTime": {
     "end_time": "2024-07-03T09:54:43.147090Z",
     "start_time": "2024-07-03T09:54:43.140275Z"
    }
   },
   "id": "44882a571231e06b",
   "execution_count": 28
  },
  {
   "cell_type": "code",
   "outputs": [
    {
     "ename": "RuntimeError",
     "evalue": "Expected target size [16, 200], got [16, 100, 100]",
     "output_type": "error",
     "traceback": [
      "\u001B[0;31m---------------------------------------------------------------------------\u001B[0m",
      "\u001B[0;31mRuntimeError\u001B[0m                              Traceback (most recent call last)",
      "Cell \u001B[0;32mIn[26], line 1\u001B[0m\n\u001B[0;32m----> 1\u001B[0m dlbd \u001B[38;5;241m=\u001B[39m \u001B[43mtorch\u001B[49m\u001B[38;5;241;43m.\u001B[39;49m\u001B[43mnn\u001B[49m\u001B[38;5;241;43m.\u001B[39;49m\u001B[43mCrossEntropyLoss\u001B[49m\u001B[43m(\u001B[49m\u001B[43m)\u001B[49m\u001B[43m(\u001B[49m\u001B[43mpred_lower_binned\u001B[49m\u001B[43m[\u001B[49m\u001B[38;5;241;43m0\u001B[39;49m\u001B[43m,\u001B[49m\u001B[38;5;241;43m.\u001B[39;49m\u001B[38;5;241;43m.\u001B[39;49m\u001B[38;5;241;43m.\u001B[39;49m\u001B[43m]\u001B[49m\u001B[38;5;241;43m.\u001B[39;49m\u001B[43mfloat\u001B[49m\u001B[43m(\u001B[49m\u001B[43m)\u001B[49m\u001B[43m,\u001B[49m\u001B[43m \u001B[49m\u001B[43mtarget_upper_binned\u001B[49m\u001B[43m[\u001B[49m\u001B[38;5;241;43m0\u001B[39;49m\u001B[43m,\u001B[49m\u001B[38;5;241;43m.\u001B[39;49m\u001B[38;5;241;43m.\u001B[39;49m\u001B[38;5;241;43m.\u001B[39;49m\u001B[43m]\u001B[49m\u001B[38;5;241;43m.\u001B[39;49m\u001B[43mfloat\u001B[49m\u001B[43m(\u001B[49m\u001B[43m)\u001B[49m\u001B[43m)\u001B[49m\n",
      "File \u001B[0;32m~/miniforge3/envs/first_CNN_on_Radolan_backup_before_wandb/lib/python3.10/site-packages/torch/nn/modules/module.py:1518\u001B[0m, in \u001B[0;36mModule._wrapped_call_impl\u001B[0;34m(self, *args, **kwargs)\u001B[0m\n\u001B[1;32m   1516\u001B[0m     \u001B[38;5;28;01mreturn\u001B[39;00m \u001B[38;5;28mself\u001B[39m\u001B[38;5;241m.\u001B[39m_compiled_call_impl(\u001B[38;5;241m*\u001B[39margs, \u001B[38;5;241m*\u001B[39m\u001B[38;5;241m*\u001B[39mkwargs)  \u001B[38;5;66;03m# type: ignore[misc]\u001B[39;00m\n\u001B[1;32m   1517\u001B[0m \u001B[38;5;28;01melse\u001B[39;00m:\n\u001B[0;32m-> 1518\u001B[0m     \u001B[38;5;28;01mreturn\u001B[39;00m \u001B[38;5;28;43mself\u001B[39;49m\u001B[38;5;241;43m.\u001B[39;49m\u001B[43m_call_impl\u001B[49m\u001B[43m(\u001B[49m\u001B[38;5;241;43m*\u001B[39;49m\u001B[43margs\u001B[49m\u001B[43m,\u001B[49m\u001B[43m \u001B[49m\u001B[38;5;241;43m*\u001B[39;49m\u001B[38;5;241;43m*\u001B[39;49m\u001B[43mkwargs\u001B[49m\u001B[43m)\u001B[49m\n",
      "File \u001B[0;32m~/miniforge3/envs/first_CNN_on_Radolan_backup_before_wandb/lib/python3.10/site-packages/torch/nn/modules/module.py:1527\u001B[0m, in \u001B[0;36mModule._call_impl\u001B[0;34m(self, *args, **kwargs)\u001B[0m\n\u001B[1;32m   1522\u001B[0m \u001B[38;5;66;03m# If we don't have any hooks, we want to skip the rest of the logic in\u001B[39;00m\n\u001B[1;32m   1523\u001B[0m \u001B[38;5;66;03m# this function, and just call forward.\u001B[39;00m\n\u001B[1;32m   1524\u001B[0m \u001B[38;5;28;01mif\u001B[39;00m \u001B[38;5;129;01mnot\u001B[39;00m (\u001B[38;5;28mself\u001B[39m\u001B[38;5;241m.\u001B[39m_backward_hooks \u001B[38;5;129;01mor\u001B[39;00m \u001B[38;5;28mself\u001B[39m\u001B[38;5;241m.\u001B[39m_backward_pre_hooks \u001B[38;5;129;01mor\u001B[39;00m \u001B[38;5;28mself\u001B[39m\u001B[38;5;241m.\u001B[39m_forward_hooks \u001B[38;5;129;01mor\u001B[39;00m \u001B[38;5;28mself\u001B[39m\u001B[38;5;241m.\u001B[39m_forward_pre_hooks\n\u001B[1;32m   1525\u001B[0m         \u001B[38;5;129;01mor\u001B[39;00m _global_backward_pre_hooks \u001B[38;5;129;01mor\u001B[39;00m _global_backward_hooks\n\u001B[1;32m   1526\u001B[0m         \u001B[38;5;129;01mor\u001B[39;00m _global_forward_hooks \u001B[38;5;129;01mor\u001B[39;00m _global_forward_pre_hooks):\n\u001B[0;32m-> 1527\u001B[0m     \u001B[38;5;28;01mreturn\u001B[39;00m \u001B[43mforward_call\u001B[49m\u001B[43m(\u001B[49m\u001B[38;5;241;43m*\u001B[39;49m\u001B[43margs\u001B[49m\u001B[43m,\u001B[49m\u001B[43m \u001B[49m\u001B[38;5;241;43m*\u001B[39;49m\u001B[38;5;241;43m*\u001B[39;49m\u001B[43mkwargs\u001B[49m\u001B[43m)\u001B[49m\n\u001B[1;32m   1529\u001B[0m \u001B[38;5;28;01mtry\u001B[39;00m:\n\u001B[1;32m   1530\u001B[0m     result \u001B[38;5;241m=\u001B[39m \u001B[38;5;28;01mNone\u001B[39;00m\n",
      "File \u001B[0;32m~/miniforge3/envs/first_CNN_on_Radolan_backup_before_wandb/lib/python3.10/site-packages/torch/nn/modules/loss.py:1179\u001B[0m, in \u001B[0;36mCrossEntropyLoss.forward\u001B[0;34m(self, input, target)\u001B[0m\n\u001B[1;32m   1178\u001B[0m \u001B[38;5;28;01mdef\u001B[39;00m \u001B[38;5;21mforward\u001B[39m(\u001B[38;5;28mself\u001B[39m, \u001B[38;5;28minput\u001B[39m: Tensor, target: Tensor) \u001B[38;5;241m-\u001B[39m\u001B[38;5;241m>\u001B[39m Tensor:\n\u001B[0;32m-> 1179\u001B[0m     \u001B[38;5;28;01mreturn\u001B[39;00m \u001B[43mF\u001B[49m\u001B[38;5;241;43m.\u001B[39;49m\u001B[43mcross_entropy\u001B[49m\u001B[43m(\u001B[49m\u001B[38;5;28;43minput\u001B[39;49m\u001B[43m,\u001B[49m\u001B[43m \u001B[49m\u001B[43mtarget\u001B[49m\u001B[43m,\u001B[49m\u001B[43m \u001B[49m\u001B[43mweight\u001B[49m\u001B[38;5;241;43m=\u001B[39;49m\u001B[38;5;28;43mself\u001B[39;49m\u001B[38;5;241;43m.\u001B[39;49m\u001B[43mweight\u001B[49m\u001B[43m,\u001B[49m\n\u001B[1;32m   1180\u001B[0m \u001B[43m                           \u001B[49m\u001B[43mignore_index\u001B[49m\u001B[38;5;241;43m=\u001B[39;49m\u001B[38;5;28;43mself\u001B[39;49m\u001B[38;5;241;43m.\u001B[39;49m\u001B[43mignore_index\u001B[49m\u001B[43m,\u001B[49m\u001B[43m \u001B[49m\u001B[43mreduction\u001B[49m\u001B[38;5;241;43m=\u001B[39;49m\u001B[38;5;28;43mself\u001B[39;49m\u001B[38;5;241;43m.\u001B[39;49m\u001B[43mreduction\u001B[49m\u001B[43m,\u001B[49m\n\u001B[1;32m   1181\u001B[0m \u001B[43m                           \u001B[49m\u001B[43mlabel_smoothing\u001B[49m\u001B[38;5;241;43m=\u001B[39;49m\u001B[38;5;28;43mself\u001B[39;49m\u001B[38;5;241;43m.\u001B[39;49m\u001B[43mlabel_smoothing\u001B[49m\u001B[43m)\u001B[49m\n",
      "File \u001B[0;32m~/miniforge3/envs/first_CNN_on_Radolan_backup_before_wandb/lib/python3.10/site-packages/torch/nn/functional.py:3053\u001B[0m, in \u001B[0;36mcross_entropy\u001B[0;34m(input, target, weight, size_average, ignore_index, reduce, reduction, label_smoothing)\u001B[0m\n\u001B[1;32m   3051\u001B[0m \u001B[38;5;28;01mif\u001B[39;00m size_average \u001B[38;5;129;01mis\u001B[39;00m \u001B[38;5;129;01mnot\u001B[39;00m \u001B[38;5;28;01mNone\u001B[39;00m \u001B[38;5;129;01mor\u001B[39;00m reduce \u001B[38;5;129;01mis\u001B[39;00m \u001B[38;5;129;01mnot\u001B[39;00m \u001B[38;5;28;01mNone\u001B[39;00m:\n\u001B[1;32m   3052\u001B[0m     reduction \u001B[38;5;241m=\u001B[39m _Reduction\u001B[38;5;241m.\u001B[39mlegacy_get_string(size_average, reduce)\n\u001B[0;32m-> 3053\u001B[0m \u001B[38;5;28;01mreturn\u001B[39;00m \u001B[43mtorch\u001B[49m\u001B[38;5;241;43m.\u001B[39;49m\u001B[43m_C\u001B[49m\u001B[38;5;241;43m.\u001B[39;49m\u001B[43m_nn\u001B[49m\u001B[38;5;241;43m.\u001B[39;49m\u001B[43mcross_entropy_loss\u001B[49m\u001B[43m(\u001B[49m\u001B[38;5;28;43minput\u001B[39;49m\u001B[43m,\u001B[49m\u001B[43m \u001B[49m\u001B[43mtarget\u001B[49m\u001B[43m,\u001B[49m\u001B[43m \u001B[49m\u001B[43mweight\u001B[49m\u001B[43m,\u001B[49m\u001B[43m \u001B[49m\u001B[43m_Reduction\u001B[49m\u001B[38;5;241;43m.\u001B[39;49m\u001B[43mget_enum\u001B[49m\u001B[43m(\u001B[49m\u001B[43mreduction\u001B[49m\u001B[43m)\u001B[49m\u001B[43m,\u001B[49m\u001B[43m \u001B[49m\u001B[43mignore_index\u001B[49m\u001B[43m,\u001B[49m\u001B[43m \u001B[49m\u001B[43mlabel_smoothing\u001B[49m\u001B[43m)\u001B[49m\n",
      "\u001B[0;31mRuntimeError\u001B[0m: Expected target size [16, 200], got [16, 100, 100]"
     ]
    }
   ],
   "source": [
    "dlbd = torch.nn.CrossEntropyLoss()(\n",
    "    pred_lower_binned[0,...].float(),\n",
    "    target_upper_binned[0,...].float())"
   ],
   "metadata": {
    "collapsed": false,
    "ExecuteTime": {
     "end_time": "2024-07-03T09:53:28.373950Z",
     "start_time": "2024-07-03T09:53:28.325441Z"
    }
   },
   "id": "9abce1e6d34eb84b",
   "execution_count": 26
  },
  {
   "cell_type": "code",
   "outputs": [
    {
     "ename": "NameError",
     "evalue": "name 'dlbd' is not defined",
     "output_type": "error",
     "traceback": [
      "\u001B[0;31m---------------------------------------------------------------------------\u001B[0m",
      "\u001B[0;31mNameError\u001B[0m                                 Traceback (most recent call last)",
      "Cell \u001B[0;32mIn[24], line 1\u001B[0m\n\u001B[0;32m----> 1\u001B[0m \u001B[38;5;28mprint\u001B[39m(\u001B[43mdlbd\u001B[49m)\n",
      "\u001B[0;31mNameError\u001B[0m: name 'dlbd' is not defined"
     ]
    }
   ],
   "source": [
    "print(dlbd)"
   ],
   "metadata": {
    "collapsed": false,
    "ExecuteTime": {
     "end_time": "2024-07-03T09:52:27.278108Z",
     "start_time": "2024-07-03T09:52:27.264997Z"
    }
   },
   "id": "81aacf612cef5313",
   "execution_count": 24
  },
  {
   "cell_type": "code",
   "outputs": [],
   "source": [
    "def get_scaling_function(a, b, c, d):\n",
    "    \"\"\"\n",
    "    Creates a scaling function to map a range [a, b] to [c, d].\n",
    "\n",
    "    Returns function\n",
    "    \"\"\"\n",
    "    scale = (d - c) / (b - a)\n",
    "    return lambda x: (x - a) * scale + c\n",
    "\n",
    "\n",
    "# def get_scaling_function(a, b, c, d):\n",
    "#     \"\"\"\n",
    "#     Creates a scaling function to map a range [a, b] to [c, d].\n",
    "# \n",
    "#     Returns function\n",
    "#     \"\"\"\n",
    "#     scale = (d - c) / (b - a)\n",
    "#     return lambda x: x\n"
   ],
   "metadata": {
    "collapsed": false,
    "ExecuteTime": {
     "end_time": "2024-07-03T09:54:53.916036Z",
     "start_time": "2024-07-03T09:54:53.910027Z"
    }
   },
   "id": "e6f66655214db96e",
   "execution_count": 29
  },
  {
   "cell_type": "code",
   "outputs": [
    {
     "name": "stdout",
     "output_type": "stream",
     "text": [
      "fss_scale_dict: {1: [], 3: [], 5: [], 7: [], 10: [], 15: [], 30: []}\n",
      "1\n",
      "3\n",
      "5\n",
      "7\n",
      "10\n",
      "15\n",
      "30\n",
      "1\n",
      "3\n",
      "5\n",
      "7\n",
      "10\n",
      "15\n",
      "30\n",
      "1\n",
      "3\n",
      "5\n",
      "7\n",
      "10\n",
      "15\n",
      "30\n",
      "1\n",
      "3\n",
      "5\n",
      "7\n",
      "10\n",
      "15\n",
      "30\n",
      "1\n",
      "3\n",
      "5\n",
      "7\n",
      "10\n",
      "15\n",
      "30\n",
      "1\n",
      "3\n",
      "5\n",
      "7\n",
      "10\n",
      "15\n",
      "30\n",
      "1\n",
      "3\n",
      "5\n",
      "7\n",
      "10\n",
      "15\n",
      "30\n",
      "1\n",
      "3\n",
      "5\n",
      "7\n",
      "10\n",
      "15\n",
      "30\n",
      "1\n",
      "3\n",
      "5\n",
      "7\n",
      "10\n",
      "15\n",
      "30\n",
      "1\n",
      "3\n",
      "5\n",
      "7\n",
      "10\n",
      "15\n",
      "30\n",
      "1\n",
      "3\n",
      "5\n",
      "7\n",
      "10\n",
      "15\n",
      "30\n",
      "1\n",
      "3\n",
      "5\n",
      "7\n",
      "10\n",
      "15\n",
      "30\n",
      "1\n",
      "3\n",
      "5\n",
      "7\n",
      "10\n",
      "15\n",
      "30\n",
      "1\n",
      "3\n",
      "5\n",
      "7\n",
      "10\n",
      "15\n",
      "30\n",
      "1\n",
      "3\n",
      "5\n",
      "7\n",
      "10\n",
      "15\n",
      "30\n",
      "1\n",
      "3\n",
      "5\n",
      "7\n",
      "10\n",
      "15\n",
      "30\n",
      "1\n",
      "3\n",
      "5\n",
      "7\n",
      "10\n",
      "15\n",
      "30\n",
      "1\n",
      "3\n",
      "5\n",
      "7\n",
      "10\n",
      "15\n",
      "30\n",
      "1\n",
      "3\n",
      "5\n",
      "7\n",
      "10\n",
      "15\n",
      "30\n",
      "1\n",
      "3\n",
      "5\n",
      "7\n",
      "10\n",
      "15\n",
      "30\n",
      "1\n",
      "3\n",
      "5\n",
      "7\n",
      "10\n",
      "15\n",
      "30\n",
      "1\n",
      "3\n",
      "5\n",
      "7\n",
      "10\n",
      "15\n",
      "30\n",
      "1\n",
      "3\n",
      "5\n",
      "7\n",
      "10\n",
      "15\n",
      "30\n",
      "1\n",
      "3\n",
      "5\n",
      "7\n",
      "10\n",
      "15\n",
      "30\n",
      "1\n",
      "3\n",
      "5\n",
      "7\n",
      "10\n",
      "15\n",
      "30\n",
      "1\n",
      "3\n",
      "5\n",
      "7\n",
      "10\n",
      "15\n",
      "30\n",
      "1\n",
      "3\n",
      "5\n",
      "7\n",
      "10\n",
      "15\n",
      "30\n",
      "1\n",
      "3\n",
      "5\n",
      "7\n",
      "10\n",
      "15\n",
      "30\n",
      "1\n",
      "3\n",
      "5\n",
      "7\n",
      "10\n",
      "15\n",
      "30\n"
     ]
    },
    {
     "name": "stderr",
     "output_type": "stream",
     "text": [
      "MovieWriter ffmpeg unavailable; using Pillow instead.\n"
     ]
    },
    {
     "name": "stdout",
     "output_type": "stream",
     "text": [
      "1\n",
      "3\n",
      "5\n",
      "7\n",
      "10\n",
      "15\n",
      "30\n"
     ]
    },
    {
     "data": {
      "text/plain": "<Figure size 2000x500 with 4 Axes>",
      "image/png": "[encoded data removed]"
     },
     "metadata": {},
     "output_type": "display_data"
    }
   ],
   "source": [
    "### CREATE ANIMATION COMPARING XENTROPY AND DLBD ###\n",
    "\n",
    "# # Create binning\n",
    "# linspace_binning = torch.linspace(0, 9.5, 16)\n",
    "# linspace_binning_max = 10\n",
    "# \n",
    "# # smoothing parameters\n",
    "# kernel_size = 100\n",
    "# sigma = 6\n",
    "# \n",
    "# # Create offsets\n",
    "# # offsets = np.linspace(0, 5.5, 30) # Corrected offsets creation\n",
    "# offsets = np.arange(0, 30, 1) # Corrected offsets creation\n",
    "\n",
    "fss_calc_steps = verification.get_method(\"FSS\")\n",
    "offsets=np.arange(0, 30, 1)\n",
    "\n",
    "def create_frames(\n",
    "        num_frames,\n",
    "        fss_scales,\n",
    "        sigma=6, kernel_size=100, offsets=np.arange(0, 30, 1), linspace_binning=torch.linspace(0, 9.5, 16), linspace_binning_max=10):\n",
    "    \n",
    "    target_pixel_frames = []\n",
    "    pred_pixel_frames = []\n",
    "\n",
    "    \n",
    "    \n",
    "    rmses = []\n",
    "    dlbds = []\n",
    "    fss_scale_dict = {}\n",
    "    \n",
    "    for scale in fss_scales:\n",
    "        fss_scale_dict[scale] = []\n",
    "    \n",
    "    print(f'fss_scale_dict: {fss_scale_dict}')\n",
    "    \n",
    "    for frame in range(num_frames):\n",
    "\n",
    "        offset = offsets[frame]\n",
    "        \n",
    "        # target_upper = create_2d_grid(mean=(-0, 0), stds=(0.5, 10), size=(200, 200))\n",
    "        # pred_lower = create_2d_grid(mean=(-offset, 0), stds=(0.5, 10), size=(200, 200))\n",
    "        target_upper = create_2d_band_binary(0, width=10, size=(200,200))\n",
    "        pred_lower = create_2d_band_binary(offset, width=10, size=(200,200))\n",
    "        \n",
    "        # CenterCrop for actual representation\n",
    "        target_upper_pixel_wise = T.CenterCrop(size=100)(target_upper.unsqueeze(0))\n",
    "        pred_lower_pixel_wise = T.CenterCrop(size=100)(pred_lower.unsqueeze(0))\n",
    "        \n",
    "        target_pixel_frames.append(target_upper_pixel_wise)\n",
    "        pred_pixel_frames.append(pred_lower_pixel_wise)\n",
    "        \n",
    "        # One Hot Encoding\n",
    "        target_upper_mm = target_upper\n",
    "        pred_lower_mm = pred_lower\n",
    "        \n",
    "        target_upper = img_one_hot(target_upper, num_c=len(linspace_binning), linspace_binning=linspace_binning)\n",
    "        \n",
    "        pred_lower = img_one_hot(pred_lower, num_c=len(linspace_binning), linspace_binning=linspace_binning)\n",
    "        \n",
    "        target_upper = einops.rearrange(target_upper, 'h w c -> 1 c h w')\n",
    "        pred_lower = einops.rearrange(pred_lower, 'h w c -> 1 c h w')\n",
    "        \n",
    "        target_upper_one_hot = target_upper\n",
    "        pred_lower = T.CenterCrop(size=100)(pred_lower)\n",
    "        target_upper_one_hot = T.CenterCrop(size=100)(target_upper_one_hot)\n",
    "        \n",
    "        target_upper_dlbd = gaussian_smoothing_target(target_upper, sigma=sigma, kernel_size=kernel_size, device='cpu', target_size=100)\n",
    "        \n",
    "        # Scale Xentropy meaningfully\n",
    "\n",
    "        scale_rmse = get_scaling_function(1.85, 2.1, 0, 1)\n",
    "        scale_dlbd = get_scaling_function(1.95, 2.09, 0, 1)\n",
    "        \n",
    "        # rmse = torch.sqrt(torch.nn.MSELoss()(pred_lower_pixel_wise, target_upper_pixel_wise))\n",
    "        rmse = torch.nn.CrossEntropyLoss()(pred_lower.float(), target_upper_one_hot.float())\n",
    "        dlbd = torch.nn.CrossEntropyLoss()(pred_lower.float(), target_upper_dlbd.float())\n",
    "        \n",
    "        for scale, fss_list in fss_scale_dict.items():\n",
    "            fss = fss_calc_steps(\n",
    "                pred_lower_mm.detach().cpu().numpy(),\n",
    "                target_upper_mm.detach().cpu().numpy(),\n",
    "                thr=0.1, scale=scale)\n",
    "            print(scale)\n",
    "            fss_list.append(fss)\n",
    "        \n",
    "        # rmse = scale_rmse(rmse)\n",
    "        # dlbd = scale_dlbd(dlbd)\n",
    "        \n",
    "        rmses.append(rmse)\n",
    "        dlbds.append(dlbd)\n",
    "        \n",
    "    return target_pixel_frames, pred_pixel_frames, rmses, dlbds, fss_scale_dict\n",
    "\n",
    "    \n",
    "def update(frame_idx, target_pixel_frames, pred_pixel_frames, rmses, dlbds, fss_scale_dict, fss_scales, offsets):\n",
    "    ax[0].clear()\n",
    "    ax[1].clear()\n",
    "    ax[2].clear()  # Clear the DLBD plot\n",
    "    ax[3].clear()\n",
    "    \n",
    "    # Create a custom colormap\n",
    "    # 'black' with alpha 0 for transparent, and 'coral' with alpha 1 for opaque\n",
    "    colors_target = [(1, 1, 1, 0), 'coral']  # RGBA values\n",
    "    cmap_target = ListedColormap(colors_target)\n",
    "    \n",
    "    colors_pred = [(1, 1, 1, 0), 'skyblue']  # RGBA values\n",
    "    cmap_pred = ListedColormap(colors_pred)\n",
    "    \n",
    "    # Plot the target and prediction\n",
    "    ax[0].imshow(target_pixel_frames[frame_idx].squeeze(), extent=[0, 100, 0, 100], origin='lower', alpha=0.5, cmap=cmap_pred)\n",
    "    ax[0].imshow(pred_pixel_frames[frame_idx].squeeze(), extent=[0, 100, 0, 100], origin='lower', alpha=0.5, cmap=cmap_target)\n",
    "    \n",
    "    \n",
    "    # Adding labels with some distance to avoid overlap\n",
    "    # Note: Adjust `5` and `10` to change the label positions if necessary\n",
    "    # Load Apple Color Emoji font \n",
    "    \n",
    "    curr_offset = offsets[frame_idx]\n",
    "    ax[0].text(30, 48, 'Prediction', ha='right', va='bottom', fontsize=12, )\n",
    "    ax[0].text(40, 45, '⚙️', ha='right', va='bottom', fontsize=25, )\n",
    "    \n",
    "    \n",
    "    ax[0].text(70, 48 + curr_offset, 'Target', ha='right', va='bottom', fontsize=12)\n",
    "    ax[0].text(80, 45 + curr_offset, '☔️', ha='right', va='bottom', fontsize=25)\n",
    "\n",
    "    ax[0].set_xticks([])\n",
    "    ax[0].set_yticks([])\n",
    "\n",
    "    # Plot the RMSE and DLBD\n",
    "    \n",
    "   # Plot Cross Entropy\n",
    "    rmse_color = 'mediumvioletred'\n",
    "    ax[1].plot(rmses[:frame_idx + 1], label='Cross Entropy (pixel-wise)', color=rmse_color)\n",
    "    ax[1].set_ylabel('Cross Entropy', color=rmse_color)\n",
    "    ax[1].tick_params(axis='y', labelcolor=rmse_color)\n",
    "    \n",
    "    # Plot DLBD on a separate subplot\n",
    "    dlbd_color = 'forestgreen'\n",
    "    ax[2].plot(dlbds[:frame_idx + 1], label='DLBD (ours)', color=dlbd_color)\n",
    "    ax[2].set_ylabel('DLBD', color=dlbd_color)\n",
    "    ax[2].tick_params(axis='y', labelcolor=dlbd_color)\n",
    "    \n",
    "    colors = ['red', 'green', 'blue', 'orange', 'black', 'grey', 'yellow', 'violet']\n",
    "    # Plot FSS on seperate subplt\n",
    "    for idx, (scale, fss_list) in enumerate(fss_scale_dict.items()):\n",
    "        fss_color = colors[idx]\n",
    "        ax[3].plot(fss_list[:frame_idx + 1], label=f'FSS_scale_{scale}', color=fss_color)\n",
    "        ax[3].set_ylabel('FSS', color=fss_color)\n",
    "        ax[3].tick_params(axis='y', labelcolor=fss_color)\n",
    "    \n",
    "    # Set y-axis limits\n",
    "    rmse_val_range = max(rmses) - min(rmses)\n",
    "    dlbds_val_range = max(dlbds) - min(dlbds)\n",
    "    fss_val_range = max(fss_list) - min(dlbds)\n",
    "    \n",
    "    ax[1].set_ylim([min(rmses) - rmse_val_range * 0.1, max(rmses) + rmse_val_range * 0.1])\n",
    "    ax[2].set_ylim([min(dlbds) - dlbds_val_range * 0.1, max(dlbds) + dlbds_val_range * 0.1])\n",
    "    ax[3].set_ylim(-0.1, 1.1)\n",
    "    \n",
    "    ax[1].set_xlim([-2, len(target_pixel_frames) + 2])\n",
    "    ax[2].set_xlim([-2, len(target_pixel_frames) + 2])\n",
    "    ax[3].set_xlim([-2, len(target_pixel_frames) + 2])\n",
    "    \n",
    "    # Legends\n",
    "    ax[1].legend(loc='lower right')\n",
    "    ax[2].legend(loc='lower right')\n",
    "    ax[3].legend(loc='lower right')\n",
    "    \n",
    "    ax[1].set_xticklabels([])\n",
    "    ax[2].set_xticklabels([])\n",
    "    ax[3].set_xticklabels([])\n",
    "\n",
    "    # Only set xlabel for the bottom-most plots (or the last in your layout)\n",
    "    ax[1].set_xlabel('Offset')\n",
    "    ax[2].set_xlabel('Offset')\n",
    "    ax[3].set_xlabel('Offset')\n",
    "\n",
    "# Set up figure and subplots\n",
    "fig, ax = plt.subplots(1, 4, figsize=(20, 5))    \n",
    "\n",
    "fss_scales = [1, 3, 5, 7, 10, 15, 30]\n",
    "    \n",
    "target_pixel_frames, pred_pixel_frames, rmses, dlbds, fss_scale_dict = create_frames(len(offsets), fss_scales,)\n",
    "\n",
    "ani = FuncAnimation(fig, lambda frame_idx: update(frame_idx, target_pixel_frames, pred_pixel_frames, rmses, dlbds, fss_scale_dict, fss_scales ,offsets), frames=len(offsets), repeat=False)\n",
    "# ani.save('/Users/jan/Downloads/animation51.mp4', writer='ffmpeg', fps=5)\n",
    "# ani.save('/Users/jan/Downloads/animation54_no_scaling.gif', writer='ffmpeg', fps=5, dpi=150)\n",
    "ani.save('/home/jan/Downloads/animation_test19.gif', writer='ffmpeg', fps=5, dpi=150)\n"
   ],
   "metadata": {
    "collapsed": false,
    "ExecuteTime": {
     "end_time": "2024-07-03T14:37:25.667269Z",
     "start_time": "2024-07-03T14:36:48.976708Z"
    }
   },
   "id": "a31662c89c53e8a0",
   "execution_count": 74
  },
  {
   "cell_type": "code",
   "outputs": [
    {
     "data": {
      "text/plain": "{1: [1.0,\n  0.9,\n  0.8,\n  0.7,\n  0.6,\n  0.5,\n  0.4,\n  0.30000000000000004,\n  0.19999999999999996,\n  0.09999999999999998,\n  0.0,\n  0.0,\n  0.0,\n  0.0,\n  0.0,\n  0.0,\n  0.0,\n  0.0,\n  0.0,\n  0.0,\n  0.0,\n  0.0,\n  0.0,\n  0.0,\n  0.0,\n  0.0,\n  0.0,\n  0.0,\n  0.0,\n  0.0],\n 3: [1.0,\n  0.9634146341463413,\n  0.8780487804878048,\n  0.7682926829268292,\n  0.6585365853658536,\n  0.548780487804878,\n  0.4390243902439024,\n  0.3292682926829267,\n  0.21951219512195108,\n  0.12195121951219512,\n  0.04878048780487809,\n  0.012195121951219523,\n  0.0,\n  0.0,\n  0.0,\n  0.0,\n  0.0,\n  0.0,\n  0.0,\n  0.0,\n  0.0,\n  0.0,\n  0.0,\n  0.0,\n  0.0,\n  0.0,\n  0.0,\n  0.0,\n  0.0,\n  0.0],\n 5: [1.0,\n  0.9761904761904764,\n  0.9142857142857144,\n  0.8238095238095239,\n  0.7142857142857142,\n  0.5952380952380951,\n  0.47619047619047616,\n  0.36190476190476184,\n  0.25714285714285723,\n  0.16666666666666685,\n  0.09523809523809523,\n  0.04761904761904767,\n  0.01904761904761909,\n  0.004761904761904856,\n  0.0,\n  0.0,\n  0.0,\n  0.0,\n  0.0,\n  0.0,\n  0.0,\n  0.0,\n  0.0,\n  0.0,\n  0.0,\n  0.0,\n  0.0,\n  0.0,\n  0.0,\n  0.0],\n 7: [1.0,\n  0.9814814814814815,\n  0.9312169312169312,\n  0.8544973544973544,\n  0.7566137566137565,\n  0.6455026455026455,\n  0.529100529100529,\n  0.41534391534391524,\n  0.3121693121693121,\n  0.2222222222222222,\n  0.14814814814814792,\n  0.09259259259259245,\n  0.05291005291005291,\n  0.026455026455026398,\n  0.010582010582010581,\n  0.002645502645502562,\n  0.0,\n  0.0,\n  0.0,\n  0.0,\n  0.0,\n  0.0,\n  0.0,\n  0.0,\n  0.0,\n  0.0,\n  0.0,\n  0.0,\n  0.0,\n  0.0],\n 10: [1.0,\n  0.9850746268656717,\n  0.9447761194029851,\n  0.8835820895522389,\n  0.8059701492537312,\n  0.7164179104477613,\n  0.6194029850746268,\n  0.5194029850746269,\n  0.4208955223880596,\n  0.32835820895522394,\n  0.24626865671641784,\n  0.17910447761194026,\n  0.12537313432835817,\n  0.08358208955223878,\n  0.052238805970149294,\n  0.029850746268656803,\n  0.014925373134328401,\n  0.005970149253731183,\n  0.0014925373134327957,\n  0.0,\n  0.0,\n  0.0,\n  0.0,\n  0.0,\n  0.0,\n  0.0,\n  0.0,\n  0.0,\n  0.0,\n  0.0],\n 15: [1.0,\n  0.9914529914529914,\n  0.9675213675213672,\n  0.9299145299145297,\n  0.88034188034188,\n  0.8205128205128203,\n  0.7521367521367519,\n  0.6777777777777776,\n  0.5999999999999999,\n  0.5213675213675213,\n  0.4444444444444443,\n  0.3717948717948717,\n  0.3042735042735042,\n  0.24273504273504265,\n  0.18803418803418792,\n  0.14102564102564086,\n  0.10256410256410253,\n  0.07179487179487176,\n  0.047863247863247804,\n  0.029914529914529808,\n  0.017094017094017033,\n  0.008547008547008628,\n  0.0034188034188034067,\n  0.0008547008547008517,\n  0.0,\n  0.0,\n  0.0,\n  0.0,\n  0.0,\n  0.0],\n 30: [1.0,\n  1.0,\n  0.9962546816479401,\n  0.9962546816479401,\n  0.9857677902621722,\n  0.9857677902621722,\n  0.9692883895131085,\n  0.9692883895131085,\n  0.9475655430711609,\n  0.9475655430711609,\n  0.9213483146067415,\n  0.9213483146067415,\n  0.8913857677902621,\n  0.8913857677902621,\n  0.8584269662921347,\n  0.8584269662921347,\n  0.8232209737827714,\n  0.8232209737827714,\n  0.7865168539325841,\n  0.7865168539325841,\n  0.7490636704119848,\n  0.7490636704119848,\n  0.7116104868913855,\n  0.7116104868913855,\n  0.6741573033707863,\n  0.6741573033707863,\n  0.636704119850187,\n  0.636704119850187,\n  0.5992509363295879,\n  0.5992509363295879,\n  0.5617977528089887,\n  0.5617977528089887,\n  0.5243445692883895,\n  0.5243445692883895,\n  0.48689138576779023,\n  0.48689138576779023,\n  0.4494382022471909,\n  0.4494382022471909,\n  0.41198501872659166,\n  0.41198501872659166,\n  0.3745318352059924,\n  0.3745318352059924,\n  0.3370786516853932,\n  0.3370786516853932,\n  0.2999999999999998,\n  0.2999999999999998,\n  0.2636704119850186,\n  0.2636704119850186,\n  0.22846441947565532,\n  0.22846441947565532,\n  0.19475655430711614,\n  0.19475655430711614,\n  0.1629213483146068,\n  0.1629213483146068,\n  0.1333333333333333,\n  0.1333333333333333,\n  0.10636704119850182,\n  0.10636704119850182,\n  0.08239700374531822,\n  0.08239700374531822]}"
     },
     "execution_count": 72,
     "metadata": {},
     "output_type": "execute_result"
    }
   ],
   "source": [
    "fss_scale_dict\n"
   ],
   "metadata": {
    "collapsed": false,
    "ExecuteTime": {
     "end_time": "2024-07-03T13:55:05.123058Z",
     "start_time": "2024-07-03T13:55:05.115443Z"
    }
   },
   "id": "cf73d86ff42c1ad3",
   "execution_count": 72
  },
  {
   "cell_type": "code",
   "outputs": [
    {
     "name": "stderr",
     "output_type": "stream",
     "text": [
      "MovieWriter ffmpeg unavailable; using Pillow instead.\n"
     ]
    },
    {
     "data": {
      "text/plain": "<Figure size 1500x500 with 3 Axes>",
      "image/png": "[encoded data removed]"
     },
     "metadata": {},
     "output_type": "display_data"
    }
   ],
   "source": [
    "### CREATE ANIMATION COMPARING XENTROPY AND DLBD ###\n",
    "\n",
    "# # Create binning\n",
    "# linspace_binning = torch.linspace(0, 9.5, 16)\n",
    "# linspace_binning_max = 10\n",
    "# \n",
    "# # smoothing parameters\n",
    "# kernel_size = 100\n",
    "# sigma = 6\n",
    "# \n",
    "# # Create offsets\n",
    "# # offsets = np.linspace(0, 5.5, 30) # Corrected offsets creation\n",
    "# offsets = np.arange(0, 30, 1) # Corrected offsets creation\n",
    "\n",
    "offsets=np.arange(0, 30, 1)\n",
    "\n",
    "\n",
    "\n",
    "\n",
    "def create_frames(num_frames, sigma=6, kernel_size=100, offsets=np.arange(0, 30, 1), linspace_binning=torch.linspace(0, 9.5, 16), linspace_binning_max=10):\n",
    "    target_pixel_frames = []\n",
    "    pred_pixel_frames = []\n",
    "\n",
    "    \n",
    "    rmses = []\n",
    "    dlbds = []\n",
    "    \n",
    "    for frame in range(num_frames):\n",
    "\n",
    "        \n",
    "        offset = offsets[frame]\n",
    "        \n",
    "        # target_upper = create_2d_grid(mean=(-0, 0), stds=(0.5, 10), size=(200, 200))\n",
    "        # pred_lower = create_2d_grid(mean=(-offset, 0), stds=(0.5, 10), size=(200, 200))\n",
    "        target_upper = create_2d_band_binary(0, width=10, size=(200,200))\n",
    "        pred_lower = create_2d_band_binary(offset, width=10, size=(200,200))\n",
    "        \n",
    "        \n",
    "        # CenterCrop for actual representation\n",
    "        target_upper_pixel_wise = T.CenterCrop(size=100)(target_upper.unsqueeze(0))\n",
    "        pred_lower_pixel_wise = T.CenterCrop(size=100)(pred_lower.unsqueeze(0))\n",
    "        \n",
    "        target_pixel_frames.append(target_upper_pixel_wise)\n",
    "        pred_pixel_frames.append(pred_lower_pixel_wise)\n",
    "        \n",
    "        # One Hot Encoding\n",
    "        target_upper = img_one_hot(target_upper, num_c=len(linspace_binning), linspace_binning=linspace_binning)\n",
    "        \n",
    "        pred_lower = img_one_hot(pred_lower, num_c=len(linspace_binning), linspace_binning=linspace_binning)\n",
    "        \n",
    "        target_upper = einops.rearrange(target_upper, 'h w c -> 1 c h w')\n",
    "        pred_lower = einops.rearrange(pred_lower, 'h w c -> 1 c h w')\n",
    "        \n",
    "        target_upper_one_hot = target_upper\n",
    "        pred_lower = T.CenterCrop(size=100)(pred_lower)\n",
    "        target_upper_one_hot = T.CenterCrop(size=100)(target_upper_one_hot)\n",
    "        \n",
    "        target_upper_dlbd = gaussian_smoothing_target(target_upper, sigma=sigma, kernel_size=kernel_size, device='cpu', target_size=100)\n",
    "        \n",
    "        # Scale Xentropy meaningfully\n",
    "\n",
    "        scale_rmse = get_scaling_function(1.85, 2.1, 0, 1)\n",
    "        scale_dlbd = get_scaling_function(1.95, 2.09, 0, 1)\n",
    "        \n",
    "        # rmse = torch.sqrt(torch.nn.MSELoss()(pred_lower_pixel_wise, target_upper_pixel_wise))\n",
    "        rmse = torch.nn.CrossEntropyLoss()(pred_lower.float(), target_upper_one_hot.float())\n",
    "        dlbd = torch.nn.CrossEntropyLoss()(pred_lower.float(), target_upper_dlbd.float())\n",
    "        \n",
    "        \n",
    "        # rmse = scale_rmse(rmse)\n",
    "        # dlbd = scale_dlbd(dlbd)\n",
    "        \n",
    "        rmses.append(rmse)\n",
    "        dlbds.append(dlbd)\n",
    "        \n",
    "    return target_pixel_frames, pred_pixel_frames, rmses, dlbds\n",
    "\n",
    "    \n",
    "def update(frame_idx, target_pixel_frames, pred_pixel_frames, rmses, dlbds, offsets):\n",
    "    ax[0].clear()\n",
    "    ax[1].clear()\n",
    "    ax[2].clear()  # Clear the DLBD plot\n",
    "    \n",
    "    # Create a custom colormap\n",
    "    # 'black' with alpha 0 for transparent, and 'coral' with alpha 1 for opaque\n",
    "    colors_target = [(1, 1, 1, 0), 'coral']  # RGBA values\n",
    "    cmap_target = ListedColormap(colors_target)\n",
    "    \n",
    "    colors_pred = [(1, 1, 1, 0), 'skyblue']  # RGBA values\n",
    "    cmap_pred = ListedColormap(colors_pred)\n",
    "    \n",
    "    # Plot the target and prediction\n",
    "    ax[0].imshow(target_pixel_frames[frame_idx].squeeze(), extent=[0, 100, 0, 100], origin='lower', alpha=0.5, cmap=cmap_pred)\n",
    "    ax[0].imshow(pred_pixel_frames[frame_idx].squeeze(), extent=[0, 100, 0, 100], origin='lower', alpha=0.5, cmap=cmap_target)\n",
    "    \n",
    "    \n",
    "    # Adding labels with some distance to avoid overlap\n",
    "    # Note: Adjust `5` and `10` to change the label positions if necessary\n",
    "    # Load Apple Color Emoji font \n",
    "    \n",
    "    curr_offset = offsets[frame_idx]\n",
    "    ax[0].text(30, 48, 'Prediction', ha='right', va='bottom', fontsize=12, )\n",
    "    ax[0].text(40, 45, '⚙️', ha='right', va='bottom', fontsize=25, )\n",
    "    \n",
    "    \n",
    "    ax[0].text(70, 48 + curr_offset, 'Target', ha='right', va='bottom', fontsize=12)\n",
    "    ax[0].text(80, 45 + curr_offset, '☔️', ha='right', va='bottom', fontsize=25)\n",
    "\n",
    "    ax[0].set_xticks([])\n",
    "    ax[0].set_yticks([])\n",
    "\n",
    "    # Plot the RMSE and DLBD\n",
    "    \n",
    "   # Plot Cross Entropy\n",
    "    rmse_color = 'mediumvioletred'\n",
    "    ax[1].plot(rmses[:frame_idx + 1], label='Cross Entropy (pixel-wise)', color=rmse_color)\n",
    "    ax[1].set_ylabel('Cross Entropy', color=rmse_color)\n",
    "    ax[1].tick_params(axis='y', labelcolor=rmse_color)\n",
    "    \n",
    "    # Plot DLBD on a separate subplot\n",
    "    dlbd_color = 'forestgreen'\n",
    "    ax[2].plot(dlbds[:frame_idx + 1], label='DLBD (ours)', color=dlbd_color)\n",
    "    ax[2].set_ylabel('DLBD', color=dlbd_color)\n",
    "    ax[2].tick_params(axis='y', labelcolor=dlbd_color)\n",
    "    \n",
    "    # Set y-axis limits\n",
    "    rmse_val_range = max(rmses) - min(rmses)\n",
    "    dlbds_val_range = max(dlbds) - min(dlbds)\n",
    "    ax[1].set_ylim([min(rmses) - rmse_val_range * 0.1, max(rmses) + rmse_val_range * 0.1])\n",
    "    ax[2].set_ylim([min(dlbds) - dlbds_val_range * 0.1, max(dlbds) + dlbds_val_range * 0.1])\n",
    "    \n",
    "    ax[1].set_xlim([-2, len(target_pixel_frames) + 2])\n",
    "    ax[2].set_xlim([-2, len(target_pixel_frames) + 2])\n",
    "    \n",
    "    # Legends\n",
    "    ax[1].legend(loc='lower right')\n",
    "    ax[2].legend(loc='lower right')\n",
    "    \n",
    "    ax[1].set_xticklabels([])\n",
    "    ax[2].set_xticklabels([])\n",
    "\n",
    "    # Only set xlabel for the bottom-most plots (or the last in your layout)\n",
    "    ax[1].set_xlabel('Offset')\n",
    "    ax[2].set_xlabel('Offset')\n",
    "\n",
    "\n",
    "# Set up figure and subplots\n",
    "fig, ax = plt.subplots(1, 3, figsize=(15, 5))     \n",
    "    \n",
    "target_pixel_frames, pred_pixel_frames, rmses, dlbds = create_frames(len(offsets))\n",
    "\n",
    "ani = FuncAnimation(fig, lambda frame_idx: update(frame_idx, target_pixel_frames, pred_pixel_frames, rmses, dlbds, offsets), frames=len(offsets), repeat=False)\n",
    "# ani.save('/Users/jan/Downloads/animation51.mp4', writer='ffmpeg', fps=5)\n",
    "# ani.save('/Users/jan/Downloads/animation54_no_scaling.gif', writer='ffmpeg', fps=5, dpi=150)\n",
    "ani.save('/home/jan/Downloads/animation54_no_scaling.gif', writer='ffmpeg', fps=5, dpi=150)\n"
   ],
   "metadata": {
    "collapsed": false,
    "ExecuteTime": {
     "end_time": "2024-07-03T10:01:28.338545Z",
     "start_time": "2024-07-03T10:00:53.280322Z"
    }
   },
   "id": "372d4b5850e48f47",
   "execution_count": 32
  },
  {
   "cell_type": "code",
   "outputs": [],
   "source": [
    "\n",
    "# sigmas = np.logspace(-1, np.log10(20), 10)\n",
    "sigmas = np.linspace(0.1, 20, 150)\n",
    "\n",
    "sigmas = sigmas[::-1]\n",
    "\n",
    "dlbds_list = []\n",
    "\n",
    "for sigma in sigmas:\n",
    "    target_pixel_frames, pred_pixel_frames, rmses, dlbds = create_frames(num_frames=30, sigma=sigma)\n",
    "    dlbds_list.append(dlbds)\n",
    "\n",
    "\n",
    "def gaussian(sigma, max_sigma):\n",
    "    x = np.linspace(-3*max_sigma, 3*max_sigma, 1000)\n",
    "    y = norm.pdf(x, 0, sigma)\n",
    "    return x, y\n",
    "    \n",
    "\n",
    "def update(frame_idx, dlbds_list, sigmas):\n",
    "    ax[0].clear()\n",
    "    ax[1].clear()\n",
    "    \n",
    "    # Update data for the current frame\n",
    "    dlbds = dlbds_list[frame_idx]\n",
    "    sigma = sigmas[frame_idx]\n",
    "\n",
    "    x, y = gaussian(sigma, max(sigmas))\n",
    "    # Estimate y_max from highest gaussian (lowest sigma)\n",
    "    _, y_max_dist = gaussian(min(sigmas), max(sigmas))\n",
    "    y_max = max(y_max_dist)\n",
    "\n",
    "\n",
    "    # Plot Gaussian distribution\n",
    "    ax[0].plot(x, y)\n",
    "    ax[0].set_xlim(-3*max(sigmas), 3*max(sigmas))\n",
    "    # ax[0].set_ylim(-0.01 * y_max, 1.01 * y_max)\n",
    "    \n",
    "    ax[0].set_title(f'Gaussian Kernel σ={sigma:.2f}')\n",
    "    \n",
    "    # Remove x-axis labels and ticks from the first subplot\n",
    "    ax[0].xaxis.set_ticks([])\n",
    "    ax[0].xaxis.set_ticklabels([])\n",
    "    \n",
    "    # Remove y-axis labels and ticks from the first subplot\n",
    "    ax[0].yaxis.set_ticks([])\n",
    "    ax[0].yaxis.set_ticklabels([])\n",
    "    \n",
    "    # Plot DLBD on a separate subplot\n",
    "    dlbd_color = 'forestgreen'\n",
    "    ax[1].plot(dlbds, label='DLBD (ours)', color=dlbd_color)\n",
    "    # ax[1].set_ylim(-0.1, 1.1)\n",
    "    \n",
    "    ax[1].set_ylabel('DLBD', color=dlbd_color)\n",
    "    ax[1].tick_params(axis='y', labelcolor=dlbd_color)\n",
    "    \n",
    "    ax[1].set_xticklabels([])\n",
    "    ax[1].set_xlabel('Offset')\n",
    "    ax[1].legend(loc='lower right')\n",
    "    \n",
    "    # Remove y-axis labels and ticks from the second subplot\n",
    "    ax[1].yaxis.set_ticks([])\n",
    "    ax[1].yaxis.set_ticklabels([])\n",
    "\n",
    "    fig.tight_layout()\n",
    "    \n",
    "    \n",
    "# Set up the plotting framework\n",
    "fig, ax = plt.subplots(1, 2, figsize=(12, 6))    \n",
    "    \n",
    "ani = FuncAnimation(fig, lambda frame_idx: update(frame_idx, dlbds_list, sigmas), frames=len(sigmas), repeat=False)\n",
    "ani.save('/Users/jan/Downloads/animation_sigma_21_lin_final.mp4', writer='ffmpeg', fps=30)\n",
    "\n",
    "\n",
    "\n",
    "    "
   ],
   "metadata": {
    "collapsed": false
   },
   "id": "e41b84cf6f22a3e2",
   "execution_count": null
  },
  {
   "cell_type": "code",
   "outputs": [
    {
     "name": "stdout",
     "output_type": "stream",
     "text": [
      "[ 0.1  1.  10. ]\n"
     ]
    }
   ],
   "source": [
    "sigmas = np.logspace(-1, 1, 3)\n",
    "print(sigmas)"
   ],
   "metadata": {
    "collapsed": false,
    "ExecuteTime": {
     "end_time": "2024-04-30T12:50:40.955743Z",
     "start_time": "2024-04-30T12:50:40.950530Z"
    }
   },
   "id": "d70a48d466a263cc",
   "execution_count": 12
  },
  {
   "cell_type": "code",
   "outputs": [
    {
     "ename": "NameError",
     "evalue": "name 'gaussian' is not defined",
     "output_type": "error",
     "traceback": [
      "\u001B[0;31m---------------------------------------------------------------------------\u001B[0m",
      "\u001B[0;31mNameError\u001B[0m                                 Traceback (most recent call last)",
      "Cell \u001B[0;32mIn[13], line 1\u001B[0m\n\u001B[0;32m----> 1\u001B[0m _, y_max \u001B[38;5;241m=\u001B[39m \u001B[43mgaussian\u001B[49m(\u001B[38;5;28mmin\u001B[39m(sigmas), \u001B[38;5;28mmax\u001B[39m(sigmas))\n\u001B[1;32m      2\u001B[0m y_max_y \u001B[38;5;241m=\u001B[39m \u001B[38;5;28mmax\u001B[39m(y_max)\n\u001B[1;32m      3\u001B[0m \u001B[38;5;28mprint\u001B[39m(y_max_y)\n",
      "\u001B[0;31mNameError\u001B[0m: name 'gaussian' is not defined"
     ]
    }
   ],
   "source": [
    "_, y_max = gaussian(min(sigmas), max(sigmas))\n",
    "y_max_y = max(y_max)\n",
    "print(y_max_y)"
   ],
   "metadata": {
    "collapsed": false,
    "ExecuteTime": {
     "end_time": "2024-04-30T12:50:41.403122Z",
     "start_time": "2024-04-30T12:50:41.382636Z"
    }
   },
   "id": "75b7b71cf0e487eb",
   "execution_count": 13
  },
  {
   "cell_type": "code",
   "outputs": [
    {
     "data": {
      "text/plain": "array([0.00073864, 0.0008843 , 0.0010548 , 0.00125355, 0.0014843 ,\n       0.00175108, 0.00205824, 0.0024104 , 0.00281247, 0.00326958,\n       0.00378704, 0.00437031, 0.00502494, 0.00575643, 0.00657023,\n       0.00747158, 0.00846544, 0.00955633, 0.01074825, 0.01204451,\n       0.01344762, 0.01495913, 0.01657952, 0.01830807, 0.02014271,\n       0.02207995, 0.02411476, 0.02624053, 0.02844901, 0.03073027,\n       0.03307277, 0.03546332, 0.03788725, 0.04032845, 0.04276957,\n       0.04519214, 0.04757686, 0.04990378, 0.05215259, 0.05430292,\n       0.0563346 , 0.05822802, 0.05996443, 0.0615262 , 0.0628972 ,\n       0.06406301, 0.0650112 , 0.06573154, 0.06621619, 0.06645986,\n       0.06645986, 0.06621619, 0.06573154, 0.0650112 , 0.06406301,\n       0.0628972 , 0.0615262 , 0.05996443, 0.05822802, 0.0563346 ,\n       0.05430292, 0.05215259, 0.04990378, 0.04757686, 0.04519214,\n       0.04276957, 0.04032845, 0.03788725, 0.03546332, 0.03307277,\n       0.03073027, 0.02844901, 0.02624053, 0.02411476, 0.02207995,\n       0.02014271, 0.01830807, 0.01657952, 0.01495913, 0.01344762,\n       0.01204451, 0.01074825, 0.00955633, 0.00846544, 0.00747158,\n       0.00657023, 0.00575643, 0.00502494, 0.00437031, 0.00378704,\n       0.00326958, 0.00281247, 0.0024104 , 0.00205824, 0.00175108,\n       0.0014843 , 0.00125355, 0.0010548 , 0.0008843 , 0.00073864])"
     },
     "execution_count": 650,
     "metadata": {},
     "output_type": "execute_result"
    }
   ],
   "source": [
    "x, y = gaussian(min(sigmas), max(sigmas))\n",
    "y"
   ],
   "metadata": {
    "collapsed": false,
    "ExecuteTime": {
     "end_time": "2024-04-12T22:55:22.827978Z",
     "start_time": "2024-04-12T22:55:22.783576Z"
    }
   },
   "id": "3a56f8bcc6ca21d5",
   "execution_count": 650
  },
  {
   "cell_type": "code",
   "outputs": [],
   "source": [
    "import matplotlib.pyplot as plt\n",
    "import numpy as np\n",
    "\n",
    "# Since the direct loading of TTC files might be problematic, we switch strategies:\n",
    "# Explicitly use a specific font without using FontProperties if problems persist\n",
    "\n",
    "# Set up plot\n",
    "freqs = [301, 96, 53, 81, 42]\n",
    "labels = ['☔️', '☔︎', '🛰️', '🔮', '⚙️']\n",
    "plt.figure(figsize=(12,8))\n",
    "p1 = plt.bar(np.arange(len(labels)), freqs, 0.8, color=\"lightblue\")\n",
    "plt.ylim(0, plt.ylim()[1]+30)\n",
    "\n",
    "# Make labels, possibly without FontProperties if it still fails\n",
    "for rect1, label in zip(p1, labels):\n",
    "    height = rect1.get_height()\n",
    "    plt.annotate(\n",
    "        label,\n",
    "        (rect1.get_x() + rect1.get_width()/2, height+5),\n",
    "        ha=\"center\",\n",
    "        va=\"bottom\",\n",
    "        fontsize=12  # Specify fontsize directly, no FontProperties\n",
    "    )\n",
    "\n",
    "plt.show()\n"
   ],
   "metadata": {
    "collapsed": false,
    "ExecuteTime": {
     "end_time": "2024-04-12T21:31:26.930946Z",
     "start_time": "2024-04-12T21:31:26.930834Z"
    }
   },
   "id": "a8b1b7cf30ba9981",
   "execution_count": null
  },
  {
   "cell_type": "code",
   "outputs": [],
   "source": [
    "🕹️"
   ],
   "metadata": {
    "collapsed": false
   },
   "id": "d3da60826019c81"
  },
  {
   "cell_type": "code",
   "outputs": [],
   "source": [],
   "metadata": {
    "collapsed": false
   },
   "id": "2a66fead578789ba"
  },
  {
   "cell_type": "code",
   "outputs": [],
   "source": [],
   "metadata": {
    "collapsed": false
   },
   "id": "cf8565fc2d9054db"
  },
  {
   "cell_type": "code",
   "outputs": [],
   "source": [],
   "metadata": {
    "collapsed": false
   },
   "id": "faf0da56e18d1b87"
  }
 ],
 "metadata": {
  "kernelspec": {
   "display_name": "Python 3",
   "language": "python",
   "name": "python3"
  },
  "language_info": {
   "codemirror_mode": {
    "name": "ipython",
    "version": 2
   },
   "file_extension": ".py",
   "mimetype": "text/x-python",
   "name": "python",
   "nbconvert_exporter": "python",
   "pygments_lexer": "ipython2",
   "version": "2.7.6"
  }
 },
 "nbformat": 4,
 "nbformat_minor": 5
}

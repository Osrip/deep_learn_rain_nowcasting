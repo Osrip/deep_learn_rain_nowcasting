{
 "cells": [
  {
   "cell_type": "markdown",
   "source": [
    "Todo:\n",
    "\n",
    "Neue Implementation datasamplibg in xarray\n",
    "\n",
    "- [ ] einfach über gesamtes Bild die targets erstellen mit coarsen\n",
    "- [ ] dann nans auf 0 setzen\n",
    "- [ ] durch meinen Filter jagen\n",
    "- [ ] --> diejenigen mit vielen nans werden eh rausgefiltert\n",
    "- [ ] dann wenn das input erstellt wird aus dem target funktion benutzen die einfach nan padded, alles was über die spatial bounds von unserem Datensatz geht (wird wh kaum passieren da unser datensatz ja quasi eh ge nan padded ist)\n",
    "\n",
    "- [ ] Alternativ kann durch strengeres Filterkriterium auch einfach jedes Target mit irgendeinem Pixel als NaN rausgefiltert werden\n",
    "\n",
    "old:\n",
    "- Still have to do the nan cropping in xarray: crop in picture such that it is no nan padded\n",
    "- Put all data into RAM (first build calulation tree, with .compute it will be loaded into RAM)\n",
    "- Decide on whether to load the 128 x 128 chunks (because going from 32 x 32 we would indeed have more data but it would be highly correlated so it is questionable whether it boosts performance, but will delay training in prototyping)\n",
    "- Also decide on whther to use every time step as target or directly chunk time into patches with .coarsen()"
   ],
   "metadata": {
    "collapsed": false
   },
   "id": "da511d8a08abfd70"
  },
  {
   "cell_type": "code",
   "outputs": [],
   "source": [
    "import numpy as np\n",
    "import os\n",
    "import xarray as xr\n",
    "import matplotlib.pyplot as plt\n",
    "import zarr"
   ],
   "metadata": {
    "collapsed": false,
    "ExecuteTime": {
     "end_time": "2024-08-26T10:40:53.025759Z",
     "start_time": "2024-08-26T10:40:53.022364Z"
    }
   },
   "id": "576501505b12811b",
   "execution_count": 16
  },
  {
   "cell_type": "code",
   "outputs": [],
   "source": [
    "folder_path =  '/Users/jan/Programming/first_CNN_on_Radolan/dwd_nc/own_test_data' #'/home/jan/Programming/remote/first_CNN_on_radolan_remote/dwd_nc/own_test_data'\n",
    "data = 'testdata_two_days_2019_01_01-02.zarr'\n",
    "load_path = os.path.join(folder_path, data)"
   ],
   "metadata": {
    "collapsed": false,
    "ExecuteTime": {
     "end_time": "2024-08-26T10:40:53.121105Z",
     "start_time": "2024-08-26T10:40:53.118564Z"
    }
   },
   "id": "4ab150c229ac7481",
   "execution_count": 17
  },
  {
   "cell_type": "code",
   "outputs": [],
   "source": [
    "# Convert this bullshit to Xarray!!!!\n",
    "def truncate_nan_padding(data_array):\n",
    "    valid_mask = ~np.isnan(data_array)\n",
    "    valid_heights = valid_mask.any(dim='width')\n",
    "    valid_widths = valid_mask.any(dim='height')\n",
    "    \n",
    "    min_height_idx = valid_heights.any(dim='time').argmax().item()\n",
    "    max_height_idx = valid_heights.any(dim='time').size - valid_heights.any(dim='time')[::-1].argmax().item() - 1\n",
    "    min_width_idx = valid_widths.any(dim='time').argmax().item()\n",
    "    max_width_idx = valid_widths.any(dim='time').size - valid_widths.any(dim='time')[::-1].argmax().item() - 1\n",
    "    \n",
    "    truncated_data_array = data_array[:, min_height_idx:max_height_idx+1, min_width_idx:max_width_idx+1]\n",
    "\n",
    "    return truncated_data_array\n",
    "\n",
    "#(not yet tested), see https://chatgpt.com/share/402e7603-5bfd-4847-b6fc-48639cfdcb00"
   ],
   "metadata": {
    "collapsed": false,
    "ExecuteTime": {
     "end_time": "2024-08-26T10:40:53.269352Z",
     "start_time": "2024-08-26T10:40:53.264126Z"
    }
   },
   "id": "250d760680da99b7",
   "execution_count": 18
  },
  {
   "cell_type": "code",
   "outputs": [
    {
     "name": "stdout",
     "output_type": "stream",
     "text": [
      "/Users/jan/Programming/first_CNN_on_Radolan/dwd_nc/own_test_data/testdata_two_days_2019_01_01-02.zarr\n"
     ]
    }
   ],
   "source": [
    "print(load_path)"
   ],
   "metadata": {
    "collapsed": false,
    "ExecuteTime": {
     "end_time": "2024-08-26T10:40:53.642235Z",
     "start_time": "2024-08-26T10:40:53.638044Z"
    }
   },
   "id": "5ae1d066072e42be",
   "execution_count": 19
  },
  {
   "cell_type": "code",
   "outputs": [],
   "source": [
    "data = xr.open_dataset(load_path, engine='zarr') # , chunks=None # , chunks=None according to Sebastian more efficient as it avoids dask (default is chunks=1)\n",
    "# Simply reinstalled environment with numpy pandas xarray zarr jupyter\n",
    "# Now not the same error as in first_CNN_on_Radolan env for some reason\n",
    "data = data.squeeze()\n",
    "# Set all NaNs to zero (this includes the NaN padding that the data naturally has)\n",
    "data_no_nan = data.fillna(0)"
   ],
   "metadata": {
    "collapsed": false,
    "ExecuteTime": {
     "end_time": "2024-08-26T10:40:57.457571Z",
     "start_time": "2024-08-26T10:40:54.046958Z"
    }
   },
   "id": "ffd76fd262be4717",
   "execution_count": 20
  },
  {
   "cell_type": "code",
   "outputs": [
    {
     "name": "stdout",
     "output_type": "stream",
     "text": [
      "FrozenMappingWarningOnValuesAccess({'time': 576, 'y': 1200, 'x': 1100})\n"
     ]
    }
   ],
   "source": [
    "print(data.dims)"
   ],
   "metadata": {
    "collapsed": false,
    "ExecuteTime": {
     "end_time": "2024-08-26T10:40:59.440073Z",
     "start_time": "2024-08-26T10:40:59.436202Z"
    }
   },
   "id": "b8ae65b601e44f64",
   "execution_count": 21
  },
  {
   "cell_type": "code",
   "outputs": [],
   "source": [
    "num_input_frames = 4\n",
    "lead_time = 4\n",
    "pt = num_input_frames + lead_time + 1 # how many time steps to include in a sample (i.e. context and target)\n",
    "py, px = 32, 32 #73, 137 # how many pixels in y and x direction\n",
    "threshold = 0.1 # threshold for each pixel filter condition\n",
    "threshold_percentage_pixels = 0.5\n",
    "# define slices for the center pixels of the blocks to apply the filter to\n",
    "length_width_center_even = 32"
   ],
   "metadata": {
    "collapsed": false,
    "ExecuteTime": {
     "end_time": "2024-08-26T10:41:01.885126Z",
     "start_time": "2024-08-26T10:41:01.880461Z"
    }
   },
   "id": "1a3a8903964bbb8f",
   "execution_count": 22
  },
  {
   "cell_type": "code",
   "outputs": [],
   "source": [
    "data_shortened = data_no_nan.isel(\n",
    "    time=slice(pt, -1)\n",
    ")"
   ],
   "metadata": {
    "collapsed": false,
    "ExecuteTime": {
     "end_time": "2024-08-26T10:41:02.600921Z",
     "start_time": "2024-08-26T10:41:02.597451Z"
    }
   },
   "id": "ae89e1990767a1e7",
   "execution_count": 23
  },
  {
   "cell_type": "code",
   "outputs": [
    {
     "name": "stdout",
     "output_type": "stream",
     "text": [
      "FrozenMappingWarningOnValuesAccess({'time': 566, 'y': 1200, 'x': 1100})\n"
     ]
    }
   ],
   "source": [
    "print(data_shortened.dims)"
   ],
   "metadata": {
    "collapsed": false,
    "ExecuteTime": {
     "end_time": "2024-08-26T10:41:03.051720Z",
     "start_time": "2024-08-26T10:41:03.048722Z"
    }
   },
   "id": "dab7756463f991b9",
   "execution_count": 24
  },
  {
   "cell_type": "code",
   "outputs": [
    {
     "ename": "ValueError",
     "evalue": "Dimensions ('time_inner',) not found in data dimensions ('y_outer', 'y_inner', 'x_outer', 'x_inner', 'time')",
     "output_type": "error",
     "traceback": [
      "\u001B[0;31m---------------------------------------------------------------------------\u001B[0m",
      "\u001B[0;31mValueError\u001B[0m                                Traceback (most recent call last)",
      "\u001B[0;32m/var/folders/5c/x5dxs5nx73s3_0cfznwz3kbw0000gn/T/ipykernel_5475/2885793694.py\u001B[0m in \u001B[0;36m?\u001B[0;34m()\u001B[0m\n\u001B[0;32m---> 25\u001B[0;31m \u001B[0;31m# Crop the beginning of the data, such that we can always generate inputs from the target indecies\u001B[0m\u001B[0;34m\u001B[0m\u001B[0;34m\u001B[0m\u001B[0m\n\u001B[0m\u001B[1;32m     26\u001B[0m \u001B[0;34m\u001B[0m\u001B[0m\n\u001B[1;32m     27\u001B[0m \u001B[0mcenter_x\u001B[0m \u001B[0;34m=\u001B[0m \u001B[0mslice\u001B[0m\u001B[0;34m(\u001B[0m\u001B[0mpx\u001B[0m \u001B[0;34m//\u001B[0m \u001B[0;36m2\u001B[0m \u001B[0;34m-\u001B[0m \u001B[0mlength_width_center_even\u001B[0m \u001B[0;34m//\u001B[0m \u001B[0;36m2\u001B[0m\u001B[0;34m,\u001B[0m \u001B[0mpx\u001B[0m \u001B[0;34m//\u001B[0m \u001B[0;36m2\u001B[0m \u001B[0;34m+\u001B[0m \u001B[0mlength_width_center_even\u001B[0m \u001B[0;34m//\u001B[0m \u001B[0;36m2\u001B[0m\u001B[0;34m)\u001B[0m \u001B[0;31m# starting from center pixel we crop in range length_width_target_even\u001B[0m\u001B[0;34m\u001B[0m\u001B[0;34m\u001B[0m\u001B[0m\n\u001B[1;32m     28\u001B[0m \u001B[0mcenter_y\u001B[0m \u001B[0;34m=\u001B[0m \u001B[0mslice\u001B[0m\u001B[0;34m(\u001B[0m\u001B[0mpy\u001B[0m \u001B[0;34m//\u001B[0m \u001B[0;36m2\u001B[0m \u001B[0;34m-\u001B[0m \u001B[0mlength_width_center_even\u001B[0m \u001B[0;34m//\u001B[0m \u001B[0;36m2\u001B[0m\u001B[0;34m,\u001B[0m \u001B[0mpy\u001B[0m \u001B[0;34m//\u001B[0m \u001B[0;36m2\u001B[0m \u001B[0;34m+\u001B[0m \u001B[0mlength_width_center_even\u001B[0m \u001B[0;34m//\u001B[0m \u001B[0;36m2\u001B[0m\u001B[0;34m)\u001B[0m \u001B[0;31m# starting from center pixel we crop in range length_width_target_even\u001B[0m\u001B[0;34m\u001B[0m\u001B[0;34m\u001B[0m\u001B[0m\n",
      "\u001B[0;32m~/miniforge3/envs/test_xarray_3_9/lib/python3.9/site-packages/xarray/core/_aggregations.py\u001B[0m in \u001B[0;36m?\u001B[0;34m(self, dim, skipna, keep_attrs, **kwargs)\u001B[0m\n\u001B[1;32m    505\u001B[0m         \u001B[0mDimensions\u001B[0m\u001B[0;34m:\u001B[0m  \u001B[0;34m(\u001B[0m\u001B[0;34m)\u001B[0m\u001B[0;34m\u001B[0m\u001B[0;34m\u001B[0m\u001B[0m\n\u001B[1;32m    506\u001B[0m         \u001B[0mData\u001B[0m \u001B[0mvariables\u001B[0m\u001B[0;34m:\u001B[0m\u001B[0;34m\u001B[0m\u001B[0;34m\u001B[0m\u001B[0m\n\u001B[1;32m    507\u001B[0m             \u001B[0mda\u001B[0m       \u001B[0mfloat64\u001B[0m \u001B[0;36m8\u001B[0m\u001B[0mB\u001B[0m \u001B[0mnan\u001B[0m\u001B[0;34m\u001B[0m\u001B[0;34m\u001B[0m\u001B[0m\n\u001B[1;32m    508\u001B[0m         \"\"\"\n\u001B[0;32m--> 509\u001B[0;31m         return self.reduce(\n\u001B[0m\u001B[1;32m    510\u001B[0m             \u001B[0mduck_array_ops\u001B[0m\u001B[0;34m.\u001B[0m\u001B[0mmean\u001B[0m\u001B[0;34m,\u001B[0m\u001B[0;34m\u001B[0m\u001B[0;34m\u001B[0m\u001B[0m\n\u001B[1;32m    511\u001B[0m             \u001B[0mdim\u001B[0m\u001B[0;34m=\u001B[0m\u001B[0mdim\u001B[0m\u001B[0;34m,\u001B[0m\u001B[0;34m\u001B[0m\u001B[0;34m\u001B[0m\u001B[0m\n\u001B[1;32m    512\u001B[0m             \u001B[0mskipna\u001B[0m\u001B[0;34m=\u001B[0m\u001B[0mskipna\u001B[0m\u001B[0;34m,\u001B[0m\u001B[0;34m\u001B[0m\u001B[0;34m\u001B[0m\u001B[0m\n",
      "\u001B[0;32m~/miniforge3/envs/test_xarray_3_9/lib/python3.9/site-packages/xarray/core/dataset.py\u001B[0m in \u001B[0;36m?\u001B[0;34m(self, func, dim, keep_attrs, keepdims, numeric_only, **kwargs)\u001B[0m\n\u001B[1;32m   6961\u001B[0m             \u001B[0mdims\u001B[0m \u001B[0;34m=\u001B[0m \u001B[0mset\u001B[0m\u001B[0;34m(\u001B[0m\u001B[0mdim\u001B[0m\u001B[0;34m)\u001B[0m\u001B[0;34m\u001B[0m\u001B[0;34m\u001B[0m\u001B[0m\n\u001B[1;32m   6962\u001B[0m \u001B[0;34m\u001B[0m\u001B[0m\n\u001B[1;32m   6963\u001B[0m         \u001B[0mmissing_dimensions\u001B[0m \u001B[0;34m=\u001B[0m \u001B[0mtuple\u001B[0m\u001B[0;34m(\u001B[0m\u001B[0md\u001B[0m \u001B[0;32mfor\u001B[0m \u001B[0md\u001B[0m \u001B[0;32min\u001B[0m \u001B[0mdims\u001B[0m \u001B[0;32mif\u001B[0m \u001B[0md\u001B[0m \u001B[0;32mnot\u001B[0m \u001B[0;32min\u001B[0m \u001B[0mself\u001B[0m\u001B[0;34m.\u001B[0m\u001B[0mdims\u001B[0m\u001B[0;34m)\u001B[0m\u001B[0;34m\u001B[0m\u001B[0;34m\u001B[0m\u001B[0m\n\u001B[1;32m   6964\u001B[0m         \u001B[0;32mif\u001B[0m \u001B[0mmissing_dimensions\u001B[0m\u001B[0;34m:\u001B[0m\u001B[0;34m\u001B[0m\u001B[0;34m\u001B[0m\u001B[0m\n\u001B[0;32m-> 6965\u001B[0;31m             raise ValueError(\n\u001B[0m\u001B[1;32m   6966\u001B[0m                 \u001B[0;34mf\"Dimensions {missing_dimensions} not found in data dimensions {tuple(self.dims)}\"\u001B[0m\u001B[0;34m\u001B[0m\u001B[0;34m\u001B[0m\u001B[0m\n\u001B[1;32m   6967\u001B[0m             )\n\u001B[1;32m   6968\u001B[0m \u001B[0;34m\u001B[0m\u001B[0m\n",
      "\u001B[0;31mValueError\u001B[0m: Dimensions ('time_inner',) not found in data dimensions ('y_outer', 'y_inner', 'x_outer', 'x_inner', 'time')"
     ]
    }
   ],
   "source": [
    "# Crop the beginning of the data, such that we can always generate inputs from the target indecies\n",
    "\n",
    "center_x = slice(px // 2 - length_width_center_even // 2, px // 2 + length_width_center_even // 2) # starting from center pixel we crop in range length_width_target_even\n",
    "center_y = slice(py // 2 - length_width_center_even // 2, py // 2 + length_width_center_even // 2) # starting from center pixel we crop in range length_width_target_even\n",
    "# partition the data into pt x py x px blocks using coarsen --> construct DatasetCoarsen object\n",
    "# We are only choosing the targets here\n",
    "coarse = data_shortened.coarsen(\n",
    "    y = py,\n",
    "    x = px,\n",
    "    # time = 1, # TODO: This way we are making patches with 4 subsequent time frames. This way we are only taking a target every 'pt'th time step\n",
    "    side = \"left\", # \"left\" means that the blocks are aligned to the left of the input\n",
    "    boundary=\"trim\") # boundary=\"trim\" removes the last block if it is too small\n",
    "# construct a new data set, where the blocks are folded into a new dimension\n",
    "folded = coarse.construct(\n",
    "    # time = (\"time_outer\", \"time_inner\"),\n",
    "    y = (\"y_outer\", \"y_inner\"),\n",
    "    x = (\"x_outer\", \"x_inner\"))\n",
    "# get the value of the center pixels of each block and take their mean\n",
    "center = folded.isel(\n",
    "    y_inner = center_y,\n",
    "    x_inner = center_x)\n",
    "# define a threshold for each pixel --> we get a pixel-wise boo\n",
    "center_boolean_pixelwise = center > threshold\n",
    "# We are calculating the percentage of pixels that passed filter (mean of boolean gives percentage of True)\n",
    "center_percentage_boo = center_boolean_pixelwise.mean((\"y_inner\", \"x_inner\", \"time_inner\"))\n",
    "\n",
    "valid_center = center_percentage_boo > threshold_percentage_pixels\n"
   ],
   "metadata": {
    "collapsed": false,
    "ExecuteTime": {
     "end_time": "2024-08-26T10:41:04.706414Z",
     "start_time": "2024-08-26T10:41:03.519892Z"
    }
   },
   "id": "9d9556f6cda23401",
   "execution_count": 25
  },
  {
   "cell_type": "code",
   "outputs": [],
   "source": [
    "center_percentage_boo.RV_recalc.values[center_percentage_boo.RV_recalc.values > 0.5]"
   ],
   "metadata": {
    "collapsed": false
   },
   "id": "e3a40c922642ec",
   "execution_count": null
  },
  {
   "cell_type": "code",
   "outputs": [],
   "source": [
    "coarse"
   ],
   "metadata": {
    "collapsed": false
   },
   "id": "dc9b0d73f20665c0",
   "execution_count": null
  },
  {
   "cell_type": "code",
   "outputs": [],
   "source": [
    "folded"
   ],
   "metadata": {
    "collapsed": false
   },
   "id": "f3a1148127d2d1a3",
   "execution_count": null
  },
  {
   "cell_type": "code",
   "outputs": [],
   "source": [
    "valid_center.RV_recalc.values"
   ],
   "metadata": {
    "collapsed": false
   },
   "id": "958473dbdb24c2b4",
   "execution_count": null
  },
  {
   "cell_type": "code",
   "outputs": [],
   "source": [
    "# get the outer coordinates for all valid blocks (valid_time, valid_x, valid_y)\n",
    "# (valid center is boolean, np.nonzero returns the indecies of the pixels that are non-zero, thus True)\n",
    "valid_coords = np.array(np.nonzero(valid_center.RV_recalc.values)).T\n",
    "# For data loading purposes, we can use the valid_coords to get the corresponding blocks\n",
    "# For example, to get a random block from the valid blocks, we can do the following:\n",
    "# get a random element from the valid coordinates\n",
    "sample_coord = valid_coords[np.random.randint(0, valid_coords.shape[0])]\n",
    "# get the block at the sample coordinate. We are operating on the outer coordinates of the coarsed dataset\n",
    "sample_block = folded.isel(\n",
    "    # time_outer = sample_coord[0],\n",
    "    time = sample_coord[0],\n",
    "\n",
    "    y_outer = sample_coord[1],\n",
    "    x_outer = sample_coord[2])\n",
    "# Sqeeze time dimension, which has len 1\n",
    "# sample_block = sample_block.squeeze()"
   ],
   "metadata": {
    "collapsed": false
   },
   "id": "9633dafc08d20d25",
   "execution_count": null
  },
  {
   "cell_type": "code",
   "outputs": [
    {
     "data": {
      "text/plain": "<matplotlib.image.AxesImage at 0x153463b20>"
     },
     "execution_count": 63,
     "metadata": {},
     "output_type": "execute_result"
    },
    {
     "data": {
      "text/plain": "<Figure size 640x480 with 1 Axes>",
      "image/png": "[encoded data removed]"
     },
     "metadata": {},
     "output_type": "display_data"
    }
   ],
   "source": [
    "sample_block_vals = sample_block.RV_recalc.values.squeeze()\n",
    "plt.figure()\n",
    "plt.imshow(sample_block_vals, cmap='viridis')\n",
    "# group by day xarray --> group by day to split in training and validation"
   ],
   "metadata": {
    "collapsed": false,
    "ExecuteTime": {
     "end_time": "2024-08-02T17:11:30.849579Z",
     "start_time": "2024-08-02T17:11:30.767444Z"
    }
   },
   "id": "622524715a7cb163",
   "execution_count": 63
  },
  {
   "cell_type": "code",
   "outputs": [
    {
     "data": {
      "text/plain": "<xarray.Dataset> Size: 21kB\nDimensions:                 (y_inner: 32, x_inner: 32)\nCoordinates:\n    latitude                (y_inner, x_inner) float64 8kB 47.88 47.88 ... 47.61\n    longitude               (y_inner, x_inner) float64 8kB 13.21 13.23 ... 13.58\n    missing_data_RV_recalc  float32 4B ...\n    step                    timedelta64[ns] 8B 00:00:00\n    time                    datetime64[ns] 8B 2019-01-01T20:30:00\n    x                       (x_inner) float64 256B 256.5 257.5 ... 286.5 287.5\n    y                       (y_inner) float64 256B -4.57e+03 ... -4.601e+03\nDimensions without coordinates: y_inner, x_inner\nData variables:\n    RV_recalc               (y_inner, x_inner) float32 4kB 0.3476 0.292 ... 0.27\nAttributes:\n    crs:        +proj=stere +lat_0=90 +lat_ts=90 +lon_0=10 +k=0.93301270189 +...\n    nodata:     nan\n    notes:      The grid point RV_recalc[0,0] corresponds to the top-left cor...\n    transform:  [1.0, 0.0, -543.4621669218559, 0.0, -1.0, -3609.644724265573]",
      "text/html": "<div><svg style=\"position: absolute; width: 0; height: 0; overflow: hidden\">\n<defs>\n<symbol id=\"icon-database\" viewBox=\"0 0 32 32\">\n<path d=\"M16 0c-8.837 0-16 2.239-16 5v4c0 2.761 7.163 5 16 5s16-2.239 16-5v-4c0-2.761-7.163-5-16-5z\"></path>\n<path d=\"M16 17c-8.837 0-16-2.239-16-5v6c0 2.761 7.163 5 16 5s16-2.239 16-5v-6c0 2.761-7.163 5-16 5z\"></path>\n<path d=\"M16 26c-8.837 0-16-2.239-16-5v6c0 2.761 7.163 5 16 5s16-2.239 16-5v-6c0 2.761-7.163 5-16 5z\"></path>\n</symbol>\n<symbol id=\"icon-file-text2\" viewBox=\"0 0 32 32\">\n<path d=\"M28.681 7.159c-0.694-0.947-1.662-2.053-2.724-3.116s-2.169-2.030-3.116-2.724c-1.612-1.182-2.393-1.319-2.841-1.319h-15.5c-1.378 0-2.5 1.121-2.5 2.5v27c0 1.378 1.122 2.5 2.5 2.5h23c1.378 0 2.5-1.122 2.5-2.5v-19.5c0-0.448-0.137-1.23-1.319-2.841zM24.543 5.457c0.959 0.959 1.712 1.825 2.268 2.543h-4.811v-4.811c0.718 0.556 1.584 1.309 2.543 2.268zM28 29.5c0 0.271-0.229 0.5-0.5 0.5h-23c-0.271 0-0.5-0.229-0.5-0.5v-27c0-0.271 0.229-0.5 0.5-0.5 0 0 15.499-0 15.5 0v7c0 0.552 0.448 1 1 1h7v19.5z\"></path>\n<path d=\"M23 26h-14c-0.552 0-1-0.448-1-1s0.448-1 1-1h14c0.552 0 1 0.448 1 1s-0.448 1-1 1z\"></path>\n<path d=\"M23 22h-14c-0.552 0-1-0.448-1-1s0.448-1 1-1h14c0.552 0 1 0.448 1 1s-0.448 1-1 1z\"></path>\n<path d=\"M23 18h-14c-0.552 0-1-0.448-1-1s0.448-1 1-1h14c0.552 0 1 0.448 1 1s-0.448 1-1 1z\"></path>\n</symbol>\n</defs>\n</svg>\n<style>/* CSS stylesheet for displaying xarray objects in jupyterlab.\n *\n */\n\n:root {\n  --xr-font-color0: var(--jp-content-font-color0, rgba(0, 0, 0, 1));\n  --xr-font-color2: var(--jp-content-font-color2, rgba(0, 0, 0, 0.54));\n  --xr-font-color3: var(--jp-content-font-color3, rgba(0, 0, 0, 0.38));\n  --xr-border-color: var(--jp-border-color2, #e0e0e0);\n  --xr-disabled-color: var(--jp-layout-color3, #bdbdbd);\n  --xr-background-color: var(--jp-layout-color0, white);\n  --xr-background-color-row-even: var(--jp-layout-color1, white);\n  --xr-background-color-row-odd: var(--jp-layout-color2, #eeeeee);\n}\n\nhtml[theme=dark],\nhtml[data-theme=dark],\nbody[data-theme=dark],\nbody.vscode-dark {\n  --xr-font-color0: rgba(255, 255, 255, 1);\n  --xr-font-color2: rgba(255, 255, 255, 0.54);\n  --xr-font-color3: rgba(255, 255, 255, 0.38);\n  --xr-border-color: #1F1F1F;\n  --xr-disabled-color: #515151;\n  --xr-background-color: #111111;\n  --xr-background-color-row-even: #111111;\n  --xr-background-color-row-odd: #313131;\n}\n\n.xr-wrap {\n  display: block !important;\n  min-width: 300px;\n  max-width: 700px;\n}\n\n.xr-text-repr-fallback {\n  /* fallback to plain text repr when CSS is not injected (untrusted notebook) */\n  display: none;\n}\n\n.xr-header {\n  padding-top: 6px;\n  padding-bottom: 6px;\n  margin-bottom: 4px;\n  border-bottom: solid 1px var(--xr-border-color);\n}\n\n.xr-header > div,\n.xr-header > ul {\n  display: inline;\n  margin-top: 0;\n  margin-bottom: 0;\n}\n\n.xr-obj-type,\n.xr-array-name {\n  margin-left: 2px;\n  margin-right: 10px;\n}\n\n.xr-obj-type {\n  color: var(--xr-font-color2);\n}\n\n.xr-sections {\n  padding-left: 0 !important;\n  display: grid;\n  grid-template-columns: 150px auto auto 1fr 20px 20px;\n}\n\n.xr-section-item {\n  display: contents;\n}\n\n.xr-section-item input {\n  display: none;\n}\n\n.xr-section-item input + label {\n  color: var(--xr-disabled-color);\n}\n\n.xr-section-item input:enabled + label {\n  cursor: pointer;\n  color: var(--xr-font-color2);\n}\n\n.xr-section-item input:enabled + label:hover {\n  color: var(--xr-font-color0);\n}\n\n.xr-section-summary {\n  grid-column: 1;\n  color: var(--xr-font-color2);\n  font-weight: 500;\n}\n\n.xr-section-summary > span {\n  display: inline-block;\n  padding-left: 0.5em;\n}\n\n.xr-section-summary-in:disabled + label {\n  color: var(--xr-font-color2);\n}\n\n.xr-section-summary-in + label:before {\n  display: inline-block;\n  content: '►';\n  font-size: 11px;\n  width: 15px;\n  text-align: center;\n}\n\n.xr-section-summary-in:disabled + label:before {\n  color: var(--xr-disabled-color);\n}\n\n.xr-section-summary-in:checked + label:before {\n  content: '▼';\n}\n\n.xr-section-summary-in:checked + label > span {\n  display: none;\n}\n\n.xr-section-summary,\n.xr-section-inline-details {\n  padding-top: 4px;\n  padding-bottom: 4px;\n}\n\n.xr-section-inline-details {\n  grid-column: 2 / -1;\n}\n\n.xr-section-details {\n  display: none;\n  grid-column: 1 / -1;\n  margin-bottom: 5px;\n}\n\n.xr-section-summary-in:checked ~ .xr-section-details {\n  display: contents;\n}\n\n.xr-array-wrap {\n  grid-column: 1 / -1;\n  display: grid;\n  grid-template-columns: 20px auto;\n}\n\n.xr-array-wrap > label {\n  grid-column: 1;\n  vertical-align: top;\n}\n\n.xr-preview {\n  color: var(--xr-font-color3);\n}\n\n.xr-array-preview,\n.xr-array-data {\n  padding: 0 5px !important;\n  grid-column: 2;\n}\n\n.xr-array-data,\n.xr-array-in:checked ~ .xr-array-preview {\n  display: none;\n}\n\n.xr-array-in:checked ~ .xr-array-data,\n.xr-array-preview {\n  display: inline-block;\n}\n\n.xr-dim-list {\n  display: inline-block !important;\n  list-style: none;\n  padding: 0 !important;\n  margin: 0;\n}\n\n.xr-dim-list li {\n  display: inline-block;\n  padding: 0;\n  margin: 0;\n}\n\n.xr-dim-list:before {\n  content: '(';\n}\n\n.xr-dim-list:after {\n  content: ')';\n}\n\n.xr-dim-list li:not(:last-child):after {\n  content: ',';\n  padding-right: 5px;\n}\n\n.xr-has-index {\n  font-weight: bold;\n}\n\n.xr-var-list,\n.xr-var-item {\n  display: contents;\n}\n\n.xr-var-item > div,\n.xr-var-item label,\n.xr-var-item > .xr-var-name span {\n  background-color: var(--xr-background-color-row-even);\n  margin-bottom: 0;\n}\n\n.xr-var-item > .xr-var-name:hover span {\n  padding-right: 5px;\n}\n\n.xr-var-list > li:nth-child(odd) > div,\n.xr-var-list > li:nth-child(odd) > label,\n.xr-var-list > li:nth-child(odd) > .xr-var-name span {\n  background-color: var(--xr-background-color-row-odd);\n}\n\n.xr-var-name {\n  grid-column: 1;\n}\n\n.xr-var-dims {\n  grid-column: 2;\n}\n\n.xr-var-dtype {\n  grid-column: 3;\n  text-align: right;\n  color: var(--xr-font-color2);\n}\n\n.xr-var-preview {\n  grid-column: 4;\n}\n\n.xr-index-preview {\n  grid-column: 2 / 5;\n  color: var(--xr-font-color2);\n}\n\n.xr-var-name,\n.xr-var-dims,\n.xr-var-dtype,\n.xr-preview,\n.xr-attrs dt {\n  white-space: nowrap;\n  overflow: hidden;\n  text-overflow: ellipsis;\n  padding-right: 10px;\n}\n\n.xr-var-name:hover,\n.xr-var-dims:hover,\n.xr-var-dtype:hover,\n.xr-attrs dt:hover {\n  overflow: visible;\n  width: auto;\n  z-index: 1;\n}\n\n.xr-var-attrs,\n.xr-var-data,\n.xr-index-data {\n  display: none;\n  background-color: var(--xr-background-color) !important;\n  padding-bottom: 5px !important;\n}\n\n.xr-var-attrs-in:checked ~ .xr-var-attrs,\n.xr-var-data-in:checked ~ .xr-var-data,\n.xr-index-data-in:checked ~ .xr-index-data {\n  display: block;\n}\n\n.xr-var-data > table {\n  float: right;\n}\n\n.xr-var-name span,\n.xr-var-data,\n.xr-index-name div,\n.xr-index-data,\n.xr-attrs {\n  padding-left: 25px !important;\n}\n\n.xr-attrs,\n.xr-var-attrs,\n.xr-var-data,\n.xr-index-data {\n  grid-column: 1 / -1;\n}\n\ndl.xr-attrs {\n  padding: 0;\n  margin: 0;\n  display: grid;\n  grid-template-columns: 125px auto;\n}\n\n.xr-attrs dt,\n.xr-attrs dd {\n  padding: 0;\n  margin: 0;\n  float: left;\n  padding-right: 10px;\n  width: auto;\n}\n\n.xr-attrs dt {\n  font-weight: normal;\n  grid-column: 1;\n}\n\n.xr-attrs dt:hover span {\n  display: inline-block;\n  background: var(--xr-background-color);\n  padding-right: 10px;\n}\n\n.xr-attrs dd {\n  grid-column: 2;\n  white-space: pre-wrap;\n  word-break: break-all;\n}\n\n.xr-icon-database,\n.xr-icon-file-text2,\n.xr-no-icon {\n  display: inline-block;\n  vertical-align: middle;\n  width: 1em;\n  height: 1.5em !important;\n  stroke-width: 0;\n  stroke: currentColor;\n  fill: currentColor;\n}\n</style><pre class='xr-text-repr-fallback'>&lt;xarray.Dataset&gt; Size: 21kB\nDimensions:                 (y_inner: 32, x_inner: 32)\nCoordinates:\n    latitude                (y_inner, x_inner) float64 8kB 47.88 47.88 ... 47.61\n    longitude               (y_inner, x_inner) float64 8kB 13.21 13.23 ... 13.58\n    missing_data_RV_recalc  float32 4B ...\n    step                    timedelta64[ns] 8B 00:00:00\n    time                    datetime64[ns] 8B 2019-01-01T20:30:00\n    x                       (x_inner) float64 256B 256.5 257.5 ... 286.5 287.5\n    y                       (y_inner) float64 256B -4.57e+03 ... -4.601e+03\nDimensions without coordinates: y_inner, x_inner\nData variables:\n    RV_recalc               (y_inner, x_inner) float32 4kB 0.3476 0.292 ... 0.27\nAttributes:\n    crs:        +proj=stere +lat_0=90 +lat_ts=90 +lon_0=10 +k=0.93301270189 +...\n    nodata:     nan\n    notes:      The grid point RV_recalc[0,0] corresponds to the top-left cor...\n    transform:  [1.0, 0.0, -543.4621669218559, 0.0, -1.0, -3609.644724265573]</pre><div class='xr-wrap' style='display:none'><div class='xr-header'><div class='xr-obj-type'>xarray.Dataset</div></div><ul class='xr-sections'><li class='xr-section-item'><input id='section-ffdbc6d5-bc23-425c-9e96-750da55ee489' class='xr-section-summary-in' type='checkbox' disabled ><label for='section-ffdbc6d5-bc23-425c-9e96-750da55ee489' class='xr-section-summary'  title='Expand/collapse section'>Dimensions:</label><div class='xr-section-inline-details'><ul class='xr-dim-list'><li><span>y_inner</span>: 32</li><li><span>x_inner</span>: 32</li></ul></div><div class='xr-section-details'></div></li><li class='xr-section-item'><input id='section-2bc21259-55c6-4238-9a99-1ce3d5d5a2d1' class='xr-section-summary-in' type='checkbox'  checked><label for='section-2bc21259-55c6-4238-9a99-1ce3d5d5a2d1' class='xr-section-summary' >Coordinates: <span>(7)</span></label><div class='xr-section-inline-details'></div><div class='xr-section-details'><ul class='xr-var-list'><li class='xr-var-item'><div class='xr-var-name'><span>latitude</span></div><div class='xr-var-dims'>(y_inner, x_inner)</div><div class='xr-var-dtype'>float64</div><div class='xr-var-preview xr-preview'>47.88 47.88 47.88 ... 47.61 47.61</div><input id='attrs-1c7ce2ee-fb52-481f-82f0-59dc3c6b85e6' class='xr-var-attrs-in' type='checkbox' disabled><label for='attrs-1c7ce2ee-fb52-481f-82f0-59dc3c6b85e6' title='Show/Hide attributes'><svg class='icon xr-icon-file-text2'><use xlink:href='#icon-file-text2'></use></svg></label><input id='data-00ca5f2a-85da-4d60-b98a-c72a670efe4c' class='xr-var-data-in' type='checkbox'><label for='data-00ca5f2a-85da-4d60-b98a-c72a670efe4c' title='Show/Hide data repr'><svg class='icon xr-icon-database'><use xlink:href='#icon-database'></use></svg></label><div class='xr-var-attrs'><dl class='xr-attrs'></dl></div><div class='xr-var-data'><pre>array([[47.88258168, 47.88211018, 47.88163685, ..., 47.8681667 ,\n        47.86764225, 47.86711598],\n       [47.87419946, 47.87372809, 47.87325489, ..., 47.85978844,\n        47.85926414, 47.85873801],\n       [47.86581771, 47.86534647, 47.8648734 , ..., 47.85141064,\n        47.85088648, 47.8503605 ],\n       ...,\n       [47.63968701, 47.63921924, 47.63874966, ..., 47.62538606,\n        47.62486575, 47.62434364],\n       [47.63131834, 47.6308507 , 47.63038125, ..., 47.6170213 ,\n        47.61650114, 47.61597917],\n       [47.62295015, 47.62248263, 47.62201331, ..., 47.60865701,\n        47.60813699, 47.60761516]])</pre></div></li><li class='xr-var-item'><div class='xr-var-name'><span>longitude</span></div><div class='xr-var-dims'>(y_inner, x_inner)</div><div class='xr-var-dtype'>float64</div><div class='xr-var-preview xr-preview'>13.21 13.23 13.24 ... 13.56 13.58</div><input id='attrs-d4ddaa6f-5967-4a58-aaa4-099cbabcc9a2' class='xr-var-attrs-in' type='checkbox' disabled><label for='attrs-d4ddaa6f-5967-4a58-aaa4-099cbabcc9a2' title='Show/Hide attributes'><svg class='icon xr-icon-file-text2'><use xlink:href='#icon-file-text2'></use></svg></label><input id='data-b195c9e6-98df-48dd-9ffd-472ece062d28' class='xr-var-data-in' type='checkbox'><label for='data-b195c9e6-98df-48dd-9ffd-472ece062d28' title='Show/Hide data repr'><svg class='icon xr-icon-database'><use xlink:href='#icon-database'></use></svg></label><div class='xr-var-attrs'><dl class='xr-attrs'></dl></div><div class='xr-var-data'><pre>array([[13.21318693, 13.22568573, 13.23818422, ..., 13.57552303,\n        13.58801243, 13.6005015 ],\n       [13.2124854 , 13.22498148, 13.23747725, ..., 13.57474277,\n        13.58722947, 13.59971583],\n       [13.21178417, 13.22427754, 13.2367706 , ..., 13.57396286,\n        13.58644685, 13.5989305 ],\n       ...,\n       [13.19296597, 13.20538644, 13.21780661, ..., 13.55303298,\n        13.56544424, 13.57785516],\n       [13.19227323, 13.20469102, 13.21710851, ..., 13.5522625 ,\n        13.56467108, 13.57707933],\n       [13.19158079, 13.2039959 , 13.2164107 , ..., 13.55149236,\n        13.56389826, 13.57630383]])</pre></div></li><li class='xr-var-item'><div class='xr-var-name'><span>missing_data_RV_recalc</span></div><div class='xr-var-dims'>()</div><div class='xr-var-dtype'>float32</div><div class='xr-var-preview xr-preview'>...</div><input id='attrs-d7f8d724-876b-4525-b823-58c20d4708a3' class='xr-var-attrs-in' type='checkbox' disabled><label for='attrs-d7f8d724-876b-4525-b823-58c20d4708a3' title='Show/Hide attributes'><svg class='icon xr-icon-file-text2'><use xlink:href='#icon-file-text2'></use></svg></label><input id='data-b975db6b-156e-4061-8fe4-88714a72c576' class='xr-var-data-in' type='checkbox'><label for='data-b975db6b-156e-4061-8fe4-88714a72c576' title='Show/Hide data repr'><svg class='icon xr-icon-database'><use xlink:href='#icon-database'></use></svg></label><div class='xr-var-attrs'><dl class='xr-attrs'></dl></div><div class='xr-var-data'><pre>[1 values with dtype=float32]</pre></div></li><li class='xr-var-item'><div class='xr-var-name'><span>step</span></div><div class='xr-var-dims'>()</div><div class='xr-var-dtype'>timedelta64[ns]</div><div class='xr-var-preview xr-preview'>00:00:00</div><input id='attrs-03538696-1875-47e6-b42e-f71968682fa3' class='xr-var-attrs-in' type='checkbox' disabled><label for='attrs-03538696-1875-47e6-b42e-f71968682fa3' title='Show/Hide attributes'><svg class='icon xr-icon-file-text2'><use xlink:href='#icon-file-text2'></use></svg></label><input id='data-90fef913-4ccf-4dcf-af5a-a9e2c003e040' class='xr-var-data-in' type='checkbox'><label for='data-90fef913-4ccf-4dcf-af5a-a9e2c003e040' title='Show/Hide data repr'><svg class='icon xr-icon-database'><use xlink:href='#icon-database'></use></svg></label><div class='xr-var-attrs'><dl class='xr-attrs'></dl></div><div class='xr-var-data'><pre>array(0, dtype=&#x27;timedelta64[ns]&#x27;)</pre></div></li><li class='xr-var-item'><div class='xr-var-name'><span>time</span></div><div class='xr-var-dims'>()</div><div class='xr-var-dtype'>datetime64[ns]</div><div class='xr-var-preview xr-preview'>2019-01-01T20:30:00</div><input id='attrs-560ef37f-3616-418f-abb4-49810c0999e5' class='xr-var-attrs-in' type='checkbox' disabled><label for='attrs-560ef37f-3616-418f-abb4-49810c0999e5' title='Show/Hide attributes'><svg class='icon xr-icon-file-text2'><use xlink:href='#icon-file-text2'></use></svg></label><input id='data-dbd3f0ed-69f1-47eb-b222-0ba8077b1bb1' class='xr-var-data-in' type='checkbox'><label for='data-dbd3f0ed-69f1-47eb-b222-0ba8077b1bb1' title='Show/Hide data repr'><svg class='icon xr-icon-database'><use xlink:href='#icon-database'></use></svg></label><div class='xr-var-attrs'><dl class='xr-attrs'></dl></div><div class='xr-var-data'><pre>array(&#x27;2019-01-01T20:30:00.000000000&#x27;, dtype=&#x27;datetime64[ns]&#x27;)</pre></div></li><li class='xr-var-item'><div class='xr-var-name'><span>x</span></div><div class='xr-var-dims'>(x_inner)</div><div class='xr-var-dtype'>float64</div><div class='xr-var-preview xr-preview'>256.5 257.5 258.5 ... 286.5 287.5</div><input id='attrs-eda02cb7-1c75-4127-84fd-30adb82b7546' class='xr-var-attrs-in' type='checkbox' disabled><label for='attrs-eda02cb7-1c75-4127-84fd-30adb82b7546' title='Show/Hide attributes'><svg class='icon xr-icon-file-text2'><use xlink:href='#icon-file-text2'></use></svg></label><input id='data-632a5b30-a8d0-4c57-80dc-e46908ecb617' class='xr-var-data-in' type='checkbox'><label for='data-632a5b30-a8d0-4c57-80dc-e46908ecb617' title='Show/Hide data repr'><svg class='icon xr-icon-database'><use xlink:href='#icon-database'></use></svg></label><div class='xr-var-attrs'><dl class='xr-attrs'></dl></div><div class='xr-var-data'><pre>array([256.53783308, 257.53783308, 258.53783308, 259.53783308,\n       260.53783308, 261.53783308, 262.53783308, 263.53783308,\n       264.53783308, 265.53783308, 266.53783308, 267.53783308,\n       268.53783308, 269.53783308, 270.53783308, 271.53783308,\n       272.53783308, 273.53783308, 274.53783308, 275.53783308,\n       276.53783308, 277.53783308, 278.53783308, 279.53783308,\n       280.53783308, 281.53783308, 282.53783308, 283.53783308,\n       284.53783308, 285.53783308, 286.53783308, 287.53783308])</pre></div></li><li class='xr-var-item'><div class='xr-var-name'><span>y</span></div><div class='xr-var-dims'>(y_inner)</div><div class='xr-var-dtype'>float64</div><div class='xr-var-preview xr-preview'>-4.57e+03 -4.571e+03 ... -4.601e+03</div><input id='attrs-fc12634f-6cc5-4f8b-8f85-2e94d64b02ab' class='xr-var-attrs-in' type='checkbox' disabled><label for='attrs-fc12634f-6cc5-4f8b-8f85-2e94d64b02ab' title='Show/Hide attributes'><svg class='icon xr-icon-file-text2'><use xlink:href='#icon-file-text2'></use></svg></label><input id='data-19255975-839b-456d-8ea4-de29f8b76136' class='xr-var-data-in' type='checkbox'><label for='data-19255975-839b-456d-8ea4-de29f8b76136' title='Show/Hide data repr'><svg class='icon xr-icon-database'><use xlink:href='#icon-database'></use></svg></label><div class='xr-var-attrs'><dl class='xr-attrs'></dl></div><div class='xr-var-data'><pre>array([-4569.64472427, -4570.64472427, -4571.64472427, -4572.64472427,\n       -4573.64472427, -4574.64472427, -4575.64472427, -4576.64472427,\n       -4577.64472427, -4578.64472427, -4579.64472427, -4580.64472427,\n       -4581.64472427, -4582.64472427, -4583.64472427, -4584.64472427,\n       -4585.64472427, -4586.64472427, -4587.64472427, -4588.64472427,\n       -4589.64472427, -4590.64472427, -4591.64472427, -4592.64472427,\n       -4593.64472427, -4594.64472427, -4595.64472427, -4596.64472427,\n       -4597.64472427, -4598.64472427, -4599.64472427, -4600.64472427])</pre></div></li></ul></div></li><li class='xr-section-item'><input id='section-b059c226-d6d4-48d4-8d0d-538295563099' class='xr-section-summary-in' type='checkbox'  checked><label for='section-b059c226-d6d4-48d4-8d0d-538295563099' class='xr-section-summary' >Data variables: <span>(1)</span></label><div class='xr-section-inline-details'></div><div class='xr-section-details'><ul class='xr-var-list'><li class='xr-var-item'><div class='xr-var-name'><span>RV_recalc</span></div><div class='xr-var-dims'>(y_inner, x_inner)</div><div class='xr-var-dtype'>float32</div><div class='xr-var-preview xr-preview'>0.3476 0.292 0.264 ... 0.308 0.27</div><input id='attrs-5045c816-eab1-4200-af46-564507856162' class='xr-var-attrs-in' type='checkbox' disabled><label for='attrs-5045c816-eab1-4200-af46-564507856162' title='Show/Hide attributes'><svg class='icon xr-icon-file-text2'><use xlink:href='#icon-file-text2'></use></svg></label><input id='data-e4a2ce3e-f089-4d46-8e4d-1a3637d81640' class='xr-var-data-in' type='checkbox'><label for='data-e4a2ce3e-f089-4d46-8e4d-1a3637d81640' title='Show/Hide data repr'><svg class='icon xr-icon-database'><use xlink:href='#icon-database'></use></svg></label><div class='xr-var-attrs'><dl class='xr-attrs'></dl></div><div class='xr-var-data'><pre>array([[0.3476, 0.292 , 0.264 , ..., 0.4648, 0.5308, 0.7056],\n       [0.5428, 0.5468, 0.4068, ..., 0.4456, 0.5132, 0.6652],\n       [0.6124, 0.5968, 0.5836, ..., 0.6188, 0.864 , 0.93  ],\n       ...,\n       [0.3992, 0.348 , 0.3208, ..., 0.4328, 0.334 , 0.2348],\n       [0.3828, 0.2368, 0.2488, ..., 0.3584, 0.3388, 0.298 ],\n       [0.0648, 0.1972, 0.248 , ..., 0.25  , 0.308 , 0.27  ]],\n      dtype=float32)</pre></div></li></ul></div></li><li class='xr-section-item'><input id='section-b7899e9d-9682-48a7-ae50-d9603597fbeb' class='xr-section-summary-in' type='checkbox' disabled ><label for='section-b7899e9d-9682-48a7-ae50-d9603597fbeb' class='xr-section-summary'  title='Expand/collapse section'>Indexes: <span>(0)</span></label><div class='xr-section-inline-details'></div><div class='xr-section-details'><ul class='xr-var-list'></ul></div></li><li class='xr-section-item'><input id='section-9b6bfa56-3569-4433-aa06-ffe64ebd192a' class='xr-section-summary-in' type='checkbox'  checked><label for='section-9b6bfa56-3569-4433-aa06-ffe64ebd192a' class='xr-section-summary' >Attributes: <span>(4)</span></label><div class='xr-section-inline-details'></div><div class='xr-section-details'><dl class='xr-attrs'><dt><span>crs :</span></dt><dd>+proj=stere +lat_0=90 +lat_ts=90 +lon_0=10 +k=0.93301270189 +x_0=0 +y_0=0 +a=6370040 +b=6370040 +to_meter=1000 +no_defs</dd><dt><span>nodata :</span></dt><dd>nan</dd><dt><span>notes :</span></dt><dd>The grid point RV_recalc[0,0] corresponds to the top-left corner. Transform root point is top-left. Grid coordinates indicate the bottom left corner of the pixel. The data values were interpolated if the time values of the dataset did not match the desired time values.</dd><dt><span>transform :</span></dt><dd>[1.0, 0.0, -543.4621669218559, 0.0, -1.0, -3609.644724265573]</dd></dl></div></li></ul></div></div>"
     },
     "execution_count": 64,
     "metadata": {},
     "output_type": "execute_result"
    }
   ],
   "source": [
    "sample_block"
   ],
   "metadata": {
    "collapsed": false,
    "ExecuteTime": {
     "end_time": "2024-08-02T17:11:35.268320Z",
     "start_time": "2024-08-02T17:11:35.251716Z"
    }
   },
   "id": "7b52514d2666b225",
   "execution_count": 64
  },
  {
   "cell_type": "code",
   "outputs": [
    {
     "data": {
      "text/plain": "<xarray.Dataset> Size: 3GB\nDimensions:                 (time: 566, y: 1200, x: 1100)\nCoordinates:\n    latitude                (y, x) float64 11MB ...\n    longitude               (y, x) float64 11MB ...\n    missing_data_RV_recalc  (time) float32 2kB ...\n    step                    timedelta64[ns] 8B 00:00:00\n  * time                    (time) datetime64[ns] 5kB 2019-01-01T00:45:00 ......\n  * x                       (x) float64 9kB -543.5 -542.5 -541.5 ... 554.5 555.5\n  * y                       (y) float64 10kB -3.61e+03 -3.611e+03 ... -4.809e+03\nData variables:\n    RV_recalc               (time, y, x) float32 3GB 0.0 0.0 0.0 ... 0.0 0.0 0.0\nAttributes:\n    crs:        +proj=stere +lat_0=90 +lat_ts=90 +lon_0=10 +k=0.93301270189 +...\n    nodata:     nan\n    notes:      The grid point RV_recalc[0,0] corresponds to the top-left cor...\n    transform:  [1.0, 0.0, -543.4621669218559, 0.0, -1.0, -3609.644724265573]",
      "text/html": "<div><svg style=\"position: absolute; width: 0; height: 0; overflow: hidden\">\n<defs>\n<symbol id=\"icon-database\" viewBox=\"0 0 32 32\">\n<path d=\"M16 0c-8.837 0-16 2.239-16 5v4c0 2.761 7.163 5 16 5s16-2.239 16-5v-4c0-2.761-7.163-5-16-5z\"></path>\n<path d=\"M16 17c-8.837 0-16-2.239-16-5v6c0 2.761 7.163 5 16 5s16-2.239 16-5v-6c0 2.761-7.163 5-16 5z\"></path>\n<path d=\"M16 26c-8.837 0-16-2.239-16-5v6c0 2.761 7.163 5 16 5s16-2.239 16-5v-6c0 2.761-7.163 5-16 5z\"></path>\n</symbol>\n<symbol id=\"icon-file-text2\" viewBox=\"0 0 32 32\">\n<path d=\"M28.681 7.159c-0.694-0.947-1.662-2.053-2.724-3.116s-2.169-2.030-3.116-2.724c-1.612-1.182-2.393-1.319-2.841-1.319h-15.5c-1.378 0-2.5 1.121-2.5 2.5v27c0 1.378 1.122 2.5 2.5 2.5h23c1.378 0 2.5-1.122 2.5-2.5v-19.5c0-0.448-0.137-1.23-1.319-2.841zM24.543 5.457c0.959 0.959 1.712 1.825 2.268 2.543h-4.811v-4.811c0.718 0.556 1.584 1.309 2.543 2.268zM28 29.5c0 0.271-0.229 0.5-0.5 0.5h-23c-0.271 0-0.5-0.229-0.5-0.5v-27c0-0.271 0.229-0.5 0.5-0.5 0 0 15.499-0 15.5 0v7c0 0.552 0.448 1 1 1h7v19.5z\"></path>\n<path d=\"M23 26h-14c-0.552 0-1-0.448-1-1s0.448-1 1-1h14c0.552 0 1 0.448 1 1s-0.448 1-1 1z\"></path>\n<path d=\"M23 22h-14c-0.552 0-1-0.448-1-1s0.448-1 1-1h14c0.552 0 1 0.448 1 1s-0.448 1-1 1z\"></path>\n<path d=\"M23 18h-14c-0.552 0-1-0.448-1-1s0.448-1 1-1h14c0.552 0 1 0.448 1 1s-0.448 1-1 1z\"></path>\n</symbol>\n</defs>\n</svg>\n<style>/* CSS stylesheet for displaying xarray objects in jupyterlab.\n *\n */\n\n:root {\n  --xr-font-color0: var(--jp-content-font-color0, rgba(0, 0, 0, 1));\n  --xr-font-color2: var(--jp-content-font-color2, rgba(0, 0, 0, 0.54));\n  --xr-font-color3: var(--jp-content-font-color3, rgba(0, 0, 0, 0.38));\n  --xr-border-color: var(--jp-border-color2, #e0e0e0);\n  --xr-disabled-color: var(--jp-layout-color3, #bdbdbd);\n  --xr-background-color: var(--jp-layout-color0, white);\n  --xr-background-color-row-even: var(--jp-layout-color1, white);\n  --xr-background-color-row-odd: var(--jp-layout-color2, #eeeeee);\n}\n\nhtml[theme=dark],\nhtml[data-theme=dark],\nbody[data-theme=dark],\nbody.vscode-dark {\n  --xr-font-color0: rgba(255, 255, 255, 1);\n  --xr-font-color2: rgba(255, 255, 255, 0.54);\n  --xr-font-color3: rgba(255, 255, 255, 0.38);\n  --xr-border-color: #1F1F1F;\n  --xr-disabled-color: #515151;\n  --xr-background-color: #111111;\n  --xr-background-color-row-even: #111111;\n  --xr-background-color-row-odd: #313131;\n}\n\n.xr-wrap {\n  display: block !important;\n  min-width: 300px;\n  max-width: 700px;\n}\n\n.xr-text-repr-fallback {\n  /* fallback to plain text repr when CSS is not injected (untrusted notebook) */\n  display: none;\n}\n\n.xr-header {\n  padding-top: 6px;\n  padding-bottom: 6px;\n  margin-bottom: 4px;\n  border-bottom: solid 1px var(--xr-border-color);\n}\n\n.xr-header > div,\n.xr-header > ul {\n  display: inline;\n  margin-top: 0;\n  margin-bottom: 0;\n}\n\n.xr-obj-type,\n.xr-array-name {\n  margin-left: 2px;\n  margin-right: 10px;\n}\n\n.xr-obj-type {\n  color: var(--xr-font-color2);\n}\n\n.xr-sections {\n  padding-left: 0 !important;\n  display: grid;\n  grid-template-columns: 150px auto auto 1fr 20px 20px;\n}\n\n.xr-section-item {\n  display: contents;\n}\n\n.xr-section-item input {\n  display: none;\n}\n\n.xr-section-item input + label {\n  color: var(--xr-disabled-color);\n}\n\n.xr-section-item input:enabled + label {\n  cursor: pointer;\n  color: var(--xr-font-color2);\n}\n\n.xr-section-item input:enabled + label:hover {\n  color: var(--xr-font-color0);\n}\n\n.xr-section-summary {\n  grid-column: 1;\n  color: var(--xr-font-color2);\n  font-weight: 500;\n}\n\n.xr-section-summary > span {\n  display: inline-block;\n  padding-left: 0.5em;\n}\n\n.xr-section-summary-in:disabled + label {\n  color: var(--xr-font-color2);\n}\n\n.xr-section-summary-in + label:before {\n  display: inline-block;\n  content: '►';\n  font-size: 11px;\n  width: 15px;\n  text-align: center;\n}\n\n.xr-section-summary-in:disabled + label:before {\n  color: var(--xr-disabled-color);\n}\n\n.xr-section-summary-in:checked + label:before {\n  content: '▼';\n}\n\n.xr-section-summary-in:checked + label > span {\n  display: none;\n}\n\n.xr-section-summary,\n.xr-section-inline-details {\n  padding-top: 4px;\n  padding-bottom: 4px;\n}\n\n.xr-section-inline-details {\n  grid-column: 2 / -1;\n}\n\n.xr-section-details {\n  display: none;\n  grid-column: 1 / -1;\n  margin-bottom: 5px;\n}\n\n.xr-section-summary-in:checked ~ .xr-section-details {\n  display: contents;\n}\n\n.xr-array-wrap {\n  grid-column: 1 / -1;\n  display: grid;\n  grid-template-columns: 20px auto;\n}\n\n.xr-array-wrap > label {\n  grid-column: 1;\n  vertical-align: top;\n}\n\n.xr-preview {\n  color: var(--xr-font-color3);\n}\n\n.xr-array-preview,\n.xr-array-data {\n  padding: 0 5px !important;\n  grid-column: 2;\n}\n\n.xr-array-data,\n.xr-array-in:checked ~ .xr-array-preview {\n  display: none;\n}\n\n.xr-array-in:checked ~ .xr-array-data,\n.xr-array-preview {\n  display: inline-block;\n}\n\n.xr-dim-list {\n  display: inline-block !important;\n  list-style: none;\n  padding: 0 !important;\n  margin: 0;\n}\n\n.xr-dim-list li {\n  display: inline-block;\n  padding: 0;\n  margin: 0;\n}\n\n.xr-dim-list:before {\n  content: '(';\n}\n\n.xr-dim-list:after {\n  content: ')';\n}\n\n.xr-dim-list li:not(:last-child):after {\n  content: ',';\n  padding-right: 5px;\n}\n\n.xr-has-index {\n  font-weight: bold;\n}\n\n.xr-var-list,\n.xr-var-item {\n  display: contents;\n}\n\n.xr-var-item > div,\n.xr-var-item label,\n.xr-var-item > .xr-var-name span {\n  background-color: var(--xr-background-color-row-even);\n  margin-bottom: 0;\n}\n\n.xr-var-item > .xr-var-name:hover span {\n  padding-right: 5px;\n}\n\n.xr-var-list > li:nth-child(odd) > div,\n.xr-var-list > li:nth-child(odd) > label,\n.xr-var-list > li:nth-child(odd) > .xr-var-name span {\n  background-color: var(--xr-background-color-row-odd);\n}\n\n.xr-var-name {\n  grid-column: 1;\n}\n\n.xr-var-dims {\n  grid-column: 2;\n}\n\n.xr-var-dtype {\n  grid-column: 3;\n  text-align: right;\n  color: var(--xr-font-color2);\n}\n\n.xr-var-preview {\n  grid-column: 4;\n}\n\n.xr-index-preview {\n  grid-column: 2 / 5;\n  color: var(--xr-font-color2);\n}\n\n.xr-var-name,\n.xr-var-dims,\n.xr-var-dtype,\n.xr-preview,\n.xr-attrs dt {\n  white-space: nowrap;\n  overflow: hidden;\n  text-overflow: ellipsis;\n  padding-right: 10px;\n}\n\n.xr-var-name:hover,\n.xr-var-dims:hover,\n.xr-var-dtype:hover,\n.xr-attrs dt:hover {\n  overflow: visible;\n  width: auto;\n  z-index: 1;\n}\n\n.xr-var-attrs,\n.xr-var-data,\n.xr-index-data {\n  display: none;\n  background-color: var(--xr-background-color) !important;\n  padding-bottom: 5px !important;\n}\n\n.xr-var-attrs-in:checked ~ .xr-var-attrs,\n.xr-var-data-in:checked ~ .xr-var-data,\n.xr-index-data-in:checked ~ .xr-index-data {\n  display: block;\n}\n\n.xr-var-data > table {\n  float: right;\n}\n\n.xr-var-name span,\n.xr-var-data,\n.xr-index-name div,\n.xr-index-data,\n.xr-attrs {\n  padding-left: 25px !important;\n}\n\n.xr-attrs,\n.xr-var-attrs,\n.xr-var-data,\n.xr-index-data {\n  grid-column: 1 / -1;\n}\n\ndl.xr-attrs {\n  padding: 0;\n  margin: 0;\n  display: grid;\n  grid-template-columns: 125px auto;\n}\n\n.xr-attrs dt,\n.xr-attrs dd {\n  padding: 0;\n  margin: 0;\n  float: left;\n  padding-right: 10px;\n  width: auto;\n}\n\n.xr-attrs dt {\n  font-weight: normal;\n  grid-column: 1;\n}\n\n.xr-attrs dt:hover span {\n  display: inline-block;\n  background: var(--xr-background-color);\n  padding-right: 10px;\n}\n\n.xr-attrs dd {\n  grid-column: 2;\n  white-space: pre-wrap;\n  word-break: break-all;\n}\n\n.xr-icon-database,\n.xr-icon-file-text2,\n.xr-no-icon {\n  display: inline-block;\n  vertical-align: middle;\n  width: 1em;\n  height: 1.5em !important;\n  stroke-width: 0;\n  stroke: currentColor;\n  fill: currentColor;\n}\n</style><pre class='xr-text-repr-fallback'>&lt;xarray.Dataset&gt; Size: 3GB\nDimensions:                 (time: 566, y: 1200, x: 1100)\nCoordinates:\n    latitude                (y, x) float64 11MB ...\n    longitude               (y, x) float64 11MB ...\n    missing_data_RV_recalc  (time) float32 2kB ...\n    step                    timedelta64[ns] 8B 00:00:00\n  * time                    (time) datetime64[ns] 5kB 2019-01-01T00:45:00 ......\n  * x                       (x) float64 9kB -543.5 -542.5 -541.5 ... 554.5 555.5\n  * y                       (y) float64 10kB -3.61e+03 -3.611e+03 ... -4.809e+03\nData variables:\n    RV_recalc               (time, y, x) float32 3GB 0.0 0.0 0.0 ... 0.0 0.0 0.0\nAttributes:\n    crs:        +proj=stere +lat_0=90 +lat_ts=90 +lon_0=10 +k=0.93301270189 +...\n    nodata:     nan\n    notes:      The grid point RV_recalc[0,0] corresponds to the top-left cor...\n    transform:  [1.0, 0.0, -543.4621669218559, 0.0, -1.0, -3609.644724265573]</pre><div class='xr-wrap' style='display:none'><div class='xr-header'><div class='xr-obj-type'>xarray.Dataset</div></div><ul class='xr-sections'><li class='xr-section-item'><input id='section-e4434fe1-21f2-40af-949f-7c3e574053b0' class='xr-section-summary-in' type='checkbox' disabled ><label for='section-e4434fe1-21f2-40af-949f-7c3e574053b0' class='xr-section-summary'  title='Expand/collapse section'>Dimensions:</label><div class='xr-section-inline-details'><ul class='xr-dim-list'><li><span class='xr-has-index'>time</span>: 566</li><li><span class='xr-has-index'>y</span>: 1200</li><li><span class='xr-has-index'>x</span>: 1100</li></ul></div><div class='xr-section-details'></div></li><li class='xr-section-item'><input id='section-ac36a6b3-800a-4766-8775-1d67d06274b9' class='xr-section-summary-in' type='checkbox'  checked><label for='section-ac36a6b3-800a-4766-8775-1d67d06274b9' class='xr-section-summary' >Coordinates: <span>(7)</span></label><div class='xr-section-inline-details'></div><div class='xr-section-details'><ul class='xr-var-list'><li class='xr-var-item'><div class='xr-var-name'><span>latitude</span></div><div class='xr-var-dims'>(y, x)</div><div class='xr-var-dtype'>float64</div><div class='xr-var-preview xr-preview'>...</div><input id='attrs-646296d5-4d01-45a5-a488-e4af307abdf2' class='xr-var-attrs-in' type='checkbox' disabled><label for='attrs-646296d5-4d01-45a5-a488-e4af307abdf2' title='Show/Hide attributes'><svg class='icon xr-icon-file-text2'><use xlink:href='#icon-file-text2'></use></svg></label><input id='data-c52e9361-a36d-41d8-aea6-0501ac113fa9' class='xr-var-data-in' type='checkbox'><label for='data-c52e9361-a36d-41d8-aea6-0501ac113fa9' title='Show/Hide data repr'><svg class='icon xr-icon-database'><use xlink:href='#icon-database'></use></svg></label><div class='xr-var-attrs'><dl class='xr-attrs'></dl></div><div class='xr-var-data'><pre>[1320000 values with dtype=float64]</pre></div></li><li class='xr-var-item'><div class='xr-var-name'><span>longitude</span></div><div class='xr-var-dims'>(y, x)</div><div class='xr-var-dtype'>float64</div><div class='xr-var-preview xr-preview'>...</div><input id='attrs-d1395e26-b098-4ac7-aec6-9220e43a1967' class='xr-var-attrs-in' type='checkbox' disabled><label for='attrs-d1395e26-b098-4ac7-aec6-9220e43a1967' title='Show/Hide attributes'><svg class='icon xr-icon-file-text2'><use xlink:href='#icon-file-text2'></use></svg></label><input id='data-28a4aa9e-3e52-4cb1-8f27-039e5cb20e0d' class='xr-var-data-in' type='checkbox'><label for='data-28a4aa9e-3e52-4cb1-8f27-039e5cb20e0d' title='Show/Hide data repr'><svg class='icon xr-icon-database'><use xlink:href='#icon-database'></use></svg></label><div class='xr-var-attrs'><dl class='xr-attrs'></dl></div><div class='xr-var-data'><pre>[1320000 values with dtype=float64]</pre></div></li><li class='xr-var-item'><div class='xr-var-name'><span>missing_data_RV_recalc</span></div><div class='xr-var-dims'>(time)</div><div class='xr-var-dtype'>float32</div><div class='xr-var-preview xr-preview'>...</div><input id='attrs-0ffbdf26-b7a1-4172-aea7-741e20488098' class='xr-var-attrs-in' type='checkbox' disabled><label for='attrs-0ffbdf26-b7a1-4172-aea7-741e20488098' title='Show/Hide attributes'><svg class='icon xr-icon-file-text2'><use xlink:href='#icon-file-text2'></use></svg></label><input id='data-fb2119da-82b7-4b40-bade-2bcd75adb75a' class='xr-var-data-in' type='checkbox'><label for='data-fb2119da-82b7-4b40-bade-2bcd75adb75a' title='Show/Hide data repr'><svg class='icon xr-icon-database'><use xlink:href='#icon-database'></use></svg></label><div class='xr-var-attrs'><dl class='xr-attrs'></dl></div><div class='xr-var-data'><pre>[566 values with dtype=float32]</pre></div></li><li class='xr-var-item'><div class='xr-var-name'><span>step</span></div><div class='xr-var-dims'>()</div><div class='xr-var-dtype'>timedelta64[ns]</div><div class='xr-var-preview xr-preview'>00:00:00</div><input id='attrs-d14d7b3b-3f83-463f-bb9f-fee0d1feab6f' class='xr-var-attrs-in' type='checkbox' disabled><label for='attrs-d14d7b3b-3f83-463f-bb9f-fee0d1feab6f' title='Show/Hide attributes'><svg class='icon xr-icon-file-text2'><use xlink:href='#icon-file-text2'></use></svg></label><input id='data-e9f633fc-f372-42f7-9e23-9d98b0ae6058' class='xr-var-data-in' type='checkbox'><label for='data-e9f633fc-f372-42f7-9e23-9d98b0ae6058' title='Show/Hide data repr'><svg class='icon xr-icon-database'><use xlink:href='#icon-database'></use></svg></label><div class='xr-var-attrs'><dl class='xr-attrs'></dl></div><div class='xr-var-data'><pre>array(0, dtype=&#x27;timedelta64[ns]&#x27;)</pre></div></li><li class='xr-var-item'><div class='xr-var-name'><span class='xr-has-index'>time</span></div><div class='xr-var-dims'>(time)</div><div class='xr-var-dtype'>datetime64[ns]</div><div class='xr-var-preview xr-preview'>2019-01-01T00:45:00 ... 2019-01-...</div><input id='attrs-0404f0d3-43be-4460-aeb4-ae708cb12847' class='xr-var-attrs-in' type='checkbox' disabled><label for='attrs-0404f0d3-43be-4460-aeb4-ae708cb12847' title='Show/Hide attributes'><svg class='icon xr-icon-file-text2'><use xlink:href='#icon-file-text2'></use></svg></label><input id='data-ccaab3cc-279d-43e7-a09a-f87740da85fd' class='xr-var-data-in' type='checkbox'><label for='data-ccaab3cc-279d-43e7-a09a-f87740da85fd' title='Show/Hide data repr'><svg class='icon xr-icon-database'><use xlink:href='#icon-database'></use></svg></label><div class='xr-var-attrs'><dl class='xr-attrs'></dl></div><div class='xr-var-data'><pre>array([&#x27;2019-01-01T00:45:00.000000000&#x27;, &#x27;2019-01-01T00:50:00.000000000&#x27;,\n       &#x27;2019-01-01T00:55:00.000000000&#x27;, ..., &#x27;2019-01-02T23:40:00.000000000&#x27;,\n       &#x27;2019-01-02T23:45:00.000000000&#x27;, &#x27;2019-01-02T23:50:00.000000000&#x27;],\n      dtype=&#x27;datetime64[ns]&#x27;)</pre></div></li><li class='xr-var-item'><div class='xr-var-name'><span class='xr-has-index'>x</span></div><div class='xr-var-dims'>(x)</div><div class='xr-var-dtype'>float64</div><div class='xr-var-preview xr-preview'>-543.5 -542.5 ... 554.5 555.5</div><input id='attrs-339dd079-8724-4e1d-8b02-5d9b74d64640' class='xr-var-attrs-in' type='checkbox' disabled><label for='attrs-339dd079-8724-4e1d-8b02-5d9b74d64640' title='Show/Hide attributes'><svg class='icon xr-icon-file-text2'><use xlink:href='#icon-file-text2'></use></svg></label><input id='data-98f280c6-8032-4105-85c0-306401739141' class='xr-var-data-in' type='checkbox'><label for='data-98f280c6-8032-4105-85c0-306401739141' title='Show/Hide data repr'><svg class='icon xr-icon-database'><use xlink:href='#icon-database'></use></svg></label><div class='xr-var-attrs'><dl class='xr-attrs'></dl></div><div class='xr-var-data'><pre>array([-543.462167, -542.462167, -541.462167, ...,  553.537833,  554.537833,\n        555.537833])</pre></div></li><li class='xr-var-item'><div class='xr-var-name'><span class='xr-has-index'>y</span></div><div class='xr-var-dims'>(y)</div><div class='xr-var-dtype'>float64</div><div class='xr-var-preview xr-preview'>-3.61e+03 -3.611e+03 ... -4.809e+03</div><input id='attrs-270ca449-e1f5-43e6-aa06-c262e8516464' class='xr-var-attrs-in' type='checkbox' disabled><label for='attrs-270ca449-e1f5-43e6-aa06-c262e8516464' title='Show/Hide attributes'><svg class='icon xr-icon-file-text2'><use xlink:href='#icon-file-text2'></use></svg></label><input id='data-1432a7f3-c5a4-48f6-bd52-35ab2cd87208' class='xr-var-data-in' type='checkbox'><label for='data-1432a7f3-c5a4-48f6-bd52-35ab2cd87208' title='Show/Hide data repr'><svg class='icon xr-icon-database'><use xlink:href='#icon-database'></use></svg></label><div class='xr-var-attrs'><dl class='xr-attrs'></dl></div><div class='xr-var-data'><pre>array([-3609.644724, -3610.644724, -3611.644724, ..., -4806.644724,\n       -4807.644724, -4808.644724])</pre></div></li></ul></div></li><li class='xr-section-item'><input id='section-30cccfe0-a409-4181-bf7c-c9d7d2228f4f' class='xr-section-summary-in' type='checkbox'  checked><label for='section-30cccfe0-a409-4181-bf7c-c9d7d2228f4f' class='xr-section-summary' >Data variables: <span>(1)</span></label><div class='xr-section-inline-details'></div><div class='xr-section-details'><ul class='xr-var-list'><li class='xr-var-item'><div class='xr-var-name'><span>RV_recalc</span></div><div class='xr-var-dims'>(time, y, x)</div><div class='xr-var-dtype'>float32</div><div class='xr-var-preview xr-preview'>0.0 0.0 0.0 0.0 ... 0.0 0.0 0.0 0.0</div><input id='attrs-a78fbfa0-c44e-4eec-a2f9-32e410d8f5d0' class='xr-var-attrs-in' type='checkbox' disabled><label for='attrs-a78fbfa0-c44e-4eec-a2f9-32e410d8f5d0' title='Show/Hide attributes'><svg class='icon xr-icon-file-text2'><use xlink:href='#icon-file-text2'></use></svg></label><input id='data-e4d678bb-d470-4b13-9f9f-b83242f18812' class='xr-var-data-in' type='checkbox'><label for='data-e4d678bb-d470-4b13-9f9f-b83242f18812' title='Show/Hide data repr'><svg class='icon xr-icon-database'><use xlink:href='#icon-database'></use></svg></label><div class='xr-var-attrs'><dl class='xr-attrs'></dl></div><div class='xr-var-data'><pre>array([[[0., 0., 0., ..., 0., 0., 0.],\n        [0., 0., 0., ..., 0., 0., 0.],\n        [0., 0., 0., ..., 0., 0., 0.],\n        ...,\n        [0., 0., 0., ..., 0., 0., 0.],\n        [0., 0., 0., ..., 0., 0., 0.],\n        [0., 0., 0., ..., 0., 0., 0.]],\n\n       [[0., 0., 0., ..., 0., 0., 0.],\n        [0., 0., 0., ..., 0., 0., 0.],\n        [0., 0., 0., ..., 0., 0., 0.],\n        ...,\n        [0., 0., 0., ..., 0., 0., 0.],\n        [0., 0., 0., ..., 0., 0., 0.],\n        [0., 0., 0., ..., 0., 0., 0.]],\n\n       [[0., 0., 0., ..., 0., 0., 0.],\n        [0., 0., 0., ..., 0., 0., 0.],\n        [0., 0., 0., ..., 0., 0., 0.],\n        ...,\n...\n        ...,\n        [0., 0., 0., ..., 0., 0., 0.],\n        [0., 0., 0., ..., 0., 0., 0.],\n        [0., 0., 0., ..., 0., 0., 0.]],\n\n       [[0., 0., 0., ..., 0., 0., 0.],\n        [0., 0., 0., ..., 0., 0., 0.],\n        [0., 0., 0., ..., 0., 0., 0.],\n        ...,\n        [0., 0., 0., ..., 0., 0., 0.],\n        [0., 0., 0., ..., 0., 0., 0.],\n        [0., 0., 0., ..., 0., 0., 0.]],\n\n       [[0., 0., 0., ..., 0., 0., 0.],\n        [0., 0., 0., ..., 0., 0., 0.],\n        [0., 0., 0., ..., 0., 0., 0.],\n        ...,\n        [0., 0., 0., ..., 0., 0., 0.],\n        [0., 0., 0., ..., 0., 0., 0.],\n        [0., 0., 0., ..., 0., 0., 0.]]], dtype=float32)</pre></div></li></ul></div></li><li class='xr-section-item'><input id='section-1a51764b-e4cc-4f1e-b9a3-efddd3aabc27' class='xr-section-summary-in' type='checkbox'  ><label for='section-1a51764b-e4cc-4f1e-b9a3-efddd3aabc27' class='xr-section-summary' >Indexes: <span>(3)</span></label><div class='xr-section-inline-details'></div><div class='xr-section-details'><ul class='xr-var-list'><li class='xr-var-item'><div class='xr-index-name'><div>time</div></div><div class='xr-index-preview'>PandasIndex</div><div></div><input id='index-2e1f1358-8d51-494c-858f-d4e0d9442c35' class='xr-index-data-in' type='checkbox'/><label for='index-2e1f1358-8d51-494c-858f-d4e0d9442c35' title='Show/Hide index repr'><svg class='icon xr-icon-database'><use xlink:href='#icon-database'></use></svg></label><div class='xr-index-data'><pre>PandasIndex(DatetimeIndex([&#x27;2019-01-01 00:45:00&#x27;, &#x27;2019-01-01 00:50:00&#x27;,\n               &#x27;2019-01-01 00:55:00&#x27;, &#x27;2019-01-01 01:00:00&#x27;,\n               &#x27;2019-01-01 01:05:00&#x27;, &#x27;2019-01-01 01:10:00&#x27;,\n               &#x27;2019-01-01 01:15:00&#x27;, &#x27;2019-01-01 01:20:00&#x27;,\n               &#x27;2019-01-01 01:25:00&#x27;, &#x27;2019-01-01 01:30:00&#x27;,\n               ...\n               &#x27;2019-01-02 23:05:00&#x27;, &#x27;2019-01-02 23:10:00&#x27;,\n               &#x27;2019-01-02 23:15:00&#x27;, &#x27;2019-01-02 23:20:00&#x27;,\n               &#x27;2019-01-02 23:25:00&#x27;, &#x27;2019-01-02 23:30:00&#x27;,\n               &#x27;2019-01-02 23:35:00&#x27;, &#x27;2019-01-02 23:40:00&#x27;,\n               &#x27;2019-01-02 23:45:00&#x27;, &#x27;2019-01-02 23:50:00&#x27;],\n              dtype=&#x27;datetime64[ns]&#x27;, name=&#x27;time&#x27;, length=566, freq=None))</pre></div></li><li class='xr-var-item'><div class='xr-index-name'><div>x</div></div><div class='xr-index-preview'>PandasIndex</div><div></div><input id='index-43ad1f4e-3cd0-42c5-8166-f3d8cbbebc8e' class='xr-index-data-in' type='checkbox'/><label for='index-43ad1f4e-3cd0-42c5-8166-f3d8cbbebc8e' title='Show/Hide index repr'><svg class='icon xr-icon-database'><use xlink:href='#icon-database'></use></svg></label><div class='xr-index-data'><pre>PandasIndex(Index([-543.4621669218559, -542.4621669218559, -541.4621669218559,\n       -540.4621669218559, -539.4621669218559, -538.4621669218559,\n       -537.4621669218559, -536.4621669218559, -535.4621669218559,\n       -534.4621669218559,\n       ...\n        546.5378330781441,  547.5378330781441,  548.5378330781441,\n        549.5378330781441,  550.5378330781441,  551.5378330781441,\n        552.5378330781441,  553.5378330781441,  554.5378330781441,\n        555.5378330781441],\n      dtype=&#x27;float64&#x27;, name=&#x27;x&#x27;, length=1100))</pre></div></li><li class='xr-var-item'><div class='xr-index-name'><div>y</div></div><div class='xr-index-preview'>PandasIndex</div><div></div><input id='index-73223296-341f-45e2-8ee4-500d4de16dbd' class='xr-index-data-in' type='checkbox'/><label for='index-73223296-341f-45e2-8ee4-500d4de16dbd' title='Show/Hide index repr'><svg class='icon xr-icon-database'><use xlink:href='#icon-database'></use></svg></label><div class='xr-index-data'><pre>PandasIndex(Index([-3609.644724265573, -3610.644724265573, -3611.644724265573,\n       -3612.644724265573, -3613.644724265573, -3614.644724265573,\n       -3615.644724265573, -3616.644724265573, -3617.644724265573,\n       -3618.644724265573,\n       ...\n       -4799.644724265573, -4800.644724265573, -4801.644724265573,\n       -4802.644724265573, -4803.644724265573, -4804.644724265573,\n       -4805.644724265573, -4806.644724265573, -4807.644724265573,\n       -4808.644724265573],\n      dtype=&#x27;float64&#x27;, name=&#x27;y&#x27;, length=1200))</pre></div></li></ul></div></li><li class='xr-section-item'><input id='section-b3c5762f-86ed-44fa-9504-46cdab253e41' class='xr-section-summary-in' type='checkbox'  checked><label for='section-b3c5762f-86ed-44fa-9504-46cdab253e41' class='xr-section-summary' >Attributes: <span>(4)</span></label><div class='xr-section-inline-details'></div><div class='xr-section-details'><dl class='xr-attrs'><dt><span>crs :</span></dt><dd>+proj=stere +lat_0=90 +lat_ts=90 +lon_0=10 +k=0.93301270189 +x_0=0 +y_0=0 +a=6370040 +b=6370040 +to_meter=1000 +no_defs</dd><dt><span>nodata :</span></dt><dd>nan</dd><dt><span>notes :</span></dt><dd>The grid point RV_recalc[0,0] corresponds to the top-left corner. Transform root point is top-left. Grid coordinates indicate the bottom left corner of the pixel. The data values were interpolated if the time values of the dataset did not match the desired time values.</dd><dt><span>transform :</span></dt><dd>[1.0, 0.0, -543.4621669218559, 0.0, -1.0, -3609.644724265573]</dd></dl></div></li></ul></div></div>"
     },
     "execution_count": 65,
     "metadata": {},
     "output_type": "execute_result"
    }
   ],
   "source": [
    "data_shortened"
   ],
   "metadata": {
    "collapsed": false,
    "ExecuteTime": {
     "end_time": "2024-08-02T17:11:38.802027Z",
     "start_time": "2024-08-02T17:11:38.785380Z"
    }
   },
   "id": "f2fdf32b1a759b71",
   "execution_count": 65
  },
  {
   "cell_type": "code",
   "outputs": [],
   "source": [
    "# TODO: This is bullshit! Ask someone how to expand an existing target!\n",
    "def expand_dataset(small_data: xr.Dataset, original_data: xr.Dataset, window_size: int):\n",
    "    \"\"\"\n",
    "    Expands a smaller xarray dataset to a larger size based on the original dataset's context.\n",
    "    \n",
    "    Args:\n",
    "    small_data (xr.Dataset): The smaller dataset with dimensions 'y_inner' and 'x_inner'.\n",
    "    original_data (xr.Dataset): The original larger dataset with variable 'data_shortened'.\n",
    "    window_size (int): The size in units to expand around the small_data's dimensions.\n",
    "    \n",
    "    Returns:\n",
    "    xr.Dataset: An expanded dataset.\n",
    "    \"\"\"\n",
    "    # Extract coordinates from the smaller dataset\n",
    "    y_inner_min, y_inner_max = small_data.y_inner.min().item(), small_data.y_inner.max().item()\n",
    "    x_inner_min, x_inner_max = small_data.x_inner.min().item(), small_data.x_inner.max().item()\n",
    "    \n",
    "    # Define new bounds\n",
    "    new_y = np.arange(y_inner_min - window_size, y_inner_max + window_size + 1)\n",
    "    new_x = np.arange(x_inner_min - window_size, x_inner_max + window_size + 1)\n",
    "    \n",
    "    # Initialize a new dataset\n",
    "    new_ds = xr.Dataset({\n",
    "        'data_shortened': (('y_inner', 'x_inner'), np.full((len(new_y), len(new_x)), np.nan))  # Initialize with NaNs\n",
    "    }, coords={'y_inner': new_y, 'x_inner': new_x})\n",
    "    \n",
    "    # Fill the new dataset with data from the original dataset using nearest neighbor interpolation\n",
    "    new_ds['data_shortened'] = original_data['data_shortened'].sel(\n",
    "        y_inner=new_y, x_inner=new_x, method='nearest'\n",
    "    )\n",
    "\n",
    "    return new_ds"
   ],
   "metadata": {
    "collapsed": false,
    "ExecuteTime": {
     "end_time": "2024-08-02T17:11:40.412430Z",
     "start_time": "2024-08-02T17:11:40.404860Z"
    }
   },
   "id": "44ef1a77c4646a7d",
   "execution_count": 66
  },
  {
   "cell_type": "code",
   "outputs": [
    {
     "ename": "KeyError",
     "evalue": "\"No variable named 'data_shortened'. Variables on the dataset include ['RV_recalc', 'latitude', 'longitude', 'missing_data_RV_recalc', 'step', 'time', 'x', 'y']\"",
     "output_type": "error",
     "traceback": [
      "\u001B[0;31m---------------------------------------------------------------------------\u001B[0m",
      "\u001B[0;31mKeyError\u001B[0m                                  Traceback (most recent call last)",
      "\u001B[0;32m~/miniforge3/envs/test_xarray/lib/python3.10/site-packages/xarray/core/dataset.py\u001B[0m in \u001B[0;36m?\u001B[0;34m(self, name)\u001B[0m\n\u001B[1;32m   1477\u001B[0m             \u001B[0mvariable\u001B[0m \u001B[0;34m=\u001B[0m \u001B[0mself\u001B[0m\u001B[0;34m.\u001B[0m\u001B[0m_variables\u001B[0m\u001B[0;34m[\u001B[0m\u001B[0mname\u001B[0m\u001B[0;34m]\u001B[0m\u001B[0;34m\u001B[0m\u001B[0;34m\u001B[0m\u001B[0m\n\u001B[1;32m   1478\u001B[0m         \u001B[0;32mexcept\u001B[0m \u001B[0mKeyError\u001B[0m\u001B[0;34m:\u001B[0m\u001B[0;34m\u001B[0m\u001B[0;34m\u001B[0m\u001B[0m\n\u001B[0;32m-> 1479\u001B[0;31m             \u001B[0m_\u001B[0m\u001B[0;34m,\u001B[0m \u001B[0mname\u001B[0m\u001B[0;34m,\u001B[0m \u001B[0mvariable\u001B[0m \u001B[0;34m=\u001B[0m \u001B[0m_get_virtual_variable\u001B[0m\u001B[0;34m(\u001B[0m\u001B[0mself\u001B[0m\u001B[0;34m.\u001B[0m\u001B[0m_variables\u001B[0m\u001B[0;34m,\u001B[0m \u001B[0mname\u001B[0m\u001B[0;34m,\u001B[0m \u001B[0mself\u001B[0m\u001B[0;34m.\u001B[0m\u001B[0msizes\u001B[0m\u001B[0;34m)\u001B[0m\u001B[0;34m\u001B[0m\u001B[0;34m\u001B[0m\u001B[0m\n\u001B[0m\u001B[1;32m   1480\u001B[0m \u001B[0;34m\u001B[0m\u001B[0m\n",
      "\u001B[0;31mKeyError\u001B[0m: 'data_shortened'",
      "\nDuring handling of the above exception, another exception occurred:\n",
      "\u001B[0;31mKeyError\u001B[0m                                  Traceback (most recent call last)",
      "\u001B[0;32m~/miniforge3/envs/test_xarray/lib/python3.10/site-packages/xarray/core/dataset.py\u001B[0m in \u001B[0;36m?\u001B[0;34m(self, key)\u001B[0m\n\u001B[1;32m   1576\u001B[0m                 \u001B[0;32mreturn\u001B[0m \u001B[0mself\u001B[0m\u001B[0;34m.\u001B[0m\u001B[0m_construct_dataarray\u001B[0m\u001B[0;34m(\u001B[0m\u001B[0mkey\u001B[0m\u001B[0;34m)\u001B[0m\u001B[0;34m\u001B[0m\u001B[0;34m\u001B[0m\u001B[0m\n\u001B[1;32m   1577\u001B[0m             \u001B[0;32mexcept\u001B[0m \u001B[0mKeyError\u001B[0m \u001B[0;32mas\u001B[0m \u001B[0me\u001B[0m\u001B[0;34m:\u001B[0m\u001B[0;34m\u001B[0m\u001B[0;34m\u001B[0m\u001B[0m\n\u001B[0;32m-> 1578\u001B[0;31m                 raise KeyError(\n\u001B[0m\u001B[1;32m   1579\u001B[0m                     \u001B[0;34mf\"No variable named {key!r}. Variables on the dataset include {shorten_list_repr(list(self.variables.keys()), max_items=10)}\"\u001B[0m\u001B[0;34m\u001B[0m\u001B[0;34m\u001B[0m\u001B[0m\n",
      "\u001B[0;32m~/miniforge3/envs/test_xarray/lib/python3.10/site-packages/xarray/core/dataset.py\u001B[0m in \u001B[0;36m?\u001B[0;34m(self, name)\u001B[0m\n\u001B[1;32m   1477\u001B[0m             \u001B[0mvariable\u001B[0m \u001B[0;34m=\u001B[0m \u001B[0mself\u001B[0m\u001B[0;34m.\u001B[0m\u001B[0m_variables\u001B[0m\u001B[0;34m[\u001B[0m\u001B[0mname\u001B[0m\u001B[0;34m]\u001B[0m\u001B[0;34m\u001B[0m\u001B[0;34m\u001B[0m\u001B[0m\n\u001B[1;32m   1478\u001B[0m         \u001B[0;32mexcept\u001B[0m \u001B[0mKeyError\u001B[0m\u001B[0;34m:\u001B[0m\u001B[0;34m\u001B[0m\u001B[0;34m\u001B[0m\u001B[0m\n\u001B[0;32m-> 1479\u001B[0;31m             \u001B[0m_\u001B[0m\u001B[0;34m,\u001B[0m \u001B[0mname\u001B[0m\u001B[0;34m,\u001B[0m \u001B[0mvariable\u001B[0m \u001B[0;34m=\u001B[0m \u001B[0m_get_virtual_variable\u001B[0m\u001B[0;34m(\u001B[0m\u001B[0mself\u001B[0m\u001B[0;34m.\u001B[0m\u001B[0m_variables\u001B[0m\u001B[0;34m,\u001B[0m \u001B[0mname\u001B[0m\u001B[0;34m,\u001B[0m \u001B[0mself\u001B[0m\u001B[0;34m.\u001B[0m\u001B[0msizes\u001B[0m\u001B[0;34m)\u001B[0m\u001B[0;34m\u001B[0m\u001B[0;34m\u001B[0m\u001B[0m\n\u001B[0m\u001B[1;32m   1480\u001B[0m \u001B[0;34m\u001B[0m\u001B[0m\n",
      "\u001B[0;32m~/miniforge3/envs/test_xarray/lib/python3.10/site-packages/xarray/core/dataset.py\u001B[0m in \u001B[0;36m?\u001B[0;34m(variables, key, dim_sizes)\u001B[0m\n\u001B[1;32m    211\u001B[0m     \u001B[0msplit_key\u001B[0m \u001B[0;34m=\u001B[0m \u001B[0mkey\u001B[0m\u001B[0;34m.\u001B[0m\u001B[0msplit\u001B[0m\u001B[0;34m(\u001B[0m\u001B[0;34m\".\"\u001B[0m\u001B[0;34m,\u001B[0m \u001B[0;36m1\u001B[0m\u001B[0;34m)\u001B[0m\u001B[0;34m\u001B[0m\u001B[0;34m\u001B[0m\u001B[0m\n\u001B[1;32m    212\u001B[0m     \u001B[0;32mif\u001B[0m \u001B[0mlen\u001B[0m\u001B[0;34m(\u001B[0m\u001B[0msplit_key\u001B[0m\u001B[0;34m)\u001B[0m \u001B[0;34m!=\u001B[0m \u001B[0;36m2\u001B[0m\u001B[0;34m:\u001B[0m\u001B[0;34m\u001B[0m\u001B[0;34m\u001B[0m\u001B[0m\n\u001B[0;32m--> 213\u001B[0;31m         \u001B[0;32mraise\u001B[0m \u001B[0mKeyError\u001B[0m\u001B[0;34m(\u001B[0m\u001B[0mkey\u001B[0m\u001B[0;34m)\u001B[0m\u001B[0;34m\u001B[0m\u001B[0;34m\u001B[0m\u001B[0m\n\u001B[0m\u001B[1;32m    214\u001B[0m \u001B[0;34m\u001B[0m\u001B[0m\n",
      "\u001B[0;31mKeyError\u001B[0m: 'data_shortened'",
      "\nThe above exception was the direct cause of the following exception:\n",
      "\u001B[0;31mKeyError\u001B[0m                                  Traceback (most recent call last)",
      "\u001B[0;32m/var/folders/5c/x5dxs5nx73s3_0cfznwz3kbw0000gn/T/ipykernel_32441/1123890459.py\u001B[0m in \u001B[0;36m?\u001B[0;34m()\u001B[0m\n\u001B[0;32m----> 1\u001B[0;31m \u001B[0mexpanded_ds\u001B[0m \u001B[0;34m=\u001B[0m \u001B[0mexpand_dataset\u001B[0m\u001B[0;34m(\u001B[0m\u001B[0msample_block\u001B[0m\u001B[0;34m,\u001B[0m \u001B[0mdata_shortened\u001B[0m\u001B[0;34m,\u001B[0m \u001B[0;36m16\u001B[0m\u001B[0;34m)\u001B[0m\u001B[0;34m\u001B[0m\u001B[0;34m\u001B[0m\u001B[0m\n\u001B[0m",
      "\u001B[0;32m/var/folders/5c/x5dxs5nx73s3_0cfznwz3kbw0000gn/T/ipykernel_32441/3674372083.py\u001B[0m in \u001B[0;36m?\u001B[0;34m(small_data, original_data, window_size)\u001B[0m\n\u001B[1;32m     23\u001B[0m         \u001B[0;34m'data_shortened'\u001B[0m\u001B[0;34m:\u001B[0m \u001B[0;34m(\u001B[0m\u001B[0;34m(\u001B[0m\u001B[0;34m'y_inner'\u001B[0m\u001B[0;34m,\u001B[0m \u001B[0;34m'x_inner'\u001B[0m\u001B[0;34m)\u001B[0m\u001B[0;34m,\u001B[0m \u001B[0mnp\u001B[0m\u001B[0;34m.\u001B[0m\u001B[0mfull\u001B[0m\u001B[0;34m(\u001B[0m\u001B[0;34m(\u001B[0m\u001B[0mlen\u001B[0m\u001B[0;34m(\u001B[0m\u001B[0mnew_y\u001B[0m\u001B[0;34m)\u001B[0m\u001B[0;34m,\u001B[0m \u001B[0mlen\u001B[0m\u001B[0;34m(\u001B[0m\u001B[0mnew_x\u001B[0m\u001B[0;34m)\u001B[0m\u001B[0;34m)\u001B[0m\u001B[0;34m,\u001B[0m \u001B[0mnp\u001B[0m\u001B[0;34m.\u001B[0m\u001B[0mnan\u001B[0m\u001B[0;34m)\u001B[0m\u001B[0;34m)\u001B[0m  \u001B[0;31m# Initialize with NaNs\u001B[0m\u001B[0;34m\u001B[0m\u001B[0;34m\u001B[0m\u001B[0m\n\u001B[1;32m     24\u001B[0m     }, coords={'y_inner': new_y, 'x_inner': new_x})\n\u001B[1;32m     25\u001B[0m \u001B[0;34m\u001B[0m\u001B[0m\n\u001B[1;32m     26\u001B[0m     \u001B[0;31m# Fill the new dataset with data from the original dataset using nearest neighbor interpolation\u001B[0m\u001B[0;34m\u001B[0m\u001B[0;34m\u001B[0m\u001B[0m\n\u001B[0;32m---> 27\u001B[0;31m     new_ds['data_shortened'] = original_data['data_shortened'].sel(\n\u001B[0m\u001B[1;32m     28\u001B[0m         \u001B[0my_inner\u001B[0m\u001B[0;34m=\u001B[0m\u001B[0mnew_y\u001B[0m\u001B[0;34m,\u001B[0m \u001B[0mx_inner\u001B[0m\u001B[0;34m=\u001B[0m\u001B[0mnew_x\u001B[0m\u001B[0;34m,\u001B[0m \u001B[0mmethod\u001B[0m\u001B[0;34m=\u001B[0m\u001B[0;34m'nearest'\u001B[0m\u001B[0;34m\u001B[0m\u001B[0;34m\u001B[0m\u001B[0m\n\u001B[1;32m     29\u001B[0m     )\n\u001B[1;32m     30\u001B[0m \u001B[0;34m\u001B[0m\u001B[0m\n",
      "\u001B[0;32m~/miniforge3/envs/test_xarray/lib/python3.10/site-packages/xarray/core/dataset.py\u001B[0m in \u001B[0;36m?\u001B[0;34m(self, key)\u001B[0m\n\u001B[1;32m   1574\u001B[0m         \u001B[0;32mif\u001B[0m \u001B[0mutils\u001B[0m\u001B[0;34m.\u001B[0m\u001B[0mhashable\u001B[0m\u001B[0;34m(\u001B[0m\u001B[0mkey\u001B[0m\u001B[0;34m)\u001B[0m\u001B[0;34m:\u001B[0m\u001B[0;34m\u001B[0m\u001B[0;34m\u001B[0m\u001B[0m\n\u001B[1;32m   1575\u001B[0m             \u001B[0;32mtry\u001B[0m\u001B[0;34m:\u001B[0m\u001B[0;34m\u001B[0m\u001B[0;34m\u001B[0m\u001B[0m\n\u001B[1;32m   1576\u001B[0m                 \u001B[0;32mreturn\u001B[0m \u001B[0mself\u001B[0m\u001B[0;34m.\u001B[0m\u001B[0m_construct_dataarray\u001B[0m\u001B[0;34m(\u001B[0m\u001B[0mkey\u001B[0m\u001B[0;34m)\u001B[0m\u001B[0;34m\u001B[0m\u001B[0;34m\u001B[0m\u001B[0m\n\u001B[1;32m   1577\u001B[0m             \u001B[0;32mexcept\u001B[0m \u001B[0mKeyError\u001B[0m \u001B[0;32mas\u001B[0m \u001B[0me\u001B[0m\u001B[0;34m:\u001B[0m\u001B[0;34m\u001B[0m\u001B[0;34m\u001B[0m\u001B[0m\n\u001B[0;32m-> 1578\u001B[0;31m                 raise KeyError(\n\u001B[0m\u001B[1;32m   1579\u001B[0m                     \u001B[0;34mf\"No variable named {key!r}. Variables on the dataset include {shorten_list_repr(list(self.variables.keys()), max_items=10)}\"\u001B[0m\u001B[0;34m\u001B[0m\u001B[0;34m\u001B[0m\u001B[0m\n\u001B[1;32m   1580\u001B[0m                 ) from e\n\u001B[1;32m   1581\u001B[0m \u001B[0;34m\u001B[0m\u001B[0m\n",
      "\u001B[0;31mKeyError\u001B[0m: \"No variable named 'data_shortened'. Variables on the dataset include ['RV_recalc', 'latitude', 'longitude', 'missing_data_RV_recalc', 'step', 'time', 'x', 'y']\""
     ]
    }
   ],
   "source": [
    "expanded_ds = expand_dataset(sample_block, data_shortened, 16)"
   ],
   "metadata": {
    "collapsed": false,
    "ExecuteTime": {
     "end_time": "2024-08-02T17:13:02.680628Z",
     "start_time": "2024-08-02T17:13:02.636487Z"
    }
   },
   "id": "cff6b43909f72d5b",
   "execution_count": 68
  },
  {
   "cell_type": "code",
   "outputs": [],
   "source": [
    "# TODO: The filter condition does not work yet!! \n",
    "for i in range(valid_coords.shape[0]):\n",
    "# i = 1\n",
    "    coord = valid_coords[i, :]\n",
    "    block = folded.isel(\n",
    "        time = coord[0],\n",
    "        y_outer = coord[1],\n",
    "        x_outer = coord[2])\n",
    "    block = block.squeeze()\n",
    "    block_vals = block.RV_recalc.values\n",
    "    \n",
    "    pixel_over_thres_ratio = (block_vals > threshold).sum() / len(sample_block_vals)\n",
    "    if pixel_over_thres_ratio < threshold_percentage_pixels:\n",
    "        print(f'Ratio is {pixel_over_thres_ratio} which is below {threshold_percentage_pixels}')"
   ],
   "metadata": {
    "collapsed": false,
    "ExecuteTime": {
     "end_time": "2024-08-02T17:11:48.358432Z",
     "start_time": "2024-08-02T17:11:43.158396Z"
    }
   },
   "id": "904746fad8b87f6c",
   "execution_count": 67
  },
  {
   "cell_type": "code",
   "outputs": [],
   "source": [],
   "metadata": {
    "collapsed": false
   },
   "id": "aa43e49f578e5e8e"
  }
 ],
 "metadata": {
  "kernelspec": {
   "display_name": "Python 3",
   "language": "python",
   "name": "python3"
  },
  "language_info": {
   "codemirror_mode": {
    "name": "ipython",
    "version": 2
   },
   "file_extension": ".py",
   "mimetype": "text/x-python",
   "name": "python",
   "nbconvert_exporter": "python",
   "pygments_lexer": "ipython2",
   "version": "2.7.6"
  }
 },
 "nbformat": 4,
 "nbformat_minor": 5
}

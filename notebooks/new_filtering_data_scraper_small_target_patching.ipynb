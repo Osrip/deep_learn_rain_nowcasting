{
 "cells": [
  {
   "cell_type": "markdown",
   "source": [
    "Todo:\n",
    "\n",
    "Neue Implementation datasamplibg in xarray\n",
    "\n",
    "- [ ] einfach über gesamtes Bild die targets erstellen mit coarsen\n",
    "- [ ] dann nans auf 0 setzen\n",
    "- [ ] durch meinen Filter jagen\n",
    "- [ ] --> diejenigen mit vielen nans werden eh rausgefiltert\n",
    "- [ ] dann wenn das input erstellt wird aus dem target funktion benutzen die einfach nan padded, alles was über die spatial bounds von unserem Datensatz geht (wird wh kaum passieren da unser datensatz ja quasi eh ge nan padded ist)\n",
    "\n",
    "- [ ] Alternativ kann durch strengeres Filterkriterium auch einfach jedes Target mit irgendeinem Pixel als NaN rausgefiltert werden\n",
    "\n",
    "old:\n",
    "- Still have to do the nan cropping in xarray: crop in picture such that it is no nan padded\n",
    "- Put all data into RAM (first build calulation tree, with .compute it will be loaded into RAM)\n",
    "- Decide on whether to load the 128 x 128 chunks (because going from 32 x 32 we would indeed have more data but it would be highly correlated so it is questionable whether it boosts performance, but will delay training in prototyping)\n",
    "- Also decide on whther to use every time step as target or directly chunk time into patches with .coarsen()"
   ],
   "metadata": {
    "collapsed": false
   },
   "id": "da511d8a08abfd70"
  },
  {
   "cell_type": "code",
   "outputs": [],
   "source": [
    "import numpy as np\n",
    "import os\n",
    "import xarray as xr\n",
    "import matplotlib.pyplot as plt\n",
    "import zarr"
   ],
   "metadata": {
    "collapsed": false,
    "ExecuteTime": {
     "end_time": "2024-08-27T11:04:48.792305Z",
     "start_time": "2024-08-27T11:04:48.788606Z"
    }
   },
   "id": "576501505b12811b",
   "execution_count": 203
  },
  {
   "cell_type": "code",
   "outputs": [
    {
     "name": "stdout",
     "output_type": "stream",
     "text": [
      "loading from: /Users/jan/Programming/first_CNN_on_Radolan/dwd_nc/own_test_data/testdata_two_days_2019_01_01-02.zarr\n"
     ]
    }
   ],
   "source": [
    "folder_path = '/Users/jan/Programming/first_CNN_on_Radolan/dwd_nc/own_test_data' #'/home/jan/Programming/remote/first_CNN_on_radolan_remote/dwd_nc/own_test_data'\n",
    "data = 'testdata_two_days_2019_01_01-02.zarr'\n",
    "load_path = os.path.join(folder_path, data)\n",
    "print(f'loading from: {load_path}')\n"
   ],
   "metadata": {
    "collapsed": false,
    "ExecuteTime": {
     "end_time": "2024-08-27T11:04:48.873063Z",
     "start_time": "2024-08-27T11:04:48.870437Z"
    }
   },
   "id": "4ab150c229ac7481",
   "execution_count": 204
  },
  {
   "cell_type": "code",
   "outputs": [],
   "source": [
    "num_input_frames = 4\n",
    "lead_time = 4\n",
    "pt = num_input_frames + lead_time + 1 # how many time steps to include in a sample (i.e. context and target)\n",
    "# \n",
    "# This defines the size of the patches, that are created by coarsen, filter is applies to these patches\n",
    "py, px = 32, 32 #73, 137 # how many pixels in y and x direction\n",
    "threshold_mm_rain_each_pixel = 0.1 # threshold for each pixel filter condition\n",
    "threshold_percentage_pixels = 0.5\n",
    "\n",
    "\n",
    "# In the current implementation py and px define the size of the target patches (previously those were the larger input patches)\n",
    "# length_width_center_even as the same size as py and px, as the filter condition is calculated on the target patches"
   ],
   "metadata": {
    "collapsed": false,
    "ExecuteTime": {
     "end_time": "2024-08-27T11:04:49.021652Z",
     "start_time": "2024-08-27T11:04:49.018860Z"
    }
   },
   "id": "1a3a8903964bbb8f",
   "execution_count": 205
  },
  {
   "cell_type": "code",
   "outputs": [],
   "source": [
    "data = xr.open_dataset(load_path, engine='zarr') # , chunks=None # , chunks=None according to Sebastian more efficient as it avoids dask (default is chunks=1)\n",
    "# Simply reinstalled environment with numpy pandas xarray zarr jupyter\n",
    "# Now not the same error as in first_CNN_on_Radolan env for some reason\n",
    "data = data.squeeze()\n",
    "# Set all NaNs to zero (this includes the NaN padding that the data naturally has)\n",
    "data_no_nan = data.fillna(0)"
   ],
   "metadata": {
    "collapsed": false,
    "ExecuteTime": {
     "end_time": "2024-08-27T11:04:54.526422Z",
     "start_time": "2024-08-27T11:04:49.164565Z"
    }
   },
   "id": "ffd76fd262be4717",
   "execution_count": 206
  },
  {
   "cell_type": "code",
   "outputs": [
    {
     "name": "stdout",
     "output_type": "stream",
     "text": [
      "FrozenMappingWarningOnValuesAccess({'time': 576, 'y': 1200, 'x': 1100})\n"
     ]
    }
   ],
   "source": [
    "print(data.dims)"
   ],
   "metadata": {
    "collapsed": false,
    "ExecuteTime": {
     "end_time": "2024-08-27T11:04:54.533069Z",
     "start_time": "2024-08-27T11:04:54.529062Z"
    }
   },
   "id": "b8ae65b601e44f64",
   "execution_count": 207
  },
  {
   "cell_type": "code",
   "outputs": [],
   "source": [
    "data_shortened = data_no_nan.isel(\n",
    "    time=slice(pt, -1)\n",
    ")"
   ],
   "metadata": {
    "collapsed": false,
    "ExecuteTime": {
     "end_time": "2024-08-27T11:04:54.538248Z",
     "start_time": "2024-08-27T11:04:54.533893Z"
    }
   },
   "id": "ae89e1990767a1e7",
   "execution_count": 208
  },
  {
   "cell_type": "code",
   "outputs": [
    {
     "name": "stdout",
     "output_type": "stream",
     "text": [
      "FrozenMappingWarningOnValuesAccess({'time': 566, 'y': 1200, 'x': 1100})\n"
     ]
    }
   ],
   "source": [
    "print(data_shortened.dims)"
   ],
   "metadata": {
    "collapsed": false,
    "ExecuteTime": {
     "end_time": "2024-08-27T11:04:54.542328Z",
     "start_time": "2024-08-27T11:04:54.540065Z"
    }
   },
   "id": "dab7756463f991b9",
   "execution_count": 209
  },
  {
   "cell_type": "code",
   "outputs": [],
   "source": [
    "# TODO: Crop the beginning of the data, such that we can always generate inputs from the target indecies\n",
    "\n",
    "\n",
    "# partition the data into pt x py x px blocks using coarsen --> construct DatasetCoarsen object\n",
    "# In this implementation each target corresponds to one patch\n",
    "coarse = data_shortened.coarsen(\n",
    "    y = py,\n",
    "    x = px,\n",
    "    # time = 1, # TODO: This way we are making patches with 4 subsequent time frames. This way we are only taking a target every 'pt'th time step\n",
    "    side = \"left\", # \"left\" means that the blocks are aligned to the left of the input\n",
    "    boundary=\"trim\") # boundary=\"trim\" removes the last block if it is too small\n",
    "# construct a new data set, where the patches are folded into a new dimension\n",
    "patches = coarse.construct(\n",
    "    # time = (\"time_outer\", \"time_inner\"),\n",
    "    y = (\"y_outer\", \"y_inner\"),\n",
    "    x = (\"x_outer\", \"x_inner\"))\n",
    "# define a threshold for each pixel --> we get a pixel-wise boo\n",
    "patches_boolean_pixelwise = patches > threshold_mm_rain_each_pixel\n",
    "# We are calculating the percentage of pixels that passed filter (mean of boolean gives percentage of True) \n",
    "# --> we are getting rid of the patch dimensions y_inner and x_inner, \n",
    "patches_percentage_pixels_passed = patches_boolean_pixelwise.mean((\"y_inner\", \"x_inner\")) #, \"time_inner\"\n",
    "# Now we are creating a boolean again by comparing the percentage of pixels that exceed the rain threshold to the minimally required \n",
    "# percentage of pixels that exceed the rain threshold\n",
    "# --> valid_patches includes only the y_outer and x_outer, where each pair of indecies represents one patch. Its values are boolean, indicating whether or not the outer indecies correspond to a valid or invalid patch. \n",
    "valid_patches = patches_percentage_pixels_passed > threshold_percentage_pixels\n",
    "# get the outer coordinates for all valid blocks (valid_time, valid_x, valid_y)\n",
    "# (valid center is boolean, np.nonzero returns the indecies of the pixels that are non-zero, thus True)\n",
    "valid_coords = np.array(np.nonzero(valid_patches.RV_recalc.values)).T\n"
   ],
   "metadata": {
    "collapsed": false,
    "ExecuteTime": {
     "end_time": "2024-08-27T11:04:56.397448Z",
     "start_time": "2024-08-27T11:04:54.543214Z"
    }
   },
   "id": "9d9556f6cda23401",
   "execution_count": 210
  },
  {
   "cell_type": "code",
   "outputs": [
    {
     "data": {
      "text/plain": "numpy.ndarray"
     },
     "execution_count": 211,
     "metadata": {},
     "output_type": "execute_result"
    }
   ],
   "source": [
    "type(valid_coords)"
   ],
   "metadata": {
    "collapsed": false,
    "ExecuteTime": {
     "end_time": "2024-08-27T11:04:56.405175Z",
     "start_time": "2024-08-27T11:04:56.398635Z"
    }
   },
   "id": "36a71bfe1211132a",
   "execution_count": 211
  },
  {
   "cell_type": "code",
   "outputs": [],
   "source": [
    "def valid_coords_to_global_center_coords(valid_target_indecies_inner, px, py, x_input, y_input):\n",
    "    valid_target_slices_global = []\n",
    "    valid_center_coords_global = []\n",
    "    valid_input_slices_global = []\n",
    "    \n",
    "    for (time, y_inner, x_inner) in valid_target_indecies_inner:\n",
    "        \n",
    "        y_global_upper = y_inner * py\n",
    "        x_global_left = x_inner * px\n",
    "        \n",
    "        # Calculate the global indecies / slices for the targets\n",
    "        slice_y_global = slice(y_global_upper, y_global_upper + py)\n",
    "        slice_x_global = slice(x_global_left, x_global_left + px)\n",
    "        target_slices = [time, slice_y_global, slice_x_global]\n",
    "        valid_target_slices_global.append(target_slices)\n",
    "        \n",
    "        # Calculate indecies of the patche's center pixels\n",
    "        center_y_global = y_global_upper + py // 2\n",
    "        center_x_global = x_global_left + px // 2\n",
    "        global_center_coords = [time, center_y_global, center_x_global]\n",
    "        valid_center_coords_global.append(global_center_coords)\n",
    "        \n",
    "        # Calculate the global slices for input\n",
    "        # TODO: make sure this does not go out of bounds, create NAN padding of some sort...\n",
    "        y_slice_input = slice(center_y_global - (y_input // 2), center_y_global + (y_input // 2))\n",
    "        x_slice_input = slice(center_x_global - (x_input // 2), center_x_global + (x_input // 2))\n",
    "        input_slices = [time, y_slice_input, x_slice_input]\n",
    "        valid_input_slices_global.append(input_slices)\n",
    "        \n",
    "        \n",
    "    return np.array(valid_input_slices_global), np.array(valid_target_slices_global), np.array(valid_center_coords_global)"
   ],
   "metadata": {
    "collapsed": false,
    "ExecuteTime": {
     "end_time": "2024-08-27T11:04:56.415106Z",
     "start_time": "2024-08-27T11:04:56.410468Z"
    }
   },
   "id": "f5ca8236fb807388",
   "execution_count": 213
  },
  {
   "cell_type": "code",
   "outputs": [],
   "source": [
    "rand_coord_idx = np.random.randint(0, valid_coords.shape[0])"
   ],
   "metadata": {
    "collapsed": false,
    "ExecuteTime": {
     "end_time": "2024-08-27T11:04:56.473574Z",
     "start_time": "2024-08-27T11:04:56.471615Z"
    }
   },
   "id": "ea8d9be816535f62",
   "execution_count": 216
  },
  {
   "cell_type": "code",
   "outputs": [],
   "source": [
    "valid_input_slices_global, valid_target_slices_global, valid_center_coords_global = valid_coords_to_global_center_coords(valid_coords, px, py, 256, 256)"
   ],
   "metadata": {
    "collapsed": false,
    "ExecuteTime": {
     "end_time": "2024-08-27T11:04:57.702782Z",
     "start_time": "2024-08-27T11:04:57.422213Z"
    }
   },
   "id": "b9afd937a084f045",
   "execution_count": 219
  },
  {
   "cell_type": "code",
   "outputs": [
    {
     "data": {
      "text/plain": "array([[np.int64(21), slice(np.int64(48), np.int64(304), None),\n        slice(np.int64(528), np.int64(784), None)],\n       [np.int64(22), slice(np.int64(48), np.int64(304), None),\n        slice(np.int64(528), np.int64(784), None)],\n       [np.int64(22), slice(np.int64(272), np.int64(528), None),\n        slice(np.int64(624), np.int64(880), None)],\n       ...,\n       [np.int64(565), slice(np.int64(688), np.int64(944), None),\n        slice(np.int64(560), np.int64(816), None)],\n       [np.int64(565), slice(np.int64(720), np.int64(976), None),\n        slice(np.int64(560), np.int64(816), None)],\n       [np.int64(565), slice(np.int64(848), np.int64(1104), None),\n        slice(np.int64(656), np.int64(912), None)]], dtype=object)"
     },
     "execution_count": 220,
     "metadata": {},
     "output_type": "execute_result"
    }
   ],
   "source": [
    "valid_input_slices_global\n"
   ],
   "metadata": {
    "collapsed": false,
    "ExecuteTime": {
     "end_time": "2024-08-27T11:04:58.011238Z",
     "start_time": "2024-08-27T11:04:58.006437Z"
    }
   },
   "id": "ca6020d6cd8240",
   "execution_count": 220
  },
  {
   "cell_type": "code",
   "outputs": [],
   "source": [
    "sample_coord = valid_input_slices_global[rand_coord_idx]\n",
    "# get the block at the sample coordinate. We are operating on the outer coordinates of the coarsed dataset\n",
    "sample_block = data_shortened.isel(\n",
    "    # time_outer = sample_coord[0],\n",
    "    time = sample_coord[0],\n",
    "    y = sample_coord[1],\n",
    "    x = sample_coord[2])"
   ],
   "metadata": {
    "collapsed": false,
    "ExecuteTime": {
     "end_time": "2024-08-27T11:04:58.825530Z",
     "start_time": "2024-08-27T11:04:58.822488Z"
    }
   },
   "id": "3acf0081f5843a60",
   "execution_count": 221
  },
  {
   "cell_type": "code",
   "outputs": [
    {
     "data": {
      "text/plain": "<matplotlib.image.AxesImage at 0x14eafefd0>"
     },
     "execution_count": 232,
     "metadata": {},
     "output_type": "execute_result"
    },
    {
     "data": {
      "text/plain": "<Figure size 640x480 with 1 Axes>",
      "image/png": "[encoded data removed]"
     },
     "metadata": {},
     "output_type": "display_data"
    }
   ],
   "source": [
    "sample_block_vals = sample_block.RV_recalc.values.squeeze()\n",
    "plt.figure()\n",
    "plt.title('Sample inputs globally')\n",
    "plt.imshow(sample_block_vals, cmap='viridis')"
   ],
   "metadata": {
    "collapsed": false,
    "ExecuteTime": {
     "end_time": "2024-08-27T11:06:30.058808Z",
     "start_time": "2024-08-27T11:06:29.978515Z"
    }
   },
   "id": "231491e961902107",
   "execution_count": 232
  },
  {
   "cell_type": "code",
   "outputs": [],
   "source": [
    "sample_coord = valid_target_slices_global[rand_coord_idx]\n",
    "# get the block at the sample coordinate. We are operating on the outer coordinates of the coarsed dataset\n",
    "sample_block = data_shortened.isel(\n",
    "    # time_outer = sample_coord[0],\n",
    "    time = sample_coord[0],\n",
    "    y = sample_coord[1],\n",
    "    x = sample_coord[2])"
   ],
   "metadata": {
    "collapsed": false,
    "ExecuteTime": {
     "end_time": "2024-08-27T11:05:00.850232Z",
     "start_time": "2024-08-27T11:05:00.844206Z"
    }
   },
   "id": "f48d099e407199b4",
   "execution_count": 223
  },
  {
   "cell_type": "code",
   "outputs": [
    {
     "data": {
      "text/plain": "<matplotlib.image.AxesImage at 0x14eaa93a0>"
     },
     "execution_count": 231,
     "metadata": {},
     "output_type": "execute_result"
    },
    {
     "data": {
      "text/plain": "<Figure size 640x480 with 1 Axes>",
      "image/png": "[encoded data removed]"
     },
     "metadata": {},
     "output_type": "display_data"
    }
   ],
   "source": [
    "sample_block_vals = sample_block.RV_recalc.values.squeeze()\n",
    "plt.figure()\n",
    "plt.title('Sample targets globally')\n",
    "plt.imshow(sample_block_vals, cmap='viridis')"
   ],
   "metadata": {
    "collapsed": false,
    "ExecuteTime": {
     "end_time": "2024-08-27T11:06:19.405335Z",
     "start_time": "2024-08-27T11:06:19.324266Z"
    }
   },
   "id": "6057891a444bb00c",
   "execution_count": 231
  },
  {
   "cell_type": "code",
   "outputs": [],
   "source": [
    "# SAMPLE DIRECTLY THROUGH INNER COORDS FROM 'patches'\n",
    "\n",
    "# For data loading purposes, we can use the valid_coords to get the corresponding blocks\n",
    "# For example, to get a random block from the valid blocks, we can do the following:\n",
    "# get a random element from the valid coordinates\n",
    "sample_coord = valid_coords[rand_coord_idx]\n",
    "# get the block at the sample coordinate. We are operating on the outer coordinates of the coarsed dataset\n",
    "sample_block = patches.isel(\n",
    "    # time_outer = sample_coord[0],\n",
    "    time = sample_coord[0],\n",
    "    y_outer = sample_coord[1],\n",
    "    x_outer = sample_coord[2])\n",
    "# Squeeze time dimension, which has len 1\n",
    "# sample_block = sample_block.squeeze()"
   ],
   "metadata": {
    "collapsed": false,
    "ExecuteTime": {
     "end_time": "2024-08-27T11:05:26.399213Z",
     "start_time": "2024-08-27T11:05:26.394455Z"
    }
   },
   "id": "9633dafc08d20d25",
   "execution_count": 227
  },
  {
   "cell_type": "code",
   "outputs": [
    {
     "data": {
      "text/plain": "<matplotlib.image.AxesImage at 0x14e9bc130>"
     },
     "execution_count": 230,
     "metadata": {},
     "output_type": "execute_result"
    },
    {
     "data": {
      "text/plain": "<Figure size 640x480 with 1 Axes>",
      "image/png": "[encoded data removed]"
     },
     "metadata": {},
     "output_type": "display_data"
    }
   ],
   "source": [
    "sample_block_vals = sample_block.RV_recalc.values.squeeze()\n",
    "plt.figure()\n",
    "plt.title(\"SAMPLE DIRECTLY THROUGH INNER COORDS FROM 'patches'\")\n",
    "plt.imshow(sample_block_vals, cmap='viridis')\n",
    "\n",
    "# group by day xarray --> group by day to split in training and validation"
   ],
   "metadata": {
    "collapsed": false,
    "ExecuteTime": {
     "end_time": "2024-08-27T11:05:58.195631Z",
     "start_time": "2024-08-27T11:05:58.102222Z"
    }
   },
   "id": "622524715a7cb163",
   "execution_count": 230
  },
  {
   "cell_type": "code",
   "outputs": [
    {
     "data": {
      "text/plain": "np.True_"
     },
     "execution_count": 99,
     "metadata": {},
     "output_type": "execute_result"
    }
   ],
   "source": [
    "(sample_block_vals > 0).any()"
   ],
   "metadata": {
    "collapsed": false,
    "ExecuteTime": {
     "end_time": "2024-08-26T12:48:58.840745Z",
     "start_time": "2024-08-26T12:48:58.836948Z"
    }
   },
   "id": "7b52514d2666b225",
   "execution_count": 99
  },
  {
   "cell_type": "code",
   "outputs": [
    {
     "data": {
      "text/plain": "<xarray.Dataset> Size: 750MB\nDimensions:                 (y_outer: 37, y_inner: 32, x_outer: 34,\n                             x_inner: 32, time: 566)\nCoordinates:\n    latitude                (y_outer, y_inner, x_outer, x_inner) float64 10MB ...\n    longitude               (y_outer, y_inner, x_outer, x_inner) float64 10MB ...\n    missing_data_RV_recalc  (time) float32 2kB ...\n    step                    timedelta64[ns] 8B 00:00:00\n  * time                    (time) datetime64[ns] 5kB 2019-01-01T00:45:00 ......\n    x                       (x_outer, x_inner) float64 9kB -543.5 ... 543.5\n    y                       (y_outer, y_inner) float64 9kB -3.61e+03 ... -4.7...\nDimensions without coordinates: y_outer, y_inner, x_outer, x_inner\nData variables:\n    RV_recalc               (time, y_outer, y_inner, x_outer, x_inner) bool 729MB ...\nAttributes:\n    crs:        +proj=stere +lat_0=90 +lat_ts=90 +lon_0=10 +k=0.93301270189 +...\n    nodata:     nan\n    notes:      The grid point RV_recalc[0,0] corresponds to the top-left cor...\n    transform:  [1.0, 0.0, -543.4621669218559, 0.0, -1.0, -3609.644724265573]",
      "text/html": "<div><svg style=\"position: absolute; width: 0; height: 0; overflow: hidden\">\n<defs>\n<symbol id=\"icon-database\" viewBox=\"0 0 32 32\">\n<path d=\"M16 0c-8.837 0-16 2.239-16 5v4c0 2.761 7.163 5 16 5s16-2.239 16-5v-4c0-2.761-7.163-5-16-5z\"></path>\n<path d=\"M16 17c-8.837 0-16-2.239-16-5v6c0 2.761 7.163 5 16 5s16-2.239 16-5v-6c0 2.761-7.163 5-16 5z\"></path>\n<path d=\"M16 26c-8.837 0-16-2.239-16-5v6c0 2.761 7.163 5 16 5s16-2.239 16-5v-6c0 2.761-7.163 5-16 5z\"></path>\n</symbol>\n<symbol id=\"icon-file-text2\" viewBox=\"0 0 32 32\">\n<path d=\"M28.681 7.159c-0.694-0.947-1.662-2.053-2.724-3.116s-2.169-2.030-3.116-2.724c-1.612-1.182-2.393-1.319-2.841-1.319h-15.5c-1.378 0-2.5 1.121-2.5 2.5v27c0 1.378 1.122 2.5 2.5 2.5h23c1.378 0 2.5-1.122 2.5-2.5v-19.5c0-0.448-0.137-1.23-1.319-2.841zM24.543 5.457c0.959 0.959 1.712 1.825 2.268 2.543h-4.811v-4.811c0.718 0.556 1.584 1.309 2.543 2.268zM28 29.5c0 0.271-0.229 0.5-0.5 0.5h-23c-0.271 0-0.5-0.229-0.5-0.5v-27c0-0.271 0.229-0.5 0.5-0.5 0 0 15.499-0 15.5 0v7c0 0.552 0.448 1 1 1h7v19.5z\"></path>\n<path d=\"M23 26h-14c-0.552 0-1-0.448-1-1s0.448-1 1-1h14c0.552 0 1 0.448 1 1s-0.448 1-1 1z\"></path>\n<path d=\"M23 22h-14c-0.552 0-1-0.448-1-1s0.448-1 1-1h14c0.552 0 1 0.448 1 1s-0.448 1-1 1z\"></path>\n<path d=\"M23 18h-14c-0.552 0-1-0.448-1-1s0.448-1 1-1h14c0.552 0 1 0.448 1 1s-0.448 1-1 1z\"></path>\n</symbol>\n</defs>\n</svg>\n<style>/* CSS stylesheet for displaying xarray objects in jupyterlab.\n *\n */\n\n:root {\n  --xr-font-color0: var(--jp-content-font-color0, rgba(0, 0, 0, 1));\n  --xr-font-color2: var(--jp-content-font-color2, rgba(0, 0, 0, 0.54));\n  --xr-font-color3: var(--jp-content-font-color3, rgba(0, 0, 0, 0.38));\n  --xr-border-color: var(--jp-border-color2, #e0e0e0);\n  --xr-disabled-color: var(--jp-layout-color3, #bdbdbd);\n  --xr-background-color: var(--jp-layout-color0, white);\n  --xr-background-color-row-even: var(--jp-layout-color1, white);\n  --xr-background-color-row-odd: var(--jp-layout-color2, #eeeeee);\n}\n\nhtml[theme=dark],\nhtml[data-theme=dark],\nbody[data-theme=dark],\nbody.vscode-dark {\n  --xr-font-color0: rgba(255, 255, 255, 1);\n  --xr-font-color2: rgba(255, 255, 255, 0.54);\n  --xr-font-color3: rgba(255, 255, 255, 0.38);\n  --xr-border-color: #1F1F1F;\n  --xr-disabled-color: #515151;\n  --xr-background-color: #111111;\n  --xr-background-color-row-even: #111111;\n  --xr-background-color-row-odd: #313131;\n}\n\n.xr-wrap {\n  display: block !important;\n  min-width: 300px;\n  max-width: 700px;\n}\n\n.xr-text-repr-fallback {\n  /* fallback to plain text repr when CSS is not injected (untrusted notebook) */\n  display: none;\n}\n\n.xr-header {\n  padding-top: 6px;\n  padding-bottom: 6px;\n  margin-bottom: 4px;\n  border-bottom: solid 1px var(--xr-border-color);\n}\n\n.xr-header > div,\n.xr-header > ul {\n  display: inline;\n  margin-top: 0;\n  margin-bottom: 0;\n}\n\n.xr-obj-type,\n.xr-array-name {\n  margin-left: 2px;\n  margin-right: 10px;\n}\n\n.xr-obj-type {\n  color: var(--xr-font-color2);\n}\n\n.xr-sections {\n  padding-left: 0 !important;\n  display: grid;\n  grid-template-columns: 150px auto auto 1fr 20px 20px;\n}\n\n.xr-section-item {\n  display: contents;\n}\n\n.xr-section-item input {\n  display: none;\n}\n\n.xr-section-item input + label {\n  color: var(--xr-disabled-color);\n}\n\n.xr-section-item input:enabled + label {\n  cursor: pointer;\n  color: var(--xr-font-color2);\n}\n\n.xr-section-item input:enabled + label:hover {\n  color: var(--xr-font-color0);\n}\n\n.xr-section-summary {\n  grid-column: 1;\n  color: var(--xr-font-color2);\n  font-weight: 500;\n}\n\n.xr-section-summary > span {\n  display: inline-block;\n  padding-left: 0.5em;\n}\n\n.xr-section-summary-in:disabled + label {\n  color: var(--xr-font-color2);\n}\n\n.xr-section-summary-in + label:before {\n  display: inline-block;\n  content: '►';\n  font-size: 11px;\n  width: 15px;\n  text-align: center;\n}\n\n.xr-section-summary-in:disabled + label:before {\n  color: var(--xr-disabled-color);\n}\n\n.xr-section-summary-in:checked + label:before {\n  content: '▼';\n}\n\n.xr-section-summary-in:checked + label > span {\n  display: none;\n}\n\n.xr-section-summary,\n.xr-section-inline-details {\n  padding-top: 4px;\n  padding-bottom: 4px;\n}\n\n.xr-section-inline-details {\n  grid-column: 2 / -1;\n}\n\n.xr-section-details {\n  display: none;\n  grid-column: 1 / -1;\n  margin-bottom: 5px;\n}\n\n.xr-section-summary-in:checked ~ .xr-section-details {\n  display: contents;\n}\n\n.xr-array-wrap {\n  grid-column: 1 / -1;\n  display: grid;\n  grid-template-columns: 20px auto;\n}\n\n.xr-array-wrap > label {\n  grid-column: 1;\n  vertical-align: top;\n}\n\n.xr-preview {\n  color: var(--xr-font-color3);\n}\n\n.xr-array-preview,\n.xr-array-data {\n  padding: 0 5px !important;\n  grid-column: 2;\n}\n\n.xr-array-data,\n.xr-array-in:checked ~ .xr-array-preview {\n  display: none;\n}\n\n.xr-array-in:checked ~ .xr-array-data,\n.xr-array-preview {\n  display: inline-block;\n}\n\n.xr-dim-list {\n  display: inline-block !important;\n  list-style: none;\n  padding: 0 !important;\n  margin: 0;\n}\n\n.xr-dim-list li {\n  display: inline-block;\n  padding: 0;\n  margin: 0;\n}\n\n.xr-dim-list:before {\n  content: '(';\n}\n\n.xr-dim-list:after {\n  content: ')';\n}\n\n.xr-dim-list li:not(:last-child):after {\n  content: ',';\n  padding-right: 5px;\n}\n\n.xr-has-index {\n  font-weight: bold;\n}\n\n.xr-var-list,\n.xr-var-item {\n  display: contents;\n}\n\n.xr-var-item > div,\n.xr-var-item label,\n.xr-var-item > .xr-var-name span {\n  background-color: var(--xr-background-color-row-even);\n  margin-bottom: 0;\n}\n\n.xr-var-item > .xr-var-name:hover span {\n  padding-right: 5px;\n}\n\n.xr-var-list > li:nth-child(odd) > div,\n.xr-var-list > li:nth-child(odd) > label,\n.xr-var-list > li:nth-child(odd) > .xr-var-name span {\n  background-color: var(--xr-background-color-row-odd);\n}\n\n.xr-var-name {\n  grid-column: 1;\n}\n\n.xr-var-dims {\n  grid-column: 2;\n}\n\n.xr-var-dtype {\n  grid-column: 3;\n  text-align: right;\n  color: var(--xr-font-color2);\n}\n\n.xr-var-preview {\n  grid-column: 4;\n}\n\n.xr-index-preview {\n  grid-column: 2 / 5;\n  color: var(--xr-font-color2);\n}\n\n.xr-var-name,\n.xr-var-dims,\n.xr-var-dtype,\n.xr-preview,\n.xr-attrs dt {\n  white-space: nowrap;\n  overflow: hidden;\n  text-overflow: ellipsis;\n  padding-right: 10px;\n}\n\n.xr-var-name:hover,\n.xr-var-dims:hover,\n.xr-var-dtype:hover,\n.xr-attrs dt:hover {\n  overflow: visible;\n  width: auto;\n  z-index: 1;\n}\n\n.xr-var-attrs,\n.xr-var-data,\n.xr-index-data {\n  display: none;\n  background-color: var(--xr-background-color) !important;\n  padding-bottom: 5px !important;\n}\n\n.xr-var-attrs-in:checked ~ .xr-var-attrs,\n.xr-var-data-in:checked ~ .xr-var-data,\n.xr-index-data-in:checked ~ .xr-index-data {\n  display: block;\n}\n\n.xr-var-data > table {\n  float: right;\n}\n\n.xr-var-name span,\n.xr-var-data,\n.xr-index-name div,\n.xr-index-data,\n.xr-attrs {\n  padding-left: 25px !important;\n}\n\n.xr-attrs,\n.xr-var-attrs,\n.xr-var-data,\n.xr-index-data {\n  grid-column: 1 / -1;\n}\n\ndl.xr-attrs {\n  padding: 0;\n  margin: 0;\n  display: grid;\n  grid-template-columns: 125px auto;\n}\n\n.xr-attrs dt,\n.xr-attrs dd {\n  padding: 0;\n  margin: 0;\n  float: left;\n  padding-right: 10px;\n  width: auto;\n}\n\n.xr-attrs dt {\n  font-weight: normal;\n  grid-column: 1;\n}\n\n.xr-attrs dt:hover span {\n  display: inline-block;\n  background: var(--xr-background-color);\n  padding-right: 10px;\n}\n\n.xr-attrs dd {\n  grid-column: 2;\n  white-space: pre-wrap;\n  word-break: break-all;\n}\n\n.xr-icon-database,\n.xr-icon-file-text2,\n.xr-no-icon {\n  display: inline-block;\n  vertical-align: middle;\n  width: 1em;\n  height: 1.5em !important;\n  stroke-width: 0;\n  stroke: currentColor;\n  fill: currentColor;\n}\n</style><pre class='xr-text-repr-fallback'>&lt;xarray.Dataset&gt; Size: 750MB\nDimensions:                 (y_outer: 37, y_inner: 32, x_outer: 34,\n                             x_inner: 32, time: 566)\nCoordinates:\n    latitude                (y_outer, y_inner, x_outer, x_inner) float64 10MB ...\n    longitude               (y_outer, y_inner, x_outer, x_inner) float64 10MB ...\n    missing_data_RV_recalc  (time) float32 2kB ...\n    step                    timedelta64[ns] 8B 00:00:00\n  * time                    (time) datetime64[ns] 5kB 2019-01-01T00:45:00 ......\n    x                       (x_outer, x_inner) float64 9kB -543.5 ... 543.5\n    y                       (y_outer, y_inner) float64 9kB -3.61e+03 ... -4.7...\nDimensions without coordinates: y_outer, y_inner, x_outer, x_inner\nData variables:\n    RV_recalc               (time, y_outer, y_inner, x_outer, x_inner) bool 729MB ...\nAttributes:\n    crs:        +proj=stere +lat_0=90 +lat_ts=90 +lon_0=10 +k=0.93301270189 +...\n    nodata:     nan\n    notes:      The grid point RV_recalc[0,0] corresponds to the top-left cor...\n    transform:  [1.0, 0.0, -543.4621669218559, 0.0, -1.0, -3609.644724265573]</pre><div class='xr-wrap' style='display:none'><div class='xr-header'><div class='xr-obj-type'>xarray.Dataset</div></div><ul class='xr-sections'><li class='xr-section-item'><input id='section-fa12df83-7aaa-4eb7-a977-f9b9b9ee9bd0' class='xr-section-summary-in' type='checkbox' disabled ><label for='section-fa12df83-7aaa-4eb7-a977-f9b9b9ee9bd0' class='xr-section-summary'  title='Expand/collapse section'>Dimensions:</label><div class='xr-section-inline-details'><ul class='xr-dim-list'><li><span>y_outer</span>: 37</li><li><span>y_inner</span>: 32</li><li><span>x_outer</span>: 34</li><li><span>x_inner</span>: 32</li><li><span class='xr-has-index'>time</span>: 566</li></ul></div><div class='xr-section-details'></div></li><li class='xr-section-item'><input id='section-31285eb0-d186-47b0-922c-56e57f35f138' class='xr-section-summary-in' type='checkbox'  checked><label for='section-31285eb0-d186-47b0-922c-56e57f35f138' class='xr-section-summary' >Coordinates: <span>(7)</span></label><div class='xr-section-inline-details'></div><div class='xr-section-details'><ul class='xr-var-list'><li class='xr-var-item'><div class='xr-var-name'><span>latitude</span></div><div class='xr-var-dims'>(y_outer, y_inner, x_outer, x_inner)</div><div class='xr-var-dtype'>float64</div><div class='xr-var-preview xr-preview'>55.86 55.86 55.86 ... 45.83 45.83</div><input id='attrs-21674120-100b-41f6-84ab-41af0e4a0427' class='xr-var-attrs-in' type='checkbox' disabled><label for='attrs-21674120-100b-41f6-84ab-41af0e4a0427' title='Show/Hide attributes'><svg class='icon xr-icon-file-text2'><use xlink:href='#icon-file-text2'></use></svg></label><input id='data-c0faa621-3bbe-468b-a864-3298b0f9f728' class='xr-var-data-in' type='checkbox'><label for='data-c0faa621-3bbe-468b-a864-3298b0f9f728' title='Show/Hide data repr'><svg class='icon xr-icon-database'><use xlink:href='#icon-database'></use></svg></label><div class='xr-var-attrs'><dl class='xr-attrs'></dl></div><div class='xr-var-data'><pre>array([[[[55.85713135, 55.85844174, 55.85974978, ..., 55.89417705,\n          55.89541913, 55.89665885],\n         [55.89789621, 55.89913121, 55.90036385, ..., 55.93275121,\n          55.9339176 , 55.93508161],\n         [55.93624326, 55.93740253, 55.93855943, ..., 55.96889827,\n          55.96998865, 55.97107665],\n         ...,\n         [55.97099441, 55.96990623, 55.96881567, ..., 55.93847198,\n          55.9373149 , 55.93615544],\n         [55.93499362, 55.93382943, 55.93266286, ..., 55.90027066,\n          55.89903784, 55.89780267],\n         [55.89656513, 55.89532523, 55.89408297, ..., 55.85965089,\n          55.85834267, 55.8570321 ]],\n\n        [[55.84842015, 55.84973013, 55.85103776, ..., 55.88545409,\n          55.88669577, 55.8879351 ],\n         [55.88917206, 55.89040667, 55.89163891, ..., 55.92401596,\n          55.92518197, 55.92634562],\n         [55.92750689, 55.9286658 , 55.92982233, ..., 55.96015149,\n          55.96124152, 55.96232917],\n...\n         [45.91655743, 45.91578463, 45.91501013, ..., 45.89345578,\n          45.89263368, 45.89180989],\n         [45.89098439, 45.8901572 , 45.88932831, ..., 45.86630714,\n          45.86543078, 45.86455272],\n         [45.86367297, 45.86279152, 45.86190839, ..., 45.83742425,\n          45.83649377, 45.8355616 ]],\n\n        [[45.82740726, 45.82833905, 45.82926916, ..., 45.85374337,\n          45.85462614, 45.85550723],\n         [45.85638662, 45.85726431, 45.85814032, ..., 45.88115193,\n          45.88198047, 45.88280732],\n         [45.88363246, 45.88445591, 45.88527767, ..., 45.90682283,\n          45.907597  , 45.90836946],\n         ...,\n         [45.90831107, 45.90753848, 45.90676418, ..., 45.88521555,\n          45.88439367, 45.88357009],\n         [45.88274481, 45.88191784, 45.88108917, ..., 45.85807409,\n          45.85719796, 45.85632013],\n         [45.85544062, 45.85455941, 45.8536765 , ..., 45.82919884,\n          45.82826861, 45.82733668]]]])</pre></div></li><li class='xr-var-item'><div class='xr-var-name'><span>longitude</span></div><div class='xr-var-dims'>(y_outer, y_inner, x_outer, x_inner)</div><div class='xr-var-dtype'>float64</div><div class='xr-var-preview xr-preview'>1.438 1.453 1.469 ... 16.46 16.47</div><input id='attrs-2d2b5c96-e627-466c-92de-5594db663dd1' class='xr-var-attrs-in' type='checkbox' disabled><label for='attrs-2d2b5c96-e627-466c-92de-5594db663dd1' title='Show/Hide attributes'><svg class='icon xr-icon-file-text2'><use xlink:href='#icon-file-text2'></use></svg></label><input id='data-845dd324-d12f-434f-8f92-6d096999d97f' class='xr-var-data-in' type='checkbox'><label for='data-845dd324-d12f-434f-8f92-6d096999d97f' title='Show/Hide data repr'><svg class='icon xr-icon-database'><use xlink:href='#icon-database'></use></svg></label><div class='xr-var-attrs'><dl class='xr-attrs'></dl></div><div class='xr-var-data'><pre>array([[[[ 1.43794961,  1.45347139,  1.46899442, ...,  1.88858636,\n           1.90414392,  1.91970268],\n         [ 1.93526264,  1.9508238 ,  1.96638616, ...,  2.38701368,\n           2.40260863,  2.41820471],\n         [ 2.43380191,  2.44940025,  2.46499971, ...,  2.88660274,\n           2.90223283,  2.91786399],\n         ...,\n         [17.0833188 , 17.09894987, 17.11457988, ..., 17.53618068,\n          17.55178005, 17.56737831],\n         [17.58297543, 17.59857142, 17.61416628, ..., 18.03479143,\n          18.05035369, 18.06591476],\n         [18.08147463, 18.0970333 , 18.11259077, ..., 18.53218019,\n          18.54770313, 18.56322481]],\n\n        [[ 1.44028582,  1.45580348,  1.47132241, ...,  1.89080301,\n           1.90635643,  1.92191105],\n         [ 1.93746687,  1.95302389,  1.9685821 , ...,  2.38909745,\n           2.40468822,  2.42028013],\n         [ 2.43587317,  2.45146734,  2.46706263, ...,  2.88855269,\n           2.90417858,  2.91980554],\n...\n         [15.34777824, 15.35963158, 15.37148445, ..., 15.69133464,\n          15.70317423, 15.71501334],\n         [15.72685195, 15.73869008, 15.75052771, ..., 16.06995445,\n          16.08177792, 16.09360088],\n         [16.10542331, 16.11724522, 16.12906661, ..., 16.4480429 ,\n          16.45984926, 16.47165506]],\n\n        [[ 3.53057691,  3.54238036,  3.55418436, ...,  3.87309679,\n           3.88491581,  3.89673535],\n         [ 3.90855541,  3.92037599,  3.93219709, ...,  4.25155962,\n           4.26339487,  4.27523061],\n         [ 4.28706685,  4.29890357,  4.31074078, ...,  4.63052643,\n           4.64237691,  4.65422786],\n         ...,\n         [15.34666887, 15.35851978, 15.37037023, ..., 15.69015491,\n          15.70199209, 15.71382877],\n         [15.72566497, 15.73750067, 15.74933589, ..., 16.06869739,\n          16.08051845, 16.09233899],\n         [16.10415901, 16.11597851, 16.12779749, ..., 16.44670883,\n          16.45851278, 16.47031618]]]])</pre></div></li><li class='xr-var-item'><div class='xr-var-name'><span>missing_data_RV_recalc</span></div><div class='xr-var-dims'>(time)</div><div class='xr-var-dtype'>float32</div><div class='xr-var-preview xr-preview'>...</div><input id='attrs-cd7bc95c-5056-4fe9-8094-773e32514a02' class='xr-var-attrs-in' type='checkbox' disabled><label for='attrs-cd7bc95c-5056-4fe9-8094-773e32514a02' title='Show/Hide attributes'><svg class='icon xr-icon-file-text2'><use xlink:href='#icon-file-text2'></use></svg></label><input id='data-6862b7d5-237a-40cb-aad7-1b454765eecc' class='xr-var-data-in' type='checkbox'><label for='data-6862b7d5-237a-40cb-aad7-1b454765eecc' title='Show/Hide data repr'><svg class='icon xr-icon-database'><use xlink:href='#icon-database'></use></svg></label><div class='xr-var-attrs'><dl class='xr-attrs'></dl></div><div class='xr-var-data'><pre>[566 values with dtype=float32]</pre></div></li><li class='xr-var-item'><div class='xr-var-name'><span>step</span></div><div class='xr-var-dims'>()</div><div class='xr-var-dtype'>timedelta64[ns]</div><div class='xr-var-preview xr-preview'>00:00:00</div><input id='attrs-bafde552-55ef-404d-9ecb-8623a063a057' class='xr-var-attrs-in' type='checkbox' disabled><label for='attrs-bafde552-55ef-404d-9ecb-8623a063a057' title='Show/Hide attributes'><svg class='icon xr-icon-file-text2'><use xlink:href='#icon-file-text2'></use></svg></label><input id='data-e2a1d93d-312f-42b1-9ba6-8169d2963797' class='xr-var-data-in' type='checkbox'><label for='data-e2a1d93d-312f-42b1-9ba6-8169d2963797' title='Show/Hide data repr'><svg class='icon xr-icon-database'><use xlink:href='#icon-database'></use></svg></label><div class='xr-var-attrs'><dl class='xr-attrs'></dl></div><div class='xr-var-data'><pre>array(0, dtype=&#x27;timedelta64[ns]&#x27;)</pre></div></li><li class='xr-var-item'><div class='xr-var-name'><span class='xr-has-index'>time</span></div><div class='xr-var-dims'>(time)</div><div class='xr-var-dtype'>datetime64[ns]</div><div class='xr-var-preview xr-preview'>2019-01-01T00:45:00 ... 2019-01-...</div><input id='attrs-ccb93caf-174d-4f0e-826f-87536d85386f' class='xr-var-attrs-in' type='checkbox' disabled><label for='attrs-ccb93caf-174d-4f0e-826f-87536d85386f' title='Show/Hide attributes'><svg class='icon xr-icon-file-text2'><use xlink:href='#icon-file-text2'></use></svg></label><input id='data-a25e9b55-564b-4212-aee6-c8d3afe54936' class='xr-var-data-in' type='checkbox'><label for='data-a25e9b55-564b-4212-aee6-c8d3afe54936' title='Show/Hide data repr'><svg class='icon xr-icon-database'><use xlink:href='#icon-database'></use></svg></label><div class='xr-var-attrs'><dl class='xr-attrs'></dl></div><div class='xr-var-data'><pre>array([&#x27;2019-01-01T00:45:00.000000000&#x27;, &#x27;2019-01-01T00:50:00.000000000&#x27;,\n       &#x27;2019-01-01T00:55:00.000000000&#x27;, ..., &#x27;2019-01-02T23:40:00.000000000&#x27;,\n       &#x27;2019-01-02T23:45:00.000000000&#x27;, &#x27;2019-01-02T23:50:00.000000000&#x27;],\n      dtype=&#x27;datetime64[ns]&#x27;)</pre></div></li><li class='xr-var-item'><div class='xr-var-name'><span>x</span></div><div class='xr-var-dims'>(x_outer, x_inner)</div><div class='xr-var-dtype'>float64</div><div class='xr-var-preview xr-preview'>-543.5 -542.5 ... 542.5 543.5</div><input id='attrs-fb9c0733-fc39-4260-89fa-e0cc053ad4c8' class='xr-var-attrs-in' type='checkbox' disabled><label for='attrs-fb9c0733-fc39-4260-89fa-e0cc053ad4c8' title='Show/Hide attributes'><svg class='icon xr-icon-file-text2'><use xlink:href='#icon-file-text2'></use></svg></label><input id='data-84fc1dd2-dfaf-4c19-8629-066581153011' class='xr-var-data-in' type='checkbox'><label for='data-84fc1dd2-dfaf-4c19-8629-066581153011' title='Show/Hide data repr'><svg class='icon xr-icon-database'><use xlink:href='#icon-database'></use></svg></label><div class='xr-var-attrs'><dl class='xr-attrs'></dl></div><div class='xr-var-data'><pre>array([[-543.46216692, -542.46216692, -541.46216692, ..., -514.46216692,\n        -513.46216692, -512.46216692],\n       [-511.46216692, -510.46216692, -509.46216692, ..., -482.46216692,\n        -481.46216692, -480.46216692],\n       [-479.46216692, -478.46216692, -477.46216692, ..., -450.46216692,\n        -449.46216692, -448.46216692],\n       ...,\n       [ 448.53783308,  449.53783308,  450.53783308, ...,  477.53783308,\n         478.53783308,  479.53783308],\n       [ 480.53783308,  481.53783308,  482.53783308, ...,  509.53783308,\n         510.53783308,  511.53783308],\n       [ 512.53783308,  513.53783308,  514.53783308, ...,  541.53783308,\n         542.53783308,  543.53783308]])</pre></div></li><li class='xr-var-item'><div class='xr-var-name'><span>y</span></div><div class='xr-var-dims'>(y_outer, y_inner)</div><div class='xr-var-dtype'>float64</div><div class='xr-var-preview xr-preview'>-3.61e+03 -3.611e+03 ... -4.793e+03</div><input id='attrs-02fb3596-3d5d-4c0d-ab67-c54fea777d70' class='xr-var-attrs-in' type='checkbox' disabled><label for='attrs-02fb3596-3d5d-4c0d-ab67-c54fea777d70' title='Show/Hide attributes'><svg class='icon xr-icon-file-text2'><use xlink:href='#icon-file-text2'></use></svg></label><input id='data-e9c044b5-0a80-41dd-b9c1-37843c07df03' class='xr-var-data-in' type='checkbox'><label for='data-e9c044b5-0a80-41dd-b9c1-37843c07df03' title='Show/Hide data repr'><svg class='icon xr-icon-database'><use xlink:href='#icon-database'></use></svg></label><div class='xr-var-attrs'><dl class='xr-attrs'></dl></div><div class='xr-var-data'><pre>array([[-3609.64472427, -3610.64472427, -3611.64472427, ...,\n        -3638.64472427, -3639.64472427, -3640.64472427],\n       [-3641.64472427, -3642.64472427, -3643.64472427, ...,\n        -3670.64472427, -3671.64472427, -3672.64472427],\n       [-3673.64472427, -3674.64472427, -3675.64472427, ...,\n        -3702.64472427, -3703.64472427, -3704.64472427],\n       ...,\n       [-4697.64472427, -4698.64472427, -4699.64472427, ...,\n        -4726.64472427, -4727.64472427, -4728.64472427],\n       [-4729.64472427, -4730.64472427, -4731.64472427, ...,\n        -4758.64472427, -4759.64472427, -4760.64472427],\n       [-4761.64472427, -4762.64472427, -4763.64472427, ...,\n        -4790.64472427, -4791.64472427, -4792.64472427]])</pre></div></li></ul></div></li><li class='xr-section-item'><input id='section-182f9fb5-d5c4-4f17-99e6-c2b0097675e6' class='xr-section-summary-in' type='checkbox'  checked><label for='section-182f9fb5-d5c4-4f17-99e6-c2b0097675e6' class='xr-section-summary' >Data variables: <span>(1)</span></label><div class='xr-section-inline-details'></div><div class='xr-section-details'><ul class='xr-var-list'><li class='xr-var-item'><div class='xr-var-name'><span>RV_recalc</span></div><div class='xr-var-dims'>(time, y_outer, y_inner, x_outer, x_inner)</div><div class='xr-var-dtype'>bool</div><div class='xr-var-preview xr-preview'>False False False ... False False</div><input id='attrs-27a34d4e-5270-4c26-8f9e-36bc475d30cc' class='xr-var-attrs-in' type='checkbox' disabled><label for='attrs-27a34d4e-5270-4c26-8f9e-36bc475d30cc' title='Show/Hide attributes'><svg class='icon xr-icon-file-text2'><use xlink:href='#icon-file-text2'></use></svg></label><input id='data-bc39afac-b9c7-4329-86c5-5bc1a7197038' class='xr-var-data-in' type='checkbox'><label for='data-bc39afac-b9c7-4329-86c5-5bc1a7197038' title='Show/Hide data repr'><svg class='icon xr-icon-database'><use xlink:href='#icon-database'></use></svg></label><div class='xr-var-attrs'><dl class='xr-attrs'></dl></div><div class='xr-var-data'><pre>array([[[[[False, False, False, ..., False, False, False],\n          [False, False, False, ..., False, False, False],\n          [False, False, False, ..., False, False, False],\n          ...,\n          [False, False, False, ..., False, False, False],\n          [False, False, False, ..., False, False, False],\n          [False, False, False, ..., False, False, False]],\n\n         [[False, False, False, ..., False, False, False],\n          [False, False, False, ..., False, False, False],\n          [False, False, False, ..., False, False, False],\n          ...,\n          [False, False, False, ..., False, False, False],\n          [False, False, False, ..., False, False, False],\n          [False, False, False, ..., False, False, False]],\n\n         [[False, False, False, ..., False, False, False],\n          [False, False, False, ..., False, False, False],\n          [False, False, False, ..., False, False, False],\n          ...,\n...\n          ...,\n          [False, False, False, ..., False, False, False],\n          [False, False, False, ..., False, False, False],\n          [False, False, False, ..., False, False, False]],\n\n         [[False, False, False, ..., False, False, False],\n          [False, False, False, ..., False, False, False],\n          [False, False, False, ..., False, False, False],\n          ...,\n          [False, False, False, ..., False, False, False],\n          [False, False, False, ..., False, False, False],\n          [False, False, False, ..., False, False, False]],\n\n         [[False, False, False, ..., False, False, False],\n          [False, False, False, ..., False, False, False],\n          [False, False, False, ..., False, False, False],\n          ...,\n          [False, False, False, ..., False, False, False],\n          [False, False, False, ..., False, False, False],\n          [False, False, False, ..., False, False, False]]]]])</pre></div></li></ul></div></li><li class='xr-section-item'><input id='section-34bdd04d-3053-444e-988e-311885737978' class='xr-section-summary-in' type='checkbox'  ><label for='section-34bdd04d-3053-444e-988e-311885737978' class='xr-section-summary' >Indexes: <span>(1)</span></label><div class='xr-section-inline-details'></div><div class='xr-section-details'><ul class='xr-var-list'><li class='xr-var-item'><div class='xr-index-name'><div>time</div></div><div class='xr-index-preview'>PandasIndex</div><div></div><input id='index-41eab5d8-c56b-4607-b195-d09c34285c3d' class='xr-index-data-in' type='checkbox'/><label for='index-41eab5d8-c56b-4607-b195-d09c34285c3d' title='Show/Hide index repr'><svg class='icon xr-icon-database'><use xlink:href='#icon-database'></use></svg></label><div class='xr-index-data'><pre>PandasIndex(DatetimeIndex([&#x27;2019-01-01 00:45:00&#x27;, &#x27;2019-01-01 00:50:00&#x27;,\n               &#x27;2019-01-01 00:55:00&#x27;, &#x27;2019-01-01 01:00:00&#x27;,\n               &#x27;2019-01-01 01:05:00&#x27;, &#x27;2019-01-01 01:10:00&#x27;,\n               &#x27;2019-01-01 01:15:00&#x27;, &#x27;2019-01-01 01:20:00&#x27;,\n               &#x27;2019-01-01 01:25:00&#x27;, &#x27;2019-01-01 01:30:00&#x27;,\n               ...\n               &#x27;2019-01-02 23:05:00&#x27;, &#x27;2019-01-02 23:10:00&#x27;,\n               &#x27;2019-01-02 23:15:00&#x27;, &#x27;2019-01-02 23:20:00&#x27;,\n               &#x27;2019-01-02 23:25:00&#x27;, &#x27;2019-01-02 23:30:00&#x27;,\n               &#x27;2019-01-02 23:35:00&#x27;, &#x27;2019-01-02 23:40:00&#x27;,\n               &#x27;2019-01-02 23:45:00&#x27;, &#x27;2019-01-02 23:50:00&#x27;],\n              dtype=&#x27;datetime64[ns]&#x27;, name=&#x27;time&#x27;, length=566, freq=None))</pre></div></li></ul></div></li><li class='xr-section-item'><input id='section-6888a5fc-cdd9-4205-a928-3422ee9bc224' class='xr-section-summary-in' type='checkbox'  checked><label for='section-6888a5fc-cdd9-4205-a928-3422ee9bc224' class='xr-section-summary' >Attributes: <span>(4)</span></label><div class='xr-section-inline-details'></div><div class='xr-section-details'><dl class='xr-attrs'><dt><span>crs :</span></dt><dd>+proj=stere +lat_0=90 +lat_ts=90 +lon_0=10 +k=0.93301270189 +x_0=0 +y_0=0 +a=6370040 +b=6370040 +to_meter=1000 +no_defs</dd><dt><span>nodata :</span></dt><dd>nan</dd><dt><span>notes :</span></dt><dd>The grid point RV_recalc[0,0] corresponds to the top-left corner. Transform root point is top-left. Grid coordinates indicate the bottom left corner of the pixel. The data values were interpolated if the time values of the dataset did not match the desired time values.</dd><dt><span>transform :</span></dt><dd>[1.0, 0.0, -543.4621669218559, 0.0, -1.0, -3609.644724265573]</dd></dl></div></li></ul></div></div>"
     },
     "execution_count": 95,
     "metadata": {},
     "output_type": "execute_result"
    }
   ],
   "source": [
    "valid_patches"
   ],
   "metadata": {
    "collapsed": false,
    "ExecuteTime": {
     "end_time": "2024-08-26T12:47:33.220312Z",
     "start_time": "2024-08-26T12:47:33.196082Z"
    }
   },
   "id": "8a5cf4f53c127b05",
   "execution_count": 95
  },
  {
   "cell_type": "code",
   "outputs": [
    {
     "data": {
      "text/plain": "ItemsView(<xarray.Dataset> Size: 21kB\nDimensions:                 (y_inner: 32, x_inner: 32)\nCoordinates:\n    latitude                (y_inner, x_inner) float64 8kB 54.78 54.78 ... 54.5\n    longitude               (y_inner, x_inner) float64 8kB 12.44 12.45 ... 12.89\n    missing_data_RV_recalc  float32 4B ...\n    step                    timedelta64[ns] 8B 00:00:00\n    time                    datetime64[ns] 8B 2019-01-01T14:00:00\n    x                       (x_inner) float64 256B 160.5 161.5 ... 190.5 191.5\n    y                       (y_inner) float64 256B -3.77e+03 ... -3.801e+03\nDimensions without coordinates: y_inner, x_inner\nData variables:\n    RV_recalc               (y_inner, x_inner) float32 4kB 0.0 0.0 ... 0.0 0.0\nAttributes:\n    crs:        +proj=stere +lat_0=90 +lat_ts=90 +lon_0=10 +k=0.93301270189 +...\n    nodata:     nan\n    notes:      The grid point RV_recalc[0,0] corresponds to the top-left cor...\n    transform:  [1.0, 0.0, -543.4621669218559, 0.0, -1.0, -3609.644724265573])"
     },
     "execution_count": 89,
     "metadata": {},
     "output_type": "execute_result"
    }
   ],
   "source": [
    "sample_block.items()"
   ],
   "metadata": {
    "collapsed": false,
    "ExecuteTime": {
     "end_time": "2024-08-26T12:34:53.374864Z",
     "start_time": "2024-08-26T12:34:53.367266Z"
    }
   },
   "id": "f2fdf32b1a759b71",
   "execution_count": 89
  },
  {
   "cell_type": "code",
   "outputs": [],
   "source": [
    "# Test filter on all samples\n",
    "for i in range(valid_coords.shape[0]):\n",
    "# i = 1\n",
    "    coord = valid_coords[i, :]\n",
    "    block = patches.isel(\n",
    "        time = coord[0],\n",
    "        y_outer = coord[1],\n",
    "        x_outer = coord[2])\n",
    "    block = block.squeeze()\n",
    "    block_vals = block.RV_recalc.values\n",
    "    \n",
    "    pixel_over_thres_ratio = (block_vals > threshold).sum() / len(sample_block_vals)\n",
    "    if pixel_over_thres_ratio < threshold_percentage_pixels:\n",
    "        print(f'Ratio is {pixel_over_thres_ratio} which is below {threshold_percentage_pixels}')"
   ],
   "metadata": {
    "collapsed": false,
    "ExecuteTime": {
     "end_time": "2024-08-26T12:49:09.421968Z",
     "start_time": "2024-08-26T12:49:04.693753Z"
    }
   },
   "id": "904746fad8b87f6c",
   "execution_count": 100
  },
  {
   "cell_type": "code",
   "outputs": [],
   "source": [
    "# TODO: This is bullshit! Ask someone how to expand an existing target!\n",
    "def expand_dataset(small_data: xr.Dataset, original_data: xr.Dataset, window_size: int):\n",
    "    \"\"\"\n",
    "    Expands a smaller xarray dataset to a larger size based on the original dataset's context.\n",
    "    \n",
    "    Args:\n",
    "    small_data (xr.Dataset): The smaller dataset with dimensions 'y_inner' and 'x_inner'.\n",
    "    original_data (xr.Dataset): The original larger dataset with variable 'data_shortened'.\n",
    "    window_size (int): The size in units to expand around the small_data's dimensions.\n",
    "    \n",
    "    Returns:\n",
    "    xr.Dataset: An expanded dataset.\n",
    "    \"\"\"\n",
    "    # Extract coordinates from the smaller dataset\n",
    "    y_inner_min, y_inner_max = small_data.y_inner.min().item(), small_data.y_inner.max().item()\n",
    "    x_inner_min, x_inner_max = small_data.x_inner.min().item(), small_data.x_inner.max().item()\n",
    "    \n",
    "    # Define new bounds\n",
    "    new_y = np.arange(y_inner_min - window_size, y_inner_max + window_size + 1)\n",
    "    new_x = np.arange(x_inner_min - window_size, x_inner_max + window_size + 1)\n",
    "    \n",
    "    # Initialize a new dataset\n",
    "    new_ds = xr.Dataset({\n",
    "        'data_shortened': (('y_inner', 'x_inner'), np.full((len(new_y), len(new_x)), np.nan))  # Initialize with NaNs\n",
    "    }, coords={'y_inner': new_y, 'x_inner': new_x})\n",
    "    \n",
    "    # Fill the new dataset with data from the original dataset using nearest neighbor interpolation\n",
    "    new_ds['data_shortened'] = original_data['data_shortened'].sel(\n",
    "        y_inner=new_y, x_inner=new_x, method='nearest'\n",
    "    )\n",
    "\n",
    "    return new_ds"
   ],
   "metadata": {
    "collapsed": false,
    "ExecuteTime": {
     "end_time": "2024-08-26T11:02:53.412570Z",
     "start_time": "2024-08-26T11:02:53.405062Z"
    }
   },
   "id": "44ef1a77c4646a7d",
   "execution_count": 35
  },
  {
   "cell_type": "code",
   "outputs": [
    {
     "ename": "KeyError",
     "evalue": "\"No variable named 'data_shortened'. Variables on the dataset include ['RV_recalc', 'latitude', 'longitude', 'missing_data_RV_recalc', 'step', 'time', 'x', 'y']\"",
     "output_type": "error",
     "traceback": [
      "\u001B[0;31m---------------------------------------------------------------------------\u001B[0m",
      "\u001B[0;31mKeyError\u001B[0m                                  Traceback (most recent call last)",
      "\u001B[0;32m~/miniforge3/envs/test_xarray_3_9/lib/python3.9/site-packages/xarray/core/dataset.py\u001B[0m in \u001B[0;36m?\u001B[0;34m(self, name)\u001B[0m\n\u001B[1;32m   1477\u001B[0m             \u001B[0mvariable\u001B[0m \u001B[0;34m=\u001B[0m \u001B[0mself\u001B[0m\u001B[0;34m.\u001B[0m\u001B[0m_variables\u001B[0m\u001B[0;34m[\u001B[0m\u001B[0mname\u001B[0m\u001B[0;34m]\u001B[0m\u001B[0;34m\u001B[0m\u001B[0;34m\u001B[0m\u001B[0m\n\u001B[1;32m   1478\u001B[0m         \u001B[0;32mexcept\u001B[0m \u001B[0mKeyError\u001B[0m\u001B[0;34m:\u001B[0m\u001B[0;34m\u001B[0m\u001B[0;34m\u001B[0m\u001B[0m\n\u001B[0;32m-> 1479\u001B[0;31m             \u001B[0m_\u001B[0m\u001B[0;34m,\u001B[0m \u001B[0mname\u001B[0m\u001B[0;34m,\u001B[0m \u001B[0mvariable\u001B[0m \u001B[0;34m=\u001B[0m \u001B[0m_get_virtual_variable\u001B[0m\u001B[0;34m(\u001B[0m\u001B[0mself\u001B[0m\u001B[0;34m.\u001B[0m\u001B[0m_variables\u001B[0m\u001B[0;34m,\u001B[0m \u001B[0mname\u001B[0m\u001B[0;34m,\u001B[0m \u001B[0mself\u001B[0m\u001B[0;34m.\u001B[0m\u001B[0msizes\u001B[0m\u001B[0;34m)\u001B[0m\u001B[0;34m\u001B[0m\u001B[0;34m\u001B[0m\u001B[0m\n\u001B[0m\u001B[1;32m   1480\u001B[0m \u001B[0;34m\u001B[0m\u001B[0m\n",
      "\u001B[0;31mKeyError\u001B[0m: 'data_shortened'",
      "\nDuring handling of the above exception, another exception occurred:\n",
      "\u001B[0;31mKeyError\u001B[0m                                  Traceback (most recent call last)",
      "\u001B[0;32m~/miniforge3/envs/test_xarray_3_9/lib/python3.9/site-packages/xarray/core/dataset.py\u001B[0m in \u001B[0;36m?\u001B[0;34m(self, key)\u001B[0m\n\u001B[1;32m   1576\u001B[0m                 \u001B[0;32mreturn\u001B[0m \u001B[0mself\u001B[0m\u001B[0;34m.\u001B[0m\u001B[0m_construct_dataarray\u001B[0m\u001B[0;34m(\u001B[0m\u001B[0mkey\u001B[0m\u001B[0;34m)\u001B[0m\u001B[0;34m\u001B[0m\u001B[0;34m\u001B[0m\u001B[0m\n\u001B[1;32m   1577\u001B[0m             \u001B[0;32mexcept\u001B[0m \u001B[0mKeyError\u001B[0m \u001B[0;32mas\u001B[0m \u001B[0me\u001B[0m\u001B[0;34m:\u001B[0m\u001B[0;34m\u001B[0m\u001B[0;34m\u001B[0m\u001B[0m\n\u001B[0;32m-> 1578\u001B[0;31m                 raise KeyError(\n\u001B[0m\u001B[1;32m   1579\u001B[0m                     \u001B[0;34mf\"No variable named {key!r}. Variables on the dataset include {shorten_list_repr(list(self.variables.keys()), max_items=10)}\"\u001B[0m\u001B[0;34m\u001B[0m\u001B[0;34m\u001B[0m\u001B[0m\n",
      "\u001B[0;32m~/miniforge3/envs/test_xarray_3_9/lib/python3.9/site-packages/xarray/core/dataset.py\u001B[0m in \u001B[0;36m?\u001B[0;34m(self, name)\u001B[0m\n\u001B[1;32m   1477\u001B[0m             \u001B[0mvariable\u001B[0m \u001B[0;34m=\u001B[0m \u001B[0mself\u001B[0m\u001B[0;34m.\u001B[0m\u001B[0m_variables\u001B[0m\u001B[0;34m[\u001B[0m\u001B[0mname\u001B[0m\u001B[0;34m]\u001B[0m\u001B[0;34m\u001B[0m\u001B[0;34m\u001B[0m\u001B[0m\n\u001B[1;32m   1478\u001B[0m         \u001B[0;32mexcept\u001B[0m \u001B[0mKeyError\u001B[0m\u001B[0;34m:\u001B[0m\u001B[0;34m\u001B[0m\u001B[0;34m\u001B[0m\u001B[0m\n\u001B[0;32m-> 1479\u001B[0;31m             \u001B[0m_\u001B[0m\u001B[0;34m,\u001B[0m \u001B[0mname\u001B[0m\u001B[0;34m,\u001B[0m \u001B[0mvariable\u001B[0m \u001B[0;34m=\u001B[0m \u001B[0m_get_virtual_variable\u001B[0m\u001B[0;34m(\u001B[0m\u001B[0mself\u001B[0m\u001B[0;34m.\u001B[0m\u001B[0m_variables\u001B[0m\u001B[0;34m,\u001B[0m \u001B[0mname\u001B[0m\u001B[0;34m,\u001B[0m \u001B[0mself\u001B[0m\u001B[0;34m.\u001B[0m\u001B[0msizes\u001B[0m\u001B[0;34m)\u001B[0m\u001B[0;34m\u001B[0m\u001B[0;34m\u001B[0m\u001B[0m\n\u001B[0m\u001B[1;32m   1480\u001B[0m \u001B[0;34m\u001B[0m\u001B[0m\n",
      "\u001B[0;32m~/miniforge3/envs/test_xarray_3_9/lib/python3.9/site-packages/xarray/core/dataset.py\u001B[0m in \u001B[0;36m?\u001B[0;34m(variables, key, dim_sizes)\u001B[0m\n\u001B[1;32m    211\u001B[0m     \u001B[0msplit_key\u001B[0m \u001B[0;34m=\u001B[0m \u001B[0mkey\u001B[0m\u001B[0;34m.\u001B[0m\u001B[0msplit\u001B[0m\u001B[0;34m(\u001B[0m\u001B[0;34m\".\"\u001B[0m\u001B[0;34m,\u001B[0m \u001B[0;36m1\u001B[0m\u001B[0;34m)\u001B[0m\u001B[0;34m\u001B[0m\u001B[0;34m\u001B[0m\u001B[0m\n\u001B[1;32m    212\u001B[0m     \u001B[0;32mif\u001B[0m \u001B[0mlen\u001B[0m\u001B[0;34m(\u001B[0m\u001B[0msplit_key\u001B[0m\u001B[0;34m)\u001B[0m \u001B[0;34m!=\u001B[0m \u001B[0;36m2\u001B[0m\u001B[0;34m:\u001B[0m\u001B[0;34m\u001B[0m\u001B[0;34m\u001B[0m\u001B[0m\n\u001B[0;32m--> 213\u001B[0;31m         \u001B[0;32mraise\u001B[0m \u001B[0mKeyError\u001B[0m\u001B[0;34m(\u001B[0m\u001B[0mkey\u001B[0m\u001B[0;34m)\u001B[0m\u001B[0;34m\u001B[0m\u001B[0;34m\u001B[0m\u001B[0m\n\u001B[0m\u001B[1;32m    214\u001B[0m \u001B[0;34m\u001B[0m\u001B[0m\n",
      "\u001B[0;31mKeyError\u001B[0m: 'data_shortened'",
      "\nThe above exception was the direct cause of the following exception:\n",
      "\u001B[0;31mKeyError\u001B[0m                                  Traceback (most recent call last)",
      "\u001B[0;32m/var/folders/5c/x5dxs5nx73s3_0cfznwz3kbw0000gn/T/ipykernel_5475/1123890459.py\u001B[0m in \u001B[0;36m?\u001B[0;34m()\u001B[0m\n\u001B[0;32m----> 1\u001B[0;31m \u001B[0mexpanded_ds\u001B[0m \u001B[0;34m=\u001B[0m \u001B[0mexpand_dataset\u001B[0m\u001B[0;34m(\u001B[0m\u001B[0msample_block\u001B[0m\u001B[0;34m,\u001B[0m \u001B[0mdata_shortened\u001B[0m\u001B[0;34m,\u001B[0m \u001B[0;36m16\u001B[0m\u001B[0;34m)\u001B[0m\u001B[0;34m\u001B[0m\u001B[0;34m\u001B[0m\u001B[0m\n\u001B[0m",
      "\u001B[0;32m/var/folders/5c/x5dxs5nx73s3_0cfznwz3kbw0000gn/T/ipykernel_5475/1457809488.py\u001B[0m in \u001B[0;36m?\u001B[0;34m(small_data, original_data, window_size)\u001B[0m\n\u001B[1;32m     24\u001B[0m         \u001B[0;34m'data_shortened'\u001B[0m\u001B[0;34m:\u001B[0m \u001B[0;34m(\u001B[0m\u001B[0;34m(\u001B[0m\u001B[0;34m'y_inner'\u001B[0m\u001B[0;34m,\u001B[0m \u001B[0;34m'x_inner'\u001B[0m\u001B[0;34m)\u001B[0m\u001B[0;34m,\u001B[0m \u001B[0mnp\u001B[0m\u001B[0;34m.\u001B[0m\u001B[0mfull\u001B[0m\u001B[0;34m(\u001B[0m\u001B[0;34m(\u001B[0m\u001B[0mlen\u001B[0m\u001B[0;34m(\u001B[0m\u001B[0mnew_y\u001B[0m\u001B[0;34m)\u001B[0m\u001B[0;34m,\u001B[0m \u001B[0mlen\u001B[0m\u001B[0;34m(\u001B[0m\u001B[0mnew_x\u001B[0m\u001B[0;34m)\u001B[0m\u001B[0;34m)\u001B[0m\u001B[0;34m,\u001B[0m \u001B[0mnp\u001B[0m\u001B[0;34m.\u001B[0m\u001B[0mnan\u001B[0m\u001B[0;34m)\u001B[0m\u001B[0;34m)\u001B[0m  \u001B[0;31m# Initialize with NaNs\u001B[0m\u001B[0;34m\u001B[0m\u001B[0;34m\u001B[0m\u001B[0m\n\u001B[1;32m     25\u001B[0m     }, coords={'y_inner': new_y, 'x_inner': new_x})\n\u001B[1;32m     26\u001B[0m \u001B[0;34m\u001B[0m\u001B[0m\n\u001B[1;32m     27\u001B[0m     \u001B[0;31m# Fill the new dataset with data from the original dataset using nearest neighbor interpolation\u001B[0m\u001B[0;34m\u001B[0m\u001B[0;34m\u001B[0m\u001B[0m\n\u001B[0;32m---> 28\u001B[0;31m     new_ds['data_shortened'] = original_data['data_shortened'].sel(\n\u001B[0m\u001B[1;32m     29\u001B[0m         \u001B[0my_inner\u001B[0m\u001B[0;34m=\u001B[0m\u001B[0mnew_y\u001B[0m\u001B[0;34m,\u001B[0m \u001B[0mx_inner\u001B[0m\u001B[0;34m=\u001B[0m\u001B[0mnew_x\u001B[0m\u001B[0;34m,\u001B[0m \u001B[0mmethod\u001B[0m\u001B[0;34m=\u001B[0m\u001B[0;34m'nearest'\u001B[0m\u001B[0;34m\u001B[0m\u001B[0;34m\u001B[0m\u001B[0m\n\u001B[1;32m     30\u001B[0m     )\n\u001B[1;32m     31\u001B[0m \u001B[0;34m\u001B[0m\u001B[0m\n",
      "\u001B[0;32m~/miniforge3/envs/test_xarray_3_9/lib/python3.9/site-packages/xarray/core/dataset.py\u001B[0m in \u001B[0;36m?\u001B[0;34m(self, key)\u001B[0m\n\u001B[1;32m   1574\u001B[0m         \u001B[0;32mif\u001B[0m \u001B[0mutils\u001B[0m\u001B[0;34m.\u001B[0m\u001B[0mhashable\u001B[0m\u001B[0;34m(\u001B[0m\u001B[0mkey\u001B[0m\u001B[0;34m)\u001B[0m\u001B[0;34m:\u001B[0m\u001B[0;34m\u001B[0m\u001B[0;34m\u001B[0m\u001B[0m\n\u001B[1;32m   1575\u001B[0m             \u001B[0;32mtry\u001B[0m\u001B[0;34m:\u001B[0m\u001B[0;34m\u001B[0m\u001B[0;34m\u001B[0m\u001B[0m\n\u001B[1;32m   1576\u001B[0m                 \u001B[0;32mreturn\u001B[0m \u001B[0mself\u001B[0m\u001B[0;34m.\u001B[0m\u001B[0m_construct_dataarray\u001B[0m\u001B[0;34m(\u001B[0m\u001B[0mkey\u001B[0m\u001B[0;34m)\u001B[0m\u001B[0;34m\u001B[0m\u001B[0;34m\u001B[0m\u001B[0m\n\u001B[1;32m   1577\u001B[0m             \u001B[0;32mexcept\u001B[0m \u001B[0mKeyError\u001B[0m \u001B[0;32mas\u001B[0m \u001B[0me\u001B[0m\u001B[0;34m:\u001B[0m\u001B[0;34m\u001B[0m\u001B[0;34m\u001B[0m\u001B[0m\n\u001B[0;32m-> 1578\u001B[0;31m                 raise KeyError(\n\u001B[0m\u001B[1;32m   1579\u001B[0m                     \u001B[0;34mf\"No variable named {key!r}. Variables on the dataset include {shorten_list_repr(list(self.variables.keys()), max_items=10)}\"\u001B[0m\u001B[0;34m\u001B[0m\u001B[0;34m\u001B[0m\u001B[0m\n\u001B[1;32m   1580\u001B[0m                 ) from e\n\u001B[1;32m   1581\u001B[0m \u001B[0;34m\u001B[0m\u001B[0m\n",
      "\u001B[0;31mKeyError\u001B[0m: \"No variable named 'data_shortened'. Variables on the dataset include ['RV_recalc', 'latitude', 'longitude', 'missing_data_RV_recalc', 'step', 'time', 'x', 'y']\""
     ]
    }
   ],
   "source": [
    "expanded_ds = expand_dataset(sample_block, data_shortened, 16)"
   ],
   "metadata": {
    "collapsed": false,
    "ExecuteTime": {
     "end_time": "2024-08-26T11:02:54.193377Z",
     "start_time": "2024-08-26T11:02:54.158220Z"
    }
   },
   "id": "cff6b43909f72d5b",
   "execution_count": 36
  },
  {
   "cell_type": "code",
   "outputs": [],
   "source": [
    "# Convert this bullshit to Xarray!!!!\n",
    "def truncate_nan_padding(data_array):\n",
    "    valid_mask = ~np.isnan(data_array)\n",
    "    valid_heights = valid_mask.any(dim='width')\n",
    "    valid_widths = valid_mask.any(dim='height')\n",
    "    \n",
    "    min_height_idx = valid_heights.any(dim='time').argmax().item()\n",
    "    max_height_idx = valid_heights.any(dim='time').size - valid_heights.any(dim='time')[::-1].argmax().item() - 1\n",
    "    min_width_idx = valid_widths.any(dim='time').argmax().item()\n",
    "    max_width_idx = valid_widths.any(dim='time').size - valid_widths.any(dim='time')[::-1].argmax().item() - 1\n",
    "    \n",
    "    truncated_data_array = data_array[:, min_height_idx:max_height_idx+1, min_width_idx:max_width_idx+1]\n",
    "\n",
    "    return truncated_data_array\n",
    "\n",
    "#(not yet tested), see https://chatgpt.com/share/402e7603-5bfd-4847-b6fc-48639cfdcb00"
   ],
   "metadata": {
    "collapsed": false,
    "ExecuteTime": {
     "end_time": "2024-08-26T10:40:53.269352Z",
     "start_time": "2024-08-26T10:40:53.264126Z"
    }
   },
   "id": "250d760680da99b7",
   "execution_count": 18
  },
  {
   "cell_type": "code",
   "outputs": [],
   "source": [
    "num_input_frames = 4\n",
    "lead_time = 4\n",
    "pt = num_input_frames + lead_time + 1 # how many time steps to include in a sample (i.e. context and target)\n",
    "# \n",
    "# This defines the size of the patches, that are created by coarsen\n",
    "py, px = 32, 32 #73, 137 # how many pixels in y and x direction\n",
    "threshold = 0.1 # threshold for each pixel filter condition\n",
    "threshold_percentage_pixels = 0.5\n",
    "# define slices for the center pixels of the blocks to apply the filter to\n",
    "# The height and width of the (potentially smaller center) patches that the filter is calculated on\n",
    "length_width_center_even = 32\n",
    "\n",
    "# In the current implementation py and px define the size of the target patches (previously those were the larger input patches)\n",
    "# length_width_center_even as the same size as py and px, as the filter condition is calculated on the target patches\n",
    "\n",
    "# OLD CELL:\n",
    "\n",
    "#Implementation where it ios possible to filter on a smaller center of the patches:\n",
    "\n",
    "\n",
    "# TODO: Crop the beginning of the data, such that we can always generate inputs from the target indecies\n",
    "\n",
    "center_x = slice(px // 2 - length_width_center_even // 2, px // 2 + length_width_center_even // 2) # starting from center pixel we crop in range length_width_target_even\n",
    "center_y = slice(py // 2 - length_width_center_even // 2, py // 2 + length_width_center_even // 2) # starting from center pixel we crop in range length_width_target_even\n",
    "# partition the data into pt x py x px blocks using coarsen --> construct DatasetCoarsen object\n",
    "# We are only choosing the targets here\n",
    "coarse = data_shortened.coarsen(\n",
    "    y = py,\n",
    "    x = px,\n",
    "    # time = 1, # TODO: This way we are making patches with 4 subsequent time frames. This way we are only taking a target every 'pt'th time step\n",
    "    side = \"left\", # \"left\" means that the blocks are aligned to the left of the input\n",
    "    boundary=\"trim\") # boundary=\"trim\" removes the last block if it is too small\n",
    "# construct a new data set, where the blocks are folded into a new dimension\n",
    "folded = coarse.construct(\n",
    "    # time = (\"time_outer\", \"time_inner\"),\n",
    "    y = (\"y_outer\", \"y_inner\"),\n",
    "    x = (\"x_outer\", \"x_inner\"))\n",
    "# get the value of the center pixels of each block and take their mean\n",
    "center = folded.isel(\n",
    "    y_inner = center_y,\n",
    "    x_inner = center_x)\n",
    "# define a threshold for each pixel --> we get a pixel-wise boo\n",
    "center_boolean_pixelwise = center > threshold\n",
    "# We are calculating the percentage of pixels that passed filter (mean of boolean gives percentage of True)\n",
    "center_percentage_boo = center_boolean_pixelwise.mean((\"y_inner\", \"x_inner\")) #, \"time_inner\"\n",
    "\n",
    "valid_center = center_percentage_boo > threshold_percentage_pixels"
   ],
   "metadata": {
    "collapsed": false
   },
   "id": "aa43e49f578e5e8e"
  }
 ],
 "metadata": {
  "kernelspec": {
   "display_name": "Python 3",
   "language": "python",
   "name": "python3"
  },
  "language_info": {
   "codemirror_mode": {
    "name": "ipython",
    "version": 2
   },
   "file_extension": ".py",
   "mimetype": "text/x-python",
   "name": "python",
   "nbconvert_exporter": "python",
   "pygments_lexer": "ipython2",
   "version": "2.7.6"
  }
 },
 "nbformat": 4,
 "nbformat_minor": 5
}

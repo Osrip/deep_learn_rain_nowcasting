{
 "cells": [
  {
   "cell_type": "code",
   "id": "initial_id",
   "metadata": {
    "collapsed": true,
    "ExecuteTime": {
     "end_time": "2025-01-23T15:17:14.046823Z",
     "start_time": "2025-01-23T15:17:14.044105Z"
    }
   },
   "source": [
    "import torch\n",
    "import os"
   ],
   "outputs": [],
   "execution_count": 8
  },
  {
   "metadata": {
    "ExecuteTime": {
     "end_time": "2025-01-23T15:17:14.716224Z",
     "start_time": "2025-01-23T15:17:14.711698Z"
    }
   },
   "cell_type": "code",
   "source": [
    "def save_torch_tensor(tensor, filename='tensor.pt'):\n",
    "    save_dir = os.path.expanduser('~/Downloads/saved_tensors')\n",
    "    os.makedirs(save_dir, exist_ok=True)\n",
    "    file_path = os.path.join(save_dir, filename)\n",
    "    torch.save(tensor, file_path)\n",
    "    print(f\"Saved tensor to {file_path}\")\n",
    "def load_torch_tensor(filename='tensor.pt'):\n",
    "    load_path = os.path.join(os.path.expanduser('~/Downloads/saved_tensors'), filename)\n",
    "    if not os.path.exists(load_path):\n",
    "        raise FileNotFoundError(f\"No tensor file found at {load_path}\")\n",
    "    tensor = torch.load(load_path, map_location=torch.device('cpu'))\n",
    "    print(f\"Loaded tensor from {load_path}\")\n",
    "    return tensor"
   ],
   "id": "4a642b5e68115193",
   "outputs": [],
   "execution_count": 9
  },
  {
   "metadata": {
    "ExecuteTime": {
     "end_time": "2025-01-23T15:17:15.380776Z",
     "start_time": "2025-01-23T15:17:15.289942Z"
    }
   },
   "cell_type": "code",
   "source": "target_binned = load_torch_tensor()",
   "id": "3e6c9abf6017a45b",
   "outputs": [
    {
     "name": "stdout",
     "output_type": "stream",
     "text": [
      "Loaded tensor from /Users/jan/Downloads/saved_tensors/tensor.pt\n"
     ]
    }
   ],
   "execution_count": 10
  },
  {
   "metadata": {
    "ExecuteTime": {
     "end_time": "2025-01-23T15:29:29.553481Z",
     "start_time": "2025-01-23T15:29:29.545470Z"
    }
   },
   "cell_type": "code",
   "source": [
    "import torch\n",
    "import torch.nn.functional as F\n",
    "\n",
    "def dlbd(input_tensor, kernel_size=5, sigma=1.0):\n",
    "    \"\"\"\n",
    "    input_tensor shape: (B, C, H, W)\n",
    "    kernel_size: size of the gaussian kernel (must be odd)\n",
    "    sigma: standard deviation of the gaussian\n",
    "    \"\"\"\n",
    "    # 1D gaussian\n",
    "    coords = torch.arange(kernel_size) - kernel_size // 2\n",
    "    g_1d = torch.exp(-(coords**2) / (2 * sigma**2))\n",
    "    g_1d /= g_1d.sum()  # normalize\n",
    "\n",
    "    # 2D gaussian kernel\n",
    "    g_2d = g_1d[:, None] * g_1d[None, :]\n",
    "    g_2d = g_2d.view(1, 1, kernel_size, kernel_size)\n",
    "    g_2d = g_2d.to(input_tensor.device, dtype=input_tensor.dtype)\n",
    "\n",
    "    # Repeat kernel for every channel\n",
    "    # -> shape (C, 1, K, K) so each channel is convolved separately\n",
    "    g_2d = g_2d.repeat(input_tensor.shape[1], 1, 1, 1)\n",
    "    print(g_2d.shape)\n",
    "    print(f'Input tensor shape {input_tensor.shape}')\n",
    "\n",
    "    # Pad so output size matches input size\n",
    "    padding = kernel_size // 2\n",
    "\n",
    "    # Depthwise convolution\n",
    "    return F.conv2d(\n",
    "        input_tensor, \n",
    "        g_2d, \n",
    "        groups=input_tensor.shape[1], \n",
    "        padding=padding\n",
    "    )"
   ],
   "id": "81b99293fb048761",
   "outputs": [],
   "execution_count": 17
  },
  {
   "metadata": {
    "ExecuteTime": {
     "end_time": "2025-01-23T15:29:30.540762Z",
     "start_time": "2025-01-23T15:29:30.002890Z"
    }
   },
   "cell_type": "code",
   "source": "blurred = dlbd(target_binned)",
   "id": "11bcdc1c6cbd9edd",
   "outputs": [
    {
     "name": "stdout",
     "output_type": "stream",
     "text": [
      "torch.Size([32, 1, 5, 5])\n",
      "Input tensor shape torch.Size([4, 32, 256, 256])\n"
     ]
    }
   ],
   "execution_count": 18
  },
  {
   "metadata": {},
   "cell_type": "code",
   "outputs": [],
   "execution_count": null,
   "source": "",
   "id": "3fde04737ebc9cc1"
  }
 ],
 "metadata": {
  "kernelspec": {
   "display_name": "Python 3",
   "language": "python",
   "name": "python3"
  },
  "language_info": {
   "codemirror_mode": {
    "name": "ipython",
    "version": 2
   },
   "file_extension": ".py",
   "mimetype": "text/x-python",
   "name": "python",
   "nbconvert_exporter": "python",
   "pygments_lexer": "ipython2",
   "version": "2.7.6"
  }
 },
 "nbformat": 4,
 "nbformat_minor": 5
}

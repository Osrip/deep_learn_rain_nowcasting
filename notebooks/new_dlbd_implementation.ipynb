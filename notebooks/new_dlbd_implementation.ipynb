{
 "cells": [
  {
   "cell_type": "code",
   "id": "initial_id",
   "metadata": {
    "collapsed": true,
    "ExecuteTime": {
     "end_time": "2025-02-02T13:24:38.486595Z",
     "start_time": "2025-02-02T13:24:38.482786Z"
    }
   },
   "source": [
    "import torch\n",
    "import os\n",
    "import matplotlib.pyplot as plt\n",
    "import torchvision.transforms as T\n",
    "import torch.nn.functional as F"
   ],
   "outputs": [],
   "execution_count": 303
  },
  {
   "metadata": {
    "ExecuteTime": {
     "end_time": "2025-02-02T13:24:38.507552Z",
     "start_time": "2025-02-02T13:24:38.503130Z"
    }
   },
   "cell_type": "code",
   "source": [
    "def save_torch_tensor(tensor, filename='tensor.pt'):\n",
    "    save_dir = os.path.expanduser('~/Downloads/saved_tensors')\n",
    "    os.makedirs(save_dir, exist_ok=True)\n",
    "    file_path = os.path.join(save_dir, filename)\n",
    "    torch.save(tensor, file_path)\n",
    "    print(f\"Saved tensor to {file_path}\")\n",
    "def load_torch_tensor(filename='tensor.pt'):\n",
    "    load_path = os.path.join(os.path.expanduser('~/Downloads/saved_tensors'), filename)\n",
    "    if not os.path.exists(load_path):\n",
    "        raise FileNotFoundError(f\"No tensor file found at {load_path}\")\n",
    "    tensor = torch.load(load_path, map_location=torch.device('cpu'))\n",
    "    print(f\"Loaded tensor from {load_path}\")\n",
    "    return tensor"
   ],
   "id": "4a642b5e68115193",
   "outputs": [],
   "execution_count": 304
  },
  {
   "metadata": {
    "ExecuteTime": {
     "end_time": "2025-02-02T13:24:38.890395Z",
     "start_time": "2025-02-02T13:24:38.535192Z"
    }
   },
   "cell_type": "code",
   "source": [
    "target_binned = load_torch_tensor()\n",
    "target_binned.to('mps')"
   ],
   "id": "3e6c9abf6017a45b",
   "outputs": [
    {
     "name": "stdout",
     "output_type": "stream",
     "text": [
      "Loaded tensor from /Users/jan/Downloads/saved_tensors/tensor.pt\n"
     ]
    },
    {
     "data": {
      "text/plain": [
       "tensor([[[[1, 1, 1,  ..., 1, 1, 1],\n",
       "          [1, 1, 1,  ..., 1, 1, 1],\n",
       "          [1, 1, 1,  ..., 1, 1, 1],\n",
       "          ...,\n",
       "          [1, 1, 1,  ..., 1, 1, 1],\n",
       "          [1, 1, 1,  ..., 1, 1, 1],\n",
       "          [1, 1, 1,  ..., 1, 1, 1]],\n",
       "\n",
       "         [[0, 0, 0,  ..., 0, 0, 0],\n",
       "          [0, 0, 0,  ..., 0, 0, 0],\n",
       "          [0, 0, 0,  ..., 0, 0, 0],\n",
       "          ...,\n",
       "          [0, 0, 0,  ..., 0, 0, 0],\n",
       "          [0, 0, 0,  ..., 0, 0, 0],\n",
       "          [0, 0, 0,  ..., 0, 0, 0]],\n",
       "\n",
       "         [[0, 0, 0,  ..., 0, 0, 0],\n",
       "          [0, 0, 0,  ..., 0, 0, 0],\n",
       "          [0, 0, 0,  ..., 0, 0, 0],\n",
       "          ...,\n",
       "          [0, 0, 0,  ..., 0, 0, 0],\n",
       "          [0, 0, 0,  ..., 0, 0, 0],\n",
       "          [0, 0, 0,  ..., 0, 0, 0]],\n",
       "\n",
       "         ...,\n",
       "\n",
       "         [[0, 0, 0,  ..., 0, 0, 0],\n",
       "          [0, 0, 0,  ..., 0, 0, 0],\n",
       "          [0, 0, 0,  ..., 0, 0, 0],\n",
       "          ...,\n",
       "          [0, 0, 0,  ..., 0, 0, 0],\n",
       "          [0, 0, 0,  ..., 0, 0, 0],\n",
       "          [0, 0, 0,  ..., 0, 0, 0]],\n",
       "\n",
       "         [[0, 0, 0,  ..., 0, 0, 0],\n",
       "          [0, 0, 0,  ..., 0, 0, 0],\n",
       "          [0, 0, 0,  ..., 0, 0, 0],\n",
       "          ...,\n",
       "          [0, 0, 0,  ..., 0, 0, 0],\n",
       "          [0, 0, 0,  ..., 0, 0, 0],\n",
       "          [0, 0, 0,  ..., 0, 0, 0]],\n",
       "\n",
       "         [[0, 0, 0,  ..., 0, 0, 0],\n",
       "          [0, 0, 0,  ..., 0, 0, 0],\n",
       "          [0, 0, 0,  ..., 0, 0, 0],\n",
       "          ...,\n",
       "          [0, 0, 0,  ..., 0, 0, 0],\n",
       "          [0, 0, 0,  ..., 0, 0, 0],\n",
       "          [0, 0, 0,  ..., 0, 0, 0]]],\n",
       "\n",
       "\n",
       "        [[[1, 1, 1,  ..., 1, 1, 1],\n",
       "          [1, 1, 1,  ..., 1, 1, 1],\n",
       "          [1, 1, 1,  ..., 1, 1, 1],\n",
       "          ...,\n",
       "          [1, 1, 1,  ..., 1, 1, 1],\n",
       "          [1, 1, 1,  ..., 1, 1, 1],\n",
       "          [1, 1, 1,  ..., 1, 1, 1]],\n",
       "\n",
       "         [[0, 0, 0,  ..., 0, 0, 0],\n",
       "          [0, 0, 0,  ..., 0, 0, 0],\n",
       "          [0, 0, 0,  ..., 0, 0, 0],\n",
       "          ...,\n",
       "          [0, 0, 0,  ..., 0, 0, 0],\n",
       "          [0, 0, 0,  ..., 0, 0, 0],\n",
       "          [0, 0, 0,  ..., 0, 0, 0]],\n",
       "\n",
       "         [[0, 0, 0,  ..., 0, 0, 0],\n",
       "          [0, 0, 0,  ..., 0, 0, 0],\n",
       "          [0, 0, 0,  ..., 0, 0, 0],\n",
       "          ...,\n",
       "          [0, 0, 0,  ..., 0, 0, 0],\n",
       "          [0, 0, 0,  ..., 0, 0, 0],\n",
       "          [0, 0, 0,  ..., 0, 0, 0]],\n",
       "\n",
       "         ...,\n",
       "\n",
       "         [[0, 0, 0,  ..., 0, 0, 0],\n",
       "          [0, 0, 0,  ..., 0, 0, 0],\n",
       "          [0, 0, 0,  ..., 0, 0, 0],\n",
       "          ...,\n",
       "          [0, 0, 0,  ..., 0, 0, 0],\n",
       "          [0, 0, 0,  ..., 0, 0, 0],\n",
       "          [0, 0, 0,  ..., 0, 0, 0]],\n",
       "\n",
       "         [[0, 0, 0,  ..., 0, 0, 0],\n",
       "          [0, 0, 0,  ..., 0, 0, 0],\n",
       "          [0, 0, 0,  ..., 0, 0, 0],\n",
       "          ...,\n",
       "          [0, 0, 0,  ..., 0, 0, 0],\n",
       "          [0, 0, 0,  ..., 0, 0, 0],\n",
       "          [0, 0, 0,  ..., 0, 0, 0]],\n",
       "\n",
       "         [[0, 0, 0,  ..., 0, 0, 0],\n",
       "          [0, 0, 0,  ..., 0, 0, 0],\n",
       "          [0, 0, 0,  ..., 0, 0, 0],\n",
       "          ...,\n",
       "          [0, 0, 0,  ..., 0, 0, 0],\n",
       "          [0, 0, 0,  ..., 0, 0, 0],\n",
       "          [0, 0, 0,  ..., 0, 0, 0]]],\n",
       "\n",
       "\n",
       "        [[[1, 1, 1,  ..., 1, 1, 1],\n",
       "          [1, 1, 1,  ..., 1, 1, 1],\n",
       "          [1, 1, 1,  ..., 1, 1, 1],\n",
       "          ...,\n",
       "          [0, 0, 0,  ..., 1, 1, 1],\n",
       "          [0, 0, 0,  ..., 1, 1, 1],\n",
       "          [0, 0, 1,  ..., 1, 1, 1]],\n",
       "\n",
       "         [[0, 0, 0,  ..., 0, 0, 0],\n",
       "          [0, 0, 0,  ..., 0, 0, 0],\n",
       "          [0, 0, 0,  ..., 0, 0, 0],\n",
       "          ...,\n",
       "          [1, 1, 1,  ..., 0, 0, 0],\n",
       "          [1, 1, 1,  ..., 0, 0, 0],\n",
       "          [1, 1, 0,  ..., 0, 0, 0]],\n",
       "\n",
       "         [[0, 0, 0,  ..., 0, 0, 0],\n",
       "          [0, 0, 0,  ..., 0, 0, 0],\n",
       "          [0, 0, 0,  ..., 0, 0, 0],\n",
       "          ...,\n",
       "          [0, 0, 0,  ..., 0, 0, 0],\n",
       "          [0, 0, 0,  ..., 0, 0, 0],\n",
       "          [0, 0, 0,  ..., 0, 0, 0]],\n",
       "\n",
       "         ...,\n",
       "\n",
       "         [[0, 0, 0,  ..., 0, 0, 0],\n",
       "          [0, 0, 0,  ..., 0, 0, 0],\n",
       "          [0, 0, 0,  ..., 0, 0, 0],\n",
       "          ...,\n",
       "          [0, 0, 0,  ..., 0, 0, 0],\n",
       "          [0, 0, 0,  ..., 0, 0, 0],\n",
       "          [0, 0, 0,  ..., 0, 0, 0]],\n",
       "\n",
       "         [[0, 0, 0,  ..., 0, 0, 0],\n",
       "          [0, 0, 0,  ..., 0, 0, 0],\n",
       "          [0, 0, 0,  ..., 0, 0, 0],\n",
       "          ...,\n",
       "          [0, 0, 0,  ..., 0, 0, 0],\n",
       "          [0, 0, 0,  ..., 0, 0, 0],\n",
       "          [0, 0, 0,  ..., 0, 0, 0]],\n",
       "\n",
       "         [[0, 0, 0,  ..., 0, 0, 0],\n",
       "          [0, 0, 0,  ..., 0, 0, 0],\n",
       "          [0, 0, 0,  ..., 0, 0, 0],\n",
       "          ...,\n",
       "          [0, 0, 0,  ..., 0, 0, 0],\n",
       "          [0, 0, 0,  ..., 0, 0, 0],\n",
       "          [0, 0, 0,  ..., 0, 0, 0]]],\n",
       "\n",
       "\n",
       "        [[[1, 1, 1,  ..., 1, 1, 1],\n",
       "          [1, 1, 1,  ..., 1, 1, 1],\n",
       "          [1, 1, 1,  ..., 1, 1, 1],\n",
       "          ...,\n",
       "          [1, 1, 1,  ..., 1, 1, 1],\n",
       "          [1, 1, 1,  ..., 1, 1, 1],\n",
       "          [1, 1, 1,  ..., 1, 1, 1]],\n",
       "\n",
       "         [[0, 0, 0,  ..., 0, 0, 0],\n",
       "          [0, 0, 0,  ..., 0, 0, 0],\n",
       "          [0, 0, 0,  ..., 0, 0, 0],\n",
       "          ...,\n",
       "          [0, 0, 0,  ..., 0, 0, 0],\n",
       "          [0, 0, 0,  ..., 0, 0, 0],\n",
       "          [0, 0, 0,  ..., 0, 0, 0]],\n",
       "\n",
       "         [[0, 0, 0,  ..., 0, 0, 0],\n",
       "          [0, 0, 0,  ..., 0, 0, 0],\n",
       "          [0, 0, 0,  ..., 0, 0, 0],\n",
       "          ...,\n",
       "          [0, 0, 0,  ..., 0, 0, 0],\n",
       "          [0, 0, 0,  ..., 0, 0, 0],\n",
       "          [0, 0, 0,  ..., 0, 0, 0]],\n",
       "\n",
       "         ...,\n",
       "\n",
       "         [[0, 0, 0,  ..., 0, 0, 0],\n",
       "          [0, 0, 0,  ..., 0, 0, 0],\n",
       "          [0, 0, 0,  ..., 0, 0, 0],\n",
       "          ...,\n",
       "          [0, 0, 0,  ..., 0, 0, 0],\n",
       "          [0, 0, 0,  ..., 0, 0, 0],\n",
       "          [0, 0, 0,  ..., 0, 0, 0]],\n",
       "\n",
       "         [[0, 0, 0,  ..., 0, 0, 0],\n",
       "          [0, 0, 0,  ..., 0, 0, 0],\n",
       "          [0, 0, 0,  ..., 0, 0, 0],\n",
       "          ...,\n",
       "          [0, 0, 0,  ..., 0, 0, 0],\n",
       "          [0, 0, 0,  ..., 0, 0, 0],\n",
       "          [0, 0, 0,  ..., 0, 0, 0]],\n",
       "\n",
       "         [[0, 0, 0,  ..., 0, 0, 0],\n",
       "          [0, 0, 0,  ..., 0, 0, 0],\n",
       "          [0, 0, 0,  ..., 0, 0, 0],\n",
       "          ...,\n",
       "          [0, 0, 0,  ..., 0, 0, 0],\n",
       "          [0, 0, 0,  ..., 0, 0, 0],\n",
       "          [0, 0, 0,  ..., 0, 0, 0]]]], device='mps:0')"
      ]
     },
     "execution_count": 305,
     "metadata": {},
     "output_type": "execute_result"
    }
   ],
   "execution_count": 305
  },
  {
   "metadata": {
    "ExecuteTime": {
     "end_time": "2025-02-02T13:24:38.936571Z",
     "start_time": "2025-02-02T13:24:38.933562Z"
    }
   },
   "cell_type": "code",
   "source": [
    "# import torch\n",
    "# import torch.nn.functional as F\n",
    "# \n",
    "# def dlbd(input_tensor, output_size, sigma=1.0):\n",
    "#     \"\"\"\n",
    "#     Sped up version using two 1D convolutions (vertical then horizontal).\n",
    "#     input_tensor shape: (B, C, H, W), one-hot\n",
    "#     output_size: desired output size (int or tuple (desired_H, desired_W)); must be smaller than input.\n",
    "#     sigma: standard deviation of the gaussian\n",
    "#     \"\"\"\n",
    "#     input_tensor = input_tensor.float()\n",
    "#     B, C, H, W = input_tensor.shape\n",
    "# \n",
    "#     if isinstance(output_size, int):\n",
    "#         desired_H = desired_W = output_size\n",
    "#     else:\n",
    "#         desired_H, desired_W = output_size\n",
    "# \n",
    "#     assert desired_H < H and desired_W < W, \"Desired output size must be smaller than input dimensions.\"\n",
    "# \n",
    "#     # Determine kernel sizes for valid convolution:\n",
    "#     kernel_h = H - desired_H + 1\n",
    "#     kernel_w = W - desired_W + 1\n",
    "#     print(f\"Using kernel size: ({kernel_h}, {kernel_w})\")\n",
    "# \n",
    "#     # Create vertical 1D Gaussian kernel (shape: (kernel_h, 1))\n",
    "#     coords_h = torch.arange(kernel_h, device=input_tensor.device, dtype=input_tensor.dtype) - kernel_h // 2\n",
    "#     g_1d_h = torch.exp(-(coords_h**2) / (2 * sigma**2))\n",
    "#     g_1d_h /= g_1d_h.sum()\n",
    "#     # Reshape to (C, 1, kernel_h, 1) for depthwise conv\n",
    "#     g_1d_h = g_1d_h.view(1, 1, kernel_h, 1).repeat(C, 1, 1, 1)\n",
    "# \n",
    "#     # First, convolve vertically (no padding)\n",
    "#     out = F.conv2d(input_tensor, g_1d_h, groups=C, padding=0)\n",
    "# \n",
    "#     # Create horizontal 1D Gaussian kernel (shape: (1, kernel_w))\n",
    "#     coords_w = torch.arange(kernel_w, device=input_tensor.device, dtype=input_tensor.dtype) - kernel_w // 2\n",
    "#     g_1d_w = torch.exp(-(coords_w**2) / (2 * sigma**2))\n",
    "#     g_1d_w /= g_1d_w.sum()\n",
    "#     # Reshape to (C, 1, 1, kernel_w)\n",
    "#     g_1d_w = g_1d_w.view(1, 1, 1, kernel_w).repeat(C, 1, 1, 1)\n",
    "# \n",
    "#     # Then, convolve horizontally (again, no padding)\n",
    "#     out = F.conv2d(out, g_1d_w, groups=C, padding=0)\n",
    "#     return out"
   ],
   "id": "dd39d1af039a9e6c",
   "outputs": [],
   "execution_count": 306
  },
  {
   "metadata": {
    "ExecuteTime": {
     "end_time": "2025-02-02T13:24:38.970713Z",
     "start_time": "2025-02-02T13:24:38.961480Z"
    }
   },
   "cell_type": "code",
   "source": [
    "import torch\n",
    "import torch.nn.functional as F\n",
    "\n",
    "import torch\n",
    "import torch.nn.functional as F\n",
    "\n",
    "\n",
    "def dlbd_traget_pre_processing(input_tensor, output_size, sigma=1.0, kernel_size=None):\n",
    "    \"\"\"\n",
    "    Sped up version using two 1D convolutions (vertical then horizontal) that always produces the desired output size.\n",
    "    \n",
    "    When kernel_size is None, the maximum allowed odd kernel is used so that no cropping is needed.\n",
    "    When a manual (odd) kernel_size is provided (and it's smaller than the maximum), the input is center-cropped\n",
    "    so that the valid convolution produces exactly the desired output size. This can save compute.\n",
    "    \n",
    "    Args:\n",
    "        input_tensor (torch.Tensor): Shape (B, C, H, W), one-hot.\n",
    "        output_size (int or tuple): Desired output size (int or (desired_H, desired_W)); must be smaller than input.\n",
    "        sigma (float): Standard deviation of the Gaussian.\n",
    "        kernel_size (int or tuple, optional): Manual kernel size. Must be <= maximal kernel size \n",
    "            (computed as H - desired_H + 1 and W - desired_W + 1) and must be odd.\n",
    "            If None, kernel sizes are computed automatically.\n",
    "    \n",
    "    Returns:\n",
    "        torch.Tensor: Output after convolution with shape (B, C, desired_H, desired_W).\n",
    "    \"\"\"\n",
    "    input_tensor = input_tensor.float()\n",
    "    B, C, H, W = input_tensor.shape\n",
    "\n",
    "    if isinstance(output_size, int):\n",
    "        desired_H = desired_W = output_size\n",
    "    else:\n",
    "        desired_H, desired_W = output_size\n",
    "\n",
    "    assert desired_H < H and desired_W < W, \"Desired output size must be smaller than input dimensions.\"\n",
    "\n",
    "    # Maximum allowed kernel sizes for valid convolution:\n",
    "    max_kernel_h = H - desired_H + 1\n",
    "    max_kernel_w = W - desired_W + 1\n",
    "\n",
    "    if kernel_size is None:\n",
    "        # Use the maximum allowed odd kernel sizes.\n",
    "        kernel_h = max_kernel_h if max_kernel_h % 2 == 1 else max_kernel_h - 1\n",
    "        kernel_w = max_kernel_w if max_kernel_w % 2 == 1 else max_kernel_w - 1\n",
    "        # No cropping needed: (H - kernel_h + 1 == desired_H)\n",
    "    else:\n",
    "        # Use manual kernel size.\n",
    "        if isinstance(kernel_size, int):\n",
    "            kernel_h = kernel_w = kernel_size\n",
    "        elif isinstance(kernel_size, (tuple, list)) and len(kernel_size) == 2:\n",
    "            kernel_h, kernel_w = kernel_size\n",
    "        else:\n",
    "            raise ValueError(\"kernel_size must be an int or a tuple/list of two ints.\")\n",
    "\n",
    "        if kernel_h > max_kernel_h or kernel_w > max_kernel_w:\n",
    "            raise ValueError(f\"Manual kernel size ({kernel_h}, {kernel_w}) exceeds the maximum allowed \"\n",
    "                             f\"({max_kernel_h}, {max_kernel_w}).\")\n",
    "        if kernel_h % 2 == 0 or kernel_w % 2 == 0:\n",
    "            raise ValueError(f\"Kernel sizes must be odd numbers. Got ({kernel_h}, {kernel_w}).\")\n",
    "        # Center-crop the input so that after valid convolution with manual kernel the output size is desired.\n",
    "        crop_H = desired_H + kernel_h - 1  # because output height = cropped_H - kernel_h + 1\n",
    "        crop_W = desired_W + kernel_w - 1\n",
    "        offset_H = (H - crop_H) // 2\n",
    "        offset_W = (W - crop_W) // 2\n",
    "        input_tensor = input_tensor[:, :, offset_H:offset_H+crop_H, offset_W:offset_W+crop_W]\n",
    "        # Update H, W for clarity (not strictly needed)\n",
    "        H, W = crop_H, crop_W\n",
    "\n",
    "    print(f\"Using kernel size: ({kernel_h}, {kernel_w})\")\n",
    "\n",
    "    # Create vertical 1D Gaussian kernel (shape: (kernel_h, 1))\n",
    "    coords_h = torch.arange(kernel_h, device=input_tensor.device, dtype=input_tensor.dtype) - kernel_h // 2\n",
    "    g_1d_h = torch.exp(-(coords_h**2) / (2 * sigma**2))\n",
    "    g_1d_h /= g_1d_h.sum()\n",
    "    # Reshape to (C, 1, kernel_h, 1) for depthwise convolution\n",
    "    g_1d_h = g_1d_h.view(1, 1, kernel_h, 1).repeat(C, 1, 1, 1)\n",
    "\n",
    "    # Convolve vertically (valid convolution)\n",
    "    out = F.conv2d(input_tensor, g_1d_h, groups=C, padding=0)\n",
    "\n",
    "    # Create horizontal 1D Gaussian kernel (shape: (1, kernel_w))\n",
    "    coords_w = torch.arange(kernel_w, device=input_tensor.device, dtype=input_tensor.dtype) - kernel_w // 2\n",
    "    g_1d_w = torch.exp(-(coords_w**2) / (2 * sigma**2))\n",
    "    g_1d_w /= g_1d_w.sum()\n",
    "    # Reshape to (C, 1, 1, kernel_w) for depthwise convolution\n",
    "    g_1d_w = g_1d_w.view(1, 1, 1, kernel_w).repeat(C, 1, 1, 1)\n",
    "\n",
    "    # Convolve horizontally (valid convolution)\n",
    "    out = F.conv2d(out, g_1d_w, groups=C, padding=0)\n",
    "    return out"
   ],
   "id": "3c2118f9c52b2ac9",
   "outputs": [],
   "execution_count": 307
  },
  {
   "metadata": {
    "ExecuteTime": {
     "end_time": "2025-02-02T13:24:39.049693Z",
     "start_time": "2025-02-02T13:24:38.994832Z"
    }
   },
   "cell_type": "code",
   "source": [
    "blurred = dlbd_traget_pre_processing(target_binned, output_size=32, sigma=1, kernel_size=25)\n",
    "blurred.shape"
   ],
   "id": "11bcdc1c6cbd9edd",
   "outputs": [
    {
     "name": "stdout",
     "output_type": "stream",
     "text": [
      "Using kernel size: (25, 25)\n"
     ]
    },
    {
     "data": {
      "text/plain": [
       "torch.Size([4, 32, 32, 32])"
      ]
     },
     "execution_count": 308,
     "metadata": {},
     "output_type": "execute_result"
    }
   ],
   "execution_count": 308
  },
  {
   "metadata": {
    "ExecuteTime": {
     "end_time": "2025-02-02T13:24:39.181729Z",
     "start_time": "2025-02-02T13:24:39.176857Z"
    }
   },
   "cell_type": "code",
   "source": [
    "print(f'target binned: {target_binned[0, :, 16, 16]}')\n",
    "print(f'blurred: {blurred[0, :, 16, 16]}')\n"
   ],
   "id": "3fde04737ebc9cc1",
   "outputs": [
    {
     "name": "stdout",
     "output_type": "stream",
     "text": [
      "target binned: tensor([1, 0, 0, 0, 0, 0, 0, 0, 0, 0, 0, 0, 0, 0, 0, 0, 0, 0, 0, 0, 0, 0, 0, 0,\n",
      "        0, 0, 0, 0, 0, 0, 0, 0])\n",
      "blurred: tensor([1.5495e-04, 2.0618e-02, 1.0498e-01, 2.3314e-01, 3.6277e-01, 2.7834e-01,\n",
      "        3.6040e-07, 4.6934e-21, 2.8356e-31, 0.0000e+00, 0.0000e+00, 0.0000e+00,\n",
      "        0.0000e+00, 0.0000e+00, 0.0000e+00, 0.0000e+00, 0.0000e+00, 0.0000e+00,\n",
      "        0.0000e+00, 0.0000e+00, 0.0000e+00, 0.0000e+00, 0.0000e+00, 0.0000e+00,\n",
      "        0.0000e+00, 0.0000e+00, 0.0000e+00, 0.0000e+00, 0.0000e+00, 0.0000e+00,\n",
      "        0.0000e+00, 0.0000e+00])\n"
     ]
    }
   ],
   "execution_count": 309
  },
  {
   "metadata": {
    "ExecuteTime": {
     "end_time": "2025-02-02T13:24:39.252867Z",
     "start_time": "2025-02-02T13:24:39.249883Z"
    }
   },
   "cell_type": "code",
   "source": [
    "target_binned = T.CenterCrop(size=32)(target_binned)\n",
    "target_winner_bin = torch.argmax(target_binned, dim=1)\n",
    "blurred_winner_bin = torch.argmax(blurred, dim=1)\n"
   ],
   "id": "c4fd4c45be8d2bb",
   "outputs": [],
   "execution_count": 310
  },
  {
   "metadata": {
    "ExecuteTime": {
     "end_time": "2025-02-02T13:24:39.300961Z",
     "start_time": "2025-02-02T13:24:39.298249Z"
    }
   },
   "cell_type": "code",
   "source": "blurred.shape",
   "id": "92ace35d10e1b361",
   "outputs": [
    {
     "data": {
      "text/plain": [
       "torch.Size([4, 32, 32, 32])"
      ]
     },
     "execution_count": 311,
     "metadata": {},
     "output_type": "execute_result"
    }
   ],
   "execution_count": 311
  },
  {
   "metadata": {
    "ExecuteTime": {
     "end_time": "2025-02-02T13:24:39.464517Z",
     "start_time": "2025-02-02T13:24:39.352676Z"
    }
   },
   "cell_type": "code",
   "source": [
    "plot_batch = 0\n",
    "plt.imshow(target_winner_bin[plot_batch, :, :])\n",
    "plt.colorbar()\n",
    "plt.show()"
   ],
   "id": "3f8caf2bb6a7bcf6",
   "outputs": [
    {
     "data": {
      "text/plain": [
       "<Figure size 640x480 with 2 Axes>"
      ],
      "image/png": "[encoded data removed]"
     },
     "metadata": {},
     "output_type": "display_data"
    }
   ],
   "execution_count": 312
  },
  {
   "metadata": {
    "ExecuteTime": {
     "end_time": "2025-02-02T13:24:40.210427Z",
     "start_time": "2025-02-02T13:24:39.490999Z"
    }
   },
   "cell_type": "code",
   "source": [
    "plot_batch = 0\n",
    "plt.imshow(blurred_winner_bin[plot_batch, :, :])\n",
    "plt.colorbar()\n",
    "plt.show()"
   ],
   "id": "6e585e029bda850e",
   "outputs": [
    {
     "data": {
      "text/plain": [
       "<Figure size 640x480 with 2 Axes>"
      ],
      "image/png": "[encoded data removed]"
     },
     "metadata": {},
     "output_type": "display_data"
    }
   ],
   "execution_count": 313
  },
  {
   "metadata": {
    "ExecuteTime": {
     "end_time": "2025-02-02T13:24:40.772056Z",
     "start_time": "2025-02-02T13:24:40.247371Z"
    }
   },
   "cell_type": "code",
   "source": [
    "import matplotlib.pyplot as plt\n",
    "import numpy as np\n",
    "\n",
    "# Assume 'blurred' is a torch.Tensor of shape (B, C, H, W)\n",
    "plot_batch = 0\n",
    "B, C, H, W = blurred.shape\n",
    "\n",
    "# Sample 5 pixels along the top-left to bottom-right diagonal\n",
    "diagonal_indices = np.linspace(0, H - 1, 5, dtype=int)  # assuming H == W\n",
    "\n",
    "fig, axes = plt.subplots(1, 5, figsize=(15, 3))\n",
    "for i, idx in enumerate(diagonal_indices):\n",
    "    # Get the channel probabilities at pixel (idx, idx)\n",
    "    hist = blurred[plot_batch, :, idx, idx].cpu().numpy()\n",
    "    axes[i].bar(np.arange(C), hist)\n",
    "    axes[i].set_title(f\"Pixel ({idx},{idx})\")\n",
    "    axes[i].set_xlabel(\"Channel\")\n",
    "    axes[i].set_ylabel(\"Value\")\n",
    "\n",
    "plt.tight_layout()\n",
    "plt.show()"
   ],
   "id": "af184ecddfd898c0",
   "outputs": [
    {
     "data": {
      "text/plain": [
       "<Figure size 1500x300 with 5 Axes>"
      ],
      "image/png": "[encoded data removed]"
     },
     "metadata": {},
     "output_type": "display_data"
    }
   ],
   "execution_count": 314
  },
  {
   "metadata": {
    "ExecuteTime": {
     "end_time": "2025-02-02T13:24:41.198544Z",
     "start_time": "2025-02-02T13:24:40.796987Z"
    }
   },
   "cell_type": "code",
   "source": [
    "import matplotlib.pyplot as plt\n",
    "import matplotlib.patches as patches\n",
    "import numpy as np\n",
    "\n",
    "plot_batch = 0\n",
    "# Assuming blurred_winner_bin shape: (B, H, W) and blurred shape: (B, C, H, W)\n",
    "B, H, W = blurred_winner_bin.shape[0], blurred_winner_bin.shape[1], blurred_winner_bin.shape[2]\n",
    "_, C, _, _ = blurred.shape\n",
    "\n",
    "# Sample 5 pixels along the diagonal (top-left to bottom-right)\n",
    "diagonal_indices = np.linspace(0, H - 1, 5, dtype=int)\n",
    "\n",
    "# Display the image with red frames around the sampled pixels\n",
    "fig, ax = plt.subplots()\n",
    "im = ax.imshow(blurred_winner_bin[plot_batch, :, :])\n",
    "plt.colorbar(im, ax=ax)\n",
    "for idx in diagonal_indices:\n",
    "    # The rectangle is drawn with a half pixel offset to frame the pixel exactly\n",
    "    rect = patches.Rectangle((idx - 0.5, idx - 0.5), 1, 1, linewidth=2, edgecolor='red', facecolor='none')\n",
    "    ax.add_patch(rect)\n",
    "plt.title(\"Blurred Winner Bin with Sampled Pixels\")\n",
    "plt.show()\n",
    "\n",
    "# Plot the histograms for each sampled pixel\n",
    "fig, axes = plt.subplots(1, 5, figsize=(15, 3))\n",
    "for i, idx in enumerate(diagonal_indices):\n",
    "    hist = blurred[plot_batch, :, idx, idx].cpu().numpy()\n",
    "    axes[i].bar(np.arange(C), hist)\n",
    "    axes[i].set_title(f\"Pixel ({idx},{idx})\")\n",
    "    axes[i].set_xlabel(\"Channel\")\n",
    "    axes[i].set_ylabel(\"Value\")\n",
    "plt.tight_layout()\n",
    "plt.show()"
   ],
   "id": "d43537d720dbea62",
   "outputs": [
    {
     "data": {
      "text/plain": [
       "<Figure size 640x480 with 2 Axes>"
      ],
      "image/png": "[encoded data removed]"
     },
     "metadata": {},
     "output_type": "display_data"
    },
    {
     "data": {
      "text/plain": [
       "<Figure size 1500x300 with 5 Axes>"
      ],
      "image/png": "[encoded data removed]"
     },
     "metadata": {},
     "output_type": "display_data"
    }
   ],
   "execution_count": 315
  },
  {
   "metadata": {
    "ExecuteTime": {
     "end_time": "2025-02-02T13:24:41.281909Z",
     "start_time": "2025-02-02T13:24:41.217928Z"
    }
   },
   "cell_type": "code",
   "source": [
    "import torch\n",
    "import matplotlib.pyplot as plt\n",
    "\n",
    "def plot_1d_gaussian(sigma, kernel_size=11):\n",
    "    \"\"\"\n",
    "    Visualizes the 1D Gaussian distribution used in the dlbd function.\n",
    "    \n",
    "    Args:\n",
    "        sigma (float): Standard deviation of the Gaussian.\n",
    "        kernel_size (int, optional): Size of the kernel. If None, defaults to 6*sigma+1 (rounded to odd).\n",
    "    \"\"\"\n",
    "    if kernel_size is None:\n",
    "        kernel_size = int(6 * sigma + 1)\n",
    "        if kernel_size % 2 == 0:\n",
    "            kernel_size += 1\n",
    "\n",
    "    # Create centered coordinates\n",
    "    coords = torch.arange(kernel_size, dtype=torch.float32) - kernel_size // 2\n",
    "\n",
    "    # Compute the 1D Gaussian\n",
    "    g_1d = torch.exp(-(coords**2) / (2 * sigma**2))\n",
    "    g_1d /= g_1d.sum()  # normalize\n",
    "\n",
    "    # Plot as a histogram (bar plot)\n",
    "    plt.figure(figsize=(8, 4))\n",
    "    plt.bar(coords.numpy(), g_1d.numpy(), width=0.5, color='skyblue', edgecolor='black')\n",
    "    plt.xlabel(\"Position\")\n",
    "    plt.ylabel(\"Normalized Weight\")\n",
    "    plt.title(f\"1D Gaussian Kernel (sigma={sigma}, size={kernel_size})\")\n",
    "    plt.show()\n",
    "\n",
    "# Example usage:\n",
    "plot_1d_gaussian(sigma=0.5)"
   ],
   "id": "c880eb517e230097",
   "outputs": [
    {
     "data": {
      "text/plain": [
       "<Figure size 800x400 with 1 Axes>"
      ],
      "image/png": "[encoded data removed]"
     },
     "metadata": {},
     "output_type": "display_data"
    }
   ],
   "execution_count": 316
  },
  {
   "metadata": {
    "ExecuteTime": {
     "end_time": "2025-02-02T13:24:41.309348Z",
     "start_time": "2025-02-02T13:24:41.302153Z"
    }
   },
   "cell_type": "code",
   "source": [
    "\\# Test the original vs. the sped-up fucntion\n",
    "\n",
    "import torch\n",
    "import torch.nn.functional as F\n",
    "import numpy as np\n",
    "\n",
    "def dlbd_original(input_tensor, output_size, sigma=1.0):\n",
    "    \"\"\"\n",
    "    Original version using one 2D convolution.\n",
    "    input_tensor shape: (B, C, H, W)\n",
    "    output_size: desired output size (int or tuple (desired_H, desired_W))\n",
    "    \"\"\"\n",
    "    input_tensor = input_tensor.float()\n",
    "    B, C, H, W = input_tensor.shape\n",
    "\n",
    "    if isinstance(output_size, int):\n",
    "        desired_H = desired_W = output_size\n",
    "    else:\n",
    "        desired_H, desired_W = output_size\n",
    "\n",
    "    assert desired_H < H and desired_W < W, \"Desired output size must be smaller than input dimensions.\"\n",
    "    kernel_h = H - desired_H + 1\n",
    "    kernel_w = W - desired_W + 1\n",
    "    print(f\"[Original] Using kernel size: ({kernel_h}, {kernel_w})\")\n",
    "\n",
    "    # Create 1D gaussian kernels for height and width\n",
    "    coords_h = torch.arange(kernel_h, device=input_tensor.device, dtype=input_tensor.dtype) - kernel_h // 2\n",
    "    g_1d_h = torch.exp(-(coords_h**2) / (2 * sigma**2))\n",
    "    g_1d_h /= g_1d_h.sum()\n",
    "\n",
    "    coords_w = torch.arange(kernel_w, device=input_tensor.device, dtype=input_tensor.dtype) - kernel_w // 2\n",
    "    g_1d_w = torch.exp(-(coords_w**2) / (2 * sigma**2))\n",
    "    g_1d_w /= g_1d_w.sum()\n",
    "\n",
    "    # Form the 2D gaussian kernel\n",
    "    g_2d = g_1d_h[:, None] * g_1d_w[None, :]\n",
    "    g_2d = g_2d.view(1, 1, kernel_h, kernel_w)\n",
    "    g_2d = g_2d.repeat(C, 1, 1, 1)\n",
    "\n",
    "    return F.conv2d(input_tensor, g_2d, groups=C, padding=0)\n",
    "\n",
    "def dlbd_separable(input_tensor, output_size, sigma=1.0):\n",
    "    \"\"\"\n",
    "    Sped up version using two 1D convolutions (vertical then horizontal).\n",
    "    input_tensor shape: (B, C, H, W)\n",
    "    output_size: desired output size (int or tuple (desired_H, desired_W))\n",
    "    \"\"\"\n",
    "    input_tensor = input_tensor.float()\n",
    "    B, C, H, W = input_tensor.shape\n",
    "\n",
    "    if isinstance(output_size, int):\n",
    "        desired_H = desired_W = output_size\n",
    "    else:\n",
    "        desired_H, desired_W = output_size\n",
    "\n",
    "    assert desired_H < H and desired_W < W, \"Desired output size must be smaller than input dimensions.\"\n",
    "    kernel_h = H - desired_H + 1\n",
    "    kernel_w = W - desired_W + 1\n",
    "    print(f\"[Separable] Using kernel size: ({kernel_h}, {kernel_w})\")\n",
    "\n",
    "    # Vertical convolution\n",
    "    coords_h = torch.arange(kernel_h, device=input_tensor.device, dtype=input_tensor.dtype) - kernel_h // 2\n",
    "    g_1d_h = torch.exp(-(coords_h**2) / (2 * sigma**2))\n",
    "    g_1d_h /= g_1d_h.sum()\n",
    "    g_1d_h = g_1d_h.view(1, 1, kernel_h, 1).repeat(C, 1, 1, 1)\n",
    "    out = F.conv2d(input_tensor, g_1d_h, groups=C, padding=0)\n",
    "\n",
    "    # Horizontal convolution\n",
    "    coords_w = torch.arange(kernel_w, device=input_tensor.device, dtype=input_tensor.dtype) - kernel_w // 2\n",
    "    g_1d_w = torch.exp(-(coords_w**2) / (2 * sigma**2))\n",
    "    g_1d_w /= g_1d_w.sum()\n",
    "    g_1d_w = g_1d_w.view(1, 1, 1, kernel_w).repeat(C, 1, 1, 1)\n",
    "    out = F.conv2d(out, g_1d_w, groups=C, padding=0)\n",
    "\n",
    "    return out\n",
    "\n",
    "# --- Test Code ---\n",
    "\n",
    "# Assuming you have a tensor called target_binned. \n",
    "# For testing, if not defined, create a dummy one-hot tensor of shape (B, C, H, W)\n",
    "if 'target_binned' not in globals():\n",
    "    B, C, H, W = 1, 32, 256, 256\n",
    "    target_binned = torch.zeros(B, C, H, W)\n",
    "    # Fill with one-hot encoding: each pixel gets a random channel set to 1.\n",
    "    for b in range(B):\n",
    "        for i in range(H):\n",
    "            for j in range(W):\n",
    "                ch = np.random.randint(0, C)\n",
    "                target_binned[b, ch, i, j] = 1.0\n",
    "\n",
    "# Define desired output size (must be smaller than input H and W)\n",
    "output_size = 31  # or any value < 256\n",
    "\n",
    "# Run both functions\n",
    "out_original = dlbd_original(target_binned, output_size, sigma=1.0)\n",
    "out_separable = dlbd_separable(target_binned, output_size, sigma=1.0)\n",
    "\n",
    "# Compare the outputs\n",
    "print(\"\\nOutput shapes:\")\n",
    "print(\"Original:\", out_original.shape)\n",
    "print(\"Separable:\", out_separable.shape)\n",
    "\n",
    "# Check if the outputs are close\n",
    "if torch.allclose(out_original, out_separable, atol=1e-6):\n",
    "    print(\"The outputs are identical within tolerance.\")\n",
    "else:\n",
    "    diff = torch.abs(out_original - out_separable).max()\n",
    "    print(f\"Outputs differ! Maximum absolute difference: {diff.item()}\")"
   ],
   "id": "b629f9fe779a7ba2",
   "outputs": [
    {
     "ename": "SyntaxError",
     "evalue": "unexpected character after line continuation character (1661343117.py, line 1)",
     "output_type": "error",
     "traceback": [
      "\u001B[0;36m  Cell \u001B[0;32mIn[317], line 1\u001B[0;36m\u001B[0m\n\u001B[0;31m    \\# Test the original vs. the sped-up fucntion\u001B[0m\n\u001B[0m     ^\u001B[0m\n\u001B[0;31mSyntaxError\u001B[0m\u001B[0;31m:\u001B[0m unexpected character after line continuation character\n"
     ]
    }
   ],
   "execution_count": 317
  },
  {
   "metadata": {
    "ExecuteTime": {
     "end_time": "2025-02-02T13:24:41.312647Z",
     "start_time": "2025-02-02T12:33:11.177616Z"
    }
   },
   "cell_type": "code",
   "source": "",
   "id": "45ec73483d65fef0",
   "outputs": [],
   "execution_count": null
  },
  {
   "metadata": {
    "ExecuteTime": {
     "end_time": "2025-02-02T13:24:41.312716Z",
     "start_time": "2025-02-02T12:33:11.202262Z"
    }
   },
   "cell_type": "code",
   "source": "",
   "id": "f3fe31ecae44dfd9",
   "outputs": [],
   "execution_count": null
  }
 ],
 "metadata": {
  "kernelspec": {
   "display_name": "Python 3",
   "language": "python",
   "name": "python3"
  },
  "language_info": {
   "codemirror_mode": {
    "name": "ipython",
    "version": 2
   },
   "file_extension": ".py",
   "mimetype": "text/x-python",
   "name": "python",
   "nbconvert_exporter": "python",
   "pygments_lexer": "ipython2",
   "version": "2.7.6"
  }
 },
 "nbformat": 4,
 "nbformat_minor": 5
}

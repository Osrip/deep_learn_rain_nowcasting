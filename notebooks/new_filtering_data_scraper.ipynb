{
 "cells": [
  {
   "cell_type": "code",
   "execution_count": 3,
   "id": "initial_id",
   "metadata": {
    "collapsed": true,
    "ExecuteTime": {
     "end_time": "2024-07-31T14:45:33.431492Z",
     "start_time": "2024-07-31T14:45:33.425755Z"
    }
   },
   "outputs": [],
   "source": [
    "# import numpy as np\n",
    "# import os\n",
    "# import xarray as xr\n",
    "\n",
    "import xarray as xr\n",
    "import numpy as np\n",
    "import os\n",
    "import torch\n",
    "import torchvision.transforms as T\n",
    "from helper.helper_functions import chunk_list, flatten_list\n",
    "from helper.pre_process_target_input import img_one_hot, lognormalize_data\n",
    "import datetime\n",
    "from exceptions import CountException\n",
    "from torch.utils.data import Dataset\n",
    "import einops\n",
    "import random\n",
    "import warnings\n",
    "from typing import Callable\n"
   ]
  },
  {
   "cell_type": "code",
   "outputs": [],
   "source": [
    "folder_path = '/home/jan/Programming/remote/first_CNN_on_radolan_remote/dwd_nc/own_test_data'\n",
    "data = 'testdata_two_days_2019_01_01-02.zarr'\n",
    "load_path = os.path.join(folder_path, data)"
   ],
   "metadata": {
    "collapsed": false,
    "ExecuteTime": {
     "end_time": "2024-07-31T14:45:33.909069Z",
     "start_time": "2024-07-31T14:45:33.901083Z"
    }
   },
   "id": "4ab150c229ac7481",
   "execution_count": 4
  },
  {
   "cell_type": "code",
   "outputs": [
    {
     "name": "stdout",
     "output_type": "stream",
     "text": [
      "/home/jan/Programming/remote/first_CNN_on_radolan_remote/dwd_nc/own_test_data/testdata_two_days_2019_01_01-02.zarr\n"
     ]
    }
   ],
   "source": [
    "print(load_path)"
   ],
   "metadata": {
    "collapsed": false,
    "ExecuteTime": {
     "end_time": "2024-07-31T14:45:34.516785Z",
     "start_time": "2024-07-31T14:45:34.508143Z"
    }
   },
   "id": "5ae1d066072e42be",
   "execution_count": 5
  },
  {
   "cell_type": "code",
   "outputs": [
    {
     "name": "stderr",
     "output_type": "stream",
     "text": [
      "/home/jan/miniforge3/envs/first_CNN_on_Radolan/lib/python3.10/site-packages/xarray/backends/plugins.py:159: RuntimeWarning: 'netcdf4' fails while guessing\n",
      "  warnings.warn(f\"{engine!r} fails while guessing\", RuntimeWarning)\n",
      "/home/jan/miniforge3/envs/first_CNN_on_Radolan/lib/python3.10/site-packages/xarray/backends/plugins.py:159: RuntimeWarning: 'h5netcdf' fails while guessing\n",
      "  warnings.warn(f\"{engine!r} fails while guessing\", RuntimeWarning)\n",
      "/home/jan/miniforge3/envs/first_CNN_on_Radolan/lib/python3.10/site-packages/xarray/backends/plugins.py:159: RuntimeWarning: 'scipy' fails while guessing\n",
      "  warnings.warn(f\"{engine!r} fails while guessing\", RuntimeWarning)\n"
     ]
    }
   ],
   "source": [
    "data = xr.open_dataset(load_path) # , chunks=None # , chunks=None according to Sebastian more efficient as it avoids dask (default is chunks=1)\n"
   ],
   "metadata": {
    "collapsed": false,
    "ExecuteTime": {
     "end_time": "2024-07-31T14:45:35.218009Z",
     "start_time": "2024-07-31T14:45:35.168821Z"
    }
   },
   "id": "ffd76fd262be4717",
   "execution_count": 6
  },
  {
   "cell_type": "code",
   "outputs": [],
   "source": [
    "#I assumed that the data is a xarray dataset with the dimensions time, latitude, longitude\n",
    "# define block sizes and filter condition here\n",
    "py, px = 10, 20 # how many pixels in y and x direction\n",
    "pt = 4 # how many time steps to include in a sample (i.e. context and target)\n",
    "threshold = 1e-4 # threshold for filter condition\n",
    "# define slices for the center pixels of the blocks to apply the filter to\n",
    "center_x = slice(px // 2 - 1, px // 2 + 2) # 3 pixels in x direction\n",
    "center_y = slice(py // 2 - 1, py // 2 + 2) # 3 pixels in y direction\n",
    "# partition the data into pt x py x px blocks using coarsen\n",
    "coarse = data.coarsen(latitude = py,\n",
    "                     longitude = px,\n",
    "                     time = pt,\n",
    "                     side = \"left\", # \"left\" means that the blocks are aligned to the left of the input\n",
    "                     boundary=\"trim\") #boundary=\"trim\" removes the last block if it is too small\n",
    "# construct a new data set, where the blocks are folded into a new dimension\n",
    "folded = coarse.construct(time = (\"time_outer\", \"time_inner\"),\n",
    "                         latitude = (\"y_outer\", \"y_inner\"),\n",
    "                         longitude = (\"x_outer\", \"x_inner\"))\n",
    "# get the value of the center pixels of each block and take their mean\n",
    "center = folded.isel(y_inner = center_y,\n",
    "                     x_inner = center_x).mean((\"y_inner\", \"x_inner\", \"time_inner\"))\n",
    "# define a threshold for the center pixels, i.e. the filter condition\n",
    "valid_center = center > threshold\n",
    "# get the outer coordinates for all valid blocks (valid_time, valid_x, valid_y)\n",
    "valid_coords = np.array(np.nonzero(valid_center.total_precipitation_6hr.values)).T\n",
    "# For data loading purposes, we can use the valid_coords to get the corresponding blocks\n",
    "# For example, to get a random block from the valid blocks, we can do the following:\n",
    "# get a random element from the valid coordinates\n",
    "sample_coord = valid_coords[np.random.randint(0, valid_coords.shape[0])]\n",
    "# get the block at the sample coordinate\n",
    "sample_block = folded.isel(time_outer = sample_coord[0],\n",
    "                           y_outer = sample_coord[2],\n",
    "                           x_outer = sample_coord[1])"
   ],
   "metadata": {
    "collapsed": false
   },
   "id": "9d9556f6cda23401"
  }
 ],
 "metadata": {
  "kernelspec": {
   "display_name": "Python 3",
   "language": "python",
   "name": "python3"
  },
  "language_info": {
   "codemirror_mode": {
    "name": "ipython",
    "version": 2
   },
   "file_extension": ".py",
   "mimetype": "text/x-python",
   "name": "python",
   "nbconvert_exporter": "python",
   "pygments_lexer": "ipython2",
   "version": "2.7.6"
  }
 },
 "nbformat": 4,
 "nbformat_minor": 5
}

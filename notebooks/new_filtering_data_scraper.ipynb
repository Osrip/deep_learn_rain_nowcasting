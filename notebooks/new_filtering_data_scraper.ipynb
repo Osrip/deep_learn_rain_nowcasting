{
 "cells": [
  {
   "cell_type": "code",
   "execution_count": null,
   "id": "initial_id",
   "metadata": {
    "collapsed": true,
    "ExecuteTime": {
     "end_time": "2024-08-01T12:49:51.278252Z",
     "start_time": "2024-08-01T12:49:51.272889Z"
    }
   },
   "outputs": [],
   "source": []
  },
  {
   "cell_type": "code",
   "outputs": [
    {
     "name": "stderr",
     "output_type": "stream",
     "text": [
      "Matplotlib is building the font cache; this may take a moment.\n"
     ]
    }
   ],
   "source": [
    "import numpy as np\n",
    "import os\n",
    "import xarray as xr\n",
    "import matplotlib.pyplot as plt"
   ],
   "metadata": {
    "collapsed": false,
    "ExecuteTime": {
     "end_time": "2024-08-01T12:50:03.724214Z",
     "start_time": "2024-08-01T12:49:51.294111Z"
    }
   },
   "id": "576501505b12811b",
   "execution_count": 1
  },
  {
   "cell_type": "code",
   "outputs": [],
   "source": [
    "folder_path = '/Users/jan/Programming/first_CNN_on_Radolan/dwd_nc/own_test_data/testdata_two_days_2019_01_01-02.zarr' #'/home/jan/Programming/remote/first_CNN_on_radolan_remote/dwd_nc/own_test_data'\n",
    "data = 'testdata_two_days_2019_01_01-02.zarr'\n",
    "load_path = os.path.join(folder_path, data)"
   ],
   "metadata": {
    "collapsed": false,
    "ExecuteTime": {
     "end_time": "2024-08-01T12:50:03.727109Z",
     "start_time": "2024-08-01T12:50:03.724998Z"
    }
   },
   "id": "4ab150c229ac7481",
   "execution_count": 2
  },
  {
   "cell_type": "code",
   "outputs": [
    {
     "name": "stdout",
     "output_type": "stream",
     "text": [
      "/Users/jan/Programming/first_CNN_on_Radolan/dwd_nc/own_test_data/testdata_two_days_2019_01_01-02.zarr/testdata_two_days_2019_01_01-02.zarr\n"
     ]
    }
   ],
   "source": [
    "print(load_path)"
   ],
   "metadata": {
    "collapsed": false,
    "ExecuteTime": {
     "end_time": "2024-08-01T12:50:03.731967Z",
     "start_time": "2024-08-01T12:50:03.728154Z"
    }
   },
   "id": "5ae1d066072e42be",
   "execution_count": 3
  },
  {
   "cell_type": "code",
   "outputs": [],
   "source": [
    "data = xr.open_dataset(folder_path) # , chunks=None # , chunks=None according to Sebastian more efficient as it avoids dask (default is chunks=1)\n",
    "# Simply reinstalled environment with numpy pandas xarray zarr jupyter\n",
    "# Now not the same error as in first_CNN_on_Radolan env for some reason\n"
   ],
   "metadata": {
    "collapsed": false,
    "ExecuteTime": {
     "end_time": "2024-08-01T12:50:03.807883Z",
     "start_time": "2024-08-01T12:50:03.734638Z"
    }
   },
   "id": "ffd76fd262be4717",
   "execution_count": 4
  },
  {
   "cell_type": "code",
   "outputs": [
    {
     "name": "stdout",
     "output_type": "stream",
     "text": [
      "FrozenMappingWarningOnValuesAccess({'step': 1, 'time': 576, 'y': 1200, 'x': 1100})\n"
     ]
    }
   ],
   "source": [
    "print(data.dims)"
   ],
   "metadata": {
    "collapsed": false,
    "ExecuteTime": {
     "end_time": "2024-08-01T12:50:03.811546Z",
     "start_time": "2024-08-01T12:50:03.808639Z"
    }
   },
   "id": "b8ae65b601e44f64",
   "execution_count": 5
  },
  {
   "cell_type": "code",
   "outputs": [],
   "source": [
    "py, px = 256, 256 # how many pixels in y and x direction\n",
    "pt = 4 # how many time steps to include in a sample (i.e. context and target)\n",
    "threshold = 1e-4 # threshold for filter condition\n",
    "# define slices for the center pixels of the blocks to apply the filter to\n",
    "length_width_center_even = 32"
   ],
   "metadata": {
    "collapsed": false,
    "ExecuteTime": {
     "end_time": "2024-08-01T12:50:03.815049Z",
     "start_time": "2024-08-01T12:50:03.812410Z"
    }
   },
   "id": "1a3a8903964bbb8f",
   "execution_count": 6
  },
  {
   "cell_type": "code",
   "outputs": [],
   "source": [
    "\n",
    "center_x = slice(px // 2 - length_width_center_even // 2, px // 2 + length_width_center_even // 2) # starting from center pixel we crop in range length_width_target_even\n",
    "center_y = slice(py // 2 - length_width_center_even // 2, py // 2 + length_width_center_even // 2) # starting from center pixel we crop in range length_width_target_even\n",
    "# partition the data into pt x py x px blocks using coarsen --> construct DatasetCoarsen object\n",
    "coarse = data.coarsen(\n",
    "    y = py,\n",
    "    x = px,\n",
    "    time = pt, # TODO: This way we are making patches with 4 subsequent time frames. This way we are only taking a target every 'pt'th time step\n",
    "    side = \"left\", # \"left\" means that the blocks are aligned to the left of the input\n",
    "    boundary=\"trim\") # boundary=\"trim\" removes the last block if it is too small\n",
    "# construct a new data set, where the blocks are folded into a new dimension\n",
    "folded = coarse.construct(\n",
    "    time = (\"time_outer\", \"time_inner\"),\n",
    "    y = (\"y_outer\", \"y_inner\"),\n",
    "    x = (\"x_outer\", \"x_inner\"))\n",
    "# get the value of the center pixels of each block and take their mean\n",
    "center = folded.isel(\n",
    "    y_inner = center_y,\n",
    "    x_inner = center_x).mean((\"y_inner\", \"x_inner\", \"time_inner\"))\n",
    "# define a threshold for the center pixels, i.e. the filter condition\n",
    "valid_center = center > threshold\n"
   ],
   "metadata": {
    "collapsed": false,
    "ExecuteTime": {
     "end_time": "2024-08-01T12:50:05.078343Z",
     "start_time": "2024-08-01T12:50:03.816161Z"
    }
   },
   "id": "9d9556f6cda23401",
   "execution_count": 7
  },
  {
   "cell_type": "code",
   "outputs": [
    {
     "data": {
      "text/plain": "DatasetCoarsen [windows->{'y': 256, 'x': 256, 'time': 4},side->left]"
     },
     "execution_count": 8,
     "metadata": {},
     "output_type": "execute_result"
    }
   ],
   "source": [
    "coarse"
   ],
   "metadata": {
    "collapsed": false,
    "ExecuteTime": {
     "end_time": "2024-08-01T12:50:05.083160Z",
     "start_time": "2024-08-01T12:50:05.079110Z"
    }
   },
   "id": "dc9b0d73f20665c0",
   "execution_count": 8
  },
  {
   "cell_type": "code",
   "outputs": [
    {
     "data": {
      "text/plain": "<xarray.Dataset> Size: 2GB\nDimensions:                 (step: 1, time_outer: 144, time_inner: 4,\n                             y_outer: 4, y_inner: 256, x_outer: 4, x_inner: 256)\nCoordinates:\n    latitude                (y_outer, y_inner, x_outer, x_inner) float64 8MB ...\n    longitude               (y_outer, y_inner, x_outer, x_inner) float64 8MB ...\n    missing_data_RV_recalc  (step, time_outer, time_inner) float32 2kB 0.0 .....\n  * step                    (step) timedelta64[ns] 8B 00:00:00\n    time                    (time_outer, time_inner) datetime64[ns] 5kB 2019-...\n    x                       (x_outer, x_inner) float64 8kB -543.5 ... 479.5\n    y                       (y_outer, y_inner) float64 8kB -3.61e+03 ... -4.6...\nDimensions without coordinates: time_outer, time_inner, y_outer, y_inner,\n                                x_outer, x_inner\nData variables:\n    RV_recalc               (step, time_outer, time_inner, y_outer, y_inner, x_outer, x_inner) float32 2GB ...\nAttributes:\n    crs:        +proj=stere +lat_0=90 +lat_ts=90 +lon_0=10 +k=0.93301270189 +...\n    nodata:     nan\n    notes:      The grid point RV_recalc[0,0] corresponds to the top-left cor...\n    transform:  [1.0, 0.0, -543.4621669218559, 0.0, -1.0, -3609.644724265573]",
      "text/html": "<div><svg style=\"position: absolute; width: 0; height: 0; overflow: hidden\">\n<defs>\n<symbol id=\"icon-database\" viewBox=\"0 0 32 32\">\n<path d=\"M16 0c-8.837 0-16 2.239-16 5v4c0 2.761 7.163 5 16 5s16-2.239 16-5v-4c0-2.761-7.163-5-16-5z\"></path>\n<path d=\"M16 17c-8.837 0-16-2.239-16-5v6c0 2.761 7.163 5 16 5s16-2.239 16-5v-6c0 2.761-7.163 5-16 5z\"></path>\n<path d=\"M16 26c-8.837 0-16-2.239-16-5v6c0 2.761 7.163 5 16 5s16-2.239 16-5v-6c0 2.761-7.163 5-16 5z\"></path>\n</symbol>\n<symbol id=\"icon-file-text2\" viewBox=\"0 0 32 32\">\n<path d=\"M28.681 7.159c-0.694-0.947-1.662-2.053-2.724-3.116s-2.169-2.030-3.116-2.724c-1.612-1.182-2.393-1.319-2.841-1.319h-15.5c-1.378 0-2.5 1.121-2.5 2.5v27c0 1.378 1.122 2.5 2.5 2.5h23c1.378 0 2.5-1.122 2.5-2.5v-19.5c0-0.448-0.137-1.23-1.319-2.841zM24.543 5.457c0.959 0.959 1.712 1.825 2.268 2.543h-4.811v-4.811c0.718 0.556 1.584 1.309 2.543 2.268zM28 29.5c0 0.271-0.229 0.5-0.5 0.5h-23c-0.271 0-0.5-0.229-0.5-0.5v-27c0-0.271 0.229-0.5 0.5-0.5 0 0 15.499-0 15.5 0v7c0 0.552 0.448 1 1 1h7v19.5z\"></path>\n<path d=\"M23 26h-14c-0.552 0-1-0.448-1-1s0.448-1 1-1h14c0.552 0 1 0.448 1 1s-0.448 1-1 1z\"></path>\n<path d=\"M23 22h-14c-0.552 0-1-0.448-1-1s0.448-1 1-1h14c0.552 0 1 0.448 1 1s-0.448 1-1 1z\"></path>\n<path d=\"M23 18h-14c-0.552 0-1-0.448-1-1s0.448-1 1-1h14c0.552 0 1 0.448 1 1s-0.448 1-1 1z\"></path>\n</symbol>\n</defs>\n</svg>\n<style>/* CSS stylesheet for displaying xarray objects in jupyterlab.\n *\n */\n\n:root {\n  --xr-font-color0: var(--jp-content-font-color0, rgba(0, 0, 0, 1));\n  --xr-font-color2: var(--jp-content-font-color2, rgba(0, 0, 0, 0.54));\n  --xr-font-color3: var(--jp-content-font-color3, rgba(0, 0, 0, 0.38));\n  --xr-border-color: var(--jp-border-color2, #e0e0e0);\n  --xr-disabled-color: var(--jp-layout-color3, #bdbdbd);\n  --xr-background-color: var(--jp-layout-color0, white);\n  --xr-background-color-row-even: var(--jp-layout-color1, white);\n  --xr-background-color-row-odd: var(--jp-layout-color2, #eeeeee);\n}\n\nhtml[theme=dark],\nhtml[data-theme=dark],\nbody[data-theme=dark],\nbody.vscode-dark {\n  --xr-font-color0: rgba(255, 255, 255, 1);\n  --xr-font-color2: rgba(255, 255, 255, 0.54);\n  --xr-font-color3: rgba(255, 255, 255, 0.38);\n  --xr-border-color: #1F1F1F;\n  --xr-disabled-color: #515151;\n  --xr-background-color: #111111;\n  --xr-background-color-row-even: #111111;\n  --xr-background-color-row-odd: #313131;\n}\n\n.xr-wrap {\n  display: block !important;\n  min-width: 300px;\n  max-width: 700px;\n}\n\n.xr-text-repr-fallback {\n  /* fallback to plain text repr when CSS is not injected (untrusted notebook) */\n  display: none;\n}\n\n.xr-header {\n  padding-top: 6px;\n  padding-bottom: 6px;\n  margin-bottom: 4px;\n  border-bottom: solid 1px var(--xr-border-color);\n}\n\n.xr-header > div,\n.xr-header > ul {\n  display: inline;\n  margin-top: 0;\n  margin-bottom: 0;\n}\n\n.xr-obj-type,\n.xr-array-name {\n  margin-left: 2px;\n  margin-right: 10px;\n}\n\n.xr-obj-type {\n  color: var(--xr-font-color2);\n}\n\n.xr-sections {\n  padding-left: 0 !important;\n  display: grid;\n  grid-template-columns: 150px auto auto 1fr 20px 20px;\n}\n\n.xr-section-item {\n  display: contents;\n}\n\n.xr-section-item input {\n  display: none;\n}\n\n.xr-section-item input + label {\n  color: var(--xr-disabled-color);\n}\n\n.xr-section-item input:enabled + label {\n  cursor: pointer;\n  color: var(--xr-font-color2);\n}\n\n.xr-section-item input:enabled + label:hover {\n  color: var(--xr-font-color0);\n}\n\n.xr-section-summary {\n  grid-column: 1;\n  color: var(--xr-font-color2);\n  font-weight: 500;\n}\n\n.xr-section-summary > span {\n  display: inline-block;\n  padding-left: 0.5em;\n}\n\n.xr-section-summary-in:disabled + label {\n  color: var(--xr-font-color2);\n}\n\n.xr-section-summary-in + label:before {\n  display: inline-block;\n  content: '►';\n  font-size: 11px;\n  width: 15px;\n  text-align: center;\n}\n\n.xr-section-summary-in:disabled + label:before {\n  color: var(--xr-disabled-color);\n}\n\n.xr-section-summary-in:checked + label:before {\n  content: '▼';\n}\n\n.xr-section-summary-in:checked + label > span {\n  display: none;\n}\n\n.xr-section-summary,\n.xr-section-inline-details {\n  padding-top: 4px;\n  padding-bottom: 4px;\n}\n\n.xr-section-inline-details {\n  grid-column: 2 / -1;\n}\n\n.xr-section-details {\n  display: none;\n  grid-column: 1 / -1;\n  margin-bottom: 5px;\n}\n\n.xr-section-summary-in:checked ~ .xr-section-details {\n  display: contents;\n}\n\n.xr-array-wrap {\n  grid-column: 1 / -1;\n  display: grid;\n  grid-template-columns: 20px auto;\n}\n\n.xr-array-wrap > label {\n  grid-column: 1;\n  vertical-align: top;\n}\n\n.xr-preview {\n  color: var(--xr-font-color3);\n}\n\n.xr-array-preview,\n.xr-array-data {\n  padding: 0 5px !important;\n  grid-column: 2;\n}\n\n.xr-array-data,\n.xr-array-in:checked ~ .xr-array-preview {\n  display: none;\n}\n\n.xr-array-in:checked ~ .xr-array-data,\n.xr-array-preview {\n  display: inline-block;\n}\n\n.xr-dim-list {\n  display: inline-block !important;\n  list-style: none;\n  padding: 0 !important;\n  margin: 0;\n}\n\n.xr-dim-list li {\n  display: inline-block;\n  padding: 0;\n  margin: 0;\n}\n\n.xr-dim-list:before {\n  content: '(';\n}\n\n.xr-dim-list:after {\n  content: ')';\n}\n\n.xr-dim-list li:not(:last-child):after {\n  content: ',';\n  padding-right: 5px;\n}\n\n.xr-has-index {\n  font-weight: bold;\n}\n\n.xr-var-list,\n.xr-var-item {\n  display: contents;\n}\n\n.xr-var-item > div,\n.xr-var-item label,\n.xr-var-item > .xr-var-name span {\n  background-color: var(--xr-background-color-row-even);\n  margin-bottom: 0;\n}\n\n.xr-var-item > .xr-var-name:hover span {\n  padding-right: 5px;\n}\n\n.xr-var-list > li:nth-child(odd) > div,\n.xr-var-list > li:nth-child(odd) > label,\n.xr-var-list > li:nth-child(odd) > .xr-var-name span {\n  background-color: var(--xr-background-color-row-odd);\n}\n\n.xr-var-name {\n  grid-column: 1;\n}\n\n.xr-var-dims {\n  grid-column: 2;\n}\n\n.xr-var-dtype {\n  grid-column: 3;\n  text-align: right;\n  color: var(--xr-font-color2);\n}\n\n.xr-var-preview {\n  grid-column: 4;\n}\n\n.xr-index-preview {\n  grid-column: 2 / 5;\n  color: var(--xr-font-color2);\n}\n\n.xr-var-name,\n.xr-var-dims,\n.xr-var-dtype,\n.xr-preview,\n.xr-attrs dt {\n  white-space: nowrap;\n  overflow: hidden;\n  text-overflow: ellipsis;\n  padding-right: 10px;\n}\n\n.xr-var-name:hover,\n.xr-var-dims:hover,\n.xr-var-dtype:hover,\n.xr-attrs dt:hover {\n  overflow: visible;\n  width: auto;\n  z-index: 1;\n}\n\n.xr-var-attrs,\n.xr-var-data,\n.xr-index-data {\n  display: none;\n  background-color: var(--xr-background-color) !important;\n  padding-bottom: 5px !important;\n}\n\n.xr-var-attrs-in:checked ~ .xr-var-attrs,\n.xr-var-data-in:checked ~ .xr-var-data,\n.xr-index-data-in:checked ~ .xr-index-data {\n  display: block;\n}\n\n.xr-var-data > table {\n  float: right;\n}\n\n.xr-var-name span,\n.xr-var-data,\n.xr-index-name div,\n.xr-index-data,\n.xr-attrs {\n  padding-left: 25px !important;\n}\n\n.xr-attrs,\n.xr-var-attrs,\n.xr-var-data,\n.xr-index-data {\n  grid-column: 1 / -1;\n}\n\ndl.xr-attrs {\n  padding: 0;\n  margin: 0;\n  display: grid;\n  grid-template-columns: 125px auto;\n}\n\n.xr-attrs dt,\n.xr-attrs dd {\n  padding: 0;\n  margin: 0;\n  float: left;\n  padding-right: 10px;\n  width: auto;\n}\n\n.xr-attrs dt {\n  font-weight: normal;\n  grid-column: 1;\n}\n\n.xr-attrs dt:hover span {\n  display: inline-block;\n  background: var(--xr-background-color);\n  padding-right: 10px;\n}\n\n.xr-attrs dd {\n  grid-column: 2;\n  white-space: pre-wrap;\n  word-break: break-all;\n}\n\n.xr-icon-database,\n.xr-icon-file-text2,\n.xr-no-icon {\n  display: inline-block;\n  vertical-align: middle;\n  width: 1em;\n  height: 1.5em !important;\n  stroke-width: 0;\n  stroke: currentColor;\n  fill: currentColor;\n}\n</style><pre class='xr-text-repr-fallback'>&lt;xarray.Dataset&gt; Size: 2GB\nDimensions:                 (step: 1, time_outer: 144, time_inner: 4,\n                             y_outer: 4, y_inner: 256, x_outer: 4, x_inner: 256)\nCoordinates:\n    latitude                (y_outer, y_inner, x_outer, x_inner) float64 8MB ...\n    longitude               (y_outer, y_inner, x_outer, x_inner) float64 8MB ...\n    missing_data_RV_recalc  (step, time_outer, time_inner) float32 2kB 0.0 .....\n  * step                    (step) timedelta64[ns] 8B 00:00:00\n    time                    (time_outer, time_inner) datetime64[ns] 5kB 2019-...\n    x                       (x_outer, x_inner) float64 8kB -543.5 ... 479.5\n    y                       (y_outer, y_inner) float64 8kB -3.61e+03 ... -4.6...\nDimensions without coordinates: time_outer, time_inner, y_outer, y_inner,\n                                x_outer, x_inner\nData variables:\n    RV_recalc               (step, time_outer, time_inner, y_outer, y_inner, x_outer, x_inner) float32 2GB ...\nAttributes:\n    crs:        +proj=stere +lat_0=90 +lat_ts=90 +lon_0=10 +k=0.93301270189 +...\n    nodata:     nan\n    notes:      The grid point RV_recalc[0,0] corresponds to the top-left cor...\n    transform:  [1.0, 0.0, -543.4621669218559, 0.0, -1.0, -3609.644724265573]</pre><div class='xr-wrap' style='display:none'><div class='xr-header'><div class='xr-obj-type'>xarray.Dataset</div></div><ul class='xr-sections'><li class='xr-section-item'><input id='section-53bc3582-f4e2-4490-9d91-795c8c36a93f' class='xr-section-summary-in' type='checkbox' disabled ><label for='section-53bc3582-f4e2-4490-9d91-795c8c36a93f' class='xr-section-summary'  title='Expand/collapse section'>Dimensions:</label><div class='xr-section-inline-details'><ul class='xr-dim-list'><li><span class='xr-has-index'>step</span>: 1</li><li><span>time_outer</span>: 144</li><li><span>time_inner</span>: 4</li><li><span>y_outer</span>: 4</li><li><span>y_inner</span>: 256</li><li><span>x_outer</span>: 4</li><li><span>x_inner</span>: 256</li></ul></div><div class='xr-section-details'></div></li><li class='xr-section-item'><input id='section-35515dd6-9bae-4ddd-beef-d3695463d41f' class='xr-section-summary-in' type='checkbox'  checked><label for='section-35515dd6-9bae-4ddd-beef-d3695463d41f' class='xr-section-summary' >Coordinates: <span>(7)</span></label><div class='xr-section-inline-details'></div><div class='xr-section-details'><ul class='xr-var-list'><li class='xr-var-item'><div class='xr-var-name'><span>latitude</span></div><div class='xr-var-dims'>(y_outer, y_inner, x_outer, x_inner)</div><div class='xr-var-dtype'>float64</div><div class='xr-var-preview xr-preview'>55.86 55.86 55.86 ... 47.21 47.21</div><input id='attrs-05cd31db-1143-404c-885d-e603e3cf0ba0' class='xr-var-attrs-in' type='checkbox' disabled><label for='attrs-05cd31db-1143-404c-885d-e603e3cf0ba0' title='Show/Hide attributes'><svg class='icon xr-icon-file-text2'><use xlink:href='#icon-file-text2'></use></svg></label><input id='data-61679e19-3ee8-4e2e-92c5-a54c2f0fe173' class='xr-var-data-in' type='checkbox'><label for='data-61679e19-3ee8-4e2e-92c5-a54c2f0fe173' title='Show/Hide data repr'><svg class='icon xr-icon-database'><use xlink:href='#icon-database'></use></svg></label><div class='xr-var-attrs'><dl class='xr-attrs'></dl></div><div class='xr-var-data'><pre>array([[[[55.85713135, 55.85844174, 55.85974978, ..., 56.11291067,\n          56.11361704, 56.11432098],\n         [56.11502251, 56.11572162, 56.11641831, ..., 56.21441402,\n          56.21449706, 56.21457765],\n         [56.21465581, 56.21473151, 56.21480477, ..., 56.15592721,\n          56.15538547, 56.1548413 ],\n         [56.15429471, 56.15374569, 56.15319424, ..., 55.93847198,\n          55.9373149 , 55.93615544]],\n\n        [[55.84842015, 55.84973013, 55.85103776, ..., 56.10411771,\n          56.10482384, 56.10552756],\n         [56.10622886, 56.10692774, 56.10762421, ..., 56.20558828,\n          56.2056713 , 56.20575187],\n         [56.20582999, 56.20590568, 56.20597891, ..., 56.14712037,\n          56.14657881, 56.14603482],\n         [56.14548841, 56.14493956, 56.14438829, ..., 55.9297349 ,\n          55.92857819, 55.92741911]],\n\n        [[55.83970931, 55.84101888, 55.84232609, ..., 56.09532513,\n          56.09603104, 56.09673453],\n...\n         [47.38601139, 47.38560524, 47.38519728, ..., 47.22613387,\n          47.22527557, 47.22441549]],\n\n        [[47.15746929, 47.15844201, 47.15941298, ..., 47.34703909,\n          47.34756178, 47.34808266],\n         [47.34860176, 47.34911906, 47.34963457, ..., 47.42210036,\n          47.42216173, 47.42222129],\n         [47.42227905, 47.422335  , 47.42238914, ..., 47.37886131,\n          47.37846065, 47.3780582 ],\n         [47.37765395, 47.3772479 , 47.37684006, ..., 47.21781981,\n          47.21696174, 47.2161019 ]],\n\n        [[47.14917198, 47.15014445, 47.15111515, ..., 47.33869045,\n          47.33921299, 47.33973374],\n         [47.34025269, 47.34076985, 47.34128522, ..., 47.41373128,\n          47.41379263, 47.41385218],\n         [47.41390992, 47.41396585, 47.41401998, ..., 47.37050401,\n          47.37010346, 47.36970112],\n         [47.36929698, 47.36889104, 47.36848331, ..., 47.20950621,\n          47.20864837, 47.20778876]]]])</pre></div></li><li class='xr-var-item'><div class='xr-var-name'><span>longitude</span></div><div class='xr-var-dims'>(y_outer, y_inner, x_outer, x_inner)</div><div class='xr-var-dtype'>float64</div><div class='xr-var-preview xr-preview'>1.438 1.453 1.469 ... 15.9 15.91</div><input id='attrs-bd239add-fb94-456a-aec8-819d45aa0e3a' class='xr-var-attrs-in' type='checkbox' disabled><label for='attrs-bd239add-fb94-456a-aec8-819d45aa0e3a' title='Show/Hide attributes'><svg class='icon xr-icon-file-text2'><use xlink:href='#icon-file-text2'></use></svg></label><input id='data-7445e86f-e7d3-4bee-91a1-2d2e4c08f514' class='xr-var-data-in' type='checkbox'><label for='data-7445e86f-e7d3-4bee-91a1-2d2e4c08f514' title='Show/Hide data repr'><svg class='icon xr-icon-database'><use xlink:href='#icon-database'></use></svg></label><div class='xr-var-attrs'><dl class='xr-attrs'></dl></div><div class='xr-var-data'><pre>array([[[[ 1.43794961,  1.45347139,  1.46899442, ...,  5.39941572,\n           5.41518692,  5.43095881],\n         [ 5.4467314 ,  5.46250468,  5.47827865, ...,  9.45299971,\n           9.46887127,  9.48474291],\n         [ 9.50061464,  9.51648644,  9.53235832, ..., 13.51205794,\n          13.52787107, 13.54368367],\n         [13.55949573, 13.57530724, 13.59111821, ..., 17.53618068,\n          17.55178005, 17.56737831]],\n\n        [[ 1.44028582,  1.45580348,  1.47132241, ...,  5.40068442,\n           5.41645131,  5.43221889],\n         [ 5.44798717,  5.46375614,  5.47952579, ...,  9.45315119,\n           9.46901836,  9.48488561],\n         [ 9.50075294,  9.51662035,  9.53248783, ..., 13.51108768,\n          13.52689647, 13.54270472],\n         [13.55851243, 13.5743196 , 13.59012622, ..., 17.53411745,\n          17.54971265, 17.56530673]],\n\n        [[ 1.44262076,  1.45813431,  1.47364913, ...,  5.40195243,\n           5.41771501,  5.43347828],\n...\n         [12.77607163, 12.78841565, 12.80075941, ..., 15.88784607,\n          15.90008877, 15.91233093]],\n\n        [[ 3.30770015,  3.31990295,  3.33210637, ...,  6.41153599,\n           6.4238582 ,  6.43618074],\n         [ 6.44850361,  6.46082681,  6.47315034, ...,  9.57369349,\n           9.58606333,  9.59843321],\n         [ 9.61080312,  9.62317308,  9.63554306, ..., 12.73844754,\n          12.75078968, 12.76313157],\n         [12.7754732 , 12.78781456, 12.80015568, ..., 15.88658377,\n          15.89882389, 15.91106346]],\n\n        [[ 3.30913164,  3.32133189,  3.33353274, ...,  6.41230857,\n           6.42462814,  6.43694805],\n         [ 6.44926828,  6.46158884,  6.47390972, ...,  9.57378551,\n           9.58615268,  9.59851989],\n         [ 9.61088713,  9.62325442,  9.63562173, ..., 12.73785732,\n          12.75019681, 12.76253604],\n         [12.77487502, 12.78721374, 12.7995522 , ..., 15.88532202,\n          15.89755955, 15.90979654]]]])</pre></div></li><li class='xr-var-item'><div class='xr-var-name'><span>missing_data_RV_recalc</span></div><div class='xr-var-dims'>(step, time_outer, time_inner)</div><div class='xr-var-dtype'>float32</div><div class='xr-var-preview xr-preview'>0.0 0.0 0.0 0.0 ... 0.0 0.0 0.0 0.0</div><input id='attrs-0ac19219-41e2-4eb2-9bcf-eb8b2815820c' class='xr-var-attrs-in' type='checkbox' disabled><label for='attrs-0ac19219-41e2-4eb2-9bcf-eb8b2815820c' title='Show/Hide attributes'><svg class='icon xr-icon-file-text2'><use xlink:href='#icon-file-text2'></use></svg></label><input id='data-5e767130-4a8e-4eee-b410-e5fa39898ce7' class='xr-var-data-in' type='checkbox'><label for='data-5e767130-4a8e-4eee-b410-e5fa39898ce7' title='Show/Hide data repr'><svg class='icon xr-icon-database'><use xlink:href='#icon-database'></use></svg></label><div class='xr-var-attrs'><dl class='xr-attrs'></dl></div><div class='xr-var-data'><pre>array([[[0., 0., 0., 0.],\n        [0., 0., 0., 0.],\n        [0., 0., 0., 0.],\n        [0., 0., 0., 0.],\n        [0., 0., 0., 0.],\n        [0., 0., 0., 0.],\n        [0., 0., 0., 0.],\n        [0., 0., 0., 0.],\n        [0., 0., 0., 0.],\n        [0., 0., 0., 0.],\n        [0., 0., 0., 0.],\n        [0., 0., 0., 0.],\n        [0., 0., 0., 0.],\n        [0., 0., 0., 0.],\n        [0., 0., 0., 0.],\n        [0., 0., 0., 0.],\n        [0., 0., 0., 0.],\n        [0., 0., 0., 0.],\n        [0., 0., 0., 0.],\n        [0., 0., 0., 0.],\n...\n        [0., 0., 0., 0.],\n        [0., 0., 0., 0.],\n        [0., 0., 0., 0.],\n        [0., 0., 0., 0.],\n        [0., 0., 0., 0.],\n        [0., 0., 0., 0.],\n        [0., 0., 0., 0.],\n        [0., 0., 0., 0.],\n        [0., 0., 0., 0.],\n        [0., 0., 0., 0.],\n        [0., 0., 0., 0.],\n        [0., 0., 0., 0.],\n        [0., 0., 0., 0.],\n        [0., 0., 0., 0.],\n        [0., 0., 0., 0.],\n        [0., 0., 0., 0.],\n        [0., 0., 0., 0.],\n        [0., 0., 0., 0.],\n        [0., 0., 0., 0.],\n        [0., 0., 0., 0.]]], dtype=float32)</pre></div></li><li class='xr-var-item'><div class='xr-var-name'><span class='xr-has-index'>step</span></div><div class='xr-var-dims'>(step)</div><div class='xr-var-dtype'>timedelta64[ns]</div><div class='xr-var-preview xr-preview'>00:00:00</div><input id='attrs-0fe7f0cc-3b48-4913-8c8b-28b4d9c9eef0' class='xr-var-attrs-in' type='checkbox' disabled><label for='attrs-0fe7f0cc-3b48-4913-8c8b-28b4d9c9eef0' title='Show/Hide attributes'><svg class='icon xr-icon-file-text2'><use xlink:href='#icon-file-text2'></use></svg></label><input id='data-f87a1c5a-d1d0-4a2a-9d97-0ce7ec232644' class='xr-var-data-in' type='checkbox'><label for='data-f87a1c5a-d1d0-4a2a-9d97-0ce7ec232644' title='Show/Hide data repr'><svg class='icon xr-icon-database'><use xlink:href='#icon-database'></use></svg></label><div class='xr-var-attrs'><dl class='xr-attrs'></dl></div><div class='xr-var-data'><pre>array([0], dtype=&#x27;timedelta64[ns]&#x27;)</pre></div></li><li class='xr-var-item'><div class='xr-var-name'><span>time</span></div><div class='xr-var-dims'>(time_outer, time_inner)</div><div class='xr-var-dtype'>datetime64[ns]</div><div class='xr-var-preview xr-preview'>2019-01-01 ... 2019-01-02T23:55:00</div><input id='attrs-2c854b68-df9a-4f10-9992-a2f916f859ae' class='xr-var-attrs-in' type='checkbox' disabled><label for='attrs-2c854b68-df9a-4f10-9992-a2f916f859ae' title='Show/Hide attributes'><svg class='icon xr-icon-file-text2'><use xlink:href='#icon-file-text2'></use></svg></label><input id='data-73264eaa-b737-434c-848f-258fa1af6ca8' class='xr-var-data-in' type='checkbox'><label for='data-73264eaa-b737-434c-848f-258fa1af6ca8' title='Show/Hide data repr'><svg class='icon xr-icon-database'><use xlink:href='#icon-database'></use></svg></label><div class='xr-var-attrs'><dl class='xr-attrs'></dl></div><div class='xr-var-data'><pre>array([[&#x27;2019-01-01T00:00:00.000000000&#x27;, &#x27;2019-01-01T00:05:00.000000000&#x27;,\n        &#x27;2019-01-01T00:10:00.000000000&#x27;, &#x27;2019-01-01T00:15:00.000000000&#x27;],\n       [&#x27;2019-01-01T00:20:00.000000000&#x27;, &#x27;2019-01-01T00:25:00.000000000&#x27;,\n        &#x27;2019-01-01T00:30:00.000000000&#x27;, &#x27;2019-01-01T00:35:00.000000000&#x27;],\n       [&#x27;2019-01-01T00:40:00.000000000&#x27;, &#x27;2019-01-01T00:45:00.000000000&#x27;,\n        &#x27;2019-01-01T00:50:00.000000000&#x27;, &#x27;2019-01-01T00:55:00.000000000&#x27;],\n       [&#x27;2019-01-01T01:00:00.000000000&#x27;, &#x27;2019-01-01T01:05:00.000000000&#x27;,\n        &#x27;2019-01-01T01:10:00.000000000&#x27;, &#x27;2019-01-01T01:15:00.000000000&#x27;],\n       [&#x27;2019-01-01T01:20:00.000000000&#x27;, &#x27;2019-01-01T01:25:00.000000000&#x27;,\n        &#x27;2019-01-01T01:30:00.000000000&#x27;, &#x27;2019-01-01T01:35:00.000000000&#x27;],\n       [&#x27;2019-01-01T01:40:00.000000000&#x27;, &#x27;2019-01-01T01:45:00.000000000&#x27;,\n        &#x27;2019-01-01T01:50:00.000000000&#x27;, &#x27;2019-01-01T01:55:00.000000000&#x27;],\n       [&#x27;2019-01-01T02:00:00.000000000&#x27;, &#x27;2019-01-01T02:05:00.000000000&#x27;,\n        &#x27;2019-01-01T02:10:00.000000000&#x27;, &#x27;2019-01-01T02:15:00.000000000&#x27;],\n       [&#x27;2019-01-01T02:20:00.000000000&#x27;, &#x27;2019-01-01T02:25:00.000000000&#x27;,\n        &#x27;2019-01-01T02:30:00.000000000&#x27;, &#x27;2019-01-01T02:35:00.000000000&#x27;],\n       [&#x27;2019-01-01T02:40:00.000000000&#x27;, &#x27;2019-01-01T02:45:00.000000000&#x27;,\n        &#x27;2019-01-01T02:50:00.000000000&#x27;, &#x27;2019-01-01T02:55:00.000000000&#x27;],\n       [&#x27;2019-01-01T03:00:00.000000000&#x27;, &#x27;2019-01-01T03:05:00.000000000&#x27;,\n        &#x27;2019-01-01T03:10:00.000000000&#x27;, &#x27;2019-01-01T03:15:00.000000000&#x27;],\n...\n        &#x27;2019-01-02T20:50:00.000000000&#x27;, &#x27;2019-01-02T20:55:00.000000000&#x27;],\n       [&#x27;2019-01-02T21:00:00.000000000&#x27;, &#x27;2019-01-02T21:05:00.000000000&#x27;,\n        &#x27;2019-01-02T21:10:00.000000000&#x27;, &#x27;2019-01-02T21:15:00.000000000&#x27;],\n       [&#x27;2019-01-02T21:20:00.000000000&#x27;, &#x27;2019-01-02T21:25:00.000000000&#x27;,\n        &#x27;2019-01-02T21:30:00.000000000&#x27;, &#x27;2019-01-02T21:35:00.000000000&#x27;],\n       [&#x27;2019-01-02T21:40:00.000000000&#x27;, &#x27;2019-01-02T21:45:00.000000000&#x27;,\n        &#x27;2019-01-02T21:50:00.000000000&#x27;, &#x27;2019-01-02T21:55:00.000000000&#x27;],\n       [&#x27;2019-01-02T22:00:00.000000000&#x27;, &#x27;2019-01-02T22:05:00.000000000&#x27;,\n        &#x27;2019-01-02T22:10:00.000000000&#x27;, &#x27;2019-01-02T22:15:00.000000000&#x27;],\n       [&#x27;2019-01-02T22:20:00.000000000&#x27;, &#x27;2019-01-02T22:25:00.000000000&#x27;,\n        &#x27;2019-01-02T22:30:00.000000000&#x27;, &#x27;2019-01-02T22:35:00.000000000&#x27;],\n       [&#x27;2019-01-02T22:40:00.000000000&#x27;, &#x27;2019-01-02T22:45:00.000000000&#x27;,\n        &#x27;2019-01-02T22:50:00.000000000&#x27;, &#x27;2019-01-02T22:55:00.000000000&#x27;],\n       [&#x27;2019-01-02T23:00:00.000000000&#x27;, &#x27;2019-01-02T23:05:00.000000000&#x27;,\n        &#x27;2019-01-02T23:10:00.000000000&#x27;, &#x27;2019-01-02T23:15:00.000000000&#x27;],\n       [&#x27;2019-01-02T23:20:00.000000000&#x27;, &#x27;2019-01-02T23:25:00.000000000&#x27;,\n        &#x27;2019-01-02T23:30:00.000000000&#x27;, &#x27;2019-01-02T23:35:00.000000000&#x27;],\n       [&#x27;2019-01-02T23:40:00.000000000&#x27;, &#x27;2019-01-02T23:45:00.000000000&#x27;,\n        &#x27;2019-01-02T23:50:00.000000000&#x27;, &#x27;2019-01-02T23:55:00.000000000&#x27;]],\n      dtype=&#x27;datetime64[ns]&#x27;)</pre></div></li><li class='xr-var-item'><div class='xr-var-name'><span>x</span></div><div class='xr-var-dims'>(x_outer, x_inner)</div><div class='xr-var-dtype'>float64</div><div class='xr-var-preview xr-preview'>-543.5 -542.5 ... 478.5 479.5</div><input id='attrs-ac4dcf05-630b-4318-8d17-ed736aec6da2' class='xr-var-attrs-in' type='checkbox' disabled><label for='attrs-ac4dcf05-630b-4318-8d17-ed736aec6da2' title='Show/Hide attributes'><svg class='icon xr-icon-file-text2'><use xlink:href='#icon-file-text2'></use></svg></label><input id='data-e567a237-8580-4213-8602-1141f435830a' class='xr-var-data-in' type='checkbox'><label for='data-e567a237-8580-4213-8602-1141f435830a' title='Show/Hide data repr'><svg class='icon xr-icon-database'><use xlink:href='#icon-database'></use></svg></label><div class='xr-var-attrs'><dl class='xr-attrs'></dl></div><div class='xr-var-data'><pre>array([[-543.46216692, -542.46216692, -541.46216692, ..., -290.46216692,\n        -289.46216692, -288.46216692],\n       [-287.46216692, -286.46216692, -285.46216692, ...,  -34.46216692,\n         -33.46216692,  -32.46216692],\n       [ -31.46216692,  -30.46216692,  -29.46216692, ...,  221.53783308,\n         222.53783308,  223.53783308],\n       [ 224.53783308,  225.53783308,  226.53783308, ...,  477.53783308,\n         478.53783308,  479.53783308]])</pre></div></li><li class='xr-var-item'><div class='xr-var-name'><span>y</span></div><div class='xr-var-dims'>(y_outer, y_inner)</div><div class='xr-var-dtype'>float64</div><div class='xr-var-preview xr-preview'>-3.61e+03 -3.611e+03 ... -4.633e+03</div><input id='attrs-fbcee0d0-3c01-4d02-9452-c7eeea3b956c' class='xr-var-attrs-in' type='checkbox' disabled><label for='attrs-fbcee0d0-3c01-4d02-9452-c7eeea3b956c' title='Show/Hide attributes'><svg class='icon xr-icon-file-text2'><use xlink:href='#icon-file-text2'></use></svg></label><input id='data-d6e56d6e-0146-4140-bbc3-3addd3a13db3' class='xr-var-data-in' type='checkbox'><label for='data-d6e56d6e-0146-4140-bbc3-3addd3a13db3' title='Show/Hide data repr'><svg class='icon xr-icon-database'><use xlink:href='#icon-database'></use></svg></label><div class='xr-var-attrs'><dl class='xr-attrs'></dl></div><div class='xr-var-data'><pre>array([[-3609.64472427, -3610.64472427, -3611.64472427, ...,\n        -3862.64472427, -3863.64472427, -3864.64472427],\n       [-3865.64472427, -3866.64472427, -3867.64472427, ...,\n        -4118.64472427, -4119.64472427, -4120.64472427],\n       [-4121.64472427, -4122.64472427, -4123.64472427, ...,\n        -4374.64472427, -4375.64472427, -4376.64472427],\n       [-4377.64472427, -4378.64472427, -4379.64472427, ...,\n        -4630.64472427, -4631.64472427, -4632.64472427]])</pre></div></li></ul></div></li><li class='xr-section-item'><input id='section-937b5854-546c-4416-a946-0ce099a8cfc5' class='xr-section-summary-in' type='checkbox'  checked><label for='section-937b5854-546c-4416-a946-0ce099a8cfc5' class='xr-section-summary' >Data variables: <span>(1)</span></label><div class='xr-section-inline-details'></div><div class='xr-section-details'><ul class='xr-var-list'><li class='xr-var-item'><div class='xr-var-name'><span>RV_recalc</span></div><div class='xr-var-dims'>(step, time_outer, time_inner, y_outer, y_inner, x_outer, x_inner)</div><div class='xr-var-dtype'>float32</div><div class='xr-var-preview xr-preview'>nan nan nan nan ... nan nan nan nan</div><input id='attrs-a2ab240f-2b4d-4ba5-87ec-793e3fc94546' class='xr-var-attrs-in' type='checkbox' disabled><label for='attrs-a2ab240f-2b4d-4ba5-87ec-793e3fc94546' title='Show/Hide attributes'><svg class='icon xr-icon-file-text2'><use xlink:href='#icon-file-text2'></use></svg></label><input id='data-bf426ab1-96b1-46b2-8630-0ced044de60c' class='xr-var-data-in' type='checkbox'><label for='data-bf426ab1-96b1-46b2-8630-0ced044de60c' title='Show/Hide data repr'><svg class='icon xr-icon-database'><use xlink:href='#icon-database'></use></svg></label><div class='xr-var-attrs'><dl class='xr-attrs'></dl></div><div class='xr-var-data'><pre>array([[[[[[[            nan,             nan,             nan, ...,\n                         nan,             nan,             nan],\n            [            nan,             nan,             nan, ...,\n                         nan,             nan,             nan],\n            [            nan,             nan,             nan, ...,\n                         nan,             nan,             nan],\n            [            nan,             nan,             nan, ...,\n                         nan,             nan,             nan]],\n\n           [[            nan,             nan,             nan, ...,\n                         nan,             nan,             nan],\n            [            nan,             nan,             nan, ...,\n                         nan,             nan,             nan],\n            [            nan,             nan,             nan, ...,\n                         nan,             nan,             nan],\n            [            nan,             nan,             nan, ...,\n                         nan,             nan,             nan]],\n\n           [[            nan,             nan,             nan, ...,\n                         nan,             nan,             nan],\n...\n                         nan,             nan,             nan]],\n\n           [[            nan,             nan,             nan, ...,\n              0.00000000e+00,  0.00000000e+00,  0.00000000e+00],\n            [ 0.00000000e+00,  0.00000000e+00,  0.00000000e+00, ...,\n              0.00000000e+00,  0.00000000e+00,  0.00000000e+00],\n            [ 0.00000000e+00,  0.00000000e+00,  0.00000000e+00, ...,\n              0.00000000e+00,  0.00000000e+00,  0.00000000e+00],\n            [ 0.00000000e+00,  0.00000000e+00,  0.00000000e+00, ...,\n                         nan,             nan,             nan]],\n\n           [[            nan,             nan,             nan, ...,\n              0.00000000e+00,  0.00000000e+00,  0.00000000e+00],\n            [ 0.00000000e+00,  0.00000000e+00,  0.00000000e+00, ...,\n              0.00000000e+00,  0.00000000e+00,  0.00000000e+00],\n            [ 0.00000000e+00,  0.00000000e+00,  0.00000000e+00, ...,\n              0.00000000e+00,  0.00000000e+00,  0.00000000e+00],\n            [ 0.00000000e+00,  0.00000000e+00,  0.00000000e+00, ...,\n                         nan,             nan,             nan]]]]]]],\n      dtype=float32)</pre></div></li></ul></div></li><li class='xr-section-item'><input id='section-1d125df2-2d92-4356-822d-afba45eb9a0c' class='xr-section-summary-in' type='checkbox'  ><label for='section-1d125df2-2d92-4356-822d-afba45eb9a0c' class='xr-section-summary' >Indexes: <span>(1)</span></label><div class='xr-section-inline-details'></div><div class='xr-section-details'><ul class='xr-var-list'><li class='xr-var-item'><div class='xr-index-name'><div>step</div></div><div class='xr-index-preview'>PandasIndex</div><div></div><input id='index-d1287968-1149-4703-8e47-7a63414c0f5b' class='xr-index-data-in' type='checkbox'/><label for='index-d1287968-1149-4703-8e47-7a63414c0f5b' title='Show/Hide index repr'><svg class='icon xr-icon-database'><use xlink:href='#icon-database'></use></svg></label><div class='xr-index-data'><pre>PandasIndex(TimedeltaIndex([&#x27;0 days&#x27;], dtype=&#x27;timedelta64[ns]&#x27;, name=&#x27;step&#x27;, freq=None))</pre></div></li></ul></div></li><li class='xr-section-item'><input id='section-6292b892-abd4-459a-b28b-4310b2c13265' class='xr-section-summary-in' type='checkbox'  checked><label for='section-6292b892-abd4-459a-b28b-4310b2c13265' class='xr-section-summary' >Attributes: <span>(4)</span></label><div class='xr-section-inline-details'></div><div class='xr-section-details'><dl class='xr-attrs'><dt><span>crs :</span></dt><dd>+proj=stere +lat_0=90 +lat_ts=90 +lon_0=10 +k=0.93301270189 +x_0=0 +y_0=0 +a=6370040 +b=6370040 +to_meter=1000 +no_defs</dd><dt><span>nodata :</span></dt><dd>nan</dd><dt><span>notes :</span></dt><dd>The grid point RV_recalc[0,0] corresponds to the top-left corner. Transform root point is top-left. Grid coordinates indicate the bottom left corner of the pixel. The data values were interpolated if the time values of the dataset did not match the desired time values.</dd><dt><span>transform :</span></dt><dd>[1.0, 0.0, -543.4621669218559, 0.0, -1.0, -3609.644724265573]</dd></dl></div></li></ul></div></div>"
     },
     "execution_count": 9,
     "metadata": {},
     "output_type": "execute_result"
    }
   ],
   "source": [
    "folded"
   ],
   "metadata": {
    "collapsed": false,
    "ExecuteTime": {
     "end_time": "2024-08-01T12:50:05.142666Z",
     "start_time": "2024-08-01T12:50:05.084031Z"
    }
   },
   "id": "f3a1148127d2d1a3",
   "execution_count": 9
  },
  {
   "cell_type": "code",
   "outputs": [
    {
     "data": {
      "text/plain": "array([[[[False, False, False, False],\n         [False, False,  True,  True],\n         [False, False, False,  True],\n         [False, False, False, False]],\n\n        [[False, False, False, False],\n         [False, False,  True, False],\n         [False, False, False,  True],\n         [False, False,  True, False]],\n\n        [[False, False, False, False],\n         [False, False,  True, False],\n         [False, False, False, False],\n         [False, False, False, False]],\n\n        ...,\n\n        [[False, False, False, False],\n         [False, False, False, False],\n         [False, False,  True, False],\n         [False, False,  True, False]],\n\n        [[False, False, False, False],\n         [False, False, False, False],\n         [False, False,  True, False],\n         [False, False,  True, False]],\n\n        [[False, False, False, False],\n         [False, False, False, False],\n         [False, False, False, False],\n         [False, False,  True, False]]]])"
     },
     "execution_count": 10,
     "metadata": {},
     "output_type": "execute_result"
    }
   ],
   "source": [
    "valid_center.RV_recalc.values"
   ],
   "metadata": {
    "collapsed": false,
    "ExecuteTime": {
     "end_time": "2024-08-01T12:50:05.146590Z",
     "start_time": "2024-08-01T12:50:05.143441Z"
    }
   },
   "id": "958473dbdb24c2b4",
   "execution_count": 10
  },
  {
   "cell_type": "code",
   "outputs": [
    {
     "ename": "IndexError",
     "evalue": "index 111 is out of bounds for axis 5 with size 4",
     "output_type": "error",
     "traceback": [
      "\u001B[0;31m---------------------------------------------------------------------------\u001B[0m",
      "\u001B[0;31mIndexError\u001B[0m                                Traceback (most recent call last)",
      "Cell \u001B[0;32mIn[29], line 8\u001B[0m\n\u001B[1;32m      6\u001B[0m sample_coord \u001B[38;5;241m=\u001B[39m valid_coords[np\u001B[38;5;241m.\u001B[39mrandom\u001B[38;5;241m.\u001B[39mrandint(\u001B[38;5;241m0\u001B[39m, valid_coords\u001B[38;5;241m.\u001B[39mshape[\u001B[38;5;241m0\u001B[39m])]\n\u001B[1;32m      7\u001B[0m \u001B[38;5;66;03m# get the block at the sample coordinate\u001B[39;00m\n\u001B[0;32m----> 8\u001B[0m sample_block \u001B[38;5;241m=\u001B[39m \u001B[43mfolded\u001B[49m\u001B[38;5;241;43m.\u001B[39;49m\u001B[43misel\u001B[49m\u001B[43m(\u001B[49m\u001B[43mtime_outer\u001B[49m\u001B[43m \u001B[49m\u001B[38;5;241;43m=\u001B[39;49m\u001B[43m \u001B[49m\u001B[43msample_coord\u001B[49m\u001B[43m[\u001B[49m\u001B[38;5;241;43m0\u001B[39;49m\u001B[43m]\u001B[49m\u001B[43m,\u001B[49m\n\u001B[1;32m      9\u001B[0m \u001B[43m                           \u001B[49m\u001B[43my_outer\u001B[49m\u001B[43m \u001B[49m\u001B[38;5;241;43m=\u001B[39;49m\u001B[43m \u001B[49m\u001B[43msample_coord\u001B[49m\u001B[43m[\u001B[49m\u001B[38;5;241;43m2\u001B[39;49m\u001B[43m]\u001B[49m\u001B[43m,\u001B[49m\n\u001B[1;32m     10\u001B[0m \u001B[43m                           \u001B[49m\u001B[43mx_outer\u001B[49m\u001B[43m \u001B[49m\u001B[38;5;241;43m=\u001B[39;49m\u001B[43m \u001B[49m\u001B[43msample_coord\u001B[49m\u001B[43m[\u001B[49m\u001B[38;5;241;43m1\u001B[39;49m\u001B[43m]\u001B[49m\u001B[43m)\u001B[49m\n",
      "File \u001B[0;32m~/miniforge3/envs/test_xarray/lib/python3.10/site-packages/xarray/core/dataset.py:3018\u001B[0m, in \u001B[0;36mDataset.isel\u001B[0;34m(self, indexers, drop, missing_dims, **indexers_kwargs)\u001B[0m\n\u001B[1;32m   3016\u001B[0m indexers \u001B[38;5;241m=\u001B[39m either_dict_or_kwargs(indexers, indexers_kwargs, \u001B[38;5;124m\"\u001B[39m\u001B[38;5;124misel\u001B[39m\u001B[38;5;124m\"\u001B[39m)\n\u001B[1;32m   3017\u001B[0m \u001B[38;5;28;01mif\u001B[39;00m \u001B[38;5;28many\u001B[39m(is_fancy_indexer(idx) \u001B[38;5;28;01mfor\u001B[39;00m idx \u001B[38;5;129;01min\u001B[39;00m indexers\u001B[38;5;241m.\u001B[39mvalues()):\n\u001B[0;32m-> 3018\u001B[0m     \u001B[38;5;28;01mreturn\u001B[39;00m \u001B[38;5;28;43mself\u001B[39;49m\u001B[38;5;241;43m.\u001B[39;49m\u001B[43m_isel_fancy\u001B[49m\u001B[43m(\u001B[49m\u001B[43mindexers\u001B[49m\u001B[43m,\u001B[49m\u001B[43m \u001B[49m\u001B[43mdrop\u001B[49m\u001B[38;5;241;43m=\u001B[39;49m\u001B[43mdrop\u001B[49m\u001B[43m,\u001B[49m\u001B[43m \u001B[49m\u001B[43mmissing_dims\u001B[49m\u001B[38;5;241;43m=\u001B[39;49m\u001B[43mmissing_dims\u001B[49m\u001B[43m)\u001B[49m\n\u001B[1;32m   3020\u001B[0m \u001B[38;5;66;03m# Much faster algorithm for when all indexers are ints, slices, one-dimensional\u001B[39;00m\n\u001B[1;32m   3021\u001B[0m \u001B[38;5;66;03m# lists, or zero or one-dimensional np.ndarray's\u001B[39;00m\n\u001B[1;32m   3022\u001B[0m indexers \u001B[38;5;241m=\u001B[39m drop_dims_from_indexers(indexers, \u001B[38;5;28mself\u001B[39m\u001B[38;5;241m.\u001B[39mdims, missing_dims)\n",
      "File \u001B[0;32m~/miniforge3/envs/test_xarray/lib/python3.10/site-packages/xarray/core/dataset.py:3074\u001B[0m, in \u001B[0;36mDataset._isel_fancy\u001B[0;34m(self, indexers, drop, missing_dims)\u001B[0m\n\u001B[1;32m   3070\u001B[0m var_indexers \u001B[38;5;241m=\u001B[39m {\n\u001B[1;32m   3071\u001B[0m     k: v \u001B[38;5;28;01mfor\u001B[39;00m k, v \u001B[38;5;129;01min\u001B[39;00m valid_indexers\u001B[38;5;241m.\u001B[39mitems() \u001B[38;5;28;01mif\u001B[39;00m k \u001B[38;5;129;01min\u001B[39;00m var\u001B[38;5;241m.\u001B[39mdims\n\u001B[1;32m   3072\u001B[0m }\n\u001B[1;32m   3073\u001B[0m \u001B[38;5;28;01mif\u001B[39;00m var_indexers:\n\u001B[0;32m-> 3074\u001B[0m     new_var \u001B[38;5;241m=\u001B[39m \u001B[43mvar\u001B[49m\u001B[38;5;241;43m.\u001B[39;49m\u001B[43misel\u001B[49m\u001B[43m(\u001B[49m\u001B[43mindexers\u001B[49m\u001B[38;5;241;43m=\u001B[39;49m\u001B[43mvar_indexers\u001B[49m\u001B[43m)\u001B[49m\n\u001B[1;32m   3075\u001B[0m     \u001B[38;5;66;03m# drop scalar coordinates\u001B[39;00m\n\u001B[1;32m   3076\u001B[0m     \u001B[38;5;66;03m# https://github.com/pydata/xarray/issues/6554\u001B[39;00m\n\u001B[1;32m   3077\u001B[0m     \u001B[38;5;28;01mif\u001B[39;00m name \u001B[38;5;129;01min\u001B[39;00m \u001B[38;5;28mself\u001B[39m\u001B[38;5;241m.\u001B[39mcoords \u001B[38;5;129;01mand\u001B[39;00m drop \u001B[38;5;129;01mand\u001B[39;00m new_var\u001B[38;5;241m.\u001B[39mndim \u001B[38;5;241m==\u001B[39m \u001B[38;5;241m0\u001B[39m:\n",
      "File \u001B[0;32m~/miniforge3/envs/test_xarray/lib/python3.10/site-packages/xarray/core/variable.py:1034\u001B[0m, in \u001B[0;36mVariable.isel\u001B[0;34m(self, indexers, missing_dims, **indexers_kwargs)\u001B[0m\n\u001B[1;32m   1031\u001B[0m indexers \u001B[38;5;241m=\u001B[39m drop_dims_from_indexers(indexers, \u001B[38;5;28mself\u001B[39m\u001B[38;5;241m.\u001B[39mdims, missing_dims)\n\u001B[1;32m   1033\u001B[0m key \u001B[38;5;241m=\u001B[39m \u001B[38;5;28mtuple\u001B[39m(indexers\u001B[38;5;241m.\u001B[39mget(dim, \u001B[38;5;28mslice\u001B[39m(\u001B[38;5;28;01mNone\u001B[39;00m)) \u001B[38;5;28;01mfor\u001B[39;00m dim \u001B[38;5;129;01min\u001B[39;00m \u001B[38;5;28mself\u001B[39m\u001B[38;5;241m.\u001B[39mdims)\n\u001B[0;32m-> 1034\u001B[0m \u001B[38;5;28;01mreturn\u001B[39;00m \u001B[38;5;28;43mself\u001B[39;49m\u001B[43m[\u001B[49m\u001B[43mkey\u001B[49m\u001B[43m]\u001B[49m\n",
      "File \u001B[0;32m~/miniforge3/envs/test_xarray/lib/python3.10/site-packages/xarray/core/variable.py:801\u001B[0m, in \u001B[0;36mVariable.__getitem__\u001B[0;34m(self, key)\u001B[0m\n\u001B[1;32m    798\u001B[0m dims, indexer, new_order \u001B[38;5;241m=\u001B[39m \u001B[38;5;28mself\u001B[39m\u001B[38;5;241m.\u001B[39m_broadcast_indexes(key)\n\u001B[1;32m    799\u001B[0m indexable \u001B[38;5;241m=\u001B[39m as_indexable(\u001B[38;5;28mself\u001B[39m\u001B[38;5;241m.\u001B[39m_data)\n\u001B[0;32m--> 801\u001B[0m data \u001B[38;5;241m=\u001B[39m \u001B[43mindexing\u001B[49m\u001B[38;5;241;43m.\u001B[39;49m\u001B[43mapply_indexer\u001B[49m\u001B[43m(\u001B[49m\u001B[43mindexable\u001B[49m\u001B[43m,\u001B[49m\u001B[43m \u001B[49m\u001B[43mindexer\u001B[49m\u001B[43m)\u001B[49m\n\u001B[1;32m    803\u001B[0m \u001B[38;5;28;01mif\u001B[39;00m new_order:\n\u001B[1;32m    804\u001B[0m     data \u001B[38;5;241m=\u001B[39m np\u001B[38;5;241m.\u001B[39mmoveaxis(data, \u001B[38;5;28mrange\u001B[39m(\u001B[38;5;28mlen\u001B[39m(new_order)), new_order)\n",
      "File \u001B[0;32m~/miniforge3/envs/test_xarray/lib/python3.10/site-packages/xarray/core/indexing.py:1030\u001B[0m, in \u001B[0;36mapply_indexer\u001B[0;34m(indexable, indexer)\u001B[0m\n\u001B[1;32m   1028\u001B[0m     \u001B[38;5;28;01mreturn\u001B[39;00m indexable\u001B[38;5;241m.\u001B[39moindex[indexer]\n\u001B[1;32m   1029\u001B[0m \u001B[38;5;28;01melse\u001B[39;00m:\n\u001B[0;32m-> 1030\u001B[0m     \u001B[38;5;28;01mreturn\u001B[39;00m \u001B[43mindexable\u001B[49m\u001B[43m[\u001B[49m\u001B[43mindexer\u001B[49m\u001B[43m]\u001B[49m\n",
      "File \u001B[0;32m~/miniforge3/envs/test_xarray/lib/python3.10/site-packages/xarray/core/indexing.py:1519\u001B[0m, in \u001B[0;36mNumpyIndexingAdapter.__getitem__\u001B[0;34m(self, indexer)\u001B[0m\n\u001B[1;32m   1515\u001B[0m \u001B[38;5;66;03m# We want 0d slices rather than scalars. This is achieved by\u001B[39;00m\n\u001B[1;32m   1516\u001B[0m \u001B[38;5;66;03m# appending an ellipsis (see\u001B[39;00m\n\u001B[1;32m   1517\u001B[0m \u001B[38;5;66;03m# https://numpy.org/doc/stable/reference/arrays.indexing.html#detailed-notes).\u001B[39;00m\n\u001B[1;32m   1518\u001B[0m key \u001B[38;5;241m=\u001B[39m indexer\u001B[38;5;241m.\u001B[39mtuple \u001B[38;5;241m+\u001B[39m (\u001B[38;5;28mEllipsis\u001B[39m,)\n\u001B[0;32m-> 1519\u001B[0m \u001B[38;5;28;01mreturn\u001B[39;00m \u001B[43marray\u001B[49m\u001B[43m[\u001B[49m\u001B[43mkey\u001B[49m\u001B[43m]\u001B[49m\n",
      "\u001B[0;31mIndexError\u001B[0m: index 111 is out of bounds for axis 5 with size 4"
     ]
    }
   ],
   "source": [
    "# get the outer coordinates for all valid blocks (valid_time, valid_x, valid_y)\n",
    "valid_coords = np.array(np.nonzero(valid_center.RV_recalc.values))#.T\n",
    "# For data loading purposes, we can use the valid_coords to get the corresponding blocks\n",
    "# For example, to get a random block from the valid blocks, we can do the following:\n",
    "# get a random element from the valid coordinates\n",
    "sample_coord = valid_coords[np.random.randint(0, valid_coords.shape[0])]\n",
    "# get the block at the sample coordinate\n",
    "sample_block = folded.isel(time_outer = sample_coord[0],\n",
    "                           y_outer = sample_coord[2],\n",
    "                           x_outer = sample_coord[1])"
   ],
   "metadata": {
    "collapsed": false,
    "ExecuteTime": {
     "end_time": "2024-08-01T12:53:43.232841Z",
     "start_time": "2024-08-01T12:53:42.469245Z"
    }
   },
   "id": "9633dafc08d20d25",
   "execution_count": 29
  },
  {
   "cell_type": "code",
   "outputs": [
    {
     "data": {
      "text/plain": "<matplotlib.image.AxesImage at 0x1680565c0>"
     },
     "execution_count": 28,
     "metadata": {},
     "output_type": "execute_result"
    },
    {
     "data": {
      "text/plain": "<Figure size 640x480 with 1 Axes>",
      "image/png": "[encoded data removed]"
     },
     "metadata": {},
     "output_type": "display_data"
    }
   ],
   "source": [
    "sample_block_vals = sample_block.RV_recalc.values[0,0,:,:]\n",
    "plt.figure()\n",
    "plt.imshow(sample_block_vals, cmap='viridis')\n",
    "# group by day xarray --> group by day to split in training and validation"
   ],
   "metadata": {
    "collapsed": false,
    "ExecuteTime": {
     "end_time": "2024-08-01T12:51:28.384246Z",
     "start_time": "2024-08-01T12:51:28.316220Z"
    }
   },
   "id": "622524715a7cb163",
   "execution_count": 28
  },
  {
   "cell_type": "code",
   "outputs": [],
   "source": [],
   "metadata": {
    "collapsed": false
   },
   "id": "904746fad8b87f6c"
  }
 ],
 "metadata": {
  "kernelspec": {
   "display_name": "Python 3",
   "language": "python",
   "name": "python3"
  },
  "language_info": {
   "codemirror_mode": {
    "name": "ipython",
    "version": 2
   },
   "file_extension": ".py",
   "mimetype": "text/x-python",
   "name": "python",
   "nbconvert_exporter": "python",
   "pygments_lexer": "ipython2",
   "version": "2.7.6"
  }
 },
 "nbformat": 4,
 "nbformat_minor": 5
}

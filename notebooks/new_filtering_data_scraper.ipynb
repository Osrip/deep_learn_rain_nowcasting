{
 "cells": [
  {
   "cell_type": "code",
   "execution_count": 1,
   "id": "initial_id",
   "metadata": {
    "collapsed": true,
    "ExecuteTime": {
     "end_time": "2024-07-31T15:18:35.032546Z",
     "start_time": "2024-07-31T15:18:34.653182Z"
    }
   },
   "outputs": [],
   "source": [
    "import numpy as np\n",
    "import os\n",
    "import xarray as xr\n",
    "\n",
    "\n"
   ]
  },
  {
   "cell_type": "code",
   "outputs": [],
   "source": [
    "folder_path = '/Users/jan/Programming/first_CNN_on_Radolan/dwd_nc/own_test_data/testdata_two_days_2019_01_01-02.zarr' #'/home/jan/Programming/remote/first_CNN_on_radolan_remote/dwd_nc/own_test_data'\n",
    "data = 'testdata_two_days_2019_01_01-02.zarr'\n",
    "load_path = os.path.join(folder_path, data)"
   ],
   "metadata": {
    "collapsed": false,
    "ExecuteTime": {
     "end_time": "2024-07-31T15:18:35.035933Z",
     "start_time": "2024-07-31T15:18:35.033731Z"
    }
   },
   "id": "4ab150c229ac7481",
   "execution_count": 2
  },
  {
   "cell_type": "code",
   "outputs": [
    {
     "name": "stdout",
     "output_type": "stream",
     "text": [
      "/Users/jan/Programming/first_CNN_on_Radolan/dwd_nc/own_test_data/testdata_two_days_2019_01_01-02.zarr/testdata_two_days_2019_01_01-02.zarr\n"
     ]
    }
   ],
   "source": [
    "print(load_path)"
   ],
   "metadata": {
    "collapsed": false,
    "ExecuteTime": {
     "end_time": "2024-07-31T15:18:35.038788Z",
     "start_time": "2024-07-31T15:18:35.036676Z"
    }
   },
   "id": "5ae1d066072e42be",
   "execution_count": 3
  },
  {
   "cell_type": "code",
   "outputs": [],
   "source": [
    "data = xr.open_dataset(folder_path) # , chunks=None # , chunks=None according to Sebastian more efficient as it avoids dask (default is chunks=1)\n",
    "# Simply reinstalled environement with numpy pandas xarray zarr jupyter\n",
    "# Now not the same error as in first_CNN_on_Radolan env for some reason\n"
   ],
   "metadata": {
    "collapsed": false,
    "ExecuteTime": {
     "end_time": "2024-07-31T15:18:35.106934Z",
     "start_time": "2024-07-31T15:18:35.039632Z"
    }
   },
   "id": "ffd76fd262be4717",
   "execution_count": 4
  },
  {
   "cell_type": "code",
   "outputs": [
    {
     "name": "stdout",
     "output_type": "stream",
     "text": [
      "FrozenMappingWarningOnValuesAccess({'step': 1, 'time': 576, 'y': 1200, 'x': 1100})\n"
     ]
    }
   ],
   "source": [
    "print(data.dims)"
   ],
   "metadata": {
    "collapsed": false,
    "ExecuteTime": {
     "end_time": "2024-07-31T15:43:12.562235Z",
     "start_time": "2024-07-31T15:43:12.557711Z"
    }
   },
   "id": "b8ae65b601e44f64",
   "execution_count": 6
  },
  {
   "cell_type": "code",
   "outputs": [
    {
     "ename": "AttributeError",
     "evalue": "'Dataset' object has no attribute 'total_precipitation_6hr'",
     "output_type": "error",
     "traceback": [
      "\u001B[0;31m---------------------------------------------------------------------------\u001B[0m",
      "\u001B[0;31mAttributeError\u001B[0m                            Traceback (most recent call last)",
      "Cell \u001B[0;32mIn[7], line 25\u001B[0m\n\u001B[1;32m     23\u001B[0m valid_center \u001B[38;5;241m=\u001B[39m center \u001B[38;5;241m>\u001B[39m threshold\n\u001B[1;32m     24\u001B[0m \u001B[38;5;66;03m# get the outer coordinates for all valid blocks (valid_time, valid_x, valid_y)\u001B[39;00m\n\u001B[0;32m---> 25\u001B[0m valid_coords \u001B[38;5;241m=\u001B[39m np\u001B[38;5;241m.\u001B[39marray(np\u001B[38;5;241m.\u001B[39mnonzero(\u001B[43mvalid_center\u001B[49m\u001B[38;5;241;43m.\u001B[39;49m\u001B[43mtotal_precipitation_6hr\u001B[49m\u001B[38;5;241m.\u001B[39mvalues))\u001B[38;5;241m.\u001B[39mT\n\u001B[1;32m     26\u001B[0m \u001B[38;5;66;03m# For data loading purposes, we can use the valid_coords to get the corresponding blocks\u001B[39;00m\n\u001B[1;32m     27\u001B[0m \u001B[38;5;66;03m# For example, to get a random block from the valid blocks, we can do the following:\u001B[39;00m\n\u001B[1;32m     28\u001B[0m \u001B[38;5;66;03m# get a random element from the valid coordinates\u001B[39;00m\n\u001B[1;32m     29\u001B[0m sample_coord \u001B[38;5;241m=\u001B[39m valid_coords[np\u001B[38;5;241m.\u001B[39mrandom\u001B[38;5;241m.\u001B[39mrandint(\u001B[38;5;241m0\u001B[39m, valid_coords\u001B[38;5;241m.\u001B[39mshape[\u001B[38;5;241m0\u001B[39m])]\n",
      "File \u001B[0;32m~/miniforge3/envs/test_xarray/lib/python3.10/site-packages/xarray/core/common.py:286\u001B[0m, in \u001B[0;36mAttrAccessMixin.__getattr__\u001B[0;34m(self, name)\u001B[0m\n\u001B[1;32m    284\u001B[0m         \u001B[38;5;28;01mwith\u001B[39;00m suppress(\u001B[38;5;167;01mKeyError\u001B[39;00m):\n\u001B[1;32m    285\u001B[0m             \u001B[38;5;28;01mreturn\u001B[39;00m source[name]\n\u001B[0;32m--> 286\u001B[0m \u001B[38;5;28;01mraise\u001B[39;00m \u001B[38;5;167;01mAttributeError\u001B[39;00m(\n\u001B[1;32m    287\u001B[0m     \u001B[38;5;124mf\u001B[39m\u001B[38;5;124m\"\u001B[39m\u001B[38;5;132;01m{\u001B[39;00m\u001B[38;5;28mtype\u001B[39m(\u001B[38;5;28mself\u001B[39m)\u001B[38;5;241m.\u001B[39m\u001B[38;5;18m__name__\u001B[39m\u001B[38;5;132;01m!r}\u001B[39;00m\u001B[38;5;124m object has no attribute \u001B[39m\u001B[38;5;132;01m{\u001B[39;00mname\u001B[38;5;132;01m!r}\u001B[39;00m\u001B[38;5;124m\"\u001B[39m\n\u001B[1;32m    288\u001B[0m )\n",
      "\u001B[0;31mAttributeError\u001B[0m: 'Dataset' object has no attribute 'total_precipitation_6hr'"
     ]
    }
   ],
   "source": [
    "#I assumed that the data is a xarray dataset with the dimensions time, latitude, longitude\n",
    "# define block sizes and filter condition here\n",
    "py, px = 10, 20 # how many pixels in y and x direction\n",
    "pt = 4 # how many time steps to include in a sample (i.e. context and target)\n",
    "threshold = 1e-4 # threshold for filter condition\n",
    "# define slices for the center pixels of the blocks to apply the filter to\n",
    "center_x = slice(px // 2 - 1, px // 2 + 2) # 3 pixels in x direction\n",
    "center_y = slice(py // 2 - 1, py // 2 + 2) # 3 pixels in y direction\n",
    "# partition the data into pt x py x px blocks using coarsen\n",
    "coarse = data.coarsen(y = py,\n",
    "                     x = px,\n",
    "                     time = pt,\n",
    "                     side = \"left\", # \"left\" means that the blocks are aligned to the left of the input\n",
    "                     boundary=\"trim\") #boundary=\"trim\" removes the last block if it is too small\n",
    "# construct a new data set, where the blocks are folded into a new dimension\n",
    "folded = coarse.construct(time = (\"time_outer\", \"time_inner\"),\n",
    "                         y = (\"y_outer\", \"y_inner\"),\n",
    "                         x = (\"x_outer\", \"x_inner\"))\n",
    "# get the value of the center pixels of each block and take their mean\n",
    "center = folded.isel(y_inner = center_y,\n",
    "                     x_inner = center_x).mean((\"y_inner\", \"x_inner\", \"time_inner\"))\n",
    "# define a threshold for the center pixels, i.e. the filter condition\n",
    "valid_center = center > threshold\n",
    "# get the outer coordinates for all valid blocks (valid_time, valid_x, valid_y)\n",
    "valid_coords = np.array(np.nonzero(valid_center.total_precipitation_6hr.values)).T\n",
    "# For data loading purposes, we can use the valid_coords to get the corresponding blocks\n",
    "# For example, to get a random block from the valid blocks, we can do the following:\n",
    "# get a random element from the valid coordinates\n",
    "sample_coord = valid_coords[np.random.randint(0, valid_coords.shape[0])]\n",
    "# get the block at the sample coordinate\n",
    "sample_block = folded.isel(time_outer = sample_coord[0],\n",
    "                           y_outer = sample_coord[2],\n",
    "                           x_outer = sample_coord[1])"
   ],
   "metadata": {
    "collapsed": false,
    "ExecuteTime": {
     "end_time": "2024-07-31T15:44:36.672336Z",
     "start_time": "2024-07-31T15:44:34.584686Z"
    }
   },
   "id": "9d9556f6cda23401",
   "execution_count": 7
  },
  {
   "cell_type": "code",
   "outputs": [],
   "source": [],
   "metadata": {
    "collapsed": false
   },
   "id": "9633dafc08d20d25"
  }
 ],
 "metadata": {
  "kernelspec": {
   "display_name": "Python 3",
   "language": "python",
   "name": "python3"
  },
  "language_info": {
   "codemirror_mode": {
    "name": "ipython",
    "version": 2
   },
   "file_extension": ".py",
   "mimetype": "text/x-python",
   "name": "python",
   "nbconvert_exporter": "python",
   "pygments_lexer": "ipython2",
   "version": "2.7.6"
  }
 },
 "nbformat": 4,
 "nbformat_minor": 5
}

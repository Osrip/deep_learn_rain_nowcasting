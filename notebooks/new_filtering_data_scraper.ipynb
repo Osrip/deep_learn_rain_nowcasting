{
 "cells": [
  {
   "cell_type": "code",
   "execution_count": null,
   "id": "initial_id",
   "metadata": {
    "collapsed": true,
    "ExecuteTime": {
     "end_time": "2024-08-01T12:49:51.278252Z",
     "start_time": "2024-08-01T12:49:51.272889Z"
    }
   },
   "outputs": [],
   "source": []
  },
  {
   "cell_type": "code",
   "outputs": [],
   "source": [
    "import numpy as np\n",
    "import os\n",
    "import xarray as xr\n",
    "import matplotlib.pyplot as plt"
   ],
   "metadata": {
    "collapsed": false,
    "ExecuteTime": {
     "end_time": "2024-08-01T15:29:48.030248Z",
     "start_time": "2024-08-01T15:29:48.023579Z"
    }
   },
   "id": "576501505b12811b",
   "execution_count": 37
  },
  {
   "cell_type": "code",
   "outputs": [],
   "source": [
    "folder_path = '/Users/jan/Programming/first_CNN_on_Radolan/dwd_nc/own_test_data/testdata_two_days_2019_01_01-02.zarr' #'/home/jan/Programming/remote/first_CNN_on_radolan_remote/dwd_nc/own_test_data'\n",
    "data = 'testdata_two_days_2019_01_01-02.zarr'\n",
    "load_path = os.path.join(folder_path, data)"
   ],
   "metadata": {
    "collapsed": false,
    "ExecuteTime": {
     "end_time": "2024-08-01T15:29:48.162655Z",
     "start_time": "2024-08-01T15:29:48.160146Z"
    }
   },
   "id": "4ab150c229ac7481",
   "execution_count": 38
  },
  {
   "cell_type": "code",
   "outputs": [
    {
     "name": "stdout",
     "output_type": "stream",
     "text": [
      "/Users/jan/Programming/first_CNN_on_Radolan/dwd_nc/own_test_data/testdata_two_days_2019_01_01-02.zarr/testdata_two_days_2019_01_01-02.zarr\n"
     ]
    }
   ],
   "source": [
    "print(load_path)"
   ],
   "metadata": {
    "collapsed": false,
    "ExecuteTime": {
     "end_time": "2024-08-01T15:29:48.318759Z",
     "start_time": "2024-08-01T15:29:48.315316Z"
    }
   },
   "id": "5ae1d066072e42be",
   "execution_count": 39
  },
  {
   "cell_type": "code",
   "outputs": [],
   "source": [
    "data = xr.open_dataset(folder_path) # , chunks=None # , chunks=None according to Sebastian more efficient as it avoids dask (default is chunks=1)\n",
    "# Simply reinstalled environment with numpy pandas xarray zarr jupyter\n",
    "# Now not the same error as in first_CNN_on_Radolan env for some reason\n"
   ],
   "metadata": {
    "collapsed": false,
    "ExecuteTime": {
     "end_time": "2024-08-01T15:29:48.482114Z",
     "start_time": "2024-08-01T15:29:48.469723Z"
    }
   },
   "id": "ffd76fd262be4717",
   "execution_count": 40
  },
  {
   "cell_type": "code",
   "outputs": [
    {
     "name": "stdout",
     "output_type": "stream",
     "text": [
      "FrozenMappingWarningOnValuesAccess({'step': 1, 'time': 576, 'y': 1200, 'x': 1100})\n"
     ]
    }
   ],
   "source": [
    "print(data.dims)"
   ],
   "metadata": {
    "collapsed": false,
    "ExecuteTime": {
     "end_time": "2024-08-01T15:29:48.617717Z",
     "start_time": "2024-08-01T15:29:48.615234Z"
    }
   },
   "id": "b8ae65b601e44f64",
   "execution_count": 41
  },
  {
   "cell_type": "code",
   "outputs": [],
   "source": [
    "py, px = 128, 128 # how many pixels in y and x direction\n",
    "pt = 4 # how many time steps to include in a sample (i.e. context and target)\n",
    "threshold = 1e-4 # threshold for filter condition\n",
    "# define slices for the center pixels of the blocks to apply the filter to\n",
    "length_width_center_even = 32"
   ],
   "metadata": {
    "collapsed": false,
    "ExecuteTime": {
     "end_time": "2024-08-01T15:29:48.764006Z",
     "start_time": "2024-08-01T15:29:48.761900Z"
    }
   },
   "id": "1a3a8903964bbb8f",
   "execution_count": 42
  },
  {
   "cell_type": "code",
   "outputs": [],
   "source": [
    "\n",
    "center_x = slice(px // 2 - length_width_center_even // 2, px // 2 + length_width_center_even // 2) # starting from center pixel we crop in range length_width_target_even\n",
    "center_y = slice(py // 2 - length_width_center_even // 2, py // 2 + length_width_center_even // 2) # starting from center pixel we crop in range length_width_target_even\n",
    "# partition the data into pt x py x px blocks using coarsen --> construct DatasetCoarsen object\n",
    "coarse = data.coarsen(\n",
    "    y = py,\n",
    "    x = px,\n",
    "    time = pt, # TODO: This way we are making patches with 4 subsequent time frames. This way we are only taking a target every 'pt'th time step\n",
    "    side = \"left\", # \"left\" means that the blocks are aligned to the left of the input\n",
    "    boundary=\"trim\") # boundary=\"trim\" removes the last block if it is too small\n",
    "# construct a new data set, where the blocks are folded into a new dimension\n",
    "folded = coarse.construct(\n",
    "    time = (\"time_outer\", \"time_inner\"),\n",
    "    y = (\"y_outer\", \"y_inner\"),\n",
    "    x = (\"x_outer\", \"x_inner\"))\n",
    "# get the value of the center pixels of each block and take their mean\n",
    "center = folded.isel(\n",
    "    y_inner = center_y,\n",
    "    x_inner = center_x).mean((\"y_inner\", \"x_inner\", \"time_inner\"))\n",
    "\n",
    "# define a threshold for the center pixels, i.e. the filter condition\n",
    "valid_center = center > threshold\n"
   ],
   "metadata": {
    "collapsed": false,
    "ExecuteTime": {
     "end_time": "2024-08-01T15:29:51.599844Z",
     "start_time": "2024-08-01T15:29:48.911242Z"
    }
   },
   "id": "9d9556f6cda23401",
   "execution_count": 43
  },
  {
   "cell_type": "code",
   "outputs": [
    {
     "data": {
      "text/plain": "<xarray.Dataset> Size: 10kB\nDimensions:    (step: 1, time_outer: 144, y_outer: 9, x_outer: 8)\nCoordinates:\n  * step       (step) timedelta64[ns] 8B 00:00:00\nDimensions without coordinates: time_outer, y_outer, x_outer\nData variables:\n    RV_recalc  (step, time_outer, y_outer, x_outer) bool 10kB False ... False",
      "text/html": "<div><svg style=\"position: absolute; width: 0; height: 0; overflow: hidden\">\n<defs>\n<symbol id=\"icon-database\" viewBox=\"0 0 32 32\">\n<path d=\"M16 0c-8.837 0-16 2.239-16 5v4c0 2.761 7.163 5 16 5s16-2.239 16-5v-4c0-2.761-7.163-5-16-5z\"></path>\n<path d=\"M16 17c-8.837 0-16-2.239-16-5v6c0 2.761 7.163 5 16 5s16-2.239 16-5v-6c0 2.761-7.163 5-16 5z\"></path>\n<path d=\"M16 26c-8.837 0-16-2.239-16-5v6c0 2.761 7.163 5 16 5s16-2.239 16-5v-6c0 2.761-7.163 5-16 5z\"></path>\n</symbol>\n<symbol id=\"icon-file-text2\" viewBox=\"0 0 32 32\">\n<path d=\"M28.681 7.159c-0.694-0.947-1.662-2.053-2.724-3.116s-2.169-2.030-3.116-2.724c-1.612-1.182-2.393-1.319-2.841-1.319h-15.5c-1.378 0-2.5 1.121-2.5 2.5v27c0 1.378 1.122 2.5 2.5 2.5h23c1.378 0 2.5-1.122 2.5-2.5v-19.5c0-0.448-0.137-1.23-1.319-2.841zM24.543 5.457c0.959 0.959 1.712 1.825 2.268 2.543h-4.811v-4.811c0.718 0.556 1.584 1.309 2.543 2.268zM28 29.5c0 0.271-0.229 0.5-0.5 0.5h-23c-0.271 0-0.5-0.229-0.5-0.5v-27c0-0.271 0.229-0.5 0.5-0.5 0 0 15.499-0 15.5 0v7c0 0.552 0.448 1 1 1h7v19.5z\"></path>\n<path d=\"M23 26h-14c-0.552 0-1-0.448-1-1s0.448-1 1-1h14c0.552 0 1 0.448 1 1s-0.448 1-1 1z\"></path>\n<path d=\"M23 22h-14c-0.552 0-1-0.448-1-1s0.448-1 1-1h14c0.552 0 1 0.448 1 1s-0.448 1-1 1z\"></path>\n<path d=\"M23 18h-14c-0.552 0-1-0.448-1-1s0.448-1 1-1h14c0.552 0 1 0.448 1 1s-0.448 1-1 1z\"></path>\n</symbol>\n</defs>\n</svg>\n<style>/* CSS stylesheet for displaying xarray objects in jupyterlab.\n *\n */\n\n:root {\n  --xr-font-color0: var(--jp-content-font-color0, rgba(0, 0, 0, 1));\n  --xr-font-color2: var(--jp-content-font-color2, rgba(0, 0, 0, 0.54));\n  --xr-font-color3: var(--jp-content-font-color3, rgba(0, 0, 0, 0.38));\n  --xr-border-color: var(--jp-border-color2, #e0e0e0);\n  --xr-disabled-color: var(--jp-layout-color3, #bdbdbd);\n  --xr-background-color: var(--jp-layout-color0, white);\n  --xr-background-color-row-even: var(--jp-layout-color1, white);\n  --xr-background-color-row-odd: var(--jp-layout-color2, #eeeeee);\n}\n\nhtml[theme=dark],\nhtml[data-theme=dark],\nbody[data-theme=dark],\nbody.vscode-dark {\n  --xr-font-color0: rgba(255, 255, 255, 1);\n  --xr-font-color2: rgba(255, 255, 255, 0.54);\n  --xr-font-color3: rgba(255, 255, 255, 0.38);\n  --xr-border-color: #1F1F1F;\n  --xr-disabled-color: #515151;\n  --xr-background-color: #111111;\n  --xr-background-color-row-even: #111111;\n  --xr-background-color-row-odd: #313131;\n}\n\n.xr-wrap {\n  display: block !important;\n  min-width: 300px;\n  max-width: 700px;\n}\n\n.xr-text-repr-fallback {\n  /* fallback to plain text repr when CSS is not injected (untrusted notebook) */\n  display: none;\n}\n\n.xr-header {\n  padding-top: 6px;\n  padding-bottom: 6px;\n  margin-bottom: 4px;\n  border-bottom: solid 1px var(--xr-border-color);\n}\n\n.xr-header > div,\n.xr-header > ul {\n  display: inline;\n  margin-top: 0;\n  margin-bottom: 0;\n}\n\n.xr-obj-type,\n.xr-array-name {\n  margin-left: 2px;\n  margin-right: 10px;\n}\n\n.xr-obj-type {\n  color: var(--xr-font-color2);\n}\n\n.xr-sections {\n  padding-left: 0 !important;\n  display: grid;\n  grid-template-columns: 150px auto auto 1fr 20px 20px;\n}\n\n.xr-section-item {\n  display: contents;\n}\n\n.xr-section-item input {\n  display: none;\n}\n\n.xr-section-item input + label {\n  color: var(--xr-disabled-color);\n}\n\n.xr-section-item input:enabled + label {\n  cursor: pointer;\n  color: var(--xr-font-color2);\n}\n\n.xr-section-item input:enabled + label:hover {\n  color: var(--xr-font-color0);\n}\n\n.xr-section-summary {\n  grid-column: 1;\n  color: var(--xr-font-color2);\n  font-weight: 500;\n}\n\n.xr-section-summary > span {\n  display: inline-block;\n  padding-left: 0.5em;\n}\n\n.xr-section-summary-in:disabled + label {\n  color: var(--xr-font-color2);\n}\n\n.xr-section-summary-in + label:before {\n  display: inline-block;\n  content: '►';\n  font-size: 11px;\n  width: 15px;\n  text-align: center;\n}\n\n.xr-section-summary-in:disabled + label:before {\n  color: var(--xr-disabled-color);\n}\n\n.xr-section-summary-in:checked + label:before {\n  content: '▼';\n}\n\n.xr-section-summary-in:checked + label > span {\n  display: none;\n}\n\n.xr-section-summary,\n.xr-section-inline-details {\n  padding-top: 4px;\n  padding-bottom: 4px;\n}\n\n.xr-section-inline-details {\n  grid-column: 2 / -1;\n}\n\n.xr-section-details {\n  display: none;\n  grid-column: 1 / -1;\n  margin-bottom: 5px;\n}\n\n.xr-section-summary-in:checked ~ .xr-section-details {\n  display: contents;\n}\n\n.xr-array-wrap {\n  grid-column: 1 / -1;\n  display: grid;\n  grid-template-columns: 20px auto;\n}\n\n.xr-array-wrap > label {\n  grid-column: 1;\n  vertical-align: top;\n}\n\n.xr-preview {\n  color: var(--xr-font-color3);\n}\n\n.xr-array-preview,\n.xr-array-data {\n  padding: 0 5px !important;\n  grid-column: 2;\n}\n\n.xr-array-data,\n.xr-array-in:checked ~ .xr-array-preview {\n  display: none;\n}\n\n.xr-array-in:checked ~ .xr-array-data,\n.xr-array-preview {\n  display: inline-block;\n}\n\n.xr-dim-list {\n  display: inline-block !important;\n  list-style: none;\n  padding: 0 !important;\n  margin: 0;\n}\n\n.xr-dim-list li {\n  display: inline-block;\n  padding: 0;\n  margin: 0;\n}\n\n.xr-dim-list:before {\n  content: '(';\n}\n\n.xr-dim-list:after {\n  content: ')';\n}\n\n.xr-dim-list li:not(:last-child):after {\n  content: ',';\n  padding-right: 5px;\n}\n\n.xr-has-index {\n  font-weight: bold;\n}\n\n.xr-var-list,\n.xr-var-item {\n  display: contents;\n}\n\n.xr-var-item > div,\n.xr-var-item label,\n.xr-var-item > .xr-var-name span {\n  background-color: var(--xr-background-color-row-even);\n  margin-bottom: 0;\n}\n\n.xr-var-item > .xr-var-name:hover span {\n  padding-right: 5px;\n}\n\n.xr-var-list > li:nth-child(odd) > div,\n.xr-var-list > li:nth-child(odd) > label,\n.xr-var-list > li:nth-child(odd) > .xr-var-name span {\n  background-color: var(--xr-background-color-row-odd);\n}\n\n.xr-var-name {\n  grid-column: 1;\n}\n\n.xr-var-dims {\n  grid-column: 2;\n}\n\n.xr-var-dtype {\n  grid-column: 3;\n  text-align: right;\n  color: var(--xr-font-color2);\n}\n\n.xr-var-preview {\n  grid-column: 4;\n}\n\n.xr-index-preview {\n  grid-column: 2 / 5;\n  color: var(--xr-font-color2);\n}\n\n.xr-var-name,\n.xr-var-dims,\n.xr-var-dtype,\n.xr-preview,\n.xr-attrs dt {\n  white-space: nowrap;\n  overflow: hidden;\n  text-overflow: ellipsis;\n  padding-right: 10px;\n}\n\n.xr-var-name:hover,\n.xr-var-dims:hover,\n.xr-var-dtype:hover,\n.xr-attrs dt:hover {\n  overflow: visible;\n  width: auto;\n  z-index: 1;\n}\n\n.xr-var-attrs,\n.xr-var-data,\n.xr-index-data {\n  display: none;\n  background-color: var(--xr-background-color) !important;\n  padding-bottom: 5px !important;\n}\n\n.xr-var-attrs-in:checked ~ .xr-var-attrs,\n.xr-var-data-in:checked ~ .xr-var-data,\n.xr-index-data-in:checked ~ .xr-index-data {\n  display: block;\n}\n\n.xr-var-data > table {\n  float: right;\n}\n\n.xr-var-name span,\n.xr-var-data,\n.xr-index-name div,\n.xr-index-data,\n.xr-attrs {\n  padding-left: 25px !important;\n}\n\n.xr-attrs,\n.xr-var-attrs,\n.xr-var-data,\n.xr-index-data {\n  grid-column: 1 / -1;\n}\n\ndl.xr-attrs {\n  padding: 0;\n  margin: 0;\n  display: grid;\n  grid-template-columns: 125px auto;\n}\n\n.xr-attrs dt,\n.xr-attrs dd {\n  padding: 0;\n  margin: 0;\n  float: left;\n  padding-right: 10px;\n  width: auto;\n}\n\n.xr-attrs dt {\n  font-weight: normal;\n  grid-column: 1;\n}\n\n.xr-attrs dt:hover span {\n  display: inline-block;\n  background: var(--xr-background-color);\n  padding-right: 10px;\n}\n\n.xr-attrs dd {\n  grid-column: 2;\n  white-space: pre-wrap;\n  word-break: break-all;\n}\n\n.xr-icon-database,\n.xr-icon-file-text2,\n.xr-no-icon {\n  display: inline-block;\n  vertical-align: middle;\n  width: 1em;\n  height: 1.5em !important;\n  stroke-width: 0;\n  stroke: currentColor;\n  fill: currentColor;\n}\n</style><pre class='xr-text-repr-fallback'>&lt;xarray.Dataset&gt; Size: 10kB\nDimensions:    (step: 1, time_outer: 144, y_outer: 9, x_outer: 8)\nCoordinates:\n  * step       (step) timedelta64[ns] 8B 00:00:00\nDimensions without coordinates: time_outer, y_outer, x_outer\nData variables:\n    RV_recalc  (step, time_outer, y_outer, x_outer) bool 10kB False ... False</pre><div class='xr-wrap' style='display:none'><div class='xr-header'><div class='xr-obj-type'>xarray.Dataset</div></div><ul class='xr-sections'><li class='xr-section-item'><input id='section-9454d26e-4c70-41e6-82a7-21a6f74c8b7c' class='xr-section-summary-in' type='checkbox' disabled ><label for='section-9454d26e-4c70-41e6-82a7-21a6f74c8b7c' class='xr-section-summary'  title='Expand/collapse section'>Dimensions:</label><div class='xr-section-inline-details'><ul class='xr-dim-list'><li><span class='xr-has-index'>step</span>: 1</li><li><span>time_outer</span>: 144</li><li><span>y_outer</span>: 9</li><li><span>x_outer</span>: 8</li></ul></div><div class='xr-section-details'></div></li><li class='xr-section-item'><input id='section-b0554cd3-9251-447e-9ab9-5c38cae1c5fd' class='xr-section-summary-in' type='checkbox'  checked><label for='section-b0554cd3-9251-447e-9ab9-5c38cae1c5fd' class='xr-section-summary' >Coordinates: <span>(1)</span></label><div class='xr-section-inline-details'></div><div class='xr-section-details'><ul class='xr-var-list'><li class='xr-var-item'><div class='xr-var-name'><span class='xr-has-index'>step</span></div><div class='xr-var-dims'>(step)</div><div class='xr-var-dtype'>timedelta64[ns]</div><div class='xr-var-preview xr-preview'>00:00:00</div><input id='attrs-631e331d-398c-48ac-87e9-350f9fd0c9ad' class='xr-var-attrs-in' type='checkbox' disabled><label for='attrs-631e331d-398c-48ac-87e9-350f9fd0c9ad' title='Show/Hide attributes'><svg class='icon xr-icon-file-text2'><use xlink:href='#icon-file-text2'></use></svg></label><input id='data-3002052a-1c70-4871-b653-05be3deae935' class='xr-var-data-in' type='checkbox'><label for='data-3002052a-1c70-4871-b653-05be3deae935' title='Show/Hide data repr'><svg class='icon xr-icon-database'><use xlink:href='#icon-database'></use></svg></label><div class='xr-var-attrs'><dl class='xr-attrs'></dl></div><div class='xr-var-data'><pre>array([0], dtype=&#x27;timedelta64[ns]&#x27;)</pre></div></li></ul></div></li><li class='xr-section-item'><input id='section-cfa17537-f522-4ac0-8129-b094b6a2b4b3' class='xr-section-summary-in' type='checkbox'  checked><label for='section-cfa17537-f522-4ac0-8129-b094b6a2b4b3' class='xr-section-summary' >Data variables: <span>(1)</span></label><div class='xr-section-inline-details'></div><div class='xr-section-details'><ul class='xr-var-list'><li class='xr-var-item'><div class='xr-var-name'><span>RV_recalc</span></div><div class='xr-var-dims'>(step, time_outer, y_outer, x_outer)</div><div class='xr-var-dtype'>bool</div><div class='xr-var-preview xr-preview'>False False False ... False False</div><input id='attrs-6b233776-0611-419f-8cfb-c4dbb5290a4d' class='xr-var-attrs-in' type='checkbox' disabled><label for='attrs-6b233776-0611-419f-8cfb-c4dbb5290a4d' title='Show/Hide attributes'><svg class='icon xr-icon-file-text2'><use xlink:href='#icon-file-text2'></use></svg></label><input id='data-756b539b-d2a0-4785-845a-836d78a829fa' class='xr-var-data-in' type='checkbox'><label for='data-756b539b-d2a0-4785-845a-836d78a829fa' title='Show/Hide data repr'><svg class='icon xr-icon-database'><use xlink:href='#icon-database'></use></svg></label><div class='xr-var-attrs'><dl class='xr-attrs'></dl></div><div class='xr-var-data'><pre>array([[[[False, False, False, ..., False, False, False],\n         [False, False, False, ...,  True, False, False],\n         [False, False,  True, ..., False,  True, False],\n         ...,\n         [False, False, False, ..., False, False, False],\n         [False, False, False, ..., False, False, False],\n         [False, False, False, ..., False, False, False]],\n\n        [[False, False, False, ..., False, False, False],\n         [False, False, False, ..., False, False, False],\n         [False, False,  True, ...,  True,  True, False],\n         ...,\n         [False, False, False, ..., False, False, False],\n         [False, False, False, ..., False, False, False],\n         [False, False, False, ..., False, False, False]],\n\n        [[False, False, False, ..., False, False, False],\n         [False, False, False, ..., False, False, False],\n         [False, False,  True, ...,  True, False, False],\n         ...,\n...\n         ...,\n         [False, False, False, ...,  True,  True, False],\n         [False, False, False, ..., False,  True, False],\n         [False, False, False, ..., False, False, False]],\n\n        [[False, False, False, ..., False, False, False],\n         [False, False,  True, ..., False, False, False],\n         [False, False,  True, ..., False, False, False],\n         ...,\n         [False, False, False, ...,  True,  True, False],\n         [False, False, False, ...,  True,  True, False],\n         [False, False, False, ..., False, False, False]],\n\n        [[False, False, False, ..., False, False, False],\n         [False, False,  True, ..., False, False, False],\n         [False, False,  True, ..., False, False, False],\n         ...,\n         [False, False, False, ...,  True,  True, False],\n         [False, False, False, ...,  True,  True, False],\n         [False, False, False, ..., False, False, False]]]])</pre></div></li></ul></div></li><li class='xr-section-item'><input id='section-89f98702-5ea9-4c9a-b136-7d6820e322aa' class='xr-section-summary-in' type='checkbox'  ><label for='section-89f98702-5ea9-4c9a-b136-7d6820e322aa' class='xr-section-summary' >Indexes: <span>(1)</span></label><div class='xr-section-inline-details'></div><div class='xr-section-details'><ul class='xr-var-list'><li class='xr-var-item'><div class='xr-index-name'><div>step</div></div><div class='xr-index-preview'>PandasIndex</div><div></div><input id='index-7c129b7e-f17d-4097-a243-e0e2c7c4d5ca' class='xr-index-data-in' type='checkbox'/><label for='index-7c129b7e-f17d-4097-a243-e0e2c7c4d5ca' title='Show/Hide index repr'><svg class='icon xr-icon-database'><use xlink:href='#icon-database'></use></svg></label><div class='xr-index-data'><pre>PandasIndex(TimedeltaIndex([&#x27;0 days&#x27;], dtype=&#x27;timedelta64[ns]&#x27;, name=&#x27;step&#x27;, freq=None))</pre></div></li></ul></div></li><li class='xr-section-item'><input id='section-c583fb2f-052c-471f-acd5-3aab47f88d4e' class='xr-section-summary-in' type='checkbox' disabled ><label for='section-c583fb2f-052c-471f-acd5-3aab47f88d4e' class='xr-section-summary'  title='Expand/collapse section'>Attributes: <span>(0)</span></label><div class='xr-section-inline-details'></div><div class='xr-section-details'><dl class='xr-attrs'></dl></div></li></ul></div></div>"
     },
     "execution_count": 44,
     "metadata": {},
     "output_type": "execute_result"
    }
   ],
   "source": [
    "valid_center"
   ],
   "metadata": {
    "collapsed": false,
    "ExecuteTime": {
     "end_time": "2024-08-01T15:29:51.613816Z",
     "start_time": "2024-08-01T15:29:51.602371Z"
    }
   },
   "id": "dc9b0d73f20665c0",
   "execution_count": 44
  },
  {
   "cell_type": "code",
   "outputs": [
    {
     "data": {
      "text/plain": "<xarray.Dataset> Size: 3GB\nDimensions:                 (step: 1, time_outer: 144, time_inner: 4,\n                             y_outer: 9, y_inner: 128, x_outer: 8, x_inner: 128)\nCoordinates:\n    latitude                (y_outer, y_inner, x_outer, x_inner) float64 9MB ...\n    longitude               (y_outer, y_inner, x_outer, x_inner) float64 9MB ...\n    missing_data_RV_recalc  (step, time_outer, time_inner) float32 2kB 0.0 .....\n  * step                    (step) timedelta64[ns] 8B 00:00:00\n    time                    (time_outer, time_inner) datetime64[ns] 5kB 2019-...\n    x                       (x_outer, x_inner) float64 8kB -543.5 ... 479.5\n    y                       (y_outer, y_inner) float64 9kB -3.61e+03 ... -4.7...\nDimensions without coordinates: time_outer, time_inner, y_outer, y_inner,\n                                x_outer, x_inner\nData variables:\n    RV_recalc               (step, time_outer, time_inner, y_outer, y_inner, x_outer, x_inner) float32 3GB ...\nAttributes:\n    crs:        +proj=stere +lat_0=90 +lat_ts=90 +lon_0=10 +k=0.93301270189 +...\n    nodata:     nan\n    notes:      The grid point RV_recalc[0,0] corresponds to the top-left cor...\n    transform:  [1.0, 0.0, -543.4621669218559, 0.0, -1.0, -3609.644724265573]",
      "text/html": "<div><svg style=\"position: absolute; width: 0; height: 0; overflow: hidden\">\n<defs>\n<symbol id=\"icon-database\" viewBox=\"0 0 32 32\">\n<path d=\"M16 0c-8.837 0-16 2.239-16 5v4c0 2.761 7.163 5 16 5s16-2.239 16-5v-4c0-2.761-7.163-5-16-5z\"></path>\n<path d=\"M16 17c-8.837 0-16-2.239-16-5v6c0 2.761 7.163 5 16 5s16-2.239 16-5v-6c0 2.761-7.163 5-16 5z\"></path>\n<path d=\"M16 26c-8.837 0-16-2.239-16-5v6c0 2.761 7.163 5 16 5s16-2.239 16-5v-6c0 2.761-7.163 5-16 5z\"></path>\n</symbol>\n<symbol id=\"icon-file-text2\" viewBox=\"0 0 32 32\">\n<path d=\"M28.681 7.159c-0.694-0.947-1.662-2.053-2.724-3.116s-2.169-2.030-3.116-2.724c-1.612-1.182-2.393-1.319-2.841-1.319h-15.5c-1.378 0-2.5 1.121-2.5 2.5v27c0 1.378 1.122 2.5 2.5 2.5h23c1.378 0 2.5-1.122 2.5-2.5v-19.5c0-0.448-0.137-1.23-1.319-2.841zM24.543 5.457c0.959 0.959 1.712 1.825 2.268 2.543h-4.811v-4.811c0.718 0.556 1.584 1.309 2.543 2.268zM28 29.5c0 0.271-0.229 0.5-0.5 0.5h-23c-0.271 0-0.5-0.229-0.5-0.5v-27c0-0.271 0.229-0.5 0.5-0.5 0 0 15.499-0 15.5 0v7c0 0.552 0.448 1 1 1h7v19.5z\"></path>\n<path d=\"M23 26h-14c-0.552 0-1-0.448-1-1s0.448-1 1-1h14c0.552 0 1 0.448 1 1s-0.448 1-1 1z\"></path>\n<path d=\"M23 22h-14c-0.552 0-1-0.448-1-1s0.448-1 1-1h14c0.552 0 1 0.448 1 1s-0.448 1-1 1z\"></path>\n<path d=\"M23 18h-14c-0.552 0-1-0.448-1-1s0.448-1 1-1h14c0.552 0 1 0.448 1 1s-0.448 1-1 1z\"></path>\n</symbol>\n</defs>\n</svg>\n<style>/* CSS stylesheet for displaying xarray objects in jupyterlab.\n *\n */\n\n:root {\n  --xr-font-color0: var(--jp-content-font-color0, rgba(0, 0, 0, 1));\n  --xr-font-color2: var(--jp-content-font-color2, rgba(0, 0, 0, 0.54));\n  --xr-font-color3: var(--jp-content-font-color3, rgba(0, 0, 0, 0.38));\n  --xr-border-color: var(--jp-border-color2, #e0e0e0);\n  --xr-disabled-color: var(--jp-layout-color3, #bdbdbd);\n  --xr-background-color: var(--jp-layout-color0, white);\n  --xr-background-color-row-even: var(--jp-layout-color1, white);\n  --xr-background-color-row-odd: var(--jp-layout-color2, #eeeeee);\n}\n\nhtml[theme=dark],\nhtml[data-theme=dark],\nbody[data-theme=dark],\nbody.vscode-dark {\n  --xr-font-color0: rgba(255, 255, 255, 1);\n  --xr-font-color2: rgba(255, 255, 255, 0.54);\n  --xr-font-color3: rgba(255, 255, 255, 0.38);\n  --xr-border-color: #1F1F1F;\n  --xr-disabled-color: #515151;\n  --xr-background-color: #111111;\n  --xr-background-color-row-even: #111111;\n  --xr-background-color-row-odd: #313131;\n}\n\n.xr-wrap {\n  display: block !important;\n  min-width: 300px;\n  max-width: 700px;\n}\n\n.xr-text-repr-fallback {\n  /* fallback to plain text repr when CSS is not injected (untrusted notebook) */\n  display: none;\n}\n\n.xr-header {\n  padding-top: 6px;\n  padding-bottom: 6px;\n  margin-bottom: 4px;\n  border-bottom: solid 1px var(--xr-border-color);\n}\n\n.xr-header > div,\n.xr-header > ul {\n  display: inline;\n  margin-top: 0;\n  margin-bottom: 0;\n}\n\n.xr-obj-type,\n.xr-array-name {\n  margin-left: 2px;\n  margin-right: 10px;\n}\n\n.xr-obj-type {\n  color: var(--xr-font-color2);\n}\n\n.xr-sections {\n  padding-left: 0 !important;\n  display: grid;\n  grid-template-columns: 150px auto auto 1fr 20px 20px;\n}\n\n.xr-section-item {\n  display: contents;\n}\n\n.xr-section-item input {\n  display: none;\n}\n\n.xr-section-item input + label {\n  color: var(--xr-disabled-color);\n}\n\n.xr-section-item input:enabled + label {\n  cursor: pointer;\n  color: var(--xr-font-color2);\n}\n\n.xr-section-item input:enabled + label:hover {\n  color: var(--xr-font-color0);\n}\n\n.xr-section-summary {\n  grid-column: 1;\n  color: var(--xr-font-color2);\n  font-weight: 500;\n}\n\n.xr-section-summary > span {\n  display: inline-block;\n  padding-left: 0.5em;\n}\n\n.xr-section-summary-in:disabled + label {\n  color: var(--xr-font-color2);\n}\n\n.xr-section-summary-in + label:before {\n  display: inline-block;\n  content: '►';\n  font-size: 11px;\n  width: 15px;\n  text-align: center;\n}\n\n.xr-section-summary-in:disabled + label:before {\n  color: var(--xr-disabled-color);\n}\n\n.xr-section-summary-in:checked + label:before {\n  content: '▼';\n}\n\n.xr-section-summary-in:checked + label > span {\n  display: none;\n}\n\n.xr-section-summary,\n.xr-section-inline-details {\n  padding-top: 4px;\n  padding-bottom: 4px;\n}\n\n.xr-section-inline-details {\n  grid-column: 2 / -1;\n}\n\n.xr-section-details {\n  display: none;\n  grid-column: 1 / -1;\n  margin-bottom: 5px;\n}\n\n.xr-section-summary-in:checked ~ .xr-section-details {\n  display: contents;\n}\n\n.xr-array-wrap {\n  grid-column: 1 / -1;\n  display: grid;\n  grid-template-columns: 20px auto;\n}\n\n.xr-array-wrap > label {\n  grid-column: 1;\n  vertical-align: top;\n}\n\n.xr-preview {\n  color: var(--xr-font-color3);\n}\n\n.xr-array-preview,\n.xr-array-data {\n  padding: 0 5px !important;\n  grid-column: 2;\n}\n\n.xr-array-data,\n.xr-array-in:checked ~ .xr-array-preview {\n  display: none;\n}\n\n.xr-array-in:checked ~ .xr-array-data,\n.xr-array-preview {\n  display: inline-block;\n}\n\n.xr-dim-list {\n  display: inline-block !important;\n  list-style: none;\n  padding: 0 !important;\n  margin: 0;\n}\n\n.xr-dim-list li {\n  display: inline-block;\n  padding: 0;\n  margin: 0;\n}\n\n.xr-dim-list:before {\n  content: '(';\n}\n\n.xr-dim-list:after {\n  content: ')';\n}\n\n.xr-dim-list li:not(:last-child):after {\n  content: ',';\n  padding-right: 5px;\n}\n\n.xr-has-index {\n  font-weight: bold;\n}\n\n.xr-var-list,\n.xr-var-item {\n  display: contents;\n}\n\n.xr-var-item > div,\n.xr-var-item label,\n.xr-var-item > .xr-var-name span {\n  background-color: var(--xr-background-color-row-even);\n  margin-bottom: 0;\n}\n\n.xr-var-item > .xr-var-name:hover span {\n  padding-right: 5px;\n}\n\n.xr-var-list > li:nth-child(odd) > div,\n.xr-var-list > li:nth-child(odd) > label,\n.xr-var-list > li:nth-child(odd) > .xr-var-name span {\n  background-color: var(--xr-background-color-row-odd);\n}\n\n.xr-var-name {\n  grid-column: 1;\n}\n\n.xr-var-dims {\n  grid-column: 2;\n}\n\n.xr-var-dtype {\n  grid-column: 3;\n  text-align: right;\n  color: var(--xr-font-color2);\n}\n\n.xr-var-preview {\n  grid-column: 4;\n}\n\n.xr-index-preview {\n  grid-column: 2 / 5;\n  color: var(--xr-font-color2);\n}\n\n.xr-var-name,\n.xr-var-dims,\n.xr-var-dtype,\n.xr-preview,\n.xr-attrs dt {\n  white-space: nowrap;\n  overflow: hidden;\n  text-overflow: ellipsis;\n  padding-right: 10px;\n}\n\n.xr-var-name:hover,\n.xr-var-dims:hover,\n.xr-var-dtype:hover,\n.xr-attrs dt:hover {\n  overflow: visible;\n  width: auto;\n  z-index: 1;\n}\n\n.xr-var-attrs,\n.xr-var-data,\n.xr-index-data {\n  display: none;\n  background-color: var(--xr-background-color) !important;\n  padding-bottom: 5px !important;\n}\n\n.xr-var-attrs-in:checked ~ .xr-var-attrs,\n.xr-var-data-in:checked ~ .xr-var-data,\n.xr-index-data-in:checked ~ .xr-index-data {\n  display: block;\n}\n\n.xr-var-data > table {\n  float: right;\n}\n\n.xr-var-name span,\n.xr-var-data,\n.xr-index-name div,\n.xr-index-data,\n.xr-attrs {\n  padding-left: 25px !important;\n}\n\n.xr-attrs,\n.xr-var-attrs,\n.xr-var-data,\n.xr-index-data {\n  grid-column: 1 / -1;\n}\n\ndl.xr-attrs {\n  padding: 0;\n  margin: 0;\n  display: grid;\n  grid-template-columns: 125px auto;\n}\n\n.xr-attrs dt,\n.xr-attrs dd {\n  padding: 0;\n  margin: 0;\n  float: left;\n  padding-right: 10px;\n  width: auto;\n}\n\n.xr-attrs dt {\n  font-weight: normal;\n  grid-column: 1;\n}\n\n.xr-attrs dt:hover span {\n  display: inline-block;\n  background: var(--xr-background-color);\n  padding-right: 10px;\n}\n\n.xr-attrs dd {\n  grid-column: 2;\n  white-space: pre-wrap;\n  word-break: break-all;\n}\n\n.xr-icon-database,\n.xr-icon-file-text2,\n.xr-no-icon {\n  display: inline-block;\n  vertical-align: middle;\n  width: 1em;\n  height: 1.5em !important;\n  stroke-width: 0;\n  stroke: currentColor;\n  fill: currentColor;\n}\n</style><pre class='xr-text-repr-fallback'>&lt;xarray.Dataset&gt; Size: 3GB\nDimensions:                 (step: 1, time_outer: 144, time_inner: 4,\n                             y_outer: 9, y_inner: 128, x_outer: 8, x_inner: 128)\nCoordinates:\n    latitude                (y_outer, y_inner, x_outer, x_inner) float64 9MB ...\n    longitude               (y_outer, y_inner, x_outer, x_inner) float64 9MB ...\n    missing_data_RV_recalc  (step, time_outer, time_inner) float32 2kB 0.0 .....\n  * step                    (step) timedelta64[ns] 8B 00:00:00\n    time                    (time_outer, time_inner) datetime64[ns] 5kB 2019-...\n    x                       (x_outer, x_inner) float64 8kB -543.5 ... 479.5\n    y                       (y_outer, y_inner) float64 9kB -3.61e+03 ... -4.7...\nDimensions without coordinates: time_outer, time_inner, y_outer, y_inner,\n                                x_outer, x_inner\nData variables:\n    RV_recalc               (step, time_outer, time_inner, y_outer, y_inner, x_outer, x_inner) float32 3GB ...\nAttributes:\n    crs:        +proj=stere +lat_0=90 +lat_ts=90 +lon_0=10 +k=0.93301270189 +...\n    nodata:     nan\n    notes:      The grid point RV_recalc[0,0] corresponds to the top-left cor...\n    transform:  [1.0, 0.0, -543.4621669218559, 0.0, -1.0, -3609.644724265573]</pre><div class='xr-wrap' style='display:none'><div class='xr-header'><div class='xr-obj-type'>xarray.Dataset</div></div><ul class='xr-sections'><li class='xr-section-item'><input id='section-1fe06206-225a-41da-bfe3-f4eaf53524ab' class='xr-section-summary-in' type='checkbox' disabled ><label for='section-1fe06206-225a-41da-bfe3-f4eaf53524ab' class='xr-section-summary'  title='Expand/collapse section'>Dimensions:</label><div class='xr-section-inline-details'><ul class='xr-dim-list'><li><span class='xr-has-index'>step</span>: 1</li><li><span>time_outer</span>: 144</li><li><span>time_inner</span>: 4</li><li><span>y_outer</span>: 9</li><li><span>y_inner</span>: 128</li><li><span>x_outer</span>: 8</li><li><span>x_inner</span>: 128</li></ul></div><div class='xr-section-details'></div></li><li class='xr-section-item'><input id='section-3fac6f79-33d2-4d46-9dca-8b38b02ad91d' class='xr-section-summary-in' type='checkbox'  checked><label for='section-3fac6f79-33d2-4d46-9dca-8b38b02ad91d' class='xr-section-summary' >Coordinates: <span>(7)</span></label><div class='xr-section-inline-details'></div><div class='xr-section-details'><ul class='xr-var-list'><li class='xr-var-item'><div class='xr-var-name'><span>latitude</span></div><div class='xr-var-dims'>(y_outer, y_inner, x_outer, x_inner)</div><div class='xr-var-dtype'>float64</div><div class='xr-var-preview xr-preview'>55.86 55.86 55.86 ... 46.15 46.15</div><input id='attrs-49ebbe05-1b3e-4ba9-b32f-339b3fc54b22' class='xr-var-attrs-in' type='checkbox' disabled><label for='attrs-49ebbe05-1b3e-4ba9-b32f-339b3fc54b22' title='Show/Hide attributes'><svg class='icon xr-icon-file-text2'><use xlink:href='#icon-file-text2'></use></svg></label><input id='data-e8e766b3-3a0f-4cb0-bba1-439e6b788c41' class='xr-var-data-in' type='checkbox'><label for='data-e8e766b3-3a0f-4cb0-bba1-439e6b788c41' title='Show/Hide data repr'><svg class='icon xr-icon-database'><use xlink:href='#icon-database'></use></svg></label><div class='xr-var-attrs'><dl class='xr-attrs'></dl></div><div class='xr-var-data'><pre>array([[[[55.85713135, 55.85844174, 55.85974978, ..., 56.00260858,\n          56.00362266, 56.00463435],\n         [56.00564366, 56.00665057, 56.0076551 , ..., 56.11291067,\n          56.11361704, 56.11432098],\n         [56.11502251, 56.11572162, 56.11641831, ..., 56.18361545,\n          56.18401102, 56.18440415],\n         ...,\n         [56.20447416, 56.20423698, 56.20399736, ..., 56.15592721,\n          56.15538547, 56.1548413 ],\n         [56.15429471, 56.15374569, 56.15319424, ..., 56.06689842,\n          56.06604717, 56.06519351],\n         [56.06433745, 56.06347898, 56.06261811, ..., 55.93847198,\n          55.9373149 , 55.93615544]],\n\n        [[55.84842015, 55.84973013, 55.85103776, ..., 55.99385101,\n          55.99486477, 55.99587614],\n         [55.99688512, 55.99789171, 55.99889592, ..., 56.10411771,\n          56.10482384, 56.10552756],\n         [56.10622886, 56.10692774, 56.10762421, ..., 56.17479968,\n          56.17519512, 56.17558812],\n...\n         [46.34764935, 46.34748001, 46.34730893, ..., 46.3129766 ,\n          46.31258956, 46.31220078],\n         [46.31181026, 46.311418  , 46.31102401, ..., 46.24933185,\n          46.24872294, 46.2481123 ],\n         [46.24749993, 46.24688584, 46.24627002, ..., 46.15738756,\n          46.15655845, 46.15572763]],\n\n        [[46.09083176, 46.09177148, 46.09270951, ..., 46.19505748,\n          46.19578329, 46.19650739],\n         [46.19722976, 46.19795042, 46.19866935, ..., 46.27394629,\n          46.27445111, 46.27495419],\n         [46.27545554, 46.27595516, 46.27645304, ..., 46.32445281,\n          46.32473524, 46.32501593],\n         ...,\n         [46.33934353, 46.33917423, 46.33900319, ..., 46.30468007,\n          46.30429313, 46.30390445],\n         [46.30351403, 46.30312188, 46.30272799, ..., 46.24105232,\n          46.24044357, 46.2398331 ],\n         [46.23922089, 46.23860696, 46.23799131, ..., 46.14913253,\n          46.14830364, 46.14747304]]]])</pre></div></li><li class='xr-var-item'><div class='xr-var-name'><span>longitude</span></div><div class='xr-var-dims'>(y_outer, y_inner, x_outer, x_inner)</div><div class='xr-var-dtype'>float64</div><div class='xr-var-preview xr-preview'>1.438 1.453 1.469 ... 15.74 15.75</div><input id='attrs-56fe2a21-e71c-46c5-b793-f6db079b2a7e' class='xr-var-attrs-in' type='checkbox' disabled><label for='attrs-56fe2a21-e71c-46c5-b793-f6db079b2a7e' title='Show/Hide attributes'><svg class='icon xr-icon-file-text2'><use xlink:href='#icon-file-text2'></use></svg></label><input id='data-07788b72-79af-4edc-8549-81425928cf50' class='xr-var-data-in' type='checkbox'><label for='data-07788b72-79af-4edc-8549-81425928cf50' title='Show/Hide data repr'><svg class='icon xr-icon-database'><use xlink:href='#icon-database'></use></svg></label><div class='xr-var-attrs'><dl class='xr-attrs'></dl></div><div class='xr-var-data'><pre>array([[[[ 1.43794961,  1.45347139,  1.46899442, ...,  3.38728139,\n           3.40294436,  3.41860832],\n         [ 3.43427327,  3.4499392 ,  3.46560612, ...,  5.39941572,\n           5.41518692,  5.43095881],\n         [ 5.4467314 ,  5.46250468,  5.47827865, ...,  7.42298218,\n           7.43882326,  7.45466473],\n         ...,\n         [11.53197686, 11.54783837, 11.56369964, ..., 13.51205794,\n          13.52787107, 13.54368367],\n         [13.55949573, 13.57530724, 13.59111821, ..., 15.53095852,\n          15.54668361, 15.56240787],\n         [15.57813128, 15.59385386, 15.60957559, ..., 17.53618068,\n          17.55178005, 17.56737831]],\n\n        [[ 1.44028582,  1.45580348,  1.47132241, ...,  3.38909663,\n           3.40475537,  3.42041511],\n         [ 3.43607583,  3.45173754,  3.46740023, ...,  5.40068442,\n           5.41645131,  5.43221889],\n         [ 5.44798717,  5.46375614,  5.47952579, ...,  7.42369495,\n           7.43953165,  7.45536875],\n...\n         [11.16194641, 11.17397924, 11.18601196, ..., 12.66491075,\n          12.67692244, 12.68893389],\n         [12.7009451 , 12.71295608, 12.72496682, ..., 14.20013617,\n          14.21210924, 14.22408195],\n         [14.23605428, 14.24802624, 14.25999783, ..., 15.72934484,\n          15.74126245, 15.75317957]],\n\n        [[ 3.48746324,  3.499344  ,  3.51122531, ...,  4.97659415,\n           4.98853739,  5.00048107],\n         [ 5.01242518,  5.02436973,  5.03631471, ...,  6.50852934,\n           6.52052015,  6.53251127],\n         [ 6.54450269,  6.55649442,  6.56848645, ...,  8.04547786,\n           8.05749924,  8.0695208 ],\n         ...,\n         [11.1617024 , 11.1737327 , 11.1857629 , ..., 12.66435178,\n          12.67636095, 12.68836989],\n         [12.70037859, 12.71238706, 12.72439529, ..., 14.19925707,\n          14.21122765, 14.22319786],\n         [14.23516771, 14.24713718, 14.25910629, ..., 15.72814937,\n          15.74006452, 15.75197918]]]])</pre></div></li><li class='xr-var-item'><div class='xr-var-name'><span>missing_data_RV_recalc</span></div><div class='xr-var-dims'>(step, time_outer, time_inner)</div><div class='xr-var-dtype'>float32</div><div class='xr-var-preview xr-preview'>0.0 0.0 0.0 0.0 ... 0.0 0.0 0.0 0.0</div><input id='attrs-f9b4fc80-f0dd-40be-8096-90b1f24cb113' class='xr-var-attrs-in' type='checkbox' disabled><label for='attrs-f9b4fc80-f0dd-40be-8096-90b1f24cb113' title='Show/Hide attributes'><svg class='icon xr-icon-file-text2'><use xlink:href='#icon-file-text2'></use></svg></label><input id='data-99707da7-b2ae-470f-8107-057ecc4beea9' class='xr-var-data-in' type='checkbox'><label for='data-99707da7-b2ae-470f-8107-057ecc4beea9' title='Show/Hide data repr'><svg class='icon xr-icon-database'><use xlink:href='#icon-database'></use></svg></label><div class='xr-var-attrs'><dl class='xr-attrs'></dl></div><div class='xr-var-data'><pre>array([[[0., 0., 0., 0.],\n        [0., 0., 0., 0.],\n        [0., 0., 0., 0.],\n        [0., 0., 0., 0.],\n        [0., 0., 0., 0.],\n        [0., 0., 0., 0.],\n        [0., 0., 0., 0.],\n        [0., 0., 0., 0.],\n        [0., 0., 0., 0.],\n        [0., 0., 0., 0.],\n        [0., 0., 0., 0.],\n        [0., 0., 0., 0.],\n        [0., 0., 0., 0.],\n        [0., 0., 0., 0.],\n        [0., 0., 0., 0.],\n        [0., 0., 0., 0.],\n        [0., 0., 0., 0.],\n        [0., 0., 0., 0.],\n        [0., 0., 0., 0.],\n        [0., 0., 0., 0.],\n...\n        [0., 0., 0., 0.],\n        [0., 0., 0., 0.],\n        [0., 0., 0., 0.],\n        [0., 0., 0., 0.],\n        [0., 0., 0., 0.],\n        [0., 0., 0., 0.],\n        [0., 0., 0., 0.],\n        [0., 0., 0., 0.],\n        [0., 0., 0., 0.],\n        [0., 0., 0., 0.],\n        [0., 0., 0., 0.],\n        [0., 0., 0., 0.],\n        [0., 0., 0., 0.],\n        [0., 0., 0., 0.],\n        [0., 0., 0., 0.],\n        [0., 0., 0., 0.],\n        [0., 0., 0., 0.],\n        [0., 0., 0., 0.],\n        [0., 0., 0., 0.],\n        [0., 0., 0., 0.]]], dtype=float32)</pre></div></li><li class='xr-var-item'><div class='xr-var-name'><span class='xr-has-index'>step</span></div><div class='xr-var-dims'>(step)</div><div class='xr-var-dtype'>timedelta64[ns]</div><div class='xr-var-preview xr-preview'>00:00:00</div><input id='attrs-7661b3b3-f58a-4860-8334-6b3136620064' class='xr-var-attrs-in' type='checkbox' disabled><label for='attrs-7661b3b3-f58a-4860-8334-6b3136620064' title='Show/Hide attributes'><svg class='icon xr-icon-file-text2'><use xlink:href='#icon-file-text2'></use></svg></label><input id='data-5281e26b-cb71-4626-b4b9-ea5672ac3a89' class='xr-var-data-in' type='checkbox'><label for='data-5281e26b-cb71-4626-b4b9-ea5672ac3a89' title='Show/Hide data repr'><svg class='icon xr-icon-database'><use xlink:href='#icon-database'></use></svg></label><div class='xr-var-attrs'><dl class='xr-attrs'></dl></div><div class='xr-var-data'><pre>array([0], dtype=&#x27;timedelta64[ns]&#x27;)</pre></div></li><li class='xr-var-item'><div class='xr-var-name'><span>time</span></div><div class='xr-var-dims'>(time_outer, time_inner)</div><div class='xr-var-dtype'>datetime64[ns]</div><div class='xr-var-preview xr-preview'>2019-01-01 ... 2019-01-02T23:55:00</div><input id='attrs-e3a6fd6a-25e6-41ec-9c35-42aac89c99bb' class='xr-var-attrs-in' type='checkbox' disabled><label for='attrs-e3a6fd6a-25e6-41ec-9c35-42aac89c99bb' title='Show/Hide attributes'><svg class='icon xr-icon-file-text2'><use xlink:href='#icon-file-text2'></use></svg></label><input id='data-d625cf1e-0444-46b3-8452-ff5e0ed09850' class='xr-var-data-in' type='checkbox'><label for='data-d625cf1e-0444-46b3-8452-ff5e0ed09850' title='Show/Hide data repr'><svg class='icon xr-icon-database'><use xlink:href='#icon-database'></use></svg></label><div class='xr-var-attrs'><dl class='xr-attrs'></dl></div><div class='xr-var-data'><pre>array([[&#x27;2019-01-01T00:00:00.000000000&#x27;, &#x27;2019-01-01T00:05:00.000000000&#x27;,\n        &#x27;2019-01-01T00:10:00.000000000&#x27;, &#x27;2019-01-01T00:15:00.000000000&#x27;],\n       [&#x27;2019-01-01T00:20:00.000000000&#x27;, &#x27;2019-01-01T00:25:00.000000000&#x27;,\n        &#x27;2019-01-01T00:30:00.000000000&#x27;, &#x27;2019-01-01T00:35:00.000000000&#x27;],\n       [&#x27;2019-01-01T00:40:00.000000000&#x27;, &#x27;2019-01-01T00:45:00.000000000&#x27;,\n        &#x27;2019-01-01T00:50:00.000000000&#x27;, &#x27;2019-01-01T00:55:00.000000000&#x27;],\n       [&#x27;2019-01-01T01:00:00.000000000&#x27;, &#x27;2019-01-01T01:05:00.000000000&#x27;,\n        &#x27;2019-01-01T01:10:00.000000000&#x27;, &#x27;2019-01-01T01:15:00.000000000&#x27;],\n       [&#x27;2019-01-01T01:20:00.000000000&#x27;, &#x27;2019-01-01T01:25:00.000000000&#x27;,\n        &#x27;2019-01-01T01:30:00.000000000&#x27;, &#x27;2019-01-01T01:35:00.000000000&#x27;],\n       [&#x27;2019-01-01T01:40:00.000000000&#x27;, &#x27;2019-01-01T01:45:00.000000000&#x27;,\n        &#x27;2019-01-01T01:50:00.000000000&#x27;, &#x27;2019-01-01T01:55:00.000000000&#x27;],\n       [&#x27;2019-01-01T02:00:00.000000000&#x27;, &#x27;2019-01-01T02:05:00.000000000&#x27;,\n        &#x27;2019-01-01T02:10:00.000000000&#x27;, &#x27;2019-01-01T02:15:00.000000000&#x27;],\n       [&#x27;2019-01-01T02:20:00.000000000&#x27;, &#x27;2019-01-01T02:25:00.000000000&#x27;,\n        &#x27;2019-01-01T02:30:00.000000000&#x27;, &#x27;2019-01-01T02:35:00.000000000&#x27;],\n       [&#x27;2019-01-01T02:40:00.000000000&#x27;, &#x27;2019-01-01T02:45:00.000000000&#x27;,\n        &#x27;2019-01-01T02:50:00.000000000&#x27;, &#x27;2019-01-01T02:55:00.000000000&#x27;],\n       [&#x27;2019-01-01T03:00:00.000000000&#x27;, &#x27;2019-01-01T03:05:00.000000000&#x27;,\n        &#x27;2019-01-01T03:10:00.000000000&#x27;, &#x27;2019-01-01T03:15:00.000000000&#x27;],\n...\n        &#x27;2019-01-02T20:50:00.000000000&#x27;, &#x27;2019-01-02T20:55:00.000000000&#x27;],\n       [&#x27;2019-01-02T21:00:00.000000000&#x27;, &#x27;2019-01-02T21:05:00.000000000&#x27;,\n        &#x27;2019-01-02T21:10:00.000000000&#x27;, &#x27;2019-01-02T21:15:00.000000000&#x27;],\n       [&#x27;2019-01-02T21:20:00.000000000&#x27;, &#x27;2019-01-02T21:25:00.000000000&#x27;,\n        &#x27;2019-01-02T21:30:00.000000000&#x27;, &#x27;2019-01-02T21:35:00.000000000&#x27;],\n       [&#x27;2019-01-02T21:40:00.000000000&#x27;, &#x27;2019-01-02T21:45:00.000000000&#x27;,\n        &#x27;2019-01-02T21:50:00.000000000&#x27;, &#x27;2019-01-02T21:55:00.000000000&#x27;],\n       [&#x27;2019-01-02T22:00:00.000000000&#x27;, &#x27;2019-01-02T22:05:00.000000000&#x27;,\n        &#x27;2019-01-02T22:10:00.000000000&#x27;, &#x27;2019-01-02T22:15:00.000000000&#x27;],\n       [&#x27;2019-01-02T22:20:00.000000000&#x27;, &#x27;2019-01-02T22:25:00.000000000&#x27;,\n        &#x27;2019-01-02T22:30:00.000000000&#x27;, &#x27;2019-01-02T22:35:00.000000000&#x27;],\n       [&#x27;2019-01-02T22:40:00.000000000&#x27;, &#x27;2019-01-02T22:45:00.000000000&#x27;,\n        &#x27;2019-01-02T22:50:00.000000000&#x27;, &#x27;2019-01-02T22:55:00.000000000&#x27;],\n       [&#x27;2019-01-02T23:00:00.000000000&#x27;, &#x27;2019-01-02T23:05:00.000000000&#x27;,\n        &#x27;2019-01-02T23:10:00.000000000&#x27;, &#x27;2019-01-02T23:15:00.000000000&#x27;],\n       [&#x27;2019-01-02T23:20:00.000000000&#x27;, &#x27;2019-01-02T23:25:00.000000000&#x27;,\n        &#x27;2019-01-02T23:30:00.000000000&#x27;, &#x27;2019-01-02T23:35:00.000000000&#x27;],\n       [&#x27;2019-01-02T23:40:00.000000000&#x27;, &#x27;2019-01-02T23:45:00.000000000&#x27;,\n        &#x27;2019-01-02T23:50:00.000000000&#x27;, &#x27;2019-01-02T23:55:00.000000000&#x27;]],\n      dtype=&#x27;datetime64[ns]&#x27;)</pre></div></li><li class='xr-var-item'><div class='xr-var-name'><span>x</span></div><div class='xr-var-dims'>(x_outer, x_inner)</div><div class='xr-var-dtype'>float64</div><div class='xr-var-preview xr-preview'>-543.5 -542.5 ... 478.5 479.5</div><input id='attrs-e3aa34c8-de31-4bf5-9a03-a73cbbff4c8d' class='xr-var-attrs-in' type='checkbox' disabled><label for='attrs-e3aa34c8-de31-4bf5-9a03-a73cbbff4c8d' title='Show/Hide attributes'><svg class='icon xr-icon-file-text2'><use xlink:href='#icon-file-text2'></use></svg></label><input id='data-286e6788-4708-445b-990c-37c87bdd8390' class='xr-var-data-in' type='checkbox'><label for='data-286e6788-4708-445b-990c-37c87bdd8390' title='Show/Hide data repr'><svg class='icon xr-icon-database'><use xlink:href='#icon-database'></use></svg></label><div class='xr-var-attrs'><dl class='xr-attrs'></dl></div><div class='xr-var-data'><pre>array([[-543.46216692, -542.46216692, -541.46216692, ..., -418.46216692,\n        -417.46216692, -416.46216692],\n       [-415.46216692, -414.46216692, -413.46216692, ..., -290.46216692,\n        -289.46216692, -288.46216692],\n       [-287.46216692, -286.46216692, -285.46216692, ..., -162.46216692,\n        -161.46216692, -160.46216692],\n       ...,\n       [  96.53783308,   97.53783308,   98.53783308, ...,  221.53783308,\n         222.53783308,  223.53783308],\n       [ 224.53783308,  225.53783308,  226.53783308, ...,  349.53783308,\n         350.53783308,  351.53783308],\n       [ 352.53783308,  353.53783308,  354.53783308, ...,  477.53783308,\n         478.53783308,  479.53783308]])</pre></div></li><li class='xr-var-item'><div class='xr-var-name'><span>y</span></div><div class='xr-var-dims'>(y_outer, y_inner)</div><div class='xr-var-dtype'>float64</div><div class='xr-var-preview xr-preview'>-3.61e+03 -3.611e+03 ... -4.761e+03</div><input id='attrs-f4457e74-47c8-4a1c-91e1-fee9b9741c35' class='xr-var-attrs-in' type='checkbox' disabled><label for='attrs-f4457e74-47c8-4a1c-91e1-fee9b9741c35' title='Show/Hide attributes'><svg class='icon xr-icon-file-text2'><use xlink:href='#icon-file-text2'></use></svg></label><input id='data-c18e1468-5900-4608-bd8f-91cdb8ecaf94' class='xr-var-data-in' type='checkbox'><label for='data-c18e1468-5900-4608-bd8f-91cdb8ecaf94' title='Show/Hide data repr'><svg class='icon xr-icon-database'><use xlink:href='#icon-database'></use></svg></label><div class='xr-var-attrs'><dl class='xr-attrs'></dl></div><div class='xr-var-data'><pre>array([[-3609.64472427, -3610.64472427, -3611.64472427, ...,\n        -3734.64472427, -3735.64472427, -3736.64472427],\n       [-3737.64472427, -3738.64472427, -3739.64472427, ...,\n        -3862.64472427, -3863.64472427, -3864.64472427],\n       [-3865.64472427, -3866.64472427, -3867.64472427, ...,\n        -3990.64472427, -3991.64472427, -3992.64472427],\n       ...,\n       [-4377.64472427, -4378.64472427, -4379.64472427, ...,\n        -4502.64472427, -4503.64472427, -4504.64472427],\n       [-4505.64472427, -4506.64472427, -4507.64472427, ...,\n        -4630.64472427, -4631.64472427, -4632.64472427],\n       [-4633.64472427, -4634.64472427, -4635.64472427, ...,\n        -4758.64472427, -4759.64472427, -4760.64472427]])</pre></div></li></ul></div></li><li class='xr-section-item'><input id='section-743c028e-bed5-47ec-8582-5d756924d4c2' class='xr-section-summary-in' type='checkbox'  checked><label for='section-743c028e-bed5-47ec-8582-5d756924d4c2' class='xr-section-summary' >Data variables: <span>(1)</span></label><div class='xr-section-inline-details'></div><div class='xr-section-details'><ul class='xr-var-list'><li class='xr-var-item'><div class='xr-var-name'><span>RV_recalc</span></div><div class='xr-var-dims'>(step, time_outer, time_inner, y_outer, y_inner, x_outer, x_inner)</div><div class='xr-var-dtype'>float32</div><div class='xr-var-preview xr-preview'>nan nan nan nan ... nan nan nan nan</div><input id='attrs-4cb235e4-b00f-4a17-82fd-4aceb471b123' class='xr-var-attrs-in' type='checkbox' disabled><label for='attrs-4cb235e4-b00f-4a17-82fd-4aceb471b123' title='Show/Hide attributes'><svg class='icon xr-icon-file-text2'><use xlink:href='#icon-file-text2'></use></svg></label><input id='data-e16cb89e-94d2-466f-af1a-369daef2d272' class='xr-var-data-in' type='checkbox'><label for='data-e16cb89e-94d2-466f-af1a-369daef2d272' title='Show/Hide data repr'><svg class='icon xr-icon-database'><use xlink:href='#icon-database'></use></svg></label><div class='xr-var-attrs'><dl class='xr-attrs'></dl></div><div class='xr-var-data'><pre>array([[[[[[[            nan,             nan,             nan, ...,\n                         nan,             nan,             nan],\n            [            nan,             nan,             nan, ...,\n                         nan,             nan,             nan],\n            [            nan,             nan,             nan, ...,\n                         nan,             nan,             nan],\n            ...,\n            [            nan,             nan,             nan, ...,\n                         nan,             nan,             nan],\n            [            nan,             nan,             nan, ...,\n                         nan,             nan,             nan],\n            [            nan,             nan,             nan, ...,\n                         nan,             nan,             nan]],\n\n           [[            nan,             nan,             nan, ...,\n                         nan,             nan,             nan],\n            [            nan,             nan,             nan, ...,\n                         nan,             nan,             nan],\n            [            nan,             nan,             nan, ...,\n                         nan,             nan,             nan],\n...\n                         nan,             nan,             nan],\n            [            nan,             nan,             nan, ...,\n                         nan,             nan,             nan],\n            [            nan,             nan,             nan, ...,\n                         nan,             nan,             nan]],\n\n           [[            nan,             nan,             nan, ...,\n                         nan,             nan,             nan],\n            [            nan,             nan,             nan, ...,\n                         nan,             nan,             nan],\n            [            nan,             nan,             nan, ...,\n                         nan,             nan,             nan],\n            ...,\n            [            nan,             nan,             nan, ...,\n                         nan,             nan,             nan],\n            [            nan,             nan,             nan, ...,\n                         nan,             nan,             nan],\n            [            nan,             nan,             nan, ...,\n                         nan,             nan,             nan]]]]]]],\n      dtype=float32)</pre></div></li></ul></div></li><li class='xr-section-item'><input id='section-3d96b4ba-19f0-4256-9464-c88694b89dc6' class='xr-section-summary-in' type='checkbox'  ><label for='section-3d96b4ba-19f0-4256-9464-c88694b89dc6' class='xr-section-summary' >Indexes: <span>(1)</span></label><div class='xr-section-inline-details'></div><div class='xr-section-details'><ul class='xr-var-list'><li class='xr-var-item'><div class='xr-index-name'><div>step</div></div><div class='xr-index-preview'>PandasIndex</div><div></div><input id='index-09c0f69a-a664-4718-bade-1d594411b4ad' class='xr-index-data-in' type='checkbox'/><label for='index-09c0f69a-a664-4718-bade-1d594411b4ad' title='Show/Hide index repr'><svg class='icon xr-icon-database'><use xlink:href='#icon-database'></use></svg></label><div class='xr-index-data'><pre>PandasIndex(TimedeltaIndex([&#x27;0 days&#x27;], dtype=&#x27;timedelta64[ns]&#x27;, name=&#x27;step&#x27;, freq=None))</pre></div></li></ul></div></li><li class='xr-section-item'><input id='section-4c7e0f86-f311-4b86-a4ab-454ec1402a0e' class='xr-section-summary-in' type='checkbox'  checked><label for='section-4c7e0f86-f311-4b86-a4ab-454ec1402a0e' class='xr-section-summary' >Attributes: <span>(4)</span></label><div class='xr-section-inline-details'></div><div class='xr-section-details'><dl class='xr-attrs'><dt><span>crs :</span></dt><dd>+proj=stere +lat_0=90 +lat_ts=90 +lon_0=10 +k=0.93301270189 +x_0=0 +y_0=0 +a=6370040 +b=6370040 +to_meter=1000 +no_defs</dd><dt><span>nodata :</span></dt><dd>nan</dd><dt><span>notes :</span></dt><dd>The grid point RV_recalc[0,0] corresponds to the top-left corner. Transform root point is top-left. Grid coordinates indicate the bottom left corner of the pixel. The data values were interpolated if the time values of the dataset did not match the desired time values.</dd><dt><span>transform :</span></dt><dd>[1.0, 0.0, -543.4621669218559, 0.0, -1.0, -3609.644724265573]</dd></dl></div></li></ul></div></div>"
     },
     "execution_count": 45,
     "metadata": {},
     "output_type": "execute_result"
    }
   ],
   "source": [
    "folded"
   ],
   "metadata": {
    "collapsed": false,
    "ExecuteTime": {
     "end_time": "2024-08-01T15:29:51.733623Z",
     "start_time": "2024-08-01T15:29:51.615173Z"
    }
   },
   "id": "f3a1148127d2d1a3",
   "execution_count": 45
  },
  {
   "cell_type": "code",
   "outputs": [
    {
     "data": {
      "text/plain": "array([[[[False, False, False, ..., False, False, False],\n         [False, False, False, ...,  True, False, False],\n         [False, False,  True, ..., False,  True, False],\n         ...,\n         [False, False, False, ..., False, False, False],\n         [False, False, False, ..., False, False, False],\n         [False, False, False, ..., False, False, False]],\n\n        [[False, False, False, ..., False, False, False],\n         [False, False, False, ..., False, False, False],\n         [False, False,  True, ...,  True,  True, False],\n         ...,\n         [False, False, False, ..., False, False, False],\n         [False, False, False, ..., False, False, False],\n         [False, False, False, ..., False, False, False]],\n\n        [[False, False, False, ..., False, False, False],\n         [False, False, False, ..., False, False, False],\n         [False, False,  True, ...,  True, False, False],\n         ...,\n         [False, False, False, ..., False, False, False],\n         [False, False, False, ...,  True, False, False],\n         [False, False, False, ..., False, False, False]],\n\n        ...,\n\n        [[False, False, False, ..., False, False, False],\n         [False, False,  True, ..., False, False, False],\n         [False,  True,  True, ..., False, False, False],\n         ...,\n         [False, False, False, ...,  True,  True, False],\n         [False, False, False, ..., False,  True, False],\n         [False, False, False, ..., False, False, False]],\n\n        [[False, False, False, ..., False, False, False],\n         [False, False,  True, ..., False, False, False],\n         [False, False,  True, ..., False, False, False],\n         ...,\n         [False, False, False, ...,  True,  True, False],\n         [False, False, False, ...,  True,  True, False],\n         [False, False, False, ..., False, False, False]],\n\n        [[False, False, False, ..., False, False, False],\n         [False, False,  True, ..., False, False, False],\n         [False, False,  True, ..., False, False, False],\n         ...,\n         [False, False, False, ...,  True,  True, False],\n         [False, False, False, ...,  True,  True, False],\n         [False, False, False, ..., False, False, False]]]])"
     },
     "execution_count": 46,
     "metadata": {},
     "output_type": "execute_result"
    }
   ],
   "source": [
    "valid_center.RV_recalc.values"
   ],
   "metadata": {
    "collapsed": false,
    "ExecuteTime": {
     "end_time": "2024-08-01T15:29:51.740930Z",
     "start_time": "2024-08-01T15:29:51.736008Z"
    }
   },
   "id": "958473dbdb24c2b4",
   "execution_count": 46
  },
  {
   "cell_type": "code",
   "outputs": [],
   "source": [
    "# get the outer coordinates for all valid blocks (valid_time, valid_x, valid_y)\n",
    "valid_coords = np.array(np.nonzero(valid_center.RV_recalc.values))#.T\n",
    "# For data loading purposes, we can use the valid_coords to get the corresponding blocks\n",
    "# For example, to get a random block from the valid blocks, we can do the following:\n",
    "# get a random element from the valid coordinates\n",
    "sample_coord = valid_coords[np.random.randint(0, valid_coords.shape[0])]\n",
    "# get the block at the sample coordinate\n",
    "sample_block = folded.isel(time_outer = sample_coord[0],\n",
    "                           y_outer = sample_coord[2],\n",
    "                           x_outer = sample_coord[1])"
   ],
   "metadata": {
    "collapsed": false,
    "ExecuteTime": {
     "end_time": "2024-08-01T15:29:52.037174Z",
     "start_time": "2024-08-01T15:29:52.031066Z"
    }
   },
   "id": "9633dafc08d20d25",
   "execution_count": 47
  },
  {
   "cell_type": "code",
   "outputs": [
    {
     "data": {
      "text/plain": "<matplotlib.image.AxesImage at 0x169373ee0>"
     },
     "execution_count": 48,
     "metadata": {},
     "output_type": "execute_result"
    },
    {
     "data": {
      "text/plain": "<Figure size 640x480 with 1 Axes>",
      "image/png": "[encoded data removed]"
     },
     "metadata": {},
     "output_type": "display_data"
    }
   ],
   "source": [
    "sample_block_vals = sample_block.RV_recalc.values[0,0,:,:]\n",
    "plt.figure()\n",
    "plt.imshow(sample_block_vals, cmap='viridis')\n",
    "# group by day xarray --> group by day to split in training and validation"
   ],
   "metadata": {
    "collapsed": false,
    "ExecuteTime": {
     "end_time": "2024-08-01T15:29:52.977999Z",
     "start_time": "2024-08-01T15:29:52.889868Z"
    }
   },
   "id": "622524715a7cb163",
   "execution_count": 48
  },
  {
   "cell_type": "code",
   "outputs": [
    {
     "data": {
      "text/plain": "array([[  0,   0,   0, ...,   0,   0,   0],\n       [  0,   0,   0, ..., 143, 143, 143],\n       [  1,   2,   2, ...,   7,   7,   8],\n       [  5,   2,   4, ...,   5,   6,   3]])"
     },
     "execution_count": 49,
     "metadata": {},
     "output_type": "execute_result"
    }
   ],
   "source": [
    "valid_coords"
   ],
   "metadata": {
    "collapsed": false,
    "ExecuteTime": {
     "end_time": "2024-08-01T15:29:53.626024Z",
     "start_time": "2024-08-01T15:29:53.621334Z"
    }
   },
   "id": "904746fad8b87f6c",
   "execution_count": 49
  },
  {
   "cell_type": "code",
   "outputs": [],
   "source": [],
   "metadata": {
    "collapsed": false
   },
   "id": "e39163f25508b24a"
  }
 ],
 "metadata": {
  "kernelspec": {
   "display_name": "Python 3",
   "language": "python",
   "name": "python3"
  },
  "language_info": {
   "codemirror_mode": {
    "name": "ipython",
    "version": 2
   },
   "file_extension": ".py",
   "mimetype": "text/x-python",
   "name": "python",
   "nbconvert_exporter": "python",
   "pygments_lexer": "ipython2",
   "version": "2.7.6"
  }
 },
 "nbformat": 4,
 "nbformat_minor": 5
}

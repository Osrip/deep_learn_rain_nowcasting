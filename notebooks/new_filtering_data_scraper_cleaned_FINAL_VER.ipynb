{
 "cells": [
  {
   "cell_type": "markdown",
   "source": [
    "Conda env: test_xarray_3_9"
   ],
   "metadata": {
    "collapsed": false
   },
   "id": "a59199619a4da548"
  },
  {
   "cell_type": "code",
   "outputs": [],
   "source": [
    "import numpy as np\n",
    "import os\n",
    "import xarray as xr\n",
    "import matplotlib.pyplot as plt\n",
    "\n",
    "import torch\n",
    "import torchvision.transforms as transforms\n",
    "import torchvision.transforms.functional as TF\n",
    "\n",
    "import random\n",
    "\n",
    "from datetime import datetime, timedelta\n",
    "import zarr"
   ],
   "metadata": {
    "collapsed": false,
    "ExecuteTime": {
     "end_time": "2024-10-18T16:25:55.395977Z",
     "start_time": "2024-10-18T16:25:47.039120Z"
    }
   },
   "id": "576501505b12811b",
   "execution_count": 1
  },
  {
   "cell_type": "code",
   "outputs": [
    {
     "name": "stdout",
     "output_type": "stream",
     "text": [
      "loading from: /Users/jan/Programming/first_CNN_on_Radolan/dwd_nc/own_test_data/testdata_two_days_2019_01_01-02.zarr\n"
     ]
    }
   ],
   "source": [
    "folder_path = '/Users/jan/Programming/first_CNN_on_Radolan/dwd_nc/own_test_data' #'/home/jan/Programming/remote/first_CNN_on_radolan_remote/dwd_nc/own_test_data'\n",
    "file_name_radolan = 'testdata_two_days_2019_01_01-02.zarr'\n",
    "load_path = os.path.join(folder_path, file_name_radolan)\n",
    "load_path_dem = '/Users/jan/Programming/geo_data/static/dem_benchmark_dataset_1200_1100.zarr'\n",
    "\n",
    "print(f'loading from: {load_path}')\n"
   ],
   "metadata": {
    "collapsed": false,
    "ExecuteTime": {
     "end_time": "2024-10-18T16:26:06.783590Z",
     "start_time": "2024-10-18T16:26:06.779306Z"
    }
   },
   "id": "4ab150c229ac7481",
   "execution_count": 2
  },
  {
   "cell_type": "code",
   "outputs": [],
   "source": [
    "num_input_frames = 4\n",
    "lead_time = 4\n",
    "pt = num_input_frames + lead_time # how many time steps to include in a sample (i.e. context and target)\n",
    "# \n",
    "# This defines the size of the patches, that are created by coarsen, filter is applies to these patches\n",
    "py, px = 32, 32 #73, 137 # how many pixels in y and x direction\n",
    "y_input, x_input = 256, 256\n",
    "y_input_padding, x_input_padding = 32, 32\n",
    "threshold_mm_rain_each_pixel = 0.1 # threshold for each pixel filter condition\n",
    "threshold_percentage_pixels = 0.5\n",
    "\n",
    "\n",
    "# In the current implementation py and px define the size of the target patches (previously those were the larger input patches)\n",
    "# length_width_center_even as the same size as py and px, as the filter condition is calculated on the target patches"
   ],
   "metadata": {
    "collapsed": false,
    "ExecuteTime": {
     "end_time": "2024-10-18T16:26:07.354187Z",
     "start_time": "2024-10-18T16:26:07.351466Z"
    }
   },
   "id": "1a3a8903964bbb8f",
   "execution_count": 3
  },
  {
   "cell_type": "code",
   "outputs": [],
   "source": [
    "data = xr.open_dataset(load_path, engine='zarr') # , chunks=None # , chunks=None according to Sebastian more efficient as it avoids dask (default is chunks=1)\n",
    "# Simply reinstalled environment with numpy pandas xarray zarr jupyter\n",
    "# Now not the same error as in first_CNN_on_Radolan env for some reason\n",
    "data = data.squeeze()\n"
   ],
   "metadata": {
    "collapsed": false,
    "ExecuteTime": {
     "end_time": "2024-10-18T16:26:08.079547Z",
     "start_time": "2024-10-18T16:26:07.999691Z"
    }
   },
   "id": "ffd76fd262be4717",
   "execution_count": 4
  },
  {
   "cell_type": "code",
   "outputs": [
    {
     "data": {
      "text/plain": "<Figure size 800x600 with 1 Axes>",
      "image/png": "[encoded data removed]"
     },
     "metadata": {},
     "output_type": "display_data"
    }
   ],
   "source": [
    "\n",
    "\n",
    "def plot_flattened_distribution(ds, var_name='RV_recalc'):\n",
    "    # Flatten the data\n",
    "    data_flat = ds[var_name].values.flatten()\n",
    "\n",
    "    # Plot the histogram\n",
    "    plt.figure(figsize=(8, 6))\n",
    "    plt.hist(data_flat, bins=50, color='blue', edgecolor='black', alpha=0.7)\n",
    "    plt.title(f'Distribution of Flattened {var_name}')\n",
    "    plt.xlabel(var_name)\n",
    "    plt.ylabel('Frequency')\n",
    "    plt.yscale('log')\n",
    "    plt.grid(True)\n",
    "    plt.show()\n",
    "    \n",
    "\n",
    "plot_flattened_distribution(data)"
   ],
   "metadata": {
    "collapsed": false,
    "ExecuteTime": {
     "end_time": "2024-10-18T16:26:21.734386Z",
     "start_time": "2024-10-18T16:26:09.311233Z"
    }
   },
   "id": "91decfa07420c4d7",
   "execution_count": 5
  },
  {
   "cell_type": "code",
   "outputs": [
    {
     "name": "stdout",
     "output_type": "stream",
     "text": [
      "Number of negative values: 2446583, min: -2.842170943040401e-14\n"
     ]
    }
   ],
   "source": [
    "def count_negative_values(ds, var_name='RV_recalc'):\n",
    "    # Flatten the data and count negative values\n",
    "    data_flat = ds[var_name].values.flatten()\n",
    "    negative_count = np.sum(data_flat < 0)\n",
    "    mini = np.nanmin(data_flat)\n",
    "    \n",
    "    return negative_count, mini\n",
    "negative_count, mini = count_negative_values(data)\n",
    "print(f'Number of negative values: {negative_count}, min: {mini}')"
   ],
   "metadata": {
    "collapsed": false,
    "ExecuteTime": {
     "end_time": "2024-10-18T16:26:24.899375Z",
     "start_time": "2024-10-18T16:26:21.735383Z"
    }
   },
   "id": "921fd8db46463b8f",
   "execution_count": 6
  },
  {
   "cell_type": "code",
   "outputs": [
    {
     "data": {
      "text/plain": "array(-2.84217094e-14)"
     },
     "execution_count": 7,
     "metadata": {},
     "output_type": "execute_result"
    }
   ],
   "source": [
    "data.min(skipna=True, dim=None).RV_recalc.values"
   ],
   "metadata": {
    "collapsed": false,
    "ExecuteTime": {
     "end_time": "2024-10-18T16:26:26.248091Z",
     "start_time": "2024-10-18T16:26:24.901785Z"
    }
   },
   "id": "130ec2b59b8b699c",
   "execution_count": 7
  },
  {
   "cell_type": "code",
   "outputs": [
    {
     "data": {
      "text/plain": "array(0.)"
     },
     "execution_count": 8,
     "metadata": {},
     "output_type": "execute_result"
    }
   ],
   "source": [
    "# Set all negative values of the data to 0\n",
    "data_min = data.min(skipna=True, dim=None).RV_recalc.values\n",
    "if data_min < -0.1:\n",
    "    raise ValueError(f'The min value of the data is {data_min}, which is below the threshold of -0.1')\n",
    "data_no_neg = data.where(data >= 0, 0) \n",
    "# The where function keeps values where the condition is True and replaces the rest (where it's False) with the value specified, in this case 0.\n",
    "data_no_neg.min(skipna=True, dim=None).RV_recalc.values"
   ],
   "metadata": {
    "collapsed": false,
    "ExecuteTime": {
     "end_time": "2024-10-18T16:26:31.639689Z",
     "start_time": "2024-10-18T16:26:26.249139Z"
    }
   },
   "id": "cb8276ecfe24156f",
   "execution_count": 8
  },
  {
   "cell_type": "code",
   "outputs": [],
   "source": [
    "    # TODO: Crop the beginning of the data, such that we can always generate inputs from the target indecies\n",
    "\n",
    "# Cut off the beginning  of the data as the size of the data chunk, that one sample has (input frames + lead time + target)\n",
    "# as we will 'go back in time' to generate the inputs from the target patches\n",
    "data_shortened = data.isel(\n",
    "    time=slice(pt, -1)\n",
    ")\n",
    "\n",
    "# partition the data into pt x py x px blocks using coarsen --> construct DatasetCoarsen object\n",
    "# In this implementation each target corresponds to one patch\n",
    "coarse = data_shortened.coarsen(\n",
    "    y = py,\n",
    "    x = px,\n",
    "    # time = 1, # TODO: This way we are making patches with 4 subsequent time frames. This way we are only taking a target every 'pt'th time step\n",
    "    side = \"left\", # \"left\" means that the blocks are aligned to the left of the input\n",
    "    boundary=\"trim\") # boundary=\"trim\" removes the last block if it is too small\n",
    "\n",
    "# construct a new data set, where the patches are folded into a new dimension\n",
    "patches = coarse.construct(\n",
    "    # time = (\"time_outer\", \"time_inner\"),\n",
    "    y = (\"y_outer\", \"y_inner\"),\n",
    "    x = (\"x_outer\", \"x_inner\"))\n",
    "# Replace NaNs with 0s for the filter (we do not have to do this! Makes it less likely for the edge cases to occur in the target.)\n",
    "# We also have the option to filter for NaNs in the input to completely prohibit edge cases\n",
    "patches_no_nan = patches.fillna(0)\n",
    "\n",
    "# --- FILTER ---\n",
    "# define a threshold for each pixel --> we get a pixel-wise boo\n",
    "patches_boolean_pixelwise = patches_no_nan > threshold_mm_rain_each_pixel\n",
    "# We are calculating the percentage of pixels that passed filter (mean of boolean gives percentage of True) \n",
    "# --> we are getting rid of the patch dimensions y_inner and x_inner, \n",
    "patches_percentage_pixels_passed = patches_boolean_pixelwise.mean((\"y_inner\", \"x_inner\")) #, \"time_inner\"\n",
    "# Now we are creating a boolean again by comparing the percentage of pixels that exceed the rain threshold to the minimally required \n",
    "# percentage of pixels that exceed the rain threshold\n",
    "# --> valid_patches includes only the y_outer and x_outer, where each pair of indecies represents one patch. Its values are boolean, indicating whether or not the outer indecies correspond to a valid or invalid patch. \n",
    "valid_patches_boo = patches_percentage_pixels_passed > threshold_percentage_pixels\n",
    "\n",
    "# get the outer coordinates for all valid blocks (valid_time, valid_x, valid_y)\n",
    "# (valid_patches_boo is boolean, np.nonzero returns the indecies of the pixels that are non-zero, thus True)\n",
    "valid_target_indecies_outer = np.array(np.nonzero(valid_patches_boo.RV_recalc.values)).T\n"
   ],
   "metadata": {
    "collapsed": false,
    "ExecuteTime": {
     "end_time": "2024-10-18T16:26:40.224652Z",
     "start_time": "2024-10-18T16:26:31.642415Z"
    }
   },
   "id": "9d9556f6cda23401",
   "execution_count": 9
  },
  {
   "cell_type": "markdown",
   "source": [
    "### Split data into training and validation"
   ],
   "metadata": {
    "collapsed": false
   },
   "id": "35f93abe967216a5"
  },
  {
   "cell_type": "code",
   "outputs": [
    {
     "name": "stdout",
     "output_type": "stream",
     "text": [
      "Test passed.\n"
     ]
    }
   ],
   "source": [
    "# Write and test the function on dicts\n",
    "def split_dict(data, s_ratio_training_data):\n",
    "    '''\n",
    "    This randomly splits the training and validation data\n",
    "    '''\n",
    "    # Ensure s_ratio_training_data is between 0 and 1\n",
    "    if not 0 <= s_ratio_training_data <= 1:\n",
    "        raise ValueError(\"s_ratio_training_data must be between 0 and 1.\")\n",
    "    \n",
    "    # Shuffle the dictionary keys\n",
    "    keys = list(data.keys())\n",
    "    random.shuffle(keys)\n",
    "    \n",
    "    # Calculate the split index\n",
    "    split_index = int(len(keys) * s_ratio_training_data)\n",
    "    \n",
    "    # Create the training and validation dictionaries\n",
    "    training_data = {key: data[key] for key in keys[:split_index]}\n",
    "    validation_data = {key: data[key] for key in keys[split_index:]}\n",
    "    \n",
    "    return training_data, validation_data\n",
    "\n",
    "\n",
    "def test_split_dict():\n",
    "    data = {'a': 1, 'b': 2, 'c': 3, 'd': 4, 'e': 5}\n",
    "    portion = 0.6\n",
    "    training_data, validation_data = split_dict(data, portion)\n",
    "    \n",
    "    total_len = len(training_data) + len(validation_data)\n",
    "    training_len = len(training_data)\n",
    "    \n",
    "    # Check if the sizes of both dictionaries add up to the original\n",
    "    assert total_len == len(data), \"Total entries don't match original dict size\"\n",
    "    \n",
    "    # Check if the portion of training data is correct (within rounding margin)\n",
    "    expected_training_len = round(len(data) * portion)\n",
    "    assert training_len == expected_training_len, f\"Training data size is incorrect, expected {expected_training_len}, got {training_len}\"\n",
    "    \n",
    "    print(\"Test passed.\")\n",
    "\n",
    "# Run the test\n",
    "test_split_dict()"
   ],
   "metadata": {
    "collapsed": false,
    "ExecuteTime": {
     "end_time": "2024-10-18T16:26:40.321510Z",
     "start_time": "2024-10-18T16:26:40.267890Z"
    }
   },
   "id": "ac3ae5e5fd0f633b",
   "execution_count": 10
  },
  {
   "cell_type": "code",
   "outputs": [],
   "source": [
    "\n",
    "def split_group_object(data: xr.core.groupby.DatasetGroupBy, s_ratio_training_data):\n",
    "    '''\n",
    "    This randomly splits DatasetGroupBy objects the training and validation data\n",
    "    '''\n",
    "    # Ensure s_ratio_training_data is between 0 and 1\n",
    "    if not 0 <= s_ratio_training_data <= 1:\n",
    "        raise ValueError(\"s_ratio_training_data must be between 0 and 1.\")\n",
    "    \n",
    "    # Shuffle the dictionary keys\n",
    "    keys = list(data.groups.keys())\n",
    "    random.shuffle(keys)\n",
    "    \n",
    "    # Calculate the split index\n",
    "    split_index = int(len(keys) * s_ratio_training_data)\n",
    "    \n",
    "    # Create the training and validation dictionaries\n",
    "    training_data = xr.concat([data[key] for key in keys[:split_index]], dim='time')\n",
    "    validation_data = xr.concat([data[key] for key in keys[split_index:]], dim='time')\n",
    "    \n",
    "    return training_data, validation_data"
   ],
   "metadata": {
    "collapsed": false,
    "ExecuteTime": {
     "end_time": "2024-10-18T16:26:40.333491Z",
     "start_time": "2024-10-18T16:26:40.325204Z"
    }
   },
   "id": "74b67e31790b7fd",
   "execution_count": 11
  },
  {
   "cell_type": "markdown",
   "source": [
    "We use resample to split. \n",
    "Do not use GroupBy for this! It groups the same days of several years into one group\n",
    "\n",
    "At the bottom of https://docs.xarray.dev/en/stable/user-guide/groupby.html there are some hints"
   ],
   "metadata": {
    "collapsed": false
   },
   "id": "2e09c7ef234c65ed"
  },
  {
   "cell_type": "code",
   "outputs": [],
   "source": [
    "# TODO: use hours instead of days for splitting for test purposes\n",
    "# daily_boo_resampled = valid_patches_boo.resample(time='1D')\n",
    "daily_boo_resampled = valid_patches_boo.resample(time='1h')"
   ],
   "metadata": {
    "collapsed": false,
    "ExecuteTime": {
     "end_time": "2024-10-18T16:26:40.358389Z",
     "start_time": "2024-10-18T16:26:40.341818Z"
    }
   },
   "id": "b650a2c07529b9db",
   "execution_count": 12
  },
  {
   "cell_type": "code",
   "outputs": [],
   "source": [
    "train_valid_patches_boo, val_valid_patches_boo = split_group_object(daily_boo_resampled, s_ratio_training_data=0.5)"
   ],
   "metadata": {
    "collapsed": false,
    "ExecuteTime": {
     "end_time": "2024-10-18T16:26:40.400098Z",
     "start_time": "2024-10-18T16:26:40.366855Z"
    }
   },
   "id": "3bc65f6ddae1fa68",
   "execution_count": 13
  },
  {
   "cell_type": "code",
   "outputs": [],
   "source": [
    "train_valid_target_indecies_outer = np.array(np.nonzero(train_valid_patches_boo.RV_recalc.values)).T\n",
    "val_valid_target_indecies_outer = np.array(np.nonzero(val_valid_patches_boo.RV_recalc.values)).T"
   ],
   "metadata": {
    "collapsed": false,
    "ExecuteTime": {
     "end_time": "2024-10-18T16:26:40.411775Z",
     "start_time": "2024-10-18T16:26:40.402746Z"
    }
   },
   "id": "203b17a0af857c56",
   "execution_count": 14
  },
  {
   "cell_type": "markdown",
   "source": [
    "### Calculate Statistics\n",
    "\n",
    "Somehow only choose the valid patches, flatten the whole data and calc statistics on that!"
   ],
   "metadata": {
    "collapsed": false,
    "ExecuteTime": {
     "end_time": "2024-09-03T14:19:05.421381Z",
     "start_time": "2024-09-03T14:19:05.417810Z"
    }
   },
   "id": "d3e18e16f0681382"
  },
  {
   "cell_type": "code",
   "outputs": [],
   "source": [
    "# Only select the filtered patches by using the boolean mask (on data that includes NaNs)\n",
    "only_filtered_data = patches.where(valid_patches_boo, drop=True) # I checked that this actually reduces length of time, y_outer and x_outer\n",
    "only_filtered_data_log = np.log1p(only_filtered_data)\n",
    "# Calculate the mean and standard deviation across all dimensions, ignoring NaNs\n",
    "\n",
    "mean = only_filtered_data.mean(dim=None, skipna=True)\n",
    "std = only_filtered_data.std(dim=None, skipna=True)\n",
    "\n",
    "log_mean = only_filtered_data_log.mean(dim=None, skipna=True)\n",
    "log_std = only_filtered_data_log.std(dim=None, skipna=True)\n"
   ],
   "metadata": {
    "collapsed": false,
    "ExecuteTime": {
     "end_time": "2024-10-18T16:26:56.875812Z",
     "start_time": "2024-10-18T16:26:40.413467Z"
    }
   },
   "id": "b2d3d8e3697958ed",
   "execution_count": 15
  },
  {
   "cell_type": "code",
   "outputs": [
    {
     "ename": "TypeError",
     "evalue": "float() takes no keyword arguments",
     "output_type": "error",
     "traceback": [
      "\u001B[0;31m---------------------------------------------------------------------------\u001B[0m",
      "\u001B[0;31mTypeError\u001B[0m                                 Traceback (most recent call last)",
      "Cell \u001B[0;32mIn[16], line 2\u001B[0m\n\u001B[1;32m      1\u001B[0m \u001B[38;5;66;03m# Calculate min and max for linspace binning across the whole data:\u001B[39;00m\n\u001B[0;32m----> 2\u001B[0m \u001B[38;5;28;43mfloat\u001B[39;49m\u001B[43m(\u001B[49m\u001B[43mlinspace_binning_min\u001B[49m\u001B[43m \u001B[49m\u001B[38;5;241;43m=\u001B[39;49m\u001B[43m \u001B[49m\u001B[43mdata\u001B[49m\u001B[38;5;241;43m.\u001B[39;49m\u001B[43mmin\u001B[49m\u001B[43m(\u001B[49m\u001B[43mdim\u001B[49m\u001B[38;5;241;43m=\u001B[39;49m\u001B[38;5;28;43;01mNone\u001B[39;49;00m\u001B[43m,\u001B[49m\u001B[43m \u001B[49m\u001B[43mskipna\u001B[49m\u001B[38;5;241;43m=\u001B[39;49m\u001B[38;5;28;43;01mTrue\u001B[39;49;00m\u001B[43m)\u001B[49m\u001B[38;5;241;43m.\u001B[39;49m\u001B[43mRV_recalc\u001B[49m\u001B[38;5;241;43m.\u001B[39;49m\u001B[43mvalues\u001B[49m\u001B[43m)\u001B[49m\n\u001B[1;32m      3\u001B[0m linspace_binning_max \u001B[38;5;241m=\u001B[39m data\u001B[38;5;241m.\u001B[39mmax(dim\u001B[38;5;241m=\u001B[39m\u001B[38;5;28;01mNone\u001B[39;00m, skipna\u001B[38;5;241m=\u001B[39m\u001B[38;5;28;01mTrue\u001B[39;00m)\u001B[38;5;241m.\u001B[39mRV_recalc\u001B[38;5;241m.\u001B[39mvalues\n",
      "\u001B[0;31mTypeError\u001B[0m: float() takes no keyword arguments"
     ]
    }
   ],
   "source": [
    "# Calculate min and max for linspace binning across the whole data:\n",
    "float(linspace_binning_min = data.min(dim=None, skipna=True).RV_recalc.values)\n",
    "linspace_binning_max = data.max(dim=None, skipna=True).RV_recalc.values"
   ],
   "metadata": {
    "collapsed": false,
    "ExecuteTime": {
     "end_time": "2024-10-18T16:26:59.041050Z",
     "start_time": "2024-10-18T16:26:56.877643Z"
    }
   },
   "id": "c7b647f132d16292",
   "execution_count": 16
  },
  {
   "cell_type": "code",
   "outputs": [],
   "source": [
    "linspace_binning_min = float( data_no_neg.min(dim=None, skipna=True).RV_recalc.values)\n",
    "linspace_binning_min"
   ],
   "metadata": {
    "collapsed": false
   },
   "id": "c937e4f442d03cf9",
   "execution_count": null
  },
  {
   "cell_type": "code",
   "outputs": [],
   "source": [
    "mean.RV_recalc.values, std.RV_recalc.values, log_mean.RV_recalc.values, log_std.RV_recalc.values"
   ],
   "metadata": {
    "collapsed": false
   },
   "id": "e5a0d0bd789e23e8",
   "execution_count": null
  },
  {
   "cell_type": "markdown",
   "source": [
    "mean_filtered_log_data in jetzigem Skript auf Testdaten: 0.09430744498968124 (hier array(0.32245284, dtype=float32),)\n",
    "std_filtered_log_data in jetzigem Skript auf Testdaten: 0.20077288150787354 (hier array(0.31162593)))\n",
    "\n",
    "Was ist anders??? --> vorher wurden nans als 0 gewertet, dadurch ist insb. der kleinere mean zu erklären\n",
    "Außerdem samplen wir hier völlig anders\n",
    "\n",
    "##### Nochmal testen mit nan to 0:"
   ],
   "metadata": {
    "collapsed": false,
    "ExecuteTime": {
     "end_time": "2024-09-03T15:06:29.083215Z",
     "start_time": "2024-09-03T15:06:29.051140Z"
    }
   },
   "id": "97a1e3d18b9807bb"
  },
  {
   "cell_type": "code",
   "outputs": [],
   "source": [
    "only_filtered_data_nan_to_0 = only_filtered_data_log.fillna(0)\n",
    "\n",
    "log_mean_nan_to_0 = only_filtered_data_nan_to_0.mean(dim=None)\n",
    "log_std_nan_to_0 = only_filtered_data_nan_to_0.std(dim=None)"
   ],
   "metadata": {
    "collapsed": false
   },
   "id": "916b46d89e387699",
   "execution_count": null
  },
  {
   "cell_type": "code",
   "outputs": [],
   "source": [
    "log_mean_nan_to_0.RV_recalc.values, log_std_nan_to_0.RV_recalc.values"
   ],
   "metadata": {
    "collapsed": false
   },
   "id": "52f864f16570c78a",
   "execution_count": null
  },
  {
   "cell_type": "markdown",
   "source": [
    "Diese Werte sind schon viel näher an dem was wir im Code beobachten. Durch das andere Samplen ist die bestehende Abweochung allerdings zu erwarten"
   ],
   "metadata": {
    "collapsed": false
   },
   "id": "3f961666bbd9b8e2"
  },
  {
   "cell_type": "markdown",
   "source": [
    "### Normalize data"
   ],
   "metadata": {
    "collapsed": false
   },
   "id": "4f3efedea4edbed4"
  },
  {
   "cell_type": "code",
   "outputs": [],
   "source": [
    "def normalize_data(data, log_mean, log_std):\n",
    "    '''\n",
    "    Ln(x+1), then z - normalization\n",
    "    handles torch.Tensor, np.array and xr.Dataset\n",
    "    '''\n",
    "    if isinstance(data, torch.Tensor):\n",
    "        return (torch.log1p(data) - log_mean) / log_std\n",
    "    else:\n",
    "        return (np.log1p(data) - log_mean) / log_std # log1p takes natural logarithm of x + 1, numerically stable\n",
    "\n",
    "def inverse_normalize_data(data, log_mean, log_std):\n",
    "    '''\n",
    "    Assumes ln(x+1), then z - normalization\n",
    "    handles torch.Tensor, np.array and xr.Dataset\n",
    "    '''\n",
    "    if isinstance(data, torch.Tensor):\n",
    "        return torch.expm1(data * log_std + log_mean)\n",
    "    else:\n",
    "        return np.expm1(data * log_std + log_mean)\n",
    "    \n"
   ],
   "metadata": {
    "collapsed": false
   },
   "id": "aafceade5bceb567",
   "execution_count": null
  },
  {
   "cell_type": "markdown",
   "source": [
    "##### Test normalize and inv normalize"
   ],
   "metadata": {
    "collapsed": false
   },
   "id": "f289e140680dec6b"
  },
  {
   "cell_type": "code",
   "outputs": [],
   "source": [
    "patches_log_normalized = normalize_data(patches, log_mean, log_std)\n",
    "patches_back_to_normal = inverse_normalize_data(patches_log_normalized, log_mean, log_std)"
   ],
   "metadata": {
    "collapsed": false
   },
   "id": "227864c51e5e504d",
   "execution_count": null
  },
  {
   "cell_type": "code",
   "outputs": [],
   "source": [
    "close = np.isclose(patches.RV_recalc.values, patches_back_to_normal.RV_recalc.values, equal_nan=True) # relative and absolute tolerance by last to args\n",
    "all_close = np.all(close)"
   ],
   "metadata": {
    "collapsed": false
   },
   "id": "3f385b240259dcfa",
   "execution_count": null
  },
  {
   "cell_type": "code",
   "outputs": [],
   "source": [
    "all_close"
   ],
   "metadata": {
    "collapsed": false
   },
   "id": "c585e03ef95e1b9b",
   "execution_count": null
  },
  {
   "cell_type": "markdown",
   "source": [
    "### CONVERT INDECIES TO Coords"
   ],
   "metadata": {
    "collapsed": false
   },
   "id": "f4ed1bd5d5c1596a"
  },
  {
   "cell_type": "code",
   "outputs": [],
   "source": [
    "# REWRITE TO CONVERT INDECIES TO coords\n",
    "def valid_indecies_to_global_center_indecies(data_shortened, valid_target_indecies_outer, px, py, x_input, y_input, x_input_padding, y_input_padding):\n",
    "    '''\n",
    "    This functions converts the 'valid_target_indecies_outer' which give the outer indecies with respect to 'patches' to global indecies that refer to 'data_shortened'\n",
    "    \n",
    "    The time index of the input and output indecies always refer to the target frame, which the filtering was done on!\n",
    "    In order to get the input time frames we have to change the time index in the unshortened dataset where the beginning was not clipped!\n",
    "    \n",
    "    The patches where the larger input patch exceeds the bounds of data_shortened are dropped! therefore the outputs are shorter than valid_target_indecies_outer\n",
    "    '''\n",
    "    \n",
    "    y_input_padded = y_input + y_input_padding\n",
    "    x_input_padded = x_input + x_input_padding\n",
    "    \n",
    "    valid_target_indecies_global = [] \n",
    "    valid_center_indecies_global = []\n",
    "    valid_input_indecies_global = []\n",
    "    valid_input_coords = [] # These are defined \n",
    "    \n",
    "    \n",
    "    num_inputs_exceeding_bounds = 0\n",
    "    \n",
    "    for (time, y_outer, x_outer) in valid_target_indecies_outer:\n",
    "        \n",
    "        y_global_upper = y_outer * py\n",
    "        x_global_left = x_outer * px\n",
    "        \n",
    "        # Calculate the global indecies / slices for the targets\n",
    "        # TODO I think this can be removed in future\n",
    "        slice_y_global = slice(y_global_upper, y_global_upper + py)\n",
    "        slice_x_global = slice(x_global_left, x_global_left + px)\n",
    "        target_slices = [time, slice_y_global, slice_x_global]\n",
    "        \n",
    "        # Calculate indecies of the patche's center pixels\n",
    "        center_y_global = y_global_upper + py // 2\n",
    "        center_x_global = x_global_left + px // 2\n",
    "        global_center_indecies = [time, center_y_global, center_x_global]\n",
    "        \n",
    "        # Calculate the global slices for input\n",
    "        y_slice_input = slice(center_y_global - (y_input_padded // 2), center_y_global + (y_input_padded // 2))\n",
    "        x_slice_input = slice(center_x_global - (x_input_padded // 2), center_x_global + (x_input_padded // 2))\n",
    "        input_slices = [time, y_slice_input, x_slice_input]\n",
    "        \n",
    "        # Check if the larger input exceeds size, if not append the patch indecies / slices to the list\n",
    "        if y_slice_input.start < 0 or y_slice_input.stop >= data_shortened.sizes['y'] or x_slice_input.start < 0 or x_slice_input.stop >= data_shortened.sizes['x']:\n",
    "            num_inputs_exceeding_bounds += 1\n",
    "            continue # Skips the rest of the loop if input frame exceeds dataset bounds\n",
    "                \n",
    "        # Convert indecies to coordinates\n",
    "        # TODO: Is there a better way to do this?\n",
    "        time_datetime = data_shortened.time.isel(time=time).values\n",
    "        \n",
    "        y_coords_input = data_shortened.y.isel(y=y_slice_input).values\n",
    "        x_coords_input = data_shortened.x.isel(x=x_slice_input).values\n",
    "        \n",
    "        y_coords_slices_input = slice(y_coords_input[0], y_coords_input[-1])\n",
    "        x_coords_slices_input = slice(x_coords_input[0], x_coords_input[-1])\n",
    "        \n",
    "        input_coords = [time_datetime, y_coords_slices_input, x_coords_slices_input]\n",
    "    \n",
    "        \n",
    "        valid_target_indecies_global.append(target_slices)\n",
    "        valid_center_indecies_global.append(global_center_indecies)\n",
    "        valid_input_indecies_global.append(input_slices)\n",
    "        valid_input_coords.append(input_coords)\n",
    "        \n",
    "    print(f'{num_inputs_exceeding_bounds} patches dropped as input exceeded spatial data bounds')    \n",
    "    return (\n",
    "        np.array(valid_input_coords),\n",
    "        np.array(valid_input_indecies_global),\n",
    "        np.array(valid_target_indecies_global),\n",
    "        np.array(valid_center_indecies_global))"
   ],
   "metadata": {
    "collapsed": false
   },
   "id": "21efffbb148bf768",
   "execution_count": null
  },
  {
   "cell_type": "code",
   "outputs": [],
   "source": [
    "valid_input_coords, valid_input_indecies_global, valid_target_indecies_global, valid_center_indecies_global = valid_indecies_to_global_center_indecies(\n",
    "    data_shortened, valid_target_indecies_outer, px, py, y_input, x_input, x_input_padding, y_input_padding)"
   ],
   "metadata": {
    "collapsed": false
   },
   "id": "6b4a789414bcdf8a",
   "execution_count": null
  },
  {
   "cell_type": "code",
   "outputs": [],
   "source": [
    "valid_target_indecies_global[0]"
   ],
   "metadata": {
    "collapsed": false
   },
   "id": "24f28123db057c8b",
   "execution_count": null
  },
  {
   "cell_type": "markdown",
   "source": [
    "##### Load DEM (digital elevation model)"
   ],
   "metadata": {
    "collapsed": false
   },
   "id": "43e48cb27d0abeea"
  },
  {
   "cell_type": "code",
   "outputs": [],
   "source": [
    "dem_data = xr.open_dataset(load_path_dem, engine='zarr')"
   ],
   "metadata": {
    "collapsed": false
   },
   "id": "29f60d0876a4e5a",
   "execution_count": null
  },
  {
   "cell_type": "code",
   "outputs": [],
   "source": [
    "dem_data.crs, data.crs"
   ],
   "metadata": {
    "collapsed": false
   },
   "id": "9381cf345de12876",
   "execution_count": null
  },
  {
   "cell_type": "markdown",
   "source": [
    "Why are the transforms different? This means that the data is not compatible.."
   ],
   "metadata": {
    "collapsed": false
   },
   "id": "d3baab1d79d732c0"
  },
  {
   "cell_type": "code",
   "outputs": [],
   "source": [
    "dem_data.transform, data.transform"
   ],
   "metadata": {
    "collapsed": false
   },
   "id": "682964bc8eb62726",
   "execution_count": null
  },
  {
   "cell_type": "markdown",
   "source": [
    "Check whether Radolan is a subset of DEM"
   ],
   "metadata": {
    "collapsed": false
   },
   "id": "8ed9e0d93d552adb"
  },
  {
   "cell_type": "code",
   "outputs": [],
   "source": [
    "y_coords_range_radolan = data_shortened.y.isel(y=slice(0,-1)).values\n",
    "x_coords_range_radolan = data_shortened.x.isel(x=slice(0,-1)).values\n",
    "\n",
    "dem_range_radolan = dem_data.sel(\n",
    "    y = y_coords_range_radolan,\n",
    "    x = x_coords_range_radolan\n",
    ")\n",
    "plt.figure()\n",
    "plt.imshow(dem_range_radolan.dem.values, cmap='viridis')\n",
    "plt.show()\n",
    "print('Radolan is within the bounds of DEM')"
   ],
   "metadata": {
    "collapsed": false
   },
   "id": "a72bd6d93b904a34",
   "execution_count": null
  },
  {
   "cell_type": "markdown",
   "source": [
    "### Get the frames --> Future get_item function in data loader"
   ],
   "metadata": {
    "collapsed": false
   },
   "id": "e350ea41f0a21377"
  },
  {
   "cell_type": "code",
   "outputs": [],
   "source": [
    "def get_chunk_from_coords(input_coord, data, num_input_frames, lead_time, time_step_data_minutes=5):\n",
    "    '''\n",
    "    This function takes in the coordinates 'input_coord' \n",
    "        Each input_coord represents one patch that passed the filter.\n",
    "        The spatial slices in input_coord have the spatial size of the input + the augmentation padding \n",
    "        The temporal datetime point gives the time of the target frame (as the filter was applied to the target)\n",
    "        Therefore to get the inputs we have to go back in time relative to the given time in input_coord (depending on lead time and num_input_frames)\n",
    "    \n",
    "    Returns the input and target patches. Both the input and the target patches are in the size of    \n",
    "    '''\n",
    "\n",
    "    \n",
    "    # Make sure this is an int:\n",
    "    num_input_frames = int(num_input_frames)\n",
    "    lead_time = int(lead_time)\n",
    "    \n",
    "    # extract coordinates / coordinat slices\n",
    "    time, y_slice, x_slice = input_coord\n",
    "    \n",
    "    # TODO: IS LEAD TIME CORRECT? I had to take input 5min * input frame -1 to not choose 4, how about the lead time?\n",
    "    # Go back in time to get the time slice of the input\n",
    "    # in oppose to np or list indexing where the last index is not included, the last index is included when taking the datetime slices,\n",
    "    # therefore num_input_frames - 1!\n",
    "    time_start = time - np.timedelta64(time_step_data_minutes * (num_input_frames - 1 + lead_time), 'm')\n",
    "    time_end = time\n",
    "    \n",
    "    time_slice = slice(time_start, time_end)\n",
    "    time_coord_target = time\n",
    "    \n",
    "    # Generate input and output data\n",
    "    spacetime_chunk = data.sel(\n",
    "        time = time_slice,\n",
    "        y = y_slice,\n",
    "        x = x_slice,\n",
    "    )\n",
    "    chunk_values = spacetime_chunk.RV_recalc.values\n",
    "    \n",
    "    \n",
    "    return torch.Tensor(chunk_values)"
   ],
   "metadata": {
    "collapsed": false
   },
   "id": "8a48dc9f164cd398",
   "execution_count": null
  },
  {
   "cell_type": "code",
   "outputs": [],
   "source": [
    "rand_coord_idx = np.random.randint(0, valid_input_coords.shape[0])"
   ],
   "metadata": {
    "collapsed": false
   },
   "id": "ea8d9be816535f62",
   "execution_count": null
  },
  {
   "cell_type": "code",
   "outputs": [],
   "source": [
    "coord = valid_input_coords[rand_coord_idx]\n",
    "spacetime_chunk = get_chunk_from_coords(coord, data, num_input_frames, lead_time)\n"
   ],
   "metadata": {
    "collapsed": false
   },
   "id": "d0523b14b26f8b06",
   "execution_count": null
  },
  {
   "cell_type": "code",
   "outputs": [],
   "source": [
    "input_frames_no_augment = spacetime_chunk[0:num_input_frames, :, :]\n",
    "target_frame_no_augment = spacetime_chunk[-1, :, :]"
   ],
   "metadata": {
    "collapsed": false
   },
   "id": "e7c268e834dbab26",
   "execution_count": null
  },
  {
   "cell_type": "markdown",
   "source": [
    "### Augment the frames"
   ],
   "metadata": {
    "collapsed": false
   },
   "id": "1c5595e1329e0c34"
  },
  {
   "cell_type": "code",
   "outputs": [],
   "source": [
    "# Random crop\n",
    "random_crop = transforms.RandomCrop(size=(64,64))\n",
    "spacetime_chunk_cropped = random_crop(spacetime_chunk)"
   ],
   "metadata": {
    "collapsed": false
   },
   "id": "c2a3bb3fd01cbe68",
   "execution_count": null
  },
  {
   "cell_type": "code",
   "outputs": [],
   "source": [
    "input_frames = spacetime_chunk_cropped[0:num_input_frames, :, :]\n",
    "target_frame = spacetime_chunk_cropped[-1, :, :]"
   ],
   "metadata": {
    "collapsed": false
   },
   "id": "f82f2547e461f5a2",
   "execution_count": null
  },
  {
   "cell_type": "markdown",
   "source": [
    "# Test Stuff"
   ],
   "metadata": {
    "collapsed": false
   },
   "id": "23c3316fd91ad4b1"
  },
  {
   "cell_type": "markdown",
   "source": [
    "##### Test get_patches_from_coords"
   ],
   "metadata": {
    "collapsed": false
   },
   "id": "986f0a4cb851138f"
  },
  {
   "cell_type": "code",
   "outputs": [],
   "source": [
    "num_frames = input_frames_no_augment.shape[0]  # This should be 4 as per your description\n",
    "\n",
    "plt.figure(figsize=(10, 5))  # Adjust the figure size as needed\n",
    "for i in range(num_frames):\n",
    "    plt.subplot(1, num_frames, i + 1)  # 1 row, num_frames columns, i+1 is the subplot index\n",
    "    plt.imshow(input_frames_no_augment[i, :, :], cmap='viridis')  # Show the ith frame\n",
    "    plt.title(f'Frame {i+1}')  # Title for each subplot\n",
    "    plt.axis('off')  # Hide the axis\n",
    "\n",
    "plt.suptitle('Input Frames')  # Super title for the entire figure\n",
    "plt.show()  # Display the plot"
   ],
   "metadata": {
    "collapsed": false
   },
   "id": "a38b024522f5b5d7",
   "execution_count": null
  },
  {
   "cell_type": "code",
   "outputs": [
    {
     "ename": "NameError",
     "evalue": "name 'target_frame_no_augment' is not defined",
     "output_type": "error",
     "traceback": [
      "\u001B[0;31m---------------------------------------------------------------------------\u001B[0m",
      "\u001B[0;31mNameError\u001B[0m                                 Traceback (most recent call last)",
      "Cell \u001B[0;32mIn[17], line 3\u001B[0m\n\u001B[1;32m      1\u001B[0m plt\u001B[38;5;241m.\u001B[39mfigure()\n\u001B[1;32m      2\u001B[0m plt\u001B[38;5;241m.\u001B[39mtitle(\u001B[38;5;124m'\u001B[39m\u001B[38;5;124mTarget from get function\u001B[39m\u001B[38;5;124m'\u001B[39m)\n\u001B[0;32m----> 3\u001B[0m plt\u001B[38;5;241m.\u001B[39mimshow(\u001B[43mtarget_frame_no_augment\u001B[49m, cmap\u001B[38;5;241m=\u001B[39m\u001B[38;5;124m'\u001B[39m\u001B[38;5;124mviridis\u001B[39m\u001B[38;5;124m'\u001B[39m)\n",
      "\u001B[0;31mNameError\u001B[0m: name 'target_frame_no_augment' is not defined"
     ]
    },
    {
     "data": {
      "text/plain": "<Figure size 640x480 with 1 Axes>",
      "image/png": "[encoded data removed]"
     },
     "metadata": {},
     "output_type": "display_data"
    }
   ],
   "source": [
    "plt.figure()\n",
    "plt.title('Target from get function')\n",
    "plt.imshow(target_frame_no_augment, cmap='viridis')"
   ],
   "metadata": {
    "collapsed": false,
    "ExecuteTime": {
     "end_time": "2024-10-18T16:27:06.976323Z",
     "start_time": "2024-10-18T16:27:06.908811Z"
    }
   },
   "id": "c4d7b14d5b4415e2",
   "execution_count": 17
  },
  {
   "cell_type": "code",
   "outputs": [],
   "source": [],
   "metadata": {
    "collapsed": false,
    "ExecuteTime": {
     "end_time": "2024-10-18T16:27:07.111699Z",
     "start_time": "2024-10-18T16:27:07.110262Z"
    }
   },
   "id": "3df49156c51aa34f",
   "execution_count": 17
  },
  {
   "cell_type": "markdown",
   "source": [
    "### Test cropped images"
   ],
   "metadata": {
    "collapsed": false
   },
   "id": "27be801a5af325ce"
  },
  {
   "cell_type": "code",
   "outputs": [
    {
     "ename": "NameError",
     "evalue": "name 'input_frames' is not defined",
     "output_type": "error",
     "traceback": [
      "\u001B[0;31m---------------------------------------------------------------------------\u001B[0m",
      "\u001B[0;31mNameError\u001B[0m                                 Traceback (most recent call last)",
      "Cell \u001B[0;32mIn[18], line 1\u001B[0m\n\u001B[0;32m----> 1\u001B[0m num_frames \u001B[38;5;241m=\u001B[39m \u001B[43minput_frames\u001B[49m\u001B[38;5;241m.\u001B[39mshape[\u001B[38;5;241m0\u001B[39m]  \u001B[38;5;66;03m# This should be 4 as per your description\u001B[39;00m\n\u001B[1;32m      3\u001B[0m plt\u001B[38;5;241m.\u001B[39mfigure(figsize\u001B[38;5;241m=\u001B[39m(\u001B[38;5;241m10\u001B[39m, \u001B[38;5;241m5\u001B[39m))  \u001B[38;5;66;03m# Adjust the figure size as needed\u001B[39;00m\n\u001B[1;32m      4\u001B[0m \u001B[38;5;28;01mfor\u001B[39;00m i \u001B[38;5;129;01min\u001B[39;00m \u001B[38;5;28mrange\u001B[39m(num_frames):\n",
      "\u001B[0;31mNameError\u001B[0m: name 'input_frames' is not defined"
     ]
    }
   ],
   "source": [
    "num_frames = input_frames.shape[0]  # This should be 4 as per your description\n",
    "\n",
    "plt.figure(figsize=(10, 5))  # Adjust the figure size as needed\n",
    "for i in range(num_frames):\n",
    "    plt.subplot(1, num_frames, i + 1)  # 1 row, num_frames columns, i+1 is the subplot index\n",
    "    plt.imshow(input_frames[i, :, :], cmap='viridis')  # Show the ith frame\n",
    "    plt.title(f'Frame {i+1}')  # Title for each subplot\n",
    "    plt.axis('off')  # Hide the axis\n",
    "\n",
    "plt.suptitle('Cropped Input Frames')  # Super title for the entire figure\n",
    "plt.show()  # Display the plot"
   ],
   "metadata": {
    "collapsed": false,
    "ExecuteTime": {
     "end_time": "2024-10-18T16:27:07.876932Z",
     "start_time": "2024-10-18T16:27:07.857451Z"
    }
   },
   "id": "a439846c082f96af",
   "execution_count": 18
  },
  {
   "cell_type": "code",
   "outputs": [
    {
     "ename": "NameError",
     "evalue": "name 'target_frame' is not defined",
     "output_type": "error",
     "traceback": [
      "\u001B[0;31m---------------------------------------------------------------------------\u001B[0m",
      "\u001B[0;31mNameError\u001B[0m                                 Traceback (most recent call last)",
      "Cell \u001B[0;32mIn[19], line 3\u001B[0m\n\u001B[1;32m      1\u001B[0m plt\u001B[38;5;241m.\u001B[39mfigure()\n\u001B[1;32m      2\u001B[0m plt\u001B[38;5;241m.\u001B[39mtitle(\u001B[38;5;124m'\u001B[39m\u001B[38;5;124mTarget cropped\u001B[39m\u001B[38;5;124m'\u001B[39m)\n\u001B[0;32m----> 3\u001B[0m plt\u001B[38;5;241m.\u001B[39mimshow(\u001B[43mtarget_frame\u001B[49m, cmap\u001B[38;5;241m=\u001B[39m\u001B[38;5;124m'\u001B[39m\u001B[38;5;124mviridis\u001B[39m\u001B[38;5;124m'\u001B[39m)\n",
      "\u001B[0;31mNameError\u001B[0m: name 'target_frame' is not defined"
     ]
    },
    {
     "data": {
      "text/plain": "<Figure size 640x480 with 1 Axes>",
      "image/png": "[encoded data removed]"
     },
     "metadata": {},
     "output_type": "display_data"
    }
   ],
   "source": [
    "plt.figure()\n",
    "plt.title('Target cropped')\n",
    "plt.imshow(target_frame, cmap='viridis')"
   ],
   "metadata": {
    "collapsed": false,
    "ExecuteTime": {
     "end_time": "2024-10-18T16:27:08.480985Z",
     "start_time": "2024-10-18T16:27:08.347655Z"
    }
   },
   "id": "5b25bd6091675c0e",
   "execution_count": 19
  },
  {
   "cell_type": "markdown",
   "source": [
    "### Test converting indecies to coors"
   ],
   "metadata": {
    "collapsed": false
   },
   "id": "11be160faa9beda"
  },
  {
   "cell_type": "code",
   "outputs": [],
   "source": [
    "time, y_outer, x_outer = sample_coord\n",
    "\n",
    "y_global_upper = y_outer * py\n",
    "x_global_left = x_outer * px\n",
    "\n",
    "# Calculate the global indecies / slices for the targets\n",
    "slice_y_global = slice(y_global_upper, y_global_upper + py)\n",
    "slice_x_global = slice(x_global_left, x_global_left + px)\n",
    "target_slices = [time, slice_y_global, slice_x_global]\n",
    "\n",
    "# Calculate indecies of the patche's center pixels\n",
    "center_y_global = y_global_upper + py // 2\n",
    "center_x_global = x_global_left + px // 2\n",
    "global_center_indecies = [time, center_y_global, center_x_global]\n",
    "\n",
    "# Calculate the global slices for input\n",
    "# TODO: make sure this does not go out of bounds, create NAN padding of some sort in case the input size exceeds the nan bounds\n",
    "y_slice_input = slice(center_y_global - (y_input // 2), center_y_global + (y_input // 2))\n",
    "x_slice_input = slice(center_x_global - (x_input // 2), center_x_global + (x_input // 2))\n",
    "input_slices = [time, y_slice_input, x_slice_input]\n",
    "\n",
    "# Convert indecies to coordinates\n",
    "patch = data_shortened.isel(\n",
    "    time = time,\n",
    "    y = y_slice_input,\n",
    "    x = x_slice_input,\n",
    ")\n",
    "\n",
    "# Step 1: Extract the coordinate values at the indices\n",
    "time_value = data_shortened.time.isel(time=time).values\n",
    "lat_values = data_shortened.y.isel(y=y_slice_input).values\n",
    "lon_values = data_shortened.x.isel(x=x_slice_input).values\n",
    "\n",
    "# Step 2: Use these values to select data with sel\n",
    "patch_from_coords = data_shortened.sel(\n",
    "    time=time_value,\n",
    "    y=slice(lat_values[0], lat_values[-1]),\n",
    "    x=slice(lon_values[0], lon_values[-1]))"
   ],
   "metadata": {
    "collapsed": false
   },
   "id": "8a2e1cc0cc92470d",
   "execution_count": null
  },
  {
   "cell_type": "code",
   "outputs": [],
   "source": [
    "time_value"
   ],
   "metadata": {
    "collapsed": false
   },
   "id": "8530ba3f4246d667",
   "execution_count": null
  },
  {
   "cell_type": "code",
   "outputs": [],
   "source": [
    "lat_values"
   ],
   "metadata": {
    "collapsed": false
   },
   "id": "bf681f7ee382352b",
   "execution_count": null
  },
  {
   "cell_type": "code",
   "outputs": [],
   "source": [
    "sample_block_vals = patch_from_coords.RV_recalc.values.squeeze()\n",
    "plt.figure()\n",
    "plt.title(\"patch_from_coords\")\n",
    "plt.imshow(sample_block_vals, cmap='viridis')\n",
    "\n",
    "# group by day xarray --> group by day to split in training and validation"
   ],
   "metadata": {
    "collapsed": false
   },
   "id": "308bd63793835275",
   "execution_count": null
  },
  {
   "cell_type": "code",
   "outputs": [],
   "source": [
    "sample_block_vals = patch.RV_recalc.values.squeeze()\n",
    "plt.figure()\n",
    "plt.title(\"patch_from_coords\")\n",
    "plt.imshow(sample_block_vals, cmap='viridis')\n",
    "\n",
    "# group by day xarray --> group by day to split in training and validation"
   ],
   "metadata": {
    "collapsed": false
   },
   "id": "ce6fe2e5dc30fb63",
   "execution_count": null
  },
  {
   "cell_type": "markdown",
   "source": [
    "### Try to understand data structure\n"
   ],
   "metadata": {
    "collapsed": false
   },
   "id": "69ac1561f4d5ee10"
  },
  {
   "cell_type": "code",
   "outputs": [],
   "source": [
    "data_shortened"
   ],
   "metadata": {
    "collapsed": false
   },
   "id": "82144864c6937e60",
   "execution_count": null
  },
  {
   "cell_type": "markdown",
   "source": [
    "##### Converting between np indecies to coords"
   ],
   "metadata": {
    "collapsed": false
   },
   "id": "933e85d028c57155"
  },
  {
   "cell_type": "code",
   "outputs": [],
   "source": [
    "time_value = data_shortened.time.isel(time=500).values\n",
    "y_value = data_shortened.y.isel(y=600).values\n",
    "x_value = data_shortened.x.isel(x=600).values"
   ],
   "metadata": {
    "collapsed": false
   },
   "id": "6df933552401cbbb",
   "execution_count": null
  },
  {
   "cell_type": "code",
   "outputs": [],
   "source": [
    "time_value, y_value, x_value"
   ],
   "metadata": {
    "collapsed": false
   },
   "id": "1712563aa9dc89a5",
   "execution_count": null
  },
  {
   "cell_type": "code",
   "outputs": [],
   "source": [
    "\n",
    "time_value = data_shortened.time.sel(time=time_value, method='nearest').values\n",
    "y_value = data_shortened.y.sel(y=y_value, method='nearest').values\n",
    "x_value = data_shortened.x.sel(x=x_value, method='nearest').values\n",
    "time_value, y_value, x_value"
   ],
   "metadata": {
    "collapsed": false
   },
   "id": "28cba18f59475ade",
   "execution_count": null
  },
  {
   "cell_type": "code",
   "outputs": [],
   "source": [
    "data_shortened.sel(\n",
    "    time = time_value,\n",
    "    y = y_value,\n",
    "    x = x_value,\n",
    ").RV_recalc.values"
   ],
   "metadata": {
    "collapsed": false
   },
   "id": "669d61c803da7069",
   "execution_count": null
  },
  {
   "cell_type": "code",
   "outputs": [],
   "source": [
    "data_shortened.isel(\n",
    "    time = 500,\n",
    "    y = 600,\n",
    "    x = 600,\n",
    ").RV_recalc.values"
   ],
   "metadata": {
    "collapsed": false
   },
   "id": "f5970a60504bac86",
   "execution_count": null
  },
  {
   "cell_type": "markdown",
   "source": [
    "### Test Filter"
   ],
   "metadata": {
    "collapsed": false
   },
   "id": "cdd800c8a268e94d"
  },
  {
   "cell_type": "code",
   "outputs": [],
   "source": [
    "# Test filter on all samples\n",
    "for i in range(valid_target_indecies_outer.shape[0]):\n",
    "# i = 1\n",
    "    coord = valid_target_indecies_outer[i, :]\n",
    "    block = patches.isel(\n",
    "        time = coord[0],\n",
    "        y_outer = coord[1],\n",
    "        x_outer = coord[2])\n",
    "    block = block.squeeze()\n",
    "    block_vals = block.RV_recalc.values\n",
    "    \n",
    "    pixel_over_thres_ratio = (block_vals > threshold_mm_rain_each_pixel).sum() / len(sample_block_vals)\n",
    "    if pixel_over_thres_ratio < threshold_percentage_pixels:\n",
    "        print(f'Ratio is {pixel_over_thres_ratio} which is below {threshold_percentage_pixels}')"
   ],
   "metadata": {
    "collapsed": false
   },
   "id": "904746fad8b87f6c",
   "execution_count": null
  },
  {
   "cell_type": "code",
   "outputs": [],
   "source": [],
   "metadata": {
    "collapsed": false
   },
   "id": "aeda0e31001ded1f",
   "execution_count": null
  },
  {
   "cell_type": "code",
   "outputs": [],
   "source": [
    "plt.figure()\n",
    "plt.imshow(data_shortened.isel(time=23).RV_recalc.values)"
   ],
   "metadata": {
    "collapsed": false
   },
   "id": "6f0d84a39aaa4fc0",
   "execution_count": null
  },
  {
   "cell_type": "code",
   "outputs": [],
   "source": [],
   "metadata": {
    "collapsed": false
   },
   "id": "8eeedcb3d2bf5ae7"
  }
 ],
 "metadata": {
  "kernelspec": {
   "display_name": "Python 3",
   "language": "python",
   "name": "python3"
  },
  "language_info": {
   "codemirror_mode": {
    "name": "ipython",
    "version": 2
   },
   "file_extension": ".py",
   "mimetype": "text/x-python",
   "name": "python",
   "nbconvert_exporter": "python",
   "pygments_lexer": "ipython2",
   "version": "2.7.6"
  }
 },
 "nbformat": 4,
 "nbformat_minor": 5
}

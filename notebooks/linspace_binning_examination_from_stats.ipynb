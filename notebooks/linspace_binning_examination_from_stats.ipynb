{
 "cells": [
  {
   "cell_type": "code",
   "execution_count": 46,
   "id": "initial_id",
   "metadata": {
    "collapsed": true,
    "ExecuteTime": {
     "end_time": "2024-06-11T15:59:29.825950Z",
     "start_time": "2024-06-11T15:59:29.820776Z"
    }
   },
   "outputs": [],
   "source": [
    "import numpy as np\n",
    "import matplotlib.pyplot as plt\n",
    "from helper.pre_process_target_input import inverse_normalize_data, lognormalize_data\n",
    "import torch"
   ]
  },
  {
   "cell_type": "code",
   "outputs": [],
   "source": [
    "num_bins = 64\n",
    "\n",
    "# from linspace_binning_params.csv :\n",
    "min_data_normed = -0.6580503063096017\n",
    "max_data_normed = 15.41145449697189\n",
    "\n",
    "# from data_set_statistcis_dict.csv\n",
    "mean_filtered_log_data = 0.2649270623955788\n",
    "std_filtered_log_data = 0.4032066644692276\n",
    "\n",
    "transform_f = lambda x: np.log(x + 1) if isinstance(x, np.ndarray) else torch.log(x + 1)"
   ],
   "metadata": {
    "collapsed": false,
    "ExecuteTime": {
     "end_time": "2024-06-11T16:02:25.311205Z",
     "start_time": "2024-06-11T16:02:25.306726Z"
    }
   },
   "id": "6b67fc5e89f861c",
   "execution_count": 65
  },
  {
   "cell_type": "code",
   "outputs": [
    {
     "name": "stdout",
     "output_type": "stream",
     "text": [
      "min_data_inv_normed: -0.00040312538758624505\n",
      "max_data_inv_normed: 650.272554266488\n"
     ]
    }
   ],
   "source": [
    "min_data_inv_normed = inverse_normalize_data(\n",
    "    np.array(min_data_normed),\n",
    "    mean_filtered_log_data, std_filtered_log_data)\n",
    "\n",
    "max_data_inv_normed = inverse_normalize_data(\n",
    "    np.array(max_data_normed),\n",
    "    mean_filtered_log_data, std_filtered_log_data)\n",
    "\n",
    "print(f'min_data_inv_normed: {min_data_inv_normed}')\n",
    "print(f'max_data_inv_normed: {max_data_inv_normed}')"
   ],
   "metadata": {
    "collapsed": false,
    "ExecuteTime": {
     "end_time": "2024-06-11T16:02:25.622184Z",
     "start_time": "2024-06-11T16:02:25.617154Z"
    }
   },
   "id": "1805c08fc0d3b729",
   "execution_count": 66
  },
  {
   "cell_type": "code",
   "outputs": [],
   "source": [
    "cut_off_last_bin_inv_normed = 100"
   ],
   "metadata": {
    "collapsed": false,
    "ExecuteTime": {
     "end_time": "2024-06-11T16:02:25.781335Z",
     "start_time": "2024-06-11T16:02:25.778920Z"
    }
   },
   "id": "326040d0a088717e",
   "execution_count": 67
  },
  {
   "cell_type": "code",
   "outputs": [
    {
     "name": "stdout",
     "output_type": "stream",
     "text": [
      "cut_off_last_bin_normed: tensor([10.7890])\n"
     ]
    }
   ],
   "source": [
    "cut_off_last_bin_normed = lognormalize_data(torch.Tensor([cut_off_last_bin_inv_normed]), mean_filtered_log_data, std_filtered_log_data, transform_f, s_normalize=True)\n",
    "print(f'cut_off_last_bin_normed: {cut_off_last_bin_normed}')"
   ],
   "metadata": {
    "collapsed": false,
    "ExecuteTime": {
     "end_time": "2024-06-11T16:02:25.948812Z",
     "start_time": "2024-06-11T16:02:25.944391Z"
    }
   },
   "id": "6b0513611b89a4ca",
   "execution_count": 68
  },
  {
   "cell_type": "code",
   "outputs": [],
   "source": [
    "    linspace_binning_normed = np.linspace(\n",
    "        min_data_normed,\n",
    "        cut_off_last_bin_normed,\n",
    "        num=num_bins-1,\n",
    "        endpoint=True) "
   ],
   "metadata": {
    "collapsed": false,
    "ExecuteTime": {
     "end_time": "2024-06-11T16:02:26.132387Z",
     "start_time": "2024-06-11T16:02:26.129742Z"
    }
   },
   "id": "9511e6f01f84830a",
   "execution_count": 69
  },
  {
   "cell_type": "code",
   "outputs": [
    {
     "data": {
      "text/plain": "array([[-0.6580503 ],\n       [-0.47342056],\n       [-0.28879085],\n       [-0.10416114],\n       [ 0.0804686 ],\n       [ 0.26509833],\n       [ 0.449728  ],\n       [ 0.6343578 ],\n       [ 0.8189875 ],\n       [ 1.0036172 ],\n       [ 1.188247  ],\n       [ 1.3728766 ],\n       [ 1.5575063 ],\n       [ 1.742136  ],\n       [ 1.9267659 ],\n       [ 2.1113956 ],\n       [ 2.2960253 ],\n       [ 2.480655  ],\n       [ 2.6652846 ],\n       [ 2.8499146 ],\n       [ 3.0345442 ],\n       [ 3.219174  ],\n       [ 3.4038036 ],\n       [ 3.5884335 ],\n       [ 3.773063  ],\n       [ 3.9576929 ],\n       [ 4.1423225 ],\n       [ 4.326952  ],\n       [ 4.5115824 ],\n       [ 4.696212  ],\n       [ 4.8808413 ],\n       [ 5.0654707 ],\n       [ 5.250101  ],\n       [ 5.4347305 ],\n       [ 5.61936   ],\n       [ 5.8039904 ],\n       [ 5.98862   ],\n       [ 6.1732492 ],\n       [ 6.3578796 ],\n       [ 6.542509  ],\n       [ 6.7271385 ],\n       [ 6.911768  ],\n       [ 7.0963984 ],\n       [ 7.281028  ],\n       [ 7.465657  ],\n       [ 7.6502867 ],\n       [ 7.834917  ],\n       [ 8.0195465 ],\n       [ 8.204176  ],\n       [ 8.388806  ],\n       [ 8.573436  ],\n       [ 8.758065  ],\n       [ 8.942695  ],\n       [ 9.127325  ],\n       [ 9.3119545 ],\n       [ 9.496584  ],\n       [ 9.681214  ],\n       [ 9.865844  ],\n       [10.050473  ],\n       [10.235104  ],\n       [10.419733  ],\n       [10.6043625 ],\n       [10.788992  ]], dtype=float32)"
     },
     "execution_count": 70,
     "metadata": {},
     "output_type": "execute_result"
    }
   ],
   "source": [
    "linspace_binning_normed"
   ],
   "metadata": {
    "collapsed": false,
    "ExecuteTime": {
     "end_time": "2024-06-11T16:02:26.435284Z",
     "start_time": "2024-06-11T16:02:26.431639Z"
    }
   },
   "id": "b5629d1c19054999",
   "execution_count": 70
  },
  {
   "cell_type": "code",
   "outputs": [],
   "source": [
    "linspace_binning_inv_normed = inverse_normalize_data(linspace_binning_normed, mean_filtered_log_data, std_filtered_log_data)"
   ],
   "metadata": {
    "collapsed": false,
    "ExecuteTime": {
     "end_time": "2024-06-11T16:02:26.623500Z",
     "start_time": "2024-06-11T16:02:26.621399Z"
    }
   },
   "id": "2361744092a17961",
   "execution_count": 71
  },
  {
   "cell_type": "code",
   "outputs": [
    {
     "data": {
      "text/plain": "array([[-4.0316582e-04],\n       [ 7.6850653e-02],\n       [ 1.6007495e-01],\n       [ 2.4973130e-01],\n       [ 3.4631670e-01],\n       [ 4.5036674e-01],\n       [ 5.6245828e-01],\n       [ 6.8321288e-01],\n       [ 8.1329989e-01],\n       [ 9.5344055e-01],\n       [ 1.1044123e+00],\n       [ 1.2670517e+00],\n       [ 1.4422603e+00],\n       [ 1.6310103e+00],\n       [ 1.8343480e+00],\n       [ 2.0534005e+00],\n       [ 2.2893825e+00],\n       [ 2.5436018e+00],\n       [ 2.8174686e+00],\n       [ 3.1125021e+00],\n       [ 3.4303365e+00],\n       [ 3.7727351e+00],\n       [ 4.1415949e+00],\n       [ 4.5389633e+00],\n       [ 4.9670410e+00],\n       [ 5.4282045e+00],\n       [ 5.9250078e+00],\n       [ 6.4602056e+00],\n       [ 7.0367699e+00],\n       [ 7.6578903e+00],\n       [ 8.3270140e+00],\n       [ 9.0478506e+00],\n       [ 9.8244019e+00],\n       [ 1.0660964e+01],\n       [ 1.1562180e+01],\n       [ 1.2533049e+01],\n       [ 1.3578948e+01],\n       [ 1.4705679e+01],\n       [ 1.5919498e+01],\n       [ 1.7227118e+01],\n       [ 1.8635798e+01],\n       [ 2.0153347e+01],\n       [ 2.1788189e+01],\n       [ 2.3549370e+01],\n       [ 2.5446665e+01],\n       [ 2.7490589e+01],\n       [ 2.9692488e+01],\n       [ 3.2064548e+01],\n       [ 3.4619946e+01],\n       [ 3.7372837e+01],\n       [ 4.0338474e+01],\n       [ 4.3533310e+01],\n       [ 4.6975060e+01],\n       [ 5.0682827e+01],\n       [ 5.4677124e+01],\n       [ 5.8980122e+01],\n       [ 6.3615707e+01],\n       [ 6.8609520e+01],\n       [ 7.3989243e+01],\n       [ 7.9784813e+01],\n       [ 8.6028252e+01],\n       [ 9.2754211e+01],\n       [ 9.9999992e+01]], dtype=float32)"
     },
     "execution_count": 72,
     "metadata": {},
     "output_type": "execute_result"
    }
   ],
   "source": [
    "linspace_binning_inv_normed"
   ],
   "metadata": {
    "collapsed": false,
    "ExecuteTime": {
     "end_time": "2024-06-11T16:02:26.816823Z",
     "start_time": "2024-06-11T16:02:26.812099Z"
    }
   },
   "id": "33f74d009cefec20",
   "execution_count": 72
  },
  {
   "cell_type": "code",
   "outputs": [
    {
     "data": {
      "text/plain": "650.272554266488"
     },
     "execution_count": 73,
     "metadata": {},
     "output_type": "execute_result"
    }
   ],
   "source": [
    "max_data_inv_normed"
   ],
   "metadata": {
    "collapsed": false,
    "ExecuteTime": {
     "end_time": "2024-06-11T16:02:27.018539Z",
     "start_time": "2024-06-11T16:02:27.015486Z"
    }
   },
   "id": "e39f93f35d825a19",
   "execution_count": 73
  },
  {
   "cell_type": "code",
   "outputs": [],
   "source": [
    "all_bins_inv_normed = np.append(linspace_binning_inv_normed, max_data_inv_normed)\n",
    "# all_bins_inv_normed = linspace_binning_inv_normed"
   ],
   "metadata": {
    "collapsed": false,
    "ExecuteTime": {
     "end_time": "2024-06-11T16:04:06.930930Z",
     "start_time": "2024-06-11T16:04:06.927561Z"
    }
   },
   "id": "9e9cdad900c0c9fb",
   "execution_count": 78
  },
  {
   "cell_type": "code",
   "outputs": [
    {
     "data": {
      "text/plain": "Text(0, 0.5, 'Precipitation in mm')"
     },
     "execution_count": 81,
     "metadata": {},
     "output_type": "execute_result"
    },
    {
     "data": {
      "text/plain": "<Figure size 640x480 with 1 Axes>",
      "image/png": "[encoded data removed]"
     },
     "metadata": {},
     "output_type": "display_data"
    }
   ],
   "source": [
    "plt.plot(all_bins_inv_normed)\n",
    "plt.xlabel('bin egde #')\n",
    "plt.ylabel('Precipitation in mm')\n",
    "# plt.yscale('log')"
   ],
   "metadata": {
    "collapsed": false,
    "ExecuteTime": {
     "end_time": "2024-06-11T16:04:53.435468Z",
     "start_time": "2024-06-11T16:04:53.350320Z"
    }
   },
   "id": "593726a06800c1fc",
   "execution_count": 81
  },
  {
   "cell_type": "code",
   "outputs": [],
   "source": [],
   "metadata": {
    "collapsed": false
   },
   "id": "dc68af9b5d945824"
  }
 ],
 "metadata": {
  "kernelspec": {
   "display_name": "Python 3",
   "language": "python",
   "name": "python3"
  },
  "language_info": {
   "codemirror_mode": {
    "name": "ipython",
    "version": 2
   },
   "file_extension": ".py",
   "mimetype": "text/x-python",
   "name": "python",
   "nbconvert_exporter": "python",
   "pygments_lexer": "ipython2",
   "version": "2.7.6"
  }
 },
 "nbformat": 4,
 "nbformat_minor": 5
}
